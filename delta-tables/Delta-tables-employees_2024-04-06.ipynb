{
 "cells": [
  {
   "cell_type": "code",
   "execution_count": 0,
   "metadata": {
    "application/vnd.databricks.v1+cell": {
     "cellMetadata": {
      "byteLimit": 2048000,
      "implicitDf": true,
      "rowLimit": 10000
     },
     "inputWidgets": {},
     "nuid": "b16f6734-8b57-4a5d-82e9-029476dc5b0c",
     "showTitle": false,
     "title": ""
    }
   },
   "outputs": [
    {
     "output_type": "display_data",
     "data": {
      "text/html": [
       "<style scoped>\n",
       "  .table-result-container {\n",
       "    max-height: 300px;\n",
       "    overflow: auto;\n",
       "  }\n",
       "  table, th, td {\n",
       "    border: 1px solid black;\n",
       "    border-collapse: collapse;\n",
       "  }\n",
       "  th, td {\n",
       "    padding: 5px;\n",
       "  }\n",
       "  th {\n",
       "    text-align: left;\n",
       "  }\n",
       "</style><div class='table-result-container'><table class='table-result'><thead style='background-color: white'><tr></tr></thead><tbody></tbody></table></div>"
      ]
     },
     "metadata": {
      "application/vnd.databricks.v1+output": {
       "addedWidgets": {},
       "aggData": [],
       "aggError": "",
       "aggOverflow": false,
       "aggSchema": [],
       "aggSeriesLimitReached": false,
       "aggType": "",
       "arguments": {},
       "columnCustomDisplayInfos": {},
       "data": [],
       "datasetInfos": [],
       "dbfsResultPath": null,
       "isJsonSchema": true,
       "metadata": {
        "dataframeName": null
       },
       "overflow": false,
       "plotOptions": {
        "customPlotOptions": {},
        "displayType": "table",
        "pivotAggregation": null,
        "pivotColumns": null,
        "xColumns": null,
        "yColumns": null
       },
       "removedWidgets": [],
       "schema": [],
       "type": "table"
      }
     },
     "output_type": "display_data"
    }
   ],
   "source": [
    "%sql\n",
    "-- Create a schema named data_sce\n",
    "CREATE SCHEMA IF NOT EXISTS data_sce;\n",
    "-- Create table named employees\n",
    "CREATE TABLE data_sce.employees (\n",
    "    id INT,\n",
    "    last_name  STRING,\n",
    "    email  STRING,\n",
    "    start_date DATE,\n",
    "    salary INT,\n",
    "    job_title  STRING,\n",
    "    region_id INT,\n",
    "    department_id INT\n",
    ")\n"
   ]
  },
  {
   "cell_type": "code",
   "execution_count": 0,
   "metadata": {
    "application/vnd.databricks.v1+cell": {
     "cellMetadata": {
      "byteLimit": 2048000,
      "rowLimit": 10000
     },
     "inputWidgets": {},
     "nuid": "66d28994-bbe0-40bf-aa03-b1e147fcefc2",
     "showTitle": false,
     "title": ""
    }
   },
   "outputs": [
    {
     "output_type": "execute_result",
     "data": {
      "text/plain": [
       "[FileInfo(path='dbfs:/user/hive/warehouse/data_sce.db/employees/_delta_log/', name='_delta_log/', size=0, modificationTime=0)]"
      ]
     },
     "execution_count": 12,
     "metadata": {},
     "output_type": "execute_result"
    }
   ],
   "source": [
    "dbutils.fs.ls('dbfs:/user/hive/warehouse/data_sce.db/employees/')"
   ]
  },
  {
   "cell_type": "code",
   "execution_count": 0,
   "metadata": {
    "application/vnd.databricks.v1+cell": {
     "cellMetadata": {
      "byteLimit": 2048000,
      "rowLimit": 10000
     },
     "inputWidgets": {},
     "nuid": "fd759a06-10bd-4bb7-8a21-ee05bd0ac591",
     "showTitle": false,
     "title": ""
    }
   },
   "outputs": [
    {
     "output_type": "execute_result",
     "data": {
      "text/plain": [
       "[FileInfo(path='dbfs:/user/hive/warehouse/data_sce.db/employees/_delta_log/.s3-optimization-0', name='.s3-optimization-0', size=0, modificationTime=1712458109000),\n",
       " FileInfo(path='dbfs:/user/hive/warehouse/data_sce.db/employees/_delta_log/.s3-optimization-1', name='.s3-optimization-1', size=0, modificationTime=1712458109000),\n",
       " FileInfo(path='dbfs:/user/hive/warehouse/data_sce.db/employees/_delta_log/.s3-optimization-2', name='.s3-optimization-2', size=0, modificationTime=1712458109000),\n",
       " FileInfo(path='dbfs:/user/hive/warehouse/data_sce.db/employees/_delta_log/00000000000000000000.crc', name='00000000000000000000.crc', size=2450, modificationTime=1712458111000),\n",
       " FileInfo(path='dbfs:/user/hive/warehouse/data_sce.db/employees/_delta_log/00000000000000000000.json', name='00000000000000000000.json', size=1451, modificationTime=1712458109000)]"
      ]
     },
     "execution_count": 13,
     "metadata": {},
     "output_type": "execute_result"
    }
   ],
   "source": [
    "dbutils.fs.ls('dbfs:/user/hive/warehouse/data_sce.db/employees/_delta_log')"
   ]
  },
  {
   "cell_type": "code",
   "execution_count": 0,
   "metadata": {
    "application/vnd.databricks.v1+cell": {
     "cellMetadata": {
      "byteLimit": 2048000,
      "implicitDf": true,
      "rowLimit": 10000
     },
     "inputWidgets": {},
     "nuid": "bceb4840-9596-4b0f-8ba5-0cefb2f63e7c",
     "showTitle": false,
     "title": ""
    }
   },
   "outputs": [
    {
     "output_type": "display_data",
     "data": {
      "text/html": [
       "<style scoped>\n",
       "  .table-result-container {\n",
       "    max-height: 300px;\n",
       "    overflow: auto;\n",
       "  }\n",
       "  table, th, td {\n",
       "    border: 1px solid black;\n",
       "    border-collapse: collapse;\n",
       "  }\n",
       "  th, td {\n",
       "    padding: 5px;\n",
       "  }\n",
       "  th {\n",
       "    text-align: left;\n",
       "  }\n",
       "</style><div class='table-result-container'><table class='table-result'><thead style='background-color: white'><tr><th>value</th></tr></thead><tbody><tr><td>{\"commitInfo\":{\"timestamp\":1712458108344,\"userId\":\"1282297700007983\",\"userName\":\"nbah75@yahoo.com\",\"operation\":\"CREATE TABLE\",\"operationParameters\":{\"partitionBy\":\"[]\",\"description\":null,\"isManaged\":\"true\",\"properties\":\"{}\",\"statsOnLoad\":false},\"notebook\":{\"notebookId\":\"3844290603993992\"},\"clusterId\":\"0407-003428-s1wusm5w\",\"isolationLevel\":\"WriteSerializable\",\"isBlindAppend\":true,\"operationMetrics\":{},\"tags\":{\"restoresDeletedRows\":\"false\"},\"engineInfo\":\"Databricks-Runtime/14.3.x-scala2.12\",\"txnId\":\"2bdad819-26e0-448a-8180-dd9316a23ef7\"}}</td></tr><tr><td>{\"metaData\":{\"id\":\"23bdba4f-2010-436d-b1b2-f6810c28c163\",\"format\":{\"provider\":\"parquet\",\"options\":{}},\"schemaString\":\"{\\\"type\\\":\\\"struct\\\",\\\"fields\\\":[{\\\"name\\\":\\\"id\\\",\\\"type\\\":\\\"integer\\\",\\\"nullable\\\":true,\\\"metadata\\\":{}},{\\\"name\\\":\\\"last_name\\\",\\\"type\\\":\\\"string\\\",\\\"nullable\\\":true,\\\"metadata\\\":{}},{\\\"name\\\":\\\"email\\\",\\\"type\\\":\\\"string\\\",\\\"nullable\\\":true,\\\"metadata\\\":{}},{\\\"name\\\":\\\"start_date\\\",\\\"type\\\":\\\"date\\\",\\\"nullable\\\":true,\\\"metadata\\\":{}},{\\\"name\\\":\\\"salary\\\",\\\"type\\\":\\\"integer\\\",\\\"nullable\\\":true,\\\"metadata\\\":{}},{\\\"name\\\":\\\"job_title\\\",\\\"type\\\":\\\"string\\\",\\\"nullable\\\":true,\\\"metadata\\\":{}},{\\\"name\\\":\\\"region_id\\\",\\\"type\\\":\\\"integer\\\",\\\"nullable\\\":true,\\\"metadata\\\":{}},{\\\"name\\\":\\\"department_id\\\",\\\"type\\\":\\\"integer\\\",\\\"nullable\\\":true,\\\"metadata\\\":{}}]}\",\"partitionColumns\":[],\"configuration\":{},\"createdTime\":1712458108059}}</td></tr><tr><td>{\"protocol\":{\"minReaderVersion\":1,\"minWriterVersion\":2}}</td></tr></tbody></table></div>"
      ]
     },
     "metadata": {
      "application/vnd.databricks.v1+output": {
       "addedWidgets": {},
       "aggData": [],
       "aggError": "",
       "aggOverflow": false,
       "aggSchema": [],
       "aggSeriesLimitReached": false,
       "aggType": "",
       "arguments": {},
       "columnCustomDisplayInfos": {},
       "data": [
        [
         "{\"commitInfo\":{\"timestamp\":1712458108344,\"userId\":\"1282297700007983\",\"userName\":\"nbah75@yahoo.com\",\"operation\":\"CREATE TABLE\",\"operationParameters\":{\"partitionBy\":\"[]\",\"description\":null,\"isManaged\":\"true\",\"properties\":\"{}\",\"statsOnLoad\":false},\"notebook\":{\"notebookId\":\"3844290603993992\"},\"clusterId\":\"0407-003428-s1wusm5w\",\"isolationLevel\":\"WriteSerializable\",\"isBlindAppend\":true,\"operationMetrics\":{},\"tags\":{\"restoresDeletedRows\":\"false\"},\"engineInfo\":\"Databricks-Runtime/14.3.x-scala2.12\",\"txnId\":\"2bdad819-26e0-448a-8180-dd9316a23ef7\"}}"
        ],
        [
         "{\"metaData\":{\"id\":\"23bdba4f-2010-436d-b1b2-f6810c28c163\",\"format\":{\"provider\":\"parquet\",\"options\":{}},\"schemaString\":\"{\\\"type\\\":\\\"struct\\\",\\\"fields\\\":[{\\\"name\\\":\\\"id\\\",\\\"type\\\":\\\"integer\\\",\\\"nullable\\\":true,\\\"metadata\\\":{}},{\\\"name\\\":\\\"last_name\\\",\\\"type\\\":\\\"string\\\",\\\"nullable\\\":true,\\\"metadata\\\":{}},{\\\"name\\\":\\\"email\\\",\\\"type\\\":\\\"string\\\",\\\"nullable\\\":true,\\\"metadata\\\":{}},{\\\"name\\\":\\\"start_date\\\",\\\"type\\\":\\\"date\\\",\\\"nullable\\\":true,\\\"metadata\\\":{}},{\\\"name\\\":\\\"salary\\\",\\\"type\\\":\\\"integer\\\",\\\"nullable\\\":true,\\\"metadata\\\":{}},{\\\"name\\\":\\\"job_title\\\",\\\"type\\\":\\\"string\\\",\\\"nullable\\\":true,\\\"metadata\\\":{}},{\\\"name\\\":\\\"region_id\\\",\\\"type\\\":\\\"integer\\\",\\\"nullable\\\":true,\\\"metadata\\\":{}},{\\\"name\\\":\\\"department_id\\\",\\\"type\\\":\\\"integer\\\",\\\"nullable\\\":true,\\\"metadata\\\":{}}]}\",\"partitionColumns\":[],\"configuration\":{},\"createdTime\":1712458108059}}"
        ],
        [
         "{\"protocol\":{\"minReaderVersion\":1,\"minWriterVersion\":2}}"
        ]
       ],
       "datasetInfos": [],
       "dbfsResultPath": null,
       "isJsonSchema": true,
       "metadata": {
        "dataframeName": "_sqldf",
        "executionCount": 14
       },
       "overflow": false,
       "plotOptions": {
        "customPlotOptions": {},
        "displayType": "table",
        "pivotAggregation": null,
        "pivotColumns": null,
        "xColumns": null,
        "yColumns": null
       },
       "removedWidgets": [],
       "schema": [
        {
         "metadata": "{}",
         "name": "value",
         "type": "\"string\""
        }
       ],
       "type": "table"
      }
     },
     "output_type": "display_data"
    }
   ],
   "source": [
    "%sql\n",
    "select *\n",
    "from TEXT.`dbfs:/user/hive/warehouse/data_sce.db/employees/_delta_log/00000000000000000000.json`"
   ]
  },
  {
   "cell_type": "markdown",
   "metadata": {
    "application/vnd.databricks.v1+cell": {
     "cellMetadata": {},
     "inputWidgets": {},
     "nuid": "b872aae8-15e3-4f42-a89c-638332330c43",
     "showTitle": false,
     "title": ""
    }
   },
   "source": [
    "##### Adding records to delta table"
   ]
  },
  {
   "cell_type": "code",
   "execution_count": 0,
   "metadata": {
    "application/vnd.databricks.v1+cell": {
     "cellMetadata": {
      "byteLimit": 2048000,
      "implicitDf": true,
      "rowLimit": 10000
     },
     "inputWidgets": {},
     "nuid": "84a58089-f158-4743-858c-e35f2b640b12",
     "showTitle": false,
     "title": ""
    }
   },
   "outputs": [
    {
     "output_type": "display_data",
     "data": {
      "text/html": [
       "<style scoped>\n",
       "  .table-result-container {\n",
       "    max-height: 300px;\n",
       "    overflow: auto;\n",
       "  }\n",
       "  table, th, td {\n",
       "    border: 1px solid black;\n",
       "    border-collapse: collapse;\n",
       "  }\n",
       "  th, td {\n",
       "    padding: 5px;\n",
       "  }\n",
       "  th {\n",
       "    text-align: left;\n",
       "  }\n",
       "</style><div class='table-result-container'><table class='table-result'><thead style='background-color: white'><tr><th>num_affected_rows</th><th>num_inserted_rows</th></tr></thead><tbody><tr><td>8</td><td>8</td></tr></tbody></table></div>"
      ]
     },
     "metadata": {
      "application/vnd.databricks.v1+output": {
       "addedWidgets": {},
       "aggData": [],
       "aggError": "",
       "aggOverflow": false,
       "aggSchema": [],
       "aggSeriesLimitReached": false,
       "aggType": "",
       "arguments": {},
       "columnCustomDisplayInfos": {},
       "data": [
        [
         8,
         8
        ]
       ],
       "datasetInfos": [],
       "dbfsResultPath": null,
       "isJsonSchema": true,
       "metadata": {
        "dataframeName": "_sqldf",
        "executionCount": 15
       },
       "overflow": false,
       "plotOptions": {
        "customPlotOptions": {},
        "displayType": "table",
        "pivotAggregation": null,
        "pivotColumns": null,
        "xColumns": null,
        "yColumns": null
       },
       "removedWidgets": [],
       "schema": [
        {
         "metadata": "{}",
         "name": "num_affected_rows",
         "type": "\"long\""
        },
        {
         "metadata": "{}",
         "name": "num_inserted_rows",
         "type": "\"long\""
        }
       ],
       "type": "table"
      }
     },
     "output_type": "display_data"
    }
   ],
   "source": [
    "%sql\n",
    "INSERT INTO `data_sce`.employees\n",
    "VALUES\n",
    "    (1,'kelley','rkelley0@soundcloud.com','2020-06-28',67470,'structural engineer',2,6),\n",
    "    (1003,'carr','fcarr2@woothemes.com','2018-09-18',101768,'recruiting manager',3,1),\n",
    "    (22,'alexander','kalexanderl@marketwatch.com','2021-10-20',144724,'marketing assistant',2,1),\n",
    "    (45,'nguyen','mnguyen18@biblegateway.com','2021-06-21',108378,'electrical engineer',7,1),\n",
    "    (50,'armstrong','parmstrong1d@hc360.com','2017-09-17',89969,'senior editor',4,1),\n",
    "    (55,'ross','jross1i@infoseek.co.jp','2014-10-16',71363,'environmental tech',3,1),\n",
    "    (62,'boyd','aboyd1p@artisteer.com','2022-07-4',69936,'senior editor',7,1),\n",
    "    (65,'jordan','jjordan1s@about.me','2017-06-29',86939,'tax accountant',3,1)\n",
    "    ;\n"
   ]
  },
  {
   "cell_type": "markdown",
   "metadata": {
    "application/vnd.databricks.v1+cell": {
     "cellMetadata": {},
     "inputWidgets": {},
     "nuid": "24cb3ea0-410e-4c9a-bded-f0dee9b8e8b9",
     "showTitle": false,
     "title": ""
    }
   },
   "source": [
    "##### Querying the table"
   ]
  },
  {
   "cell_type": "code",
   "execution_count": 0,
   "metadata": {
    "application/vnd.databricks.v1+cell": {
     "cellMetadata": {
      "byteLimit": 2048000,
      "implicitDf": true,
      "rowLimit": 10000
     },
     "inputWidgets": {},
     "nuid": "fc1a061d-efa9-41e3-9e32-ffe4a0697082",
     "showTitle": false,
     "title": ""
    }
   },
   "outputs": [
    {
     "output_type": "display_data",
     "data": {
      "text/html": [
       "<style scoped>\n",
       "  .table-result-container {\n",
       "    max-height: 300px;\n",
       "    overflow: auto;\n",
       "  }\n",
       "  table, th, td {\n",
       "    border: 1px solid black;\n",
       "    border-collapse: collapse;\n",
       "  }\n",
       "  th, td {\n",
       "    padding: 5px;\n",
       "  }\n",
       "  th {\n",
       "    text-align: left;\n",
       "  }\n",
       "</style><div class='table-result-container'><table class='table-result'><thead style='background-color: white'><tr><th>id</th><th>last_name</th><th>email</th><th>start_date</th><th>salary</th><th>job_title</th><th>region_id</th><th>department_id</th></tr></thead><tbody><tr><td>1</td><td>kelley</td><td>rkelley0@soundcloud.com</td><td>2020-06-28</td><td>85000</td><td>structural engineer</td><td>2</td><td>6</td></tr><tr><td>1003</td><td>carr</td><td>fcarr2@woothemes.com</td><td>2018-09-18</td><td>101768</td><td>recruiting manager</td><td>3</td><td>1</td></tr><tr><td>22</td><td>alexander</td><td>kalexanderl@marketwatch.com</td><td>2021-10-20</td><td>144724</td><td>marketing assistant</td><td>2</td><td>1</td></tr><tr><td>45</td><td>nguyen</td><td>mnguyen18@biblegateway.com</td><td>2021-06-21</td><td>108378</td><td>electrical engineer</td><td>7</td><td>1</td></tr><tr><td>50</td><td>armstrong</td><td>parmstrong1d@hc360.com</td><td>2017-09-17</td><td>89969</td><td>senior editor</td><td>4</td><td>1</td></tr><tr><td>55</td><td>ross</td><td>jross1i@infoseek.co.jp</td><td>2014-10-16</td><td>71363</td><td>environmental tech</td><td>3</td><td>1</td></tr><tr><td>62</td><td>boyd</td><td>aboyd1p@artisteer.com</td><td>2022-07-04</td><td>69936</td><td>senior editor</td><td>7</td><td>1</td></tr><tr><td>65</td><td>jordan</td><td>jjordan1s@about.me</td><td>2017-06-29</td><td>86939</td><td>tax accountant</td><td>3</td><td>1</td></tr></tbody></table></div>"
      ]
     },
     "metadata": {
      "application/vnd.databricks.v1+output": {
       "addedWidgets": {},
       "aggData": [],
       "aggError": "",
       "aggOverflow": false,
       "aggSchema": [],
       "aggSeriesLimitReached": false,
       "aggType": "",
       "arguments": {},
       "columnCustomDisplayInfos": {},
       "data": [
        [
         1,
         "kelley",
         "rkelley0@soundcloud.com",
         "2020-06-28",
         85000,
         "structural engineer",
         2,
         6
        ],
        [
         1003,
         "carr",
         "fcarr2@woothemes.com",
         "2018-09-18",
         101768,
         "recruiting manager",
         3,
         1
        ],
        [
         22,
         "alexander",
         "kalexanderl@marketwatch.com",
         "2021-10-20",
         144724,
         "marketing assistant",
         2,
         1
        ],
        [
         45,
         "nguyen",
         "mnguyen18@biblegateway.com",
         "2021-06-21",
         108378,
         "electrical engineer",
         7,
         1
        ],
        [
         50,
         "armstrong",
         "parmstrong1d@hc360.com",
         "2017-09-17",
         89969,
         "senior editor",
         4,
         1
        ],
        [
         55,
         "ross",
         "jross1i@infoseek.co.jp",
         "2014-10-16",
         71363,
         "environmental tech",
         3,
         1
        ],
        [
         62,
         "boyd",
         "aboyd1p@artisteer.com",
         "2022-07-04",
         69936,
         "senior editor",
         7,
         1
        ],
        [
         65,
         "jordan",
         "jjordan1s@about.me",
         "2017-06-29",
         86939,
         "tax accountant",
         3,
         1
        ]
       ],
       "datasetInfos": [],
       "dbfsResultPath": null,
       "isJsonSchema": true,
       "metadata": {
        "dataframeName": "_sqldf",
        "executionCount": 26
       },
       "overflow": false,
       "plotOptions": {
        "customPlotOptions": {},
        "displayType": "table",
        "pivotAggregation": null,
        "pivotColumns": null,
        "xColumns": null,
        "yColumns": null
       },
       "removedWidgets": [],
       "schema": [
        {
         "metadata": "{}",
         "name": "id",
         "type": "\"integer\""
        },
        {
         "metadata": "{}",
         "name": "last_name",
         "type": "\"string\""
        },
        {
         "metadata": "{}",
         "name": "email",
         "type": "\"string\""
        },
        {
         "metadata": "{}",
         "name": "start_date",
         "type": "\"date\""
        },
        {
         "metadata": "{}",
         "name": "salary",
         "type": "\"integer\""
        },
        {
         "metadata": "{}",
         "name": "job_title",
         "type": "\"string\""
        },
        {
         "metadata": "{}",
         "name": "region_id",
         "type": "\"integer\""
        },
        {
         "metadata": "{}",
         "name": "department_id",
         "type": "\"integer\""
        }
       ],
       "type": "table"
      }
     },
     "output_type": "display_data"
    }
   ],
   "source": [
    "%sql\n",
    "SELECT *\n",
    "FROM `data_sce`.employees"
   ]
  },
  {
   "cell_type": "code",
   "execution_count": 0,
   "metadata": {
    "application/vnd.databricks.v1+cell": {
     "cellMetadata": {
      "byteLimit": 2048000,
      "rowLimit": 10000
     },
     "inputWidgets": {},
     "nuid": "e9498241-d542-4d03-97cb-010b923212f1",
     "showTitle": false,
     "title": ""
    }
   },
   "outputs": [
    {
     "output_type": "execute_result",
     "data": {
      "text/plain": [
       "[FileInfo(path='dbfs:/user/hive/warehouse/data_sce.db/employees/_delta_log/.s3-optimization-0', name='.s3-optimization-0', size=0, modificationTime=1712458109000),\n",
       " FileInfo(path='dbfs:/user/hive/warehouse/data_sce.db/employees/_delta_log/.s3-optimization-1', name='.s3-optimization-1', size=0, modificationTime=1712458109000),\n",
       " FileInfo(path='dbfs:/user/hive/warehouse/data_sce.db/employees/_delta_log/.s3-optimization-2', name='.s3-optimization-2', size=0, modificationTime=1712458109000),\n",
       " FileInfo(path='dbfs:/user/hive/warehouse/data_sce.db/employees/_delta_log/00000000000000000000.crc', name='00000000000000000000.crc', size=2450, modificationTime=1712458111000),\n",
       " FileInfo(path='dbfs:/user/hive/warehouse/data_sce.db/employees/_delta_log/00000000000000000000.json', name='00000000000000000000.json', size=1451, modificationTime=1712458109000),\n",
       " FileInfo(path='dbfs:/user/hive/warehouse/data_sce.db/employees/_delta_log/00000000000000000001.crc', name='00000000000000000001.crc', size=3359, modificationTime=1712458182000),\n",
       " FileInfo(path='dbfs:/user/hive/warehouse/data_sce.db/employees/_delta_log/00000000000000000001.json', name='00000000000000000001.json', size=1482, modificationTime=1712458180000)]"
      ]
     },
     "execution_count": 17,
     "metadata": {},
     "output_type": "execute_result"
    }
   ],
   "source": [
    "dbutils.fs.ls('dbfs:/user/hive/warehouse/data_sce.db/employees/')\n",
    "dbutils.fs.ls('dbfs:/user/hive/warehouse/data_sce.db/employees/_delta_log')"
   ]
  },
  {
   "cell_type": "code",
   "execution_count": 0,
   "metadata": {
    "application/vnd.databricks.v1+cell": {
     "cellMetadata": {
      "byteLimit": 2048000,
      "implicitDf": true,
      "rowLimit": 10000
     },
     "inputWidgets": {},
     "nuid": "90710e23-2653-44d4-9309-c3b90dfb921a",
     "showTitle": false,
     "title": ""
    }
   },
   "outputs": [
    {
     "output_type": "display_data",
     "data": {
      "text/html": [
       "<style scoped>\n",
       "  .table-result-container {\n",
       "    max-height: 300px;\n",
       "    overflow: auto;\n",
       "  }\n",
       "  table, th, td {\n",
       "    border: 1px solid black;\n",
       "    border-collapse: collapse;\n",
       "  }\n",
       "  th, td {\n",
       "    padding: 5px;\n",
       "  }\n",
       "  th {\n",
       "    text-align: left;\n",
       "  }\n",
       "</style><div class='table-result-container'><table class='table-result'><thead style='background-color: white'><tr><th>value</th></tr></thead><tbody><tr><td>{\"commitInfo\":{\"timestamp\":1712458179865,\"userId\":\"1282297700007983\",\"userName\":\"nbah75@yahoo.com\",\"operation\":\"WRITE\",\"operationParameters\":{\"mode\":\"Append\",\"statsOnLoad\":false,\"partitionBy\":\"[]\"},\"notebook\":{\"notebookId\":\"3844290603993992\"},\"clusterId\":\"0407-003428-s1wusm5w\",\"readVersion\":0,\"isolationLevel\":\"WriteSerializable\",\"isBlindAppend\":true,\"operationMetrics\":{\"numFiles\":\"1\",\"numOutputRows\":\"8\",\"numOutputBytes\":\"2877\"},\"tags\":{\"restoresDeletedRows\":\"false\"},\"engineInfo\":\"Databricks-Runtime/14.3.x-scala2.12\",\"txnId\":\"09970421-f169-4c65-b665-eb51e831246a\"}}</td></tr><tr><td>{\"add\":{\"path\":\"part-00000-b43c9148-d70d-44b9-8597-b3d980b78f30-c000.snappy.parquet\",\"partitionValues\":{},\"size\":2877,\"modificationTime\":1712458180000,\"dataChange\":true,\"stats\":\"{\\\"numRecords\\\":8,\\\"minValues\\\":{\\\"id\\\":1,\\\"last_name\\\":\\\"alexander\\\",\\\"email\\\":\\\"aboyd1p@artisteer.com\\\",\\\"start_date\\\":\\\"2014-10-16\\\",\\\"salary\\\":67470,\\\"job_title\\\":\\\"electrical engineer\\\",\\\"region_id\\\":2,\\\"department_id\\\":1},\\\"maxValues\\\":{\\\"id\\\":1003,\\\"last_name\\\":\\\"ross\\\",\\\"email\\\":\\\"rkelley0@soundcloud.com\\\",\\\"start_date\\\":\\\"2022-07-04\\\",\\\"salary\\\":144724,\\\"job_title\\\":\\\"tax accountant\\\",\\\"region_id\\\":7,\\\"department_id\\\":6},\\\"nullCount\\\":{\\\"id\\\":0,\\\"last_name\\\":0,\\\"email\\\":0,\\\"start_date\\\":0,\\\"salary\\\":0,\\\"job_title\\\":0,\\\"region_id\\\":0,\\\"department_id\\\":0}}\",\"tags\":{\"INSERTION_TIME\":\"1712458180000000\",\"MIN_INSERTION_TIME\":\"1712458180000000\",\"MAX_INSERTION_TIME\":\"1712458180000000\",\"OPTIMIZE_TARGET_SIZE\":\"268435456\"}}}</td></tr></tbody></table></div>"
      ]
     },
     "metadata": {
      "application/vnd.databricks.v1+output": {
       "addedWidgets": {},
       "aggData": [],
       "aggError": "",
       "aggOverflow": false,
       "aggSchema": [],
       "aggSeriesLimitReached": false,
       "aggType": "",
       "arguments": {},
       "columnCustomDisplayInfos": {},
       "data": [
        [
         "{\"commitInfo\":{\"timestamp\":1712458179865,\"userId\":\"1282297700007983\",\"userName\":\"nbah75@yahoo.com\",\"operation\":\"WRITE\",\"operationParameters\":{\"mode\":\"Append\",\"statsOnLoad\":false,\"partitionBy\":\"[]\"},\"notebook\":{\"notebookId\":\"3844290603993992\"},\"clusterId\":\"0407-003428-s1wusm5w\",\"readVersion\":0,\"isolationLevel\":\"WriteSerializable\",\"isBlindAppend\":true,\"operationMetrics\":{\"numFiles\":\"1\",\"numOutputRows\":\"8\",\"numOutputBytes\":\"2877\"},\"tags\":{\"restoresDeletedRows\":\"false\"},\"engineInfo\":\"Databricks-Runtime/14.3.x-scala2.12\",\"txnId\":\"09970421-f169-4c65-b665-eb51e831246a\"}}"
        ],
        [
         "{\"add\":{\"path\":\"part-00000-b43c9148-d70d-44b9-8597-b3d980b78f30-c000.snappy.parquet\",\"partitionValues\":{},\"size\":2877,\"modificationTime\":1712458180000,\"dataChange\":true,\"stats\":\"{\\\"numRecords\\\":8,\\\"minValues\\\":{\\\"id\\\":1,\\\"last_name\\\":\\\"alexander\\\",\\\"email\\\":\\\"aboyd1p@artisteer.com\\\",\\\"start_date\\\":\\\"2014-10-16\\\",\\\"salary\\\":67470,\\\"job_title\\\":\\\"electrical engineer\\\",\\\"region_id\\\":2,\\\"department_id\\\":1},\\\"maxValues\\\":{\\\"id\\\":1003,\\\"last_name\\\":\\\"ross\\\",\\\"email\\\":\\\"rkelley0@soundcloud.com\\\",\\\"start_date\\\":\\\"2022-07-04\\\",\\\"salary\\\":144724,\\\"job_title\\\":\\\"tax accountant\\\",\\\"region_id\\\":7,\\\"department_id\\\":6},\\\"nullCount\\\":{\\\"id\\\":0,\\\"last_name\\\":0,\\\"email\\\":0,\\\"start_date\\\":0,\\\"salary\\\":0,\\\"job_title\\\":0,\\\"region_id\\\":0,\\\"department_id\\\":0}}\",\"tags\":{\"INSERTION_TIME\":\"1712458180000000\",\"MIN_INSERTION_TIME\":\"1712458180000000\",\"MAX_INSERTION_TIME\":\"1712458180000000\",\"OPTIMIZE_TARGET_SIZE\":\"268435456\"}}}"
        ]
       ],
       "datasetInfos": [],
       "dbfsResultPath": null,
       "isJsonSchema": true,
       "metadata": {
        "dataframeName": "_sqldf",
        "executionCount": 18
       },
       "overflow": false,
       "plotOptions": {
        "customPlotOptions": {},
        "displayType": "table",
        "pivotAggregation": null,
        "pivotColumns": null,
        "xColumns": null,
        "yColumns": null
       },
       "removedWidgets": [],
       "schema": [
        {
         "metadata": "{}",
         "name": "value",
         "type": "\"string\""
        }
       ],
       "type": "table"
      }
     },
     "output_type": "display_data"
    }
   ],
   "source": [
    "%sql\n",
    "select *\n",
    "from TEXT.`dbfs:/user/hive/warehouse/data_sce.db/employees/_delta_log/00000000000000000001.json`"
   ]
  },
  {
   "cell_type": "markdown",
   "metadata": {
    "application/vnd.databricks.v1+cell": {
     "cellMetadata": {},
     "inputWidgets": {},
     "nuid": "f5e97350-e7ff-4840-92f1-21f19f92ed6f",
     "showTitle": false,
     "title": ""
    }
   },
   "source": [
    "##### Updating data in table"
   ]
  },
  {
   "cell_type": "code",
   "execution_count": 0,
   "metadata": {
    "application/vnd.databricks.v1+cell": {
     "cellMetadata": {
      "byteLimit": 2048000,
      "implicitDf": true,
      "rowLimit": 10000
     },
     "inputWidgets": {},
     "nuid": "495d8250-37b8-4308-b5af-8daa8b1f498d",
     "showTitle": false,
     "title": ""
    }
   },
   "outputs": [
    {
     "output_type": "display_data",
     "data": {
      "text/html": [
       "<style scoped>\n",
       "  .table-result-container {\n",
       "    max-height: 300px;\n",
       "    overflow: auto;\n",
       "  }\n",
       "  table, th, td {\n",
       "    border: 1px solid black;\n",
       "    border-collapse: collapse;\n",
       "  }\n",
       "  th, td {\n",
       "    padding: 5px;\n",
       "  }\n",
       "  th {\n",
       "    text-align: left;\n",
       "  }\n",
       "</style><div class='table-result-container'><table class='table-result'><thead style='background-color: white'><tr><th>num_affected_rows</th></tr></thead><tbody><tr><td>1</td></tr></tbody></table></div>"
      ]
     },
     "metadata": {
      "application/vnd.databricks.v1+output": {
       "addedWidgets": {},
       "aggData": [],
       "aggError": "",
       "aggOverflow": false,
       "aggSchema": [],
       "aggSeriesLimitReached": false,
       "aggType": "",
       "arguments": {},
       "columnCustomDisplayInfos": {},
       "data": [
        [
         1
        ]
       ],
       "datasetInfos": [],
       "dbfsResultPath": null,
       "isJsonSchema": true,
       "metadata": {
        "dataframeName": "_sqldf",
        "executionCount": 20
       },
       "overflow": false,
       "plotOptions": {
        "customPlotOptions": {},
        "displayType": "table",
        "pivotAggregation": null,
        "pivotColumns": null,
        "xColumns": null,
        "yColumns": null
       },
       "removedWidgets": [],
       "schema": [
        {
         "metadata": "{}",
         "name": "num_affected_rows",
         "type": "\"long\""
        }
       ],
       "type": "table"
      }
     },
     "output_type": "display_data"
    }
   ],
   "source": [
    "%sql\n",
    "UPDATE `data_sce`.employees\n",
    "SET salary = 85000\n",
    "WHERE id = 1"
   ]
  },
  {
   "cell_type": "code",
   "execution_count": 0,
   "metadata": {
    "application/vnd.databricks.v1+cell": {
     "cellMetadata": {
      "byteLimit": 2048000,
      "rowLimit": 10000
     },
     "inputWidgets": {},
     "nuid": "7443bc54-d84c-4ea3-9fd8-6fdf10c66bb6",
     "showTitle": false,
     "title": ""
    }
   },
   "outputs": [
    {
     "output_type": "execute_result",
     "data": {
      "text/plain": [
       "[FileInfo(path='dbfs:/user/hive/warehouse/data_sce.db/employees/_delta_log/.s3-optimization-0', name='.s3-optimization-0', size=0, modificationTime=1712458109000),\n",
       " FileInfo(path='dbfs:/user/hive/warehouse/data_sce.db/employees/_delta_log/.s3-optimization-1', name='.s3-optimization-1', size=0, modificationTime=1712458109000),\n",
       " FileInfo(path='dbfs:/user/hive/warehouse/data_sce.db/employees/_delta_log/.s3-optimization-2', name='.s3-optimization-2', size=0, modificationTime=1712458109000),\n",
       " FileInfo(path='dbfs:/user/hive/warehouse/data_sce.db/employees/_delta_log/00000000000000000000.crc', name='00000000000000000000.crc', size=2450, modificationTime=1712458111000),\n",
       " FileInfo(path='dbfs:/user/hive/warehouse/data_sce.db/employees/_delta_log/00000000000000000000.json', name='00000000000000000000.json', size=1451, modificationTime=1712458109000),\n",
       " FileInfo(path='dbfs:/user/hive/warehouse/data_sce.db/employees/_delta_log/00000000000000000001.crc', name='00000000000000000001.crc', size=3359, modificationTime=1712458182000),\n",
       " FileInfo(path='dbfs:/user/hive/warehouse/data_sce.db/employees/_delta_log/00000000000000000001.json', name='00000000000000000001.json', size=1482, modificationTime=1712458180000),\n",
       " FileInfo(path='dbfs:/user/hive/warehouse/data_sce.db/employees/_delta_log/00000000000000000002.crc', name='00000000000000000002.crc', size=3359, modificationTime=1712458559000),\n",
       " FileInfo(path='dbfs:/user/hive/warehouse/data_sce.db/employees/_delta_log/00000000000000000002.json', name='00000000000000000002.json', size=2176, modificationTime=1712458556000)]"
      ]
     },
     "execution_count": 22,
     "metadata": {},
     "output_type": "execute_result"
    }
   ],
   "source": [
    "dbutils.fs.ls('dbfs:/user/hive/warehouse/data_sce.db/employees/_delta_log')"
   ]
  },
  {
   "cell_type": "code",
   "execution_count": 0,
   "metadata": {
    "application/vnd.databricks.v1+cell": {
     "cellMetadata": {
      "byteLimit": 2048000,
      "implicitDf": true,
      "rowLimit": 10000
     },
     "inputWidgets": {},
     "nuid": "f9a9185d-1168-46ea-804e-4bdc91f051fc",
     "showTitle": false,
     "title": ""
    }
   },
   "outputs": [
    {
     "output_type": "display_data",
     "data": {
      "text/html": [
       "<style scoped>\n",
       "  .table-result-container {\n",
       "    max-height: 300px;\n",
       "    overflow: auto;\n",
       "  }\n",
       "  table, th, td {\n",
       "    border: 1px solid black;\n",
       "    border-collapse: collapse;\n",
       "  }\n",
       "  th, td {\n",
       "    padding: 5px;\n",
       "  }\n",
       "  th {\n",
       "    text-align: left;\n",
       "  }\n",
       "</style><div class='table-result-container'><table class='table-result'><thead style='background-color: white'><tr><th>value</th></tr></thead><tbody><tr><td>{\"commitInfo\":{\"timestamp\":1712458555666,\"userId\":\"1282297700007983\",\"userName\":\"nbah75@yahoo.com\",\"operation\":\"UPDATE\",\"operationParameters\":{\"predicate\":\"[\\\"(id#15071 = 1)\\\"]\"},\"notebook\":{\"notebookId\":\"3844290603993992\"},\"clusterId\":\"0407-003428-s1wusm5w\",\"readVersion\":1,\"isolationLevel\":\"WriteSerializable\",\"isBlindAppend\":false,\"operationMetrics\":{\"numRemovedFiles\":\"1\",\"numRemovedBytes\":\"2877\",\"numCopiedRows\":\"7\",\"numDeletionVectorsAdded\":\"0\",\"numDeletionVectorsRemoved\":\"0\",\"numAddedChangeFiles\":\"0\",\"executionTimeMs\":\"1986\",\"numDeletionVectorsUpdated\":\"0\",\"scanTimeMs\":\"972\",\"numAddedFiles\":\"1\",\"numUpdatedRows\":\"1\",\"numAddedBytes\":\"2876\",\"rewriteTimeMs\":\"1014\"},\"tags\":{\"noRowsCopied\":\"false\",\"delta.rowTracking.preserved\":\"false\",\"restoresDeletedRows\":\"false\"},\"engineInfo\":\"Databricks-Runtime/14.3.x-scala2.12\",\"txnId\":\"0ff21690-4538-4f8c-93a7-3fd74261a5eb\"}}</td></tr><tr><td>{\"remove\":{\"path\":\"part-00000-b43c9148-d70d-44b9-8597-b3d980b78f30-c000.snappy.parquet\",\"deletionTimestamp\":1712458555664,\"dataChange\":true,\"extendedFileMetadata\":true,\"partitionValues\":{},\"size\":2877,\"tags\":{\"INSERTION_TIME\":\"1712458180000000\",\"MIN_INSERTION_TIME\":\"1712458180000000\",\"MAX_INSERTION_TIME\":\"1712458180000000\",\"OPTIMIZE_TARGET_SIZE\":\"268435456\"},\"stats\":\"{\\\"numRecords\\\":8}\"}}</td></tr><tr><td>{\"add\":{\"path\":\"part-00000-19f41a54-d3f8-4739-90c3-09b9777455cc-c000.snappy.parquet\",\"partitionValues\":{},\"size\":2876,\"modificationTime\":1712458556000,\"dataChange\":true,\"stats\":\"{\\\"numRecords\\\":8,\\\"minValues\\\":{\\\"id\\\":1,\\\"last_name\\\":\\\"alexander\\\",\\\"email\\\":\\\"aboyd1p@artisteer.com\\\",\\\"start_date\\\":\\\"2014-10-16\\\",\\\"salary\\\":69936,\\\"job_title\\\":\\\"electrical engineer\\\",\\\"region_id\\\":2,\\\"department_id\\\":1},\\\"maxValues\\\":{\\\"id\\\":1003,\\\"last_name\\\":\\\"ross\\\",\\\"email\\\":\\\"rkelley0@soundcloud.com\\\",\\\"start_date\\\":\\\"2022-07-04\\\",\\\"salary\\\":144724,\\\"job_title\\\":\\\"tax accountant\\\",\\\"region_id\\\":7,\\\"department_id\\\":6},\\\"nullCount\\\":{\\\"id\\\":0,\\\"last_name\\\":0,\\\"email\\\":0,\\\"start_date\\\":0,\\\"salary\\\":0,\\\"job_title\\\":0,\\\"region_id\\\":0,\\\"department_id\\\":0}}\",\"tags\":{\"MAX_INSERTION_TIME\":\"1712458180000000\",\"INSERTION_TIME\":\"1712458180000000\",\"MIN_INSERTION_TIME\":\"1712458180000000\",\"OPTIMIZE_TARGET_SIZE\":\"268435456\"}}}</td></tr></tbody></table></div>"
      ]
     },
     "metadata": {
      "application/vnd.databricks.v1+output": {
       "addedWidgets": {},
       "aggData": [],
       "aggError": "",
       "aggOverflow": false,
       "aggSchema": [],
       "aggSeriesLimitReached": false,
       "aggType": "",
       "arguments": {},
       "columnCustomDisplayInfos": {},
       "data": [
        [
         "{\"commitInfo\":{\"timestamp\":1712458555666,\"userId\":\"1282297700007983\",\"userName\":\"nbah75@yahoo.com\",\"operation\":\"UPDATE\",\"operationParameters\":{\"predicate\":\"[\\\"(id#15071 = 1)\\\"]\"},\"notebook\":{\"notebookId\":\"3844290603993992\"},\"clusterId\":\"0407-003428-s1wusm5w\",\"readVersion\":1,\"isolationLevel\":\"WriteSerializable\",\"isBlindAppend\":false,\"operationMetrics\":{\"numRemovedFiles\":\"1\",\"numRemovedBytes\":\"2877\",\"numCopiedRows\":\"7\",\"numDeletionVectorsAdded\":\"0\",\"numDeletionVectorsRemoved\":\"0\",\"numAddedChangeFiles\":\"0\",\"executionTimeMs\":\"1986\",\"numDeletionVectorsUpdated\":\"0\",\"scanTimeMs\":\"972\",\"numAddedFiles\":\"1\",\"numUpdatedRows\":\"1\",\"numAddedBytes\":\"2876\",\"rewriteTimeMs\":\"1014\"},\"tags\":{\"noRowsCopied\":\"false\",\"delta.rowTracking.preserved\":\"false\",\"restoresDeletedRows\":\"false\"},\"engineInfo\":\"Databricks-Runtime/14.3.x-scala2.12\",\"txnId\":\"0ff21690-4538-4f8c-93a7-3fd74261a5eb\"}}"
        ],
        [
         "{\"remove\":{\"path\":\"part-00000-b43c9148-d70d-44b9-8597-b3d980b78f30-c000.snappy.parquet\",\"deletionTimestamp\":1712458555664,\"dataChange\":true,\"extendedFileMetadata\":true,\"partitionValues\":{},\"size\":2877,\"tags\":{\"INSERTION_TIME\":\"1712458180000000\",\"MIN_INSERTION_TIME\":\"1712458180000000\",\"MAX_INSERTION_TIME\":\"1712458180000000\",\"OPTIMIZE_TARGET_SIZE\":\"268435456\"},\"stats\":\"{\\\"numRecords\\\":8}\"}}"
        ],
        [
         "{\"add\":{\"path\":\"part-00000-19f41a54-d3f8-4739-90c3-09b9777455cc-c000.snappy.parquet\",\"partitionValues\":{},\"size\":2876,\"modificationTime\":1712458556000,\"dataChange\":true,\"stats\":\"{\\\"numRecords\\\":8,\\\"minValues\\\":{\\\"id\\\":1,\\\"last_name\\\":\\\"alexander\\\",\\\"email\\\":\\\"aboyd1p@artisteer.com\\\",\\\"start_date\\\":\\\"2014-10-16\\\",\\\"salary\\\":69936,\\\"job_title\\\":\\\"electrical engineer\\\",\\\"region_id\\\":2,\\\"department_id\\\":1},\\\"maxValues\\\":{\\\"id\\\":1003,\\\"last_name\\\":\\\"ross\\\",\\\"email\\\":\\\"rkelley0@soundcloud.com\\\",\\\"start_date\\\":\\\"2022-07-04\\\",\\\"salary\\\":144724,\\\"job_title\\\":\\\"tax accountant\\\",\\\"region_id\\\":7,\\\"department_id\\\":6},\\\"nullCount\\\":{\\\"id\\\":0,\\\"last_name\\\":0,\\\"email\\\":0,\\\"start_date\\\":0,\\\"salary\\\":0,\\\"job_title\\\":0,\\\"region_id\\\":0,\\\"department_id\\\":0}}\",\"tags\":{\"MAX_INSERTION_TIME\":\"1712458180000000\",\"INSERTION_TIME\":\"1712458180000000\",\"MIN_INSERTION_TIME\":\"1712458180000000\",\"OPTIMIZE_TARGET_SIZE\":\"268435456\"}}}"
        ]
       ],
       "datasetInfos": [],
       "dbfsResultPath": null,
       "isJsonSchema": true,
       "metadata": {
        "dataframeName": "_sqldf",
        "executionCount": 23
       },
       "overflow": false,
       "plotOptions": {
        "customPlotOptions": {},
        "displayType": "table",
        "pivotAggregation": null,
        "pivotColumns": null,
        "xColumns": null,
        "yColumns": null
       },
       "removedWidgets": [],
       "schema": [
        {
         "metadata": "{}",
         "name": "value",
         "type": "\"string\""
        }
       ],
       "type": "table"
      }
     },
     "output_type": "display_data"
    }
   ],
   "source": [
    "%sql\n",
    "select *\n",
    "from TEXT.`dbfs:/user/hive/warehouse/data_sce.db/employees/_delta_log/00000000000000000002.json`"
   ]
  },
  {
   "cell_type": "markdown",
   "metadata": {
    "application/vnd.databricks.v1+cell": {
     "cellMetadata": {},
     "inputWidgets": {},
     "nuid": "d850fbcd-bcae-474b-83ef-1c62fbde5c91",
     "showTitle": false,
     "title": ""
    }
   },
   "source": [
    "##### Querying table after UPDATE"
   ]
  },
  {
   "cell_type": "code",
   "execution_count": 0,
   "metadata": {
    "application/vnd.databricks.v1+cell": {
     "cellMetadata": {
      "byteLimit": 2048000,
      "implicitDf": true,
      "rowLimit": 10000
     },
     "inputWidgets": {},
     "nuid": "d959e8af-d56d-47b9-a61e-3f3133656d8f",
     "showTitle": false,
     "title": ""
    }
   },
   "outputs": [
    {
     "output_type": "display_data",
     "data": {
      "text/html": [
       "<style scoped>\n",
       "  .table-result-container {\n",
       "    max-height: 300px;\n",
       "    overflow: auto;\n",
       "  }\n",
       "  table, th, td {\n",
       "    border: 1px solid black;\n",
       "    border-collapse: collapse;\n",
       "  }\n",
       "  th, td {\n",
       "    padding: 5px;\n",
       "  }\n",
       "  th {\n",
       "    text-align: left;\n",
       "  }\n",
       "</style><div class='table-result-container'><table class='table-result'><thead style='background-color: white'><tr><th>id</th><th>last_name</th><th>email</th><th>start_date</th><th>salary</th><th>job_title</th><th>region_id</th><th>department_id</th></tr></thead><tbody><tr><td>1</td><td>kelley</td><td>rkelley0@soundcloud.com</td><td>2020-06-28</td><td>85000</td><td>structural engineer</td><td>2</td><td>6</td></tr><tr><td>1003</td><td>carr</td><td>fcarr2@woothemes.com</td><td>2018-09-18</td><td>101768</td><td>recruiting manager</td><td>3</td><td>1</td></tr><tr><td>22</td><td>alexander</td><td>kalexanderl@marketwatch.com</td><td>2021-10-20</td><td>144724</td><td>marketing assistant</td><td>2</td><td>1</td></tr><tr><td>45</td><td>nguyen</td><td>mnguyen18@biblegateway.com</td><td>2021-06-21</td><td>108378</td><td>electrical engineer</td><td>7</td><td>1</td></tr><tr><td>50</td><td>armstrong</td><td>parmstrong1d@hc360.com</td><td>2017-09-17</td><td>89969</td><td>senior editor</td><td>4</td><td>1</td></tr><tr><td>55</td><td>ross</td><td>jross1i@infoseek.co.jp</td><td>2014-10-16</td><td>71363</td><td>environmental tech</td><td>3</td><td>1</td></tr><tr><td>62</td><td>boyd</td><td>aboyd1p@artisteer.com</td><td>2022-07-04</td><td>69936</td><td>senior editor</td><td>7</td><td>1</td></tr><tr><td>65</td><td>jordan</td><td>jjordan1s@about.me</td><td>2017-06-29</td><td>86939</td><td>tax accountant</td><td>3</td><td>1</td></tr></tbody></table></div>"
      ]
     },
     "metadata": {
      "application/vnd.databricks.v1+output": {
       "addedWidgets": {},
       "aggData": [],
       "aggError": "",
       "aggOverflow": false,
       "aggSchema": [],
       "aggSeriesLimitReached": false,
       "aggType": "",
       "arguments": {},
       "columnCustomDisplayInfos": {},
       "data": [
        [
         1,
         "kelley",
         "rkelley0@soundcloud.com",
         "2020-06-28",
         85000,
         "structural engineer",
         2,
         6
        ],
        [
         1003,
         "carr",
         "fcarr2@woothemes.com",
         "2018-09-18",
         101768,
         "recruiting manager",
         3,
         1
        ],
        [
         22,
         "alexander",
         "kalexanderl@marketwatch.com",
         "2021-10-20",
         144724,
         "marketing assistant",
         2,
         1
        ],
        [
         45,
         "nguyen",
         "mnguyen18@biblegateway.com",
         "2021-06-21",
         108378,
         "electrical engineer",
         7,
         1
        ],
        [
         50,
         "armstrong",
         "parmstrong1d@hc360.com",
         "2017-09-17",
         89969,
         "senior editor",
         4,
         1
        ],
        [
         55,
         "ross",
         "jross1i@infoseek.co.jp",
         "2014-10-16",
         71363,
         "environmental tech",
         3,
         1
        ],
        [
         62,
         "boyd",
         "aboyd1p@artisteer.com",
         "2022-07-04",
         69936,
         "senior editor",
         7,
         1
        ],
        [
         65,
         "jordan",
         "jjordan1s@about.me",
         "2017-06-29",
         86939,
         "tax accountant",
         3,
         1
        ]
       ],
       "datasetInfos": [],
       "dbfsResultPath": null,
       "isJsonSchema": true,
       "metadata": {
        "dataframeName": "_sqldf",
        "executionCount": 24
       },
       "overflow": false,
       "plotOptions": {
        "customPlotOptions": {},
        "displayType": "table",
        "pivotAggregation": null,
        "pivotColumns": null,
        "xColumns": null,
        "yColumns": null
       },
       "removedWidgets": [],
       "schema": [
        {
         "metadata": "{}",
         "name": "id",
         "type": "\"integer\""
        },
        {
         "metadata": "{}",
         "name": "last_name",
         "type": "\"string\""
        },
        {
         "metadata": "{}",
         "name": "email",
         "type": "\"string\""
        },
        {
         "metadata": "{}",
         "name": "start_date",
         "type": "\"date\""
        },
        {
         "metadata": "{}",
         "name": "salary",
         "type": "\"integer\""
        },
        {
         "metadata": "{}",
         "name": "job_title",
         "type": "\"string\""
        },
        {
         "metadata": "{}",
         "name": "region_id",
         "type": "\"integer\""
        },
        {
         "metadata": "{}",
         "name": "department_id",
         "type": "\"integer\""
        }
       ],
       "type": "table"
      }
     },
     "output_type": "display_data"
    }
   ],
   "source": [
    "%sql\n",
    "SELECT *\n",
    "FROM `data_sce`.employees"
   ]
  },
  {
   "cell_type": "code",
   "execution_count": 0,
   "metadata": {
    "application/vnd.databricks.v1+cell": {
     "cellMetadata": {
      "byteLimit": 2048000,
      "rowLimit": 10000
     },
     "inputWidgets": {},
     "nuid": "b67d46cb-4987-42c0-8992-b773fe801a7f",
     "showTitle": false,
     "title": ""
    }
   },
   "outputs": [
    {
     "output_type": "execute_result",
     "data": {
      "text/plain": [
       "[FileInfo(path='dbfs:/user/hive/warehouse/data_sce.db/employees/_delta_log/.s3-optimization-0', name='.s3-optimization-0', size=0, modificationTime=1712458109000),\n",
       " FileInfo(path='dbfs:/user/hive/warehouse/data_sce.db/employees/_delta_log/.s3-optimization-1', name='.s3-optimization-1', size=0, modificationTime=1712458109000),\n",
       " FileInfo(path='dbfs:/user/hive/warehouse/data_sce.db/employees/_delta_log/.s3-optimization-2', name='.s3-optimization-2', size=0, modificationTime=1712458109000),\n",
       " FileInfo(path='dbfs:/user/hive/warehouse/data_sce.db/employees/_delta_log/00000000000000000000.crc', name='00000000000000000000.crc', size=2450, modificationTime=1712458111000),\n",
       " FileInfo(path='dbfs:/user/hive/warehouse/data_sce.db/employees/_delta_log/00000000000000000000.json', name='00000000000000000000.json', size=1451, modificationTime=1712458109000),\n",
       " FileInfo(path='dbfs:/user/hive/warehouse/data_sce.db/employees/_delta_log/00000000000000000001.crc', name='00000000000000000001.crc', size=3359, modificationTime=1712458182000),\n",
       " FileInfo(path='dbfs:/user/hive/warehouse/data_sce.db/employees/_delta_log/00000000000000000001.json', name='00000000000000000001.json', size=1482, modificationTime=1712458180000),\n",
       " FileInfo(path='dbfs:/user/hive/warehouse/data_sce.db/employees/_delta_log/00000000000000000002.crc', name='00000000000000000002.crc', size=3359, modificationTime=1712458559000),\n",
       " FileInfo(path='dbfs:/user/hive/warehouse/data_sce.db/employees/_delta_log/00000000000000000002.json', name='00000000000000000002.json', size=2176, modificationTime=1712458556000)]"
      ]
     },
     "execution_count": 25,
     "metadata": {},
     "output_type": "execute_result"
    }
   ],
   "source": [
    "dbutils.fs.ls('dbfs:/user/hive/warehouse/data_sce.db/employees/_delta_log')"
   ]
  },
  {
   "cell_type": "markdown",
   "metadata": {
    "application/vnd.databricks.v1+cell": {
     "cellMetadata": {},
     "inputWidgets": {},
     "nuid": "ee364ff2-041d-4cd1-9b4e-a536b9a933a6",
     "showTitle": false,
     "title": ""
    }
   },
   "source": [
    "##### Delete one record"
   ]
  },
  {
   "cell_type": "code",
   "execution_count": 0,
   "metadata": {
    "application/vnd.databricks.v1+cell": {
     "cellMetadata": {
      "byteLimit": 2048000,
      "implicitDf": true,
      "rowLimit": 10000
     },
     "inputWidgets": {},
     "nuid": "d429e0f6-1622-4cb2-9c20-0c9d444672f7",
     "showTitle": false,
     "title": ""
    }
   },
   "outputs": [
    {
     "output_type": "display_data",
     "data": {
      "text/html": [
       "<style scoped>\n",
       "  .table-result-container {\n",
       "    max-height: 300px;\n",
       "    overflow: auto;\n",
       "  }\n",
       "  table, th, td {\n",
       "    border: 1px solid black;\n",
       "    border-collapse: collapse;\n",
       "  }\n",
       "  th, td {\n",
       "    padding: 5px;\n",
       "  }\n",
       "  th {\n",
       "    text-align: left;\n",
       "  }\n",
       "</style><div class='table-result-container'><table class='table-result'><thead style='background-color: white'><tr><th>num_affected_rows</th></tr></thead><tbody><tr><td>1</td></tr></tbody></table></div>"
      ]
     },
     "metadata": {
      "application/vnd.databricks.v1+output": {
       "addedWidgets": {},
       "aggData": [],
       "aggError": "",
       "aggOverflow": false,
       "aggSchema": [],
       "aggSeriesLimitReached": false,
       "aggType": "",
       "arguments": {},
       "columnCustomDisplayInfos": {},
       "data": [
        [
         1
        ]
       ],
       "datasetInfos": [],
       "dbfsResultPath": null,
       "isJsonSchema": true,
       "metadata": {
        "dataframeName": "_sqldf",
        "executionCount": 27
       },
       "overflow": false,
       "plotOptions": {
        "customPlotOptions": {},
        "displayType": "table",
        "pivotAggregation": null,
        "pivotColumns": null,
        "xColumns": null,
        "yColumns": null
       },
       "removedWidgets": [],
       "schema": [
        {
         "metadata": "{}",
         "name": "num_affected_rows",
         "type": "\"long\""
        }
       ],
       "type": "table"
      }
     },
     "output_type": "display_data"
    }
   ],
   "source": [
    "%sql\n",
    "DELETE FROM `data_sce`.employees\n",
    "WHERE id = 62"
   ]
  },
  {
   "cell_type": "code",
   "execution_count": 0,
   "metadata": {
    "application/vnd.databricks.v1+cell": {
     "cellMetadata": {
      "byteLimit": 2048000,
      "implicitDf": true,
      "rowLimit": 10000
     },
     "inputWidgets": {},
     "nuid": "8e175158-52df-4765-9583-593c26849035",
     "showTitle": false,
     "title": ""
    }
   },
   "outputs": [
    {
     "output_type": "display_data",
     "data": {
      "text/html": [
       "<style scoped>\n",
       "  .table-result-container {\n",
       "    max-height: 300px;\n",
       "    overflow: auto;\n",
       "  }\n",
       "  table, th, td {\n",
       "    border: 1px solid black;\n",
       "    border-collapse: collapse;\n",
       "  }\n",
       "  th, td {\n",
       "    padding: 5px;\n",
       "  }\n",
       "  th {\n",
       "    text-align: left;\n",
       "  }\n",
       "</style><div class='table-result-container'><table class='table-result'><thead style='background-color: white'><tr><th>id</th><th>last_name</th><th>email</th><th>start_date</th><th>salary</th><th>job_title</th><th>region_id</th><th>department_id</th></tr></thead><tbody><tr><td>1</td><td>kelley</td><td>rkelley0@soundcloud.com</td><td>2020-06-28</td><td>85000</td><td>structural engineer</td><td>2</td><td>6</td></tr><tr><td>1003</td><td>carr</td><td>fcarr2@woothemes.com</td><td>2018-09-18</td><td>101768</td><td>recruiting manager</td><td>3</td><td>1</td></tr><tr><td>22</td><td>alexander</td><td>kalexanderl@marketwatch.com</td><td>2021-10-20</td><td>144724</td><td>marketing assistant</td><td>2</td><td>1</td></tr><tr><td>45</td><td>nguyen</td><td>mnguyen18@biblegateway.com</td><td>2021-06-21</td><td>108378</td><td>electrical engineer</td><td>7</td><td>1</td></tr><tr><td>50</td><td>armstrong</td><td>parmstrong1d@hc360.com</td><td>2017-09-17</td><td>89969</td><td>senior editor</td><td>4</td><td>1</td></tr><tr><td>55</td><td>ross</td><td>jross1i@infoseek.co.jp</td><td>2014-10-16</td><td>71363</td><td>environmental tech</td><td>3</td><td>1</td></tr><tr><td>65</td><td>jordan</td><td>jjordan1s@about.me</td><td>2017-06-29</td><td>86939</td><td>tax accountant</td><td>3</td><td>1</td></tr></tbody></table></div>"
      ]
     },
     "metadata": {
      "application/vnd.databricks.v1+output": {
       "addedWidgets": {},
       "aggData": [],
       "aggError": "",
       "aggOverflow": false,
       "aggSchema": [],
       "aggSeriesLimitReached": false,
       "aggType": "",
       "arguments": {},
       "columnCustomDisplayInfos": {},
       "data": [
        [
         1,
         "kelley",
         "rkelley0@soundcloud.com",
         "2020-06-28",
         85000,
         "structural engineer",
         2,
         6
        ],
        [
         1003,
         "carr",
         "fcarr2@woothemes.com",
         "2018-09-18",
         101768,
         "recruiting manager",
         3,
         1
        ],
        [
         22,
         "alexander",
         "kalexanderl@marketwatch.com",
         "2021-10-20",
         144724,
         "marketing assistant",
         2,
         1
        ],
        [
         45,
         "nguyen",
         "mnguyen18@biblegateway.com",
         "2021-06-21",
         108378,
         "electrical engineer",
         7,
         1
        ],
        [
         50,
         "armstrong",
         "parmstrong1d@hc360.com",
         "2017-09-17",
         89969,
         "senior editor",
         4,
         1
        ],
        [
         55,
         "ross",
         "jross1i@infoseek.co.jp",
         "2014-10-16",
         71363,
         "environmental tech",
         3,
         1
        ],
        [
         65,
         "jordan",
         "jjordan1s@about.me",
         "2017-06-29",
         86939,
         "tax accountant",
         3,
         1
        ]
       ],
       "datasetInfos": [],
       "dbfsResultPath": null,
       "isJsonSchema": true,
       "metadata": {
        "dataframeName": "_sqldf",
        "executionCount": 28
       },
       "overflow": false,
       "plotOptions": {
        "customPlotOptions": {},
        "displayType": "table",
        "pivotAggregation": null,
        "pivotColumns": null,
        "xColumns": null,
        "yColumns": null
       },
       "removedWidgets": [],
       "schema": [
        {
         "metadata": "{}",
         "name": "id",
         "type": "\"integer\""
        },
        {
         "metadata": "{}",
         "name": "last_name",
         "type": "\"string\""
        },
        {
         "metadata": "{}",
         "name": "email",
         "type": "\"string\""
        },
        {
         "metadata": "{}",
         "name": "start_date",
         "type": "\"date\""
        },
        {
         "metadata": "{}",
         "name": "salary",
         "type": "\"integer\""
        },
        {
         "metadata": "{}",
         "name": "job_title",
         "type": "\"string\""
        },
        {
         "metadata": "{}",
         "name": "region_id",
         "type": "\"integer\""
        },
        {
         "metadata": "{}",
         "name": "department_id",
         "type": "\"integer\""
        }
       ],
       "type": "table"
      }
     },
     "output_type": "display_data"
    }
   ],
   "source": [
    "%sql\n",
    "SELECT *\n",
    "FROM `data_sce`.employees\n"
   ]
  },
  {
   "cell_type": "code",
   "execution_count": 0,
   "metadata": {
    "application/vnd.databricks.v1+cell": {
     "cellMetadata": {
      "byteLimit": 2048000,
      "rowLimit": 10000
     },
     "inputWidgets": {},
     "nuid": "9ef817b9-adc5-4335-b3a9-ef2f985f08d1",
     "showTitle": false,
     "title": ""
    }
   },
   "outputs": [
    {
     "output_type": "execute_result",
     "data": {
      "text/plain": [
       "[FileInfo(path='dbfs:/user/hive/warehouse/data_sce.db/employees/_delta_log/.s3-optimization-0', name='.s3-optimization-0', size=0, modificationTime=1712458109000),\n",
       " FileInfo(path='dbfs:/user/hive/warehouse/data_sce.db/employees/_delta_log/.s3-optimization-1', name='.s3-optimization-1', size=0, modificationTime=1712458109000),\n",
       " FileInfo(path='dbfs:/user/hive/warehouse/data_sce.db/employees/_delta_log/.s3-optimization-2', name='.s3-optimization-2', size=0, modificationTime=1712458109000),\n",
       " FileInfo(path='dbfs:/user/hive/warehouse/data_sce.db/employees/_delta_log/00000000000000000000.crc', name='00000000000000000000.crc', size=2450, modificationTime=1712458111000),\n",
       " FileInfo(path='dbfs:/user/hive/warehouse/data_sce.db/employees/_delta_log/00000000000000000000.json', name='00000000000000000000.json', size=1451, modificationTime=1712458109000),\n",
       " FileInfo(path='dbfs:/user/hive/warehouse/data_sce.db/employees/_delta_log/00000000000000000001.crc', name='00000000000000000001.crc', size=3359, modificationTime=1712458182000),\n",
       " FileInfo(path='dbfs:/user/hive/warehouse/data_sce.db/employees/_delta_log/00000000000000000001.json', name='00000000000000000001.json', size=1482, modificationTime=1712458180000),\n",
       " FileInfo(path='dbfs:/user/hive/warehouse/data_sce.db/employees/_delta_log/00000000000000000002.crc', name='00000000000000000002.crc', size=3359, modificationTime=1712458559000),\n",
       " FileInfo(path='dbfs:/user/hive/warehouse/data_sce.db/employees/_delta_log/00000000000000000002.json', name='00000000000000000002.json', size=2176, modificationTime=1712458556000),\n",
       " FileInfo(path='dbfs:/user/hive/warehouse/data_sce.db/employees/_delta_log/00000000000000000003.crc', name='00000000000000000003.crc', size=3358, modificationTime=1712458810000),\n",
       " FileInfo(path='dbfs:/user/hive/warehouse/data_sce.db/employees/_delta_log/00000000000000000003.json', name='00000000000000000003.json', size=2177, modificationTime=1712458807000)]"
      ]
     },
     "execution_count": 29,
     "metadata": {},
     "output_type": "execute_result"
    }
   ],
   "source": [
    "dbutils.fs.ls('dbfs:/user/hive/warehouse/data_sce.db/employees/_delta_log')"
   ]
  },
  {
   "cell_type": "code",
   "execution_count": 0,
   "metadata": {
    "application/vnd.databricks.v1+cell": {
     "cellMetadata": {
      "byteLimit": 2048000,
      "implicitDf": true,
      "rowLimit": 10000
     },
     "inputWidgets": {},
     "nuid": "6b80aae1-c742-403c-a2e5-8ff457fc1803",
     "showTitle": false,
     "title": ""
    }
   },
   "outputs": [
    {
     "output_type": "display_data",
     "data": {
      "text/html": [
       "<style scoped>\n",
       "  .table-result-container {\n",
       "    max-height: 300px;\n",
       "    overflow: auto;\n",
       "  }\n",
       "  table, th, td {\n",
       "    border: 1px solid black;\n",
       "    border-collapse: collapse;\n",
       "  }\n",
       "  th, td {\n",
       "    padding: 5px;\n",
       "  }\n",
       "  th {\n",
       "    text-align: left;\n",
       "  }\n",
       "</style><div class='table-result-container'><table class='table-result'><thead style='background-color: white'><tr><th>value</th></tr></thead><tbody><tr><td>{\"commitInfo\":{\"timestamp\":1712458806424,\"userId\":\"1282297700007983\",\"userName\":\"nbah75@yahoo.com\",\"operation\":\"DELETE\",\"operationParameters\":{\"predicate\":\"[\\\"(id#16106 = 62)\\\"]\"},\"notebook\":{\"notebookId\":\"3844290603993992\"},\"clusterId\":\"0407-003428-s1wusm5w\",\"readVersion\":2,\"isolationLevel\":\"WriteSerializable\",\"isBlindAppend\":false,\"operationMetrics\":{\"numRemovedFiles\":\"1\",\"numRemovedBytes\":\"2876\",\"numCopiedRows\":\"7\",\"numDeletionVectorsAdded\":\"0\",\"numDeletionVectorsRemoved\":\"0\",\"numAddedChangeFiles\":\"0\",\"executionTimeMs\":\"2152\",\"numDeletionVectorsUpdated\":\"0\",\"numDeletedRows\":\"1\",\"scanTimeMs\":\"1143\",\"numAddedFiles\":\"1\",\"numAddedBytes\":\"2794\",\"rewriteTimeMs\":\"1009\"},\"tags\":{\"noRowsCopied\":\"false\",\"delta.rowTracking.preserved\":\"false\",\"restoresDeletedRows\":\"false\"},\"engineInfo\":\"Databricks-Runtime/14.3.x-scala2.12\",\"txnId\":\"ce7662a2-3989-47a3-93b6-2b96e611e082\"}}</td></tr><tr><td>{\"remove\":{\"path\":\"part-00000-19f41a54-d3f8-4739-90c3-09b9777455cc-c000.snappy.parquet\",\"deletionTimestamp\":1712458806422,\"dataChange\":true,\"extendedFileMetadata\":true,\"partitionValues\":{},\"size\":2876,\"tags\":{\"MAX_INSERTION_TIME\":\"1712458180000000\",\"INSERTION_TIME\":\"1712458180000000\",\"MIN_INSERTION_TIME\":\"1712458180000000\",\"OPTIMIZE_TARGET_SIZE\":\"268435456\"},\"stats\":\"{\\\"numRecords\\\":8}\"}}</td></tr><tr><td>{\"add\":{\"path\":\"part-00000-2c85d862-37cb-47de-8e76-c001e4ff7810-c000.snappy.parquet\",\"partitionValues\":{},\"size\":2794,\"modificationTime\":1712458807000,\"dataChange\":true,\"stats\":\"{\\\"numRecords\\\":7,\\\"minValues\\\":{\\\"id\\\":1,\\\"last_name\\\":\\\"alexander\\\",\\\"email\\\":\\\"fcarr2@woothemes.com\\\",\\\"start_date\\\":\\\"2014-10-16\\\",\\\"salary\\\":71363,\\\"job_title\\\":\\\"electrical engineer\\\",\\\"region_id\\\":2,\\\"department_id\\\":1},\\\"maxValues\\\":{\\\"id\\\":1003,\\\"last_name\\\":\\\"ross\\\",\\\"email\\\":\\\"rkelley0@soundcloud.com\\\",\\\"start_date\\\":\\\"2021-10-20\\\",\\\"salary\\\":144724,\\\"job_title\\\":\\\"tax accountant\\\",\\\"region_id\\\":7,\\\"department_id\\\":6},\\\"nullCount\\\":{\\\"id\\\":0,\\\"last_name\\\":0,\\\"email\\\":0,\\\"start_date\\\":0,\\\"salary\\\":0,\\\"job_title\\\":0,\\\"region_id\\\":0,\\\"department_id\\\":0}}\",\"tags\":{\"MAX_INSERTION_TIME\":\"1712458180000000\",\"INSERTION_TIME\":\"1712458180000000\",\"MIN_INSERTION_TIME\":\"1712458180000000\",\"OPTIMIZE_TARGET_SIZE\":\"268435456\"}}}</td></tr></tbody></table></div>"
      ]
     },
     "metadata": {
      "application/vnd.databricks.v1+output": {
       "addedWidgets": {},
       "aggData": [],
       "aggError": "",
       "aggOverflow": false,
       "aggSchema": [],
       "aggSeriesLimitReached": false,
       "aggType": "",
       "arguments": {},
       "columnCustomDisplayInfos": {},
       "data": [
        [
         "{\"commitInfo\":{\"timestamp\":1712458806424,\"userId\":\"1282297700007983\",\"userName\":\"nbah75@yahoo.com\",\"operation\":\"DELETE\",\"operationParameters\":{\"predicate\":\"[\\\"(id#16106 = 62)\\\"]\"},\"notebook\":{\"notebookId\":\"3844290603993992\"},\"clusterId\":\"0407-003428-s1wusm5w\",\"readVersion\":2,\"isolationLevel\":\"WriteSerializable\",\"isBlindAppend\":false,\"operationMetrics\":{\"numRemovedFiles\":\"1\",\"numRemovedBytes\":\"2876\",\"numCopiedRows\":\"7\",\"numDeletionVectorsAdded\":\"0\",\"numDeletionVectorsRemoved\":\"0\",\"numAddedChangeFiles\":\"0\",\"executionTimeMs\":\"2152\",\"numDeletionVectorsUpdated\":\"0\",\"numDeletedRows\":\"1\",\"scanTimeMs\":\"1143\",\"numAddedFiles\":\"1\",\"numAddedBytes\":\"2794\",\"rewriteTimeMs\":\"1009\"},\"tags\":{\"noRowsCopied\":\"false\",\"delta.rowTracking.preserved\":\"false\",\"restoresDeletedRows\":\"false\"},\"engineInfo\":\"Databricks-Runtime/14.3.x-scala2.12\",\"txnId\":\"ce7662a2-3989-47a3-93b6-2b96e611e082\"}}"
        ],
        [
         "{\"remove\":{\"path\":\"part-00000-19f41a54-d3f8-4739-90c3-09b9777455cc-c000.snappy.parquet\",\"deletionTimestamp\":1712458806422,\"dataChange\":true,\"extendedFileMetadata\":true,\"partitionValues\":{},\"size\":2876,\"tags\":{\"MAX_INSERTION_TIME\":\"1712458180000000\",\"INSERTION_TIME\":\"1712458180000000\",\"MIN_INSERTION_TIME\":\"1712458180000000\",\"OPTIMIZE_TARGET_SIZE\":\"268435456\"},\"stats\":\"{\\\"numRecords\\\":8}\"}}"
        ],
        [
         "{\"add\":{\"path\":\"part-00000-2c85d862-37cb-47de-8e76-c001e4ff7810-c000.snappy.parquet\",\"partitionValues\":{},\"size\":2794,\"modificationTime\":1712458807000,\"dataChange\":true,\"stats\":\"{\\\"numRecords\\\":7,\\\"minValues\\\":{\\\"id\\\":1,\\\"last_name\\\":\\\"alexander\\\",\\\"email\\\":\\\"fcarr2@woothemes.com\\\",\\\"start_date\\\":\\\"2014-10-16\\\",\\\"salary\\\":71363,\\\"job_title\\\":\\\"electrical engineer\\\",\\\"region_id\\\":2,\\\"department_id\\\":1},\\\"maxValues\\\":{\\\"id\\\":1003,\\\"last_name\\\":\\\"ross\\\",\\\"email\\\":\\\"rkelley0@soundcloud.com\\\",\\\"start_date\\\":\\\"2021-10-20\\\",\\\"salary\\\":144724,\\\"job_title\\\":\\\"tax accountant\\\",\\\"region_id\\\":7,\\\"department_id\\\":6},\\\"nullCount\\\":{\\\"id\\\":0,\\\"last_name\\\":0,\\\"email\\\":0,\\\"start_date\\\":0,\\\"salary\\\":0,\\\"job_title\\\":0,\\\"region_id\\\":0,\\\"department_id\\\":0}}\",\"tags\":{\"MAX_INSERTION_TIME\":\"1712458180000000\",\"INSERTION_TIME\":\"1712458180000000\",\"MIN_INSERTION_TIME\":\"1712458180000000\",\"OPTIMIZE_TARGET_SIZE\":\"268435456\"}}}"
        ]
       ],
       "datasetInfos": [],
       "dbfsResultPath": null,
       "isJsonSchema": true,
       "metadata": {
        "dataframeName": "_sqldf",
        "executionCount": 30
       },
       "overflow": false,
       "plotOptions": {
        "customPlotOptions": {},
        "displayType": "table",
        "pivotAggregation": null,
        "pivotColumns": null,
        "xColumns": null,
        "yColumns": null
       },
       "removedWidgets": [],
       "schema": [
        {
         "metadata": "{}",
         "name": "value",
         "type": "\"string\""
        }
       ],
       "type": "table"
      }
     },
     "output_type": "display_data"
    }
   ],
   "source": [
    "%sql\n",
    "select *\n",
    "from TEXT.`dbfs:/user/hive/warehouse/data_sce.db/employees/_delta_log/00000000000000000003.json`"
   ]
  },
  {
   "cell_type": "code",
   "execution_count": 0,
   "metadata": {
    "application/vnd.databricks.v1+cell": {
     "cellMetadata": {
      "byteLimit": 2048000,
      "implicitDf": true,
      "rowLimit": 10000
     },
     "inputWidgets": {},
     "nuid": "a7a8cd84-aff2-42a6-9030-eff087f14284",
     "showTitle": false,
     "title": ""
    }
   },
   "outputs": [
    {
     "output_type": "display_data",
     "data": {
      "text/html": [
       "<style scoped>\n",
       "  .table-result-container {\n",
       "    max-height: 300px;\n",
       "    overflow: auto;\n",
       "  }\n",
       "  table, th, td {\n",
       "    border: 1px solid black;\n",
       "    border-collapse: collapse;\n",
       "  }\n",
       "  th, td {\n",
       "    padding: 5px;\n",
       "  }\n",
       "  th {\n",
       "    text-align: left;\n",
       "  }\n",
       "</style><div class='table-result-container'><table class='table-result'><thead style='background-color: white'><tr><th>version</th><th>timestamp</th><th>userId</th><th>userName</th><th>operation</th><th>operationParameters</th><th>job</th><th>notebook</th><th>clusterId</th><th>readVersion</th><th>isolationLevel</th><th>isBlindAppend</th><th>operationMetrics</th><th>userMetadata</th><th>engineInfo</th></tr></thead><tbody><tr><td>3</td><td>2024-04-07T03:00:07Z</td><td>1282297700007983</td><td>nbah75@yahoo.com</td><td>DELETE</td><td>Map(predicate -> [\"(id#16106 = 62)\"])</td><td>null</td><td>List(3844290603993992)</td><td>0407-003428-s1wusm5w</td><td>2</td><td>WriteSerializable</td><td>false</td><td>Map(numRemovedFiles -> 1, numRemovedBytes -> 2876, numCopiedRows -> 7, numDeletionVectorsAdded -> 0, numDeletionVectorsRemoved -> 0, numAddedChangeFiles -> 0, executionTimeMs -> 2152, numDeletionVectorsUpdated -> 0, numDeletedRows -> 1, scanTimeMs -> 1143, numAddedFiles -> 1, numAddedBytes -> 2794, rewriteTimeMs -> 1009)</td><td>null</td><td>Databricks-Runtime/14.3.x-scala2.12</td></tr><tr><td>2</td><td>2024-04-07T02:55:56Z</td><td>1282297700007983</td><td>nbah75@yahoo.com</td><td>UPDATE</td><td>Map(predicate -> [\"(id#15071 = 1)\"])</td><td>null</td><td>List(3844290603993992)</td><td>0407-003428-s1wusm5w</td><td>1</td><td>WriteSerializable</td><td>false</td><td>Map(numRemovedFiles -> 1, numRemovedBytes -> 2877, numCopiedRows -> 7, numDeletionVectorsAdded -> 0, numDeletionVectorsRemoved -> 0, numAddedChangeFiles -> 0, executionTimeMs -> 1986, numDeletionVectorsUpdated -> 0, scanTimeMs -> 972, numAddedFiles -> 1, numUpdatedRows -> 1, numAddedBytes -> 2876, rewriteTimeMs -> 1014)</td><td>null</td><td>Databricks-Runtime/14.3.x-scala2.12</td></tr><tr><td>1</td><td>2024-04-07T02:49:40Z</td><td>1282297700007983</td><td>nbah75@yahoo.com</td><td>WRITE</td><td>Map(mode -> Append, statsOnLoad -> false, partitionBy -> [])</td><td>null</td><td>List(3844290603993992)</td><td>0407-003428-s1wusm5w</td><td>0</td><td>WriteSerializable</td><td>true</td><td>Map(numFiles -> 1, numOutputRows -> 8, numOutputBytes -> 2877)</td><td>null</td><td>Databricks-Runtime/14.3.x-scala2.12</td></tr><tr><td>0</td><td>2024-04-07T02:48:29Z</td><td>1282297700007983</td><td>nbah75@yahoo.com</td><td>CREATE TABLE</td><td>Map(partitionBy -> [], description -> null, isManaged -> true, properties -> {}, statsOnLoad -> false)</td><td>null</td><td>List(3844290603993992)</td><td>0407-003428-s1wusm5w</td><td>null</td><td>WriteSerializable</td><td>true</td><td>Map()</td><td>null</td><td>Databricks-Runtime/14.3.x-scala2.12</td></tr></tbody></table></div>"
      ]
     },
     "metadata": {
      "application/vnd.databricks.v1+output": {
       "addedWidgets": {},
       "aggData": [],
       "aggError": "",
       "aggOverflow": false,
       "aggSchema": [],
       "aggSeriesLimitReached": false,
       "aggType": "",
       "arguments": {},
       "columnCustomDisplayInfos": {},
       "data": [
        [
         3,
         "2024-04-07T03:00:07Z",
         "1282297700007983",
         "nbah75@yahoo.com",
         "DELETE",
         {
          "predicate": "[\"(id#16106 = 62)\"]"
         },
         null,
         [
          "3844290603993992"
         ],
         "0407-003428-s1wusm5w",
         2,
         "WriteSerializable",
         false,
         {
          "executionTimeMs": "2152",
          "numAddedBytes": "2794",
          "numAddedChangeFiles": "0",
          "numAddedFiles": "1",
          "numCopiedRows": "7",
          "numDeletedRows": "1",
          "numDeletionVectorsAdded": "0",
          "numDeletionVectorsRemoved": "0",
          "numDeletionVectorsUpdated": "0",
          "numRemovedBytes": "2876",
          "numRemovedFiles": "1",
          "rewriteTimeMs": "1009",
          "scanTimeMs": "1143"
         },
         null,
         "Databricks-Runtime/14.3.x-scala2.12"
        ],
        [
         2,
         "2024-04-07T02:55:56Z",
         "1282297700007983",
         "nbah75@yahoo.com",
         "UPDATE",
         {
          "predicate": "[\"(id#15071 = 1)\"]"
         },
         null,
         [
          "3844290603993992"
         ],
         "0407-003428-s1wusm5w",
         1,
         "WriteSerializable",
         false,
         {
          "executionTimeMs": "1986",
          "numAddedBytes": "2876",
          "numAddedChangeFiles": "0",
          "numAddedFiles": "1",
          "numCopiedRows": "7",
          "numDeletionVectorsAdded": "0",
          "numDeletionVectorsRemoved": "0",
          "numDeletionVectorsUpdated": "0",
          "numRemovedBytes": "2877",
          "numRemovedFiles": "1",
          "numUpdatedRows": "1",
          "rewriteTimeMs": "1014",
          "scanTimeMs": "972"
         },
         null,
         "Databricks-Runtime/14.3.x-scala2.12"
        ],
        [
         1,
         "2024-04-07T02:49:40Z",
         "1282297700007983",
         "nbah75@yahoo.com",
         "WRITE",
         {
          "mode": "Append",
          "partitionBy": "[]",
          "statsOnLoad": "false"
         },
         null,
         [
          "3844290603993992"
         ],
         "0407-003428-s1wusm5w",
         0,
         "WriteSerializable",
         true,
         {
          "numFiles": "1",
          "numOutputBytes": "2877",
          "numOutputRows": "8"
         },
         null,
         "Databricks-Runtime/14.3.x-scala2.12"
        ],
        [
         0,
         "2024-04-07T02:48:29Z",
         "1282297700007983",
         "nbah75@yahoo.com",
         "CREATE TABLE",
         {
          "description": null,
          "isManaged": "true",
          "partitionBy": "[]",
          "properties": "{}",
          "statsOnLoad": "false"
         },
         null,
         [
          "3844290603993992"
         ],
         "0407-003428-s1wusm5w",
         null,
         "WriteSerializable",
         true,
         {},
         null,
         "Databricks-Runtime/14.3.x-scala2.12"
        ]
       ],
       "datasetInfos": [],
       "dbfsResultPath": null,
       "isJsonSchema": true,
       "metadata": {
        "dataframeName": "_sqldf",
        "executionCount": 31
       },
       "overflow": false,
       "plotOptions": {
        "customPlotOptions": {},
        "displayType": "table",
        "pivotAggregation": null,
        "pivotColumns": null,
        "xColumns": null,
        "yColumns": null
       },
       "removedWidgets": [],
       "schema": [
        {
         "metadata": "{}",
         "name": "version",
         "type": "\"long\""
        },
        {
         "metadata": "{}",
         "name": "timestamp",
         "type": "\"timestamp\""
        },
        {
         "metadata": "{}",
         "name": "userId",
         "type": "\"string\""
        },
        {
         "metadata": "{}",
         "name": "userName",
         "type": "\"string\""
        },
        {
         "metadata": "{}",
         "name": "operation",
         "type": "\"string\""
        },
        {
         "metadata": "{}",
         "name": "operationParameters",
         "type": "{\"type\":\"map\",\"keyType\":\"string\",\"valueType\":\"string\",\"valueContainsNull\":true}"
        },
        {
         "metadata": "{}",
         "name": "job",
         "type": "{\"type\":\"struct\",\"fields\":[{\"name\":\"jobId\",\"type\":\"string\",\"nullable\":true,\"metadata\":{}},{\"name\":\"jobName\",\"type\":\"string\",\"nullable\":true,\"metadata\":{}},{\"name\":\"jobRunId\",\"type\":\"string\",\"nullable\":true,\"metadata\":{}},{\"name\":\"runId\",\"type\":\"string\",\"nullable\":true,\"metadata\":{}},{\"name\":\"jobOwnerId\",\"type\":\"string\",\"nullable\":true,\"metadata\":{}},{\"name\":\"triggerType\",\"type\":\"string\",\"nullable\":true,\"metadata\":{}}]}"
        },
        {
         "metadata": "{}",
         "name": "notebook",
         "type": "{\"type\":\"struct\",\"fields\":[{\"name\":\"notebookId\",\"type\":\"string\",\"nullable\":true,\"metadata\":{}}]}"
        },
        {
         "metadata": "{}",
         "name": "clusterId",
         "type": "\"string\""
        },
        {
         "metadata": "{}",
         "name": "readVersion",
         "type": "\"long\""
        },
        {
         "metadata": "{}",
         "name": "isolationLevel",
         "type": "\"string\""
        },
        {
         "metadata": "{}",
         "name": "isBlindAppend",
         "type": "\"boolean\""
        },
        {
         "metadata": "{}",
         "name": "operationMetrics",
         "type": "{\"type\":\"map\",\"keyType\":\"string\",\"valueType\":\"string\",\"valueContainsNull\":true}"
        },
        {
         "metadata": "{}",
         "name": "userMetadata",
         "type": "\"string\""
        },
        {
         "metadata": "{}",
         "name": "engineInfo",
         "type": "\"string\""
        }
       ],
       "type": "table"
      }
     },
     "output_type": "display_data"
    }
   ],
   "source": [
    "%sql\n",
    "DESCRIBE HISTORY `data_sce`.employees"
   ]
  }
 ],
 "metadata": {
  "application/vnd.databricks.v1+notebook": {
   "dashboards": [],
   "language": "python",
   "notebookMetadata": {
    "mostRecentlyExecutedCommandWithImplicitDF": {
     "commandId": 1907145521258950,
     "dataframes": [
      "_sqldf"
     ]
    },
    "pythonIndentUnit": 4
   },
   "notebookName": "Delta-tables-employees_2024-04-06",
   "widgets": {}
  }
 },
 "nbformat": 4,
 "nbformat_minor": 0
}
