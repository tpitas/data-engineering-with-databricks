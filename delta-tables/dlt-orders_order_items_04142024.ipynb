{
 "cells": [
  {
   "cell_type": "markdown",
   "metadata": {
    "application/vnd.databricks.v1+cell": {
     "cellMetadata": {},
     "inputWidgets": {},
     "nuid": "dca31919-550b-461c-9701-17297783cf2d",
     "showTitle": false,
     "title": ""
    }
   },
   "source": [
    "##### Customer Orders - Delta Live Tables\n",
    "This Notebook demonstrates how to create a notebook for a Delta Live Table Pipeline. "
   ]
  },
  {
   "cell_type": "code",
   "execution_count": null,
   "metadata": {
    "application/vnd.databricks.v1+cell": {
     "cellMetadata": {
      "byteLimit": 2048000,
      "rowLimit": 10000
     },
     "inputWidgets": {},
     "nuid": "382531c4-8dfa-4d1d-9ff4-57712fefaf90",
     "showTitle": false,
     "title": ""
    }
   },
   "outputs": [],
   "source": [
    "#!pip install dlt\n",
    "import dlt\n",
    "from pyspark.sql.functions import *\n",
    "from pyspark.sql.types import *"
   ]
  },
  {
   "cell_type": "markdown",
   "metadata": {
    "application/vnd.databricks.v1+cell": {
     "cellMetadata": {},
     "inputWidgets": {},
     "nuid": "f14093c7-db8e-4806-8f1a-f84121865495",
     "showTitle": false,
     "title": ""
    }
   },
   "source": [
    "##### Bronze Tables"
   ]
  },
  {
   "cell_type": "markdown",
   "metadata": {
    "application/vnd.databricks.v1+cell": {
     "cellMetadata": {},
     "inputWidgets": {},
     "nuid": "c4c06c90-1521-40d4-a230-9e9b04735785",
     "showTitle": false,
     "title": ""
    }
   },
   "source": [
    "##### orders bronze table"
   ]
  },
  {
   "cell_type": "code",
   "execution_count": null,
   "metadata": {
    "application/vnd.databricks.v1+cell": {
     "cellMetadata": {
      "byteLimit": 2048000,
      "rowLimit": 10000
     },
     "inputWidgets": {},
     "nuid": "71a74949-a9ff-482f-9bcf-8a5a4f71b4e6",
     "showTitle": false,
     "title": ""
    }
   },
   "outputs": [],
   "source": [
    "orders_path = \"dbfs:/FileStore/data/orders/orders.csv\"\n",
    "orders_schema = StructType([\n",
    "                    StructField(\"order_id\", IntegerType(), False),\n",
    "                    StructField(\"order_date\", StringType(), False),\n",
    "                    StructField(\"order_customer_id\", IntegerType(), False),\n",
    "                    StructField(\"order_status\", StringType(), False)\n",
    "                    ]\n",
    "                    )"
   ]
  },
  {
   "cell_type": "code",
   "execution_count": null,
   "metadata": {
    "application/vnd.databricks.v1+cell": {
     "cellMetadata": {
      "byteLimit": 2048000,
      "rowLimit": 10000
     },
     "inputWidgets": {},
     "nuid": "cc3d5aea-a763-4242-b8c3-b52593e66222",
     "showTitle": false,
     "title": ""
    }
   },
   "outputs": [],
   "source": [
    "@dlt.table\n",
    "def orders_bronze():\n",
    "    df = spark.read.format(\"csv\").option(\"header\",True).schema(orders_schema).load(orders_path)\n",
    "    return df"
   ]
  },
  {
   "cell_type": "code",
   "execution_count": null,
   "metadata": {
    "application/vnd.databricks.v1+cell": {
     "cellMetadata": {
      "byteLimit": 2048000,
      "rowLimit": 10000
     },
     "inputWidgets": {},
     "nuid": "9cf3586a-6f11-4b38-bb59-f805b01c8490",
     "showTitle": false,
     "title": ""
    }
   },
   "outputs": [],
   "source": [
    "orders_path = \"dbfs:/FileStore/data/orders/orders.csv\"\n",
    "df = spark.read.format(\"csv\").option(\"header\",True).schema(orders_schema).load(orders_path).display()"
   ]
  },
  {
   "cell_type": "markdown",
   "metadata": {
    "application/vnd.databricks.v1+cell": {
     "cellMetadata": {},
     "inputWidgets": {},
     "nuid": "4d33255e-67dc-41e2-924e-4d0db984abc7",
     "showTitle": false,
     "title": ""
    }
   },
   "source": [
    "##### order_items bronze table"
   ]
  },
  {
   "cell_type": "code",
   "execution_count": null,
   "metadata": {
    "application/vnd.databricks.v1+cell": {
     "cellMetadata": {
      "byteLimit": 2048000,
      "rowLimit": 10000
     },
     "inputWidgets": {},
     "nuid": "0a6ac23f-1a7b-463c-b703-884d9521a1f5",
     "showTitle": false,
     "title": ""
    }
   },
   "outputs": [],
   "source": [
    "order_items_path = \"dbfs:/FileStore/data/order_items/order_items.csv\"\n",
    "order_items_schema = StructType([\n",
    "                    StructField(\"order_item_id\", IntegerType(), False),\n",
    "                    StructField(\"order_item_order_id\", IntegerType(), False),\n",
    "                    StructField(\"order_item_product_id\", IntegerType(), False),\n",
    "                    StructField(\"order_item_quantity\", IntegerType(), False),\n",
    "                    StructField(\"order_item_subtotal\", DoubleType(), False),\n",
    "                    StructField(\"order_item_product_price\", DoubleType(), False)\n",
    "                    ]\n",
    "                    )"
   ]
  },
  {
   "cell_type": "code",
   "execution_count": null,
   "metadata": {
    "application/vnd.databricks.v1+cell": {
     "cellMetadata": {
      "byteLimit": 2048000,
      "rowLimit": 10000
     },
     "inputWidgets": {},
     "nuid": "3592a727-2d82-47b3-94e8-df6768cef2c0",
     "showTitle": false,
     "title": ""
    }
   },
   "outputs": [],
   "source": [
    "order_items_path = \"dbfs:/FileStore/data/order_items/order_items.csv\"\n",
    "df = spark.read.format(\"csv\").option(\"header\",True).schema(orders_schema).load(order_items_path).display()"
   ]
  },
  {
   "cell_type": "code",
   "execution_count": null,
   "metadata": {
    "application/vnd.databricks.v1+cell": {
     "cellMetadata": {},
     "inputWidgets": {},
     "nuid": "410d136e-f82e-4914-ad5b-4f475c479211",
     "showTitle": false,
     "title": ""
    }
   },
   "outputs": [],
   "source": [
    "@dlt.table\n",
    "def order_items_bronze():\n",
    "    return spark.read.format(\"csv\").option(\"header\",True).schema(order_items_schema).load(order_items_path)"
   ]
  },
  {
   "cell_type": "markdown",
   "metadata": {
    "application/vnd.databricks.v1+cell": {
     "cellMetadata": {},
     "inputWidgets": {},
     "nuid": "2a11aad9-f663-4882-8c97-8c70f91581ad",
     "showTitle": false,
     "title": ""
    }
   },
   "source": [
    "##### Silver Tables"
   ]
  },
  {
   "cell_type": "markdown",
   "metadata": {
    "application/vnd.databricks.v1+cell": {
     "cellMetadata": {},
     "inputWidgets": {},
     "nuid": "a3231447-910c-469c-9c65-4c91b9c9696d",
     "showTitle": false,
     "title": ""
    }
   },
   "source": [
    "###### orders Silver Table"
   ]
  },
  {
   "cell_type": "code",
   "execution_count": null,
   "metadata": {
    "application/vnd.databricks.v1+cell": {
     "cellMetadata": {},
     "inputWidgets": {},
     "nuid": "91bc6943-1966-495d-8e64-54d5b13feea0",
     "showTitle": false,
     "title": ""
    }
   },
   "outputs": [],
   "source": [
    "@dlt.table\n",
    "def orders_silver():\n",
    "    return (\n",
    "        dlt.read(\"orders_bronze\")\n",
    "              .select(\n",
    "              'order_id', \\\n",
    "              to_date('order_date', \"dd-MMM-yy kk.mm.ss.SS\").alias('order_date'), \\\n",
    "              'order_customer_id', \\\n",
    "              'order_status', \n",
    "              current_timestamp().alias(\"modified_date\")\n",
    "               )\n",
    "          )"
   ]
  },
  {
   "cell_type": "markdown",
   "metadata": {
    "application/vnd.databricks.v1+cell": {
     "cellMetadata": {},
     "inputWidgets": {},
     "nuid": "285de21a-678b-4056-afd3-614670e69bd4",
     "showTitle": false,
     "title": ""
    }
   },
   "source": [
    "###### order_items Silver Table"
   ]
  },
  {
   "cell_type": "code",
   "execution_count": null,
   "metadata": {
    "application/vnd.databricks.v1+cell": {
     "cellMetadata": {},
     "inputWidgets": {},
     "nuid": "d5c38d64-5c1c-426c-9063-5ec235c2138f",
     "showTitle": false,
     "title": ""
    }
   },
   "outputs": [],
   "source": [
    "@dlt.table\n",
    "def order_items_silver():\n",
    "    return (\n",
    "        dlt.read(\"order_items_bronze\")\n",
    "              .select(\n",
    "              'order_item_id', \\\n",
    "              'order_item_product_id', \\\n",
    "              'order_item_product_price', \\\n",
    "              'order_item_quantity',\n",
    "              current_timestamp().alias(\"modified_date\")\n",
    "               )\n",
    "          )"
   ]
  },
  {
   "cell_type": "code",
   "execution_count": null,
   "metadata": {
    "application/vnd.databricks.v1+cell": {
     "cellMetadata": {},
     "inputWidgets": {},
     "nuid": "8d4d61d1-ef7e-45ea-b424-5be23d65a6f3",
     "showTitle": false,
     "title": ""
    }
   },
   "outputs": [],
   "source": [
    "Create Delta Lake table with partitions"
   ]
  },
  {
   "cell_type": "code",
   "execution_count": null,
   "metadata": {
    "application/vnd.databricks.v1+cell": {
     "cellMetadata": {
      "byteLimit": 2048000,
      "rowLimit": 10000
     },
     "inputWidgets": {},
     "nuid": "c10c7c57-0007-4550-9279-49192f49f562",
     "showTitle": false,
     "title": ""
    }
   },
   "outputs": [],
   "source": [
    "df = spark.createDataFrame(\n",
    "    [\n",
    "        (\"John\", \"Anderson\", \"England\", \"Handball\"),\n",
    "        (\"James\", \"LeBron\", \"Usa\", \"Basketball\"),\n",
    "        (\"Lilian\", \"Thuram\", \"France\", \"Football\"),\n",
    "        (\"Sadio\", \"Mane\", \"Senegal\", \"Football\"),\n",
    "    ]\n",
    ").toDF(\"first_name\", \"last_name\", \"country\", \"sport\")\n"
   ]
  },
  {
   "cell_type": "code",
   "execution_count": null,
   "metadata": {
    "application/vnd.databricks.v1+cell": {
     "cellMetadata": {
      "byteLimit": 2048000,
      "rowLimit": 10000
     },
     "inputWidgets": {},
     "nuid": "631e353e-7764-4b4e-b3a7-d81abca8f15c",
     "showTitle": false,
     "title": ""
    }
   },
   "outputs": [],
   "source": [
    "# Write the DataFrame out to a Delta table called country_people\n",
    "df.repartition(col(\"country\")).write.partitionBy(\"country\").format( \"delta\").saveAsTable(\"country_people\")\n"
   ]
  },
  {
   "cell_type": "code",
   "execution_count": null,
   "metadata": {
    "application/vnd.databricks.v1+cell": {
     "cellMetadata": {
      "byteLimit": 2048000,
      "implicitDf": true,
      "rowLimit": 10000
     },
     "inputWidgets": {},
     "nuid": "59c27a9e-9af7-4d3d-9225-90358bc55f06",
     "showTitle": false,
     "title": ""
    }
   },
   "outputs": [],
   "source": [
    "spark.sql(\"select * from default.country_people\").display()"
   ]
  },
  {
   "cell_type": "code",
   "execution_count": null,
   "metadata": {
    "application/vnd.databricks.v1+cell": {
     "cellMetadata": {
      "byteLimit": 2048000,
      "implicitDf": true,
      "rowLimit": 10000
     },
     "inputWidgets": {},
     "nuid": "08236425-2adc-4870-8ae7-a7dfadee6fc3",
     "showTitle": false,
     "title": ""
    }
   },
   "outputs": [],
   "source": [
    "%sql\n",
    "show tables"
   ]
  },
  {
   "cell_type": "code",
   "execution_count": null,
   "metadata": {
    "application/vnd.databricks.v1+cell": {
     "cellMetadata": {
      "byteLimit": 2048000,
      "implicitDf": true,
      "rowLimit": 10000
     },
     "inputWidgets": {},
     "nuid": "e7c14f30-8b2b-433f-a777-70db2ce46654",
     "showTitle": false,
     "title": ""
    }
   },
   "outputs": [],
   "source": [
    "%sql\n",
    "DESC EXTENDED country_people"
   ]
  },
  {
   "cell_type": "code",
   "execution_count": null,
   "metadata": {
    "application/vnd.databricks.v1+cell": {
     "cellMetadata": {
      "byteLimit": 2048000,
      "rowLimit": 10000
     },
     "inputWidgets": {},
     "nuid": "803ad719-33a5-4194-96cf-e6ff961df9e5",
     "showTitle": false,
     "title": ""
    }
   },
   "outputs": [],
   "source": [
    "%fs\n",
    "ls dbfs:/user/hive/warehouse/country_people"
   ]
  },
  {
   "cell_type": "code",
   "execution_count": null,
   "metadata": {
    "application/vnd.databricks.v1+cell": {
     "cellMetadata": {},
     "inputWidgets": {},
     "nuid": "0d2ef605-588d-4bb4-a280-e4f4475c5d0a",
     "showTitle": false,
     "title": ""
    }
   },
   "outputs": [],
   "source": [
    "# convert to delta sql command"
   ]
  },
  {
   "cell_type": "code",
   "execution_count": null,
   "metadata": {
    "application/vnd.databricks.v1+cell": {
     "cellMetadata": {
      "byteLimit": 2048000,
      "implicitDf": true,
      "rowLimit": 10000
     },
     "inputWidgets": {},
     "nuid": "cc0e3f75-3f7a-46d2-86cd-ad0095625241",
     "showTitle": false,
     "title": ""
    }
   },
   "outputs": [
    {
     "data": {
      "text/html": [
       "<style scoped>\n",
       "  .table-result-container {\n",
       "    max-height: 300px;\n",
       "    overflow: auto;\n",
       "  }\n",
       "  table, th, td {\n",
       "    border: 1px solid black;\n",
       "    border-collapse: collapse;\n",
       "  }\n",
       "  th, td {\n",
       "    padding: 5px;\n",
       "  }\n",
       "  th {\n",
       "    text-align: left;\n",
       "  }\n",
       "</style><div class='table-result-container'><table class='table-result'><thead style='background-color: white'><tr></tr></thead><tbody></tbody></table></div>"
      ]
     },
     "metadata": {
      "application/vnd.databricks.v1+output": {
       "addedWidgets": {},
       "aggData": [],
       "aggError": "",
       "aggOverflow": false,
       "aggSchema": [],
       "aggSeriesLimitReached": false,
       "aggType": "",
       "arguments": {},
       "columnCustomDisplayInfos": {},
       "data": [],
       "datasetInfos": [],
       "dbfsResultPath": null,
       "isJsonSchema": true,
       "metadata": {},
       "overflow": false,
       "plotOptions": {
        "customPlotOptions": {},
        "displayType": "table",
        "pivotAggregation": null,
        "pivotColumns": null,
        "xColumns": null,
        "yColumns": null
       },
       "removedWidgets": [],
       "schema": [],
       "type": "table"
      }
     },
     "output_type": "display_data"
    }
   ],
   "source": [
    "%sql\n",
    "CONVERT TO DELTA country_people"
   ]
  },
  {
   "cell_type": "code",
   "execution_count": null,
   "metadata": {
    "application/vnd.databricks.v1+cell": {
     "cellMetadata": {
      "byteLimit": 2048000,
      "rowLimit": 10000
     },
     "inputWidgets": {},
     "nuid": "64bedd00-4119-4135-aba1-ac5c5b47c175",
     "showTitle": false,
     "title": ""
    }
   },
   "outputs": [],
   "source": [
    "%fs\n",
    "ls dbfs:/user/hive/warehouse/country_people"
   ]
  },
  {
   "cell_type": "code",
   "execution_count": null,
   "metadata": {
    "application/vnd.databricks.v1+cell": {
     "cellMetadata": {
      "byteLimit": 2048000,
      "rowLimit": 10000
     },
     "inputWidgets": {},
     "nuid": "50ea0882-ec9a-4bf2-8541-75f80f8eed60",
     "showTitle": false,
     "title": ""
    }
   },
   "outputs": [],
   "source": [
    "%fs\n",
    "ls dbfs:/user/hive/warehouse/country_people/_delta_log/"
   ]
  }
 ],
 "metadata": {
  "application/vnd.databricks.v1+notebook": {
   "dashboards": [],
   "language": "python",
   "notebookMetadata": {
    "mostRecentlyExecutedCommandWithImplicitDF": {
     "commandId": 2800209148217147,
     "dataframes": [
      "_sqldf"
     ]
    },
    "pythonIndentUnit": 4
   },
   "notebookName": "dlt-Orders_order_items_04142024",
   "widgets": {}
  },
  "language_info": {
   "name": "python"
  }
 },
 "nbformat": 4,
 "nbformat_minor": 0
}
