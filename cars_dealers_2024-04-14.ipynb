{
 "cells": [
  {
   "cell_type": "markdown",
   "metadata": {
    "application/vnd.databricks.v1+cell": {
     "cellMetadata": {},
     "inputWidgets": {},
     "nuid": "ee9819f4-47f6-4057-8a8e-5ff7a6416945",
     "showTitle": false,
     "title": ""
    }
   },
   "source": [
    "##### Creating a folder called cars-demo"
   ]
  },
  {
   "cell_type": "code",
   "execution_count": 0,
   "metadata": {
    "application/vnd.databricks.v1+cell": {
     "cellMetadata": {},
     "inputWidgets": {},
     "nuid": "97b87d9a-4c0f-40d4-a43d-528afa247325",
     "showTitle": false,
     "title": ""
    }
   },
   "outputs": [],
   "source": [
    "%fs \n",
    "mkdirs cars-demo"
   ]
  },
  {
   "cell_type": "markdown",
   "metadata": {
    "application/vnd.databricks.v1+cell": {
     "cellMetadata": {},
     "inputWidgets": {},
     "nuid": "d4aafa9f-9706-4cb1-bd53-151d48b91248",
     "showTitle": false,
     "title": ""
    }
   },
   "source": [
    "##### Copying customers.csv to cars-demo"
   ]
  },
  {
   "cell_type": "code",
   "execution_count": 0,
   "metadata": {
    "application/vnd.databricks.v1+cell": {
     "cellMetadata": {},
     "inputWidgets": {},
     "nuid": "979173a4-70e9-47ac-a4dc-e88085502fc0",
     "showTitle": false,
     "title": ""
    }
   },
   "outputs": [],
   "source": [
    "%fs \n",
    "cp dbfs:/FileStore/customers.csv  dbfs:/cars-demo/ "
   ]
  },
  {
   "cell_type": "code",
   "execution_count": 0,
   "metadata": {
    "application/vnd.databricks.v1+cell": {
     "cellMetadata": {},
     "inputWidgets": {},
     "nuid": "389f33a6-27d7-4cf0-8ea8-0dce5d3e14ba",
     "showTitle": false,
     "title": ""
    }
   },
   "outputs": [],
   "source": [
    "%fs \n",
    "ls dbfs:/cars-demo/"
   ]
  },
  {
   "cell_type": "markdown",
   "metadata": {
    "application/vnd.databricks.v1+cell": {
     "cellMetadata": {},
     "inputWidgets": {},
     "nuid": "8dee6bb1-a5dc-4912-806f-2a15d8374168",
     "showTitle": false,
     "title": ""
    }
   },
   "source": [
    "##### Creating a schema called cars"
   ]
  },
  {
   "cell_type": "code",
   "execution_count": 0,
   "metadata": {
    "application/vnd.databricks.v1+cell": {
     "cellMetadata": {},
     "inputWidgets": {},
     "nuid": "6a84b0ae-7cc9-4f31-9bdd-bdd908b13c95",
     "showTitle": false,
     "title": ""
    }
   },
   "outputs": [],
   "source": [
    "%sql\n",
    "CREATE SCHEMA cars;"
   ]
  },
  {
   "cell_type": "markdown",
   "metadata": {
    "application/vnd.databricks.v1+cell": {
     "cellMetadata": {},
     "inputWidgets": {},
     "nuid": "e04236ca-f614-410e-bd81-4e5e21462d5e",
     "showTitle": false,
     "title": ""
    }
   },
   "source": [
    "##### Reading and displaying the file"
   ]
  },
  {
   "cell_type": "code",
   "execution_count": 0,
   "metadata": {
    "application/vnd.databricks.v1+cell": {
     "cellMetadata": {},
     "inputWidgets": {},
     "nuid": "e80451c0-550a-4a7c-bf6c-e7d52d98236c",
     "showTitle": false,
     "title": ""
    }
   },
   "outputs": [],
   "source": [
    "%python\n",
    "df = spark.read.csv('dbfs:/cars-demo/customers.csv', header='true')\n",
    "display(df)"
   ]
  },
  {
   "cell_type": "markdown",
   "metadata": {
    "application/vnd.databricks.v1+cell": {
     "cellMetadata": {},
     "inputWidgets": {},
     "nuid": "a1897042-fd3a-4cf2-a88d-49fbce217f58",
     "showTitle": false,
     "title": ""
    }
   },
   "source": [
    "##### Creating a TempView called cust"
   ]
  },
  {
   "cell_type": "code",
   "execution_count": 0,
   "metadata": {
    "application/vnd.databricks.v1+cell": {
     "cellMetadata": {},
     "inputWidgets": {},
     "nuid": "d6c6a5fa-e24c-4d88-8f89-6aa7f9bc8376",
     "showTitle": false,
     "title": ""
    }
   },
   "outputs": [],
   "source": [
    "%python\n",
    "df.createTempView(\"cust\")"
   ]
  },
  {
   "cell_type": "code",
   "execution_count": 0,
   "metadata": {
    "application/vnd.databricks.v1+cell": {
     "cellMetadata": {},
     "inputWidgets": {},
     "nuid": "15377f34-ed13-4362-8528-2967c0690b64",
     "showTitle": false,
     "title": ""
    }
   },
   "outputs": [],
   "source": [
    "%python\n",
    "df1 = spark.sql(\"\"\"select * from cust limit 2\"\"\")\n",
    "display(df1)"
   ]
  },
  {
   "cell_type": "markdown",
   "metadata": {
    "application/vnd.databricks.v1+cell": {
     "cellMetadata": {},
     "inputWidgets": {},
     "nuid": "a2ee8093-0397-4892-b11c-1d407f598c1a",
     "showTitle": false,
     "title": ""
    }
   },
   "source": [
    "##### Creating a table called employees"
   ]
  },
  {
   "cell_type": "code",
   "execution_count": 0,
   "metadata": {
    "application/vnd.databricks.v1+cell": {
     "cellMetadata": {},
     "inputWidgets": {},
     "nuid": "91ea1477-7b1f-4d6a-a104-e59eb1047961",
     "showTitle": false,
     "title": ""
    }
   },
   "outputs": [],
   "source": [
    "%sql\n",
    "USE SCHEMA cars;\n",
    "CREATE TABLE employees\n",
    "  USING csv\n",
    "  OPTIONS (path \"dbfs:/FileStore/employees.csv\", header \"true\")"
   ]
  },
  {
   "cell_type": "code",
   "execution_count": 0,
   "metadata": {
    "application/vnd.databricks.v1+cell": {
     "cellMetadata": {},
     "inputWidgets": {},
     "nuid": "5b174b13-19d0-494c-9e82-450631e12b26",
     "showTitle": false,
     "title": ""
    }
   },
   "outputs": [],
   "source": [
    "%python\n",
    "spark.table(\"employees\").show(2)"
   ]
  },
  {
   "cell_type": "markdown",
   "metadata": {
    "application/vnd.databricks.v1+cell": {
     "cellMetadata": {},
     "inputWidgets": {},
     "nuid": "af1172ea-ea17-415c-8084-7b9aa329e2e0",
     "showTitle": false,
     "title": ""
    }
   },
   "source": [
    "##### Creating a table named inventories"
   ]
  },
  {
   "cell_type": "code",
   "execution_count": 0,
   "metadata": {
    "application/vnd.databricks.v1+cell": {
     "cellMetadata": {},
     "inputWidgets": {},
     "nuid": "ab0971b7-8832-4ae7-98bc-b65f93fb073c",
     "showTitle": false,
     "title": ""
    }
   },
   "outputs": [],
   "source": [
    "%sql\n",
    "CREATE TABLE IF NOT EXISTS inventories\n",
    "  USING csv\n",
    "  OPTIONS (path \"dbfs:/FileStore/inventories.csv\", header \"true\")"
   ]
  },
  {
   "cell_type": "markdown",
   "metadata": {
    "application/vnd.databricks.v1+cell": {
     "cellMetadata": {},
     "inputWidgets": {},
     "nuid": "c0cf66b2-f96c-46e8-bcfd-65437af90e43",
     "showTitle": false,
     "title": ""
    }
   },
   "source": [
    "##### Creating table named sales"
   ]
  },
  {
   "cell_type": "code",
   "execution_count": 0,
   "metadata": {
    "application/vnd.databricks.v1+cell": {
     "cellMetadata": {},
     "inputWidgets": {},
     "nuid": "66f4be1a-bfd9-48ee-9538-0e63c14047b1",
     "showTitle": false,
     "title": ""
    }
   },
   "outputs": [],
   "source": [
    "%sql\n",
    "USE SCHEMA cars;\n",
    "CREATE TABLE IF NOT EXISTS sales\n",
    "  USING csv\n",
    "  OPTIONS (path \"dbfs:/FileStore/Sales.csv\", header \"true\")"
   ]
  },
  {
   "cell_type": "code",
   "execution_count": 0,
   "metadata": {
    "application/vnd.databricks.v1+cell": {
     "cellMetadata": {},
     "inputWidgets": {},
     "nuid": "97e0e424-7985-4ec4-9245-1bdc865f26d2",
     "showTitle": false,
     "title": ""
    }
   },
   "outputs": [],
   "source": [
    "%python\n",
    "spark.table(\"sales\").show(2)"
   ]
  },
  {
   "cell_type": "code",
   "execution_count": 0,
   "metadata": {
    "application/vnd.databricks.v1+cell": {
     "cellMetadata": {},
     "inputWidgets": {},
     "nuid": "e427f1ea-1fc6-4d52-87b4-2a254e23b014",
     "showTitle": false,
     "title": ""
    }
   },
   "outputs": [],
   "source": [
    "%sql\n",
    "SELECT * FROM employees\n",
    "LIMIT 2"
   ]
  },
  {
   "cell_type": "markdown",
   "metadata": {
    "application/vnd.databricks.v1+cell": {
     "cellMetadata": {},
     "inputWidgets": {},
     "nuid": "58b1919e-65be-45f9-a975-3444902f4633",
     "showTitle": false,
     "title": ""
    }
   },
   "source": [
    "##### Joining employees table to sales table"
   ]
  },
  {
   "cell_type": "code",
   "execution_count": 0,
   "metadata": {
    "application/vnd.databricks.v1+cell": {
     "cellMetadata": {},
     "inputWidgets": {},
     "nuid": "ce63223e-0f3d-49c7-ade8-59674f2a70ff",
     "showTitle": false,
     "title": ""
    }
   },
   "outputs": [],
   "source": [
    "%sql \n",
    "SELECT emp.employeeId, emp.firstName, emp.` lastName`, slts.` salesAmount`, slts.` soldDate` \n",
    "FROM employees as emp\n",
    "LEFT JOIN sales as slts\n",
    "ON emp.employeeId = slts.` employeeId`\n",
    "LIMIT 2"
   ]
  }
 ],
 "metadata": {
  "application/vnd.databricks.v1+notebook": {
   "dashboards": [],
   "language": "python",
   "notebookMetadata": {
    "pythonIndentUnit": 2
   },
   "notebookName": "cars_dealers_2024-04-14",
   "widgets": {}
  }
 },
 "nbformat": 4,
 "nbformat_minor": 0
}
