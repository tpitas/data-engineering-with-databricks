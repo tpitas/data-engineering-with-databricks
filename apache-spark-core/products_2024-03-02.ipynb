{
 "cells": [
  {
   "cell_type": "markdown",
   "metadata": {
    "application/vnd.databricks.v1+cell": {
     "cellMetadata": {
      "byteLimit": 2048000,
      "rowLimit": 10000
     },
     "inputWidgets": {},
     "nuid": "afac8c76-a7e8-498a-b805-64b437b31096",
     "showTitle": false,
     "title": ""
    }
   },
   "source": [
    "#### Databricks Notebook source\n",
    "##### We use Databricks community edition from https://community.cloud.databricks.com/login.html"
   ]
  },
  {
   "cell_type": "markdown",
   "metadata": {
    "application/vnd.databricks.v1+cell": {
     "cellMetadata": {
      "byteLimit": 2048000,
      "rowLimit": 10000
     },
     "inputWidgets": {},
     "nuid": "4adcff14-d101-402c-848e-78354669e3cf",
     "showTitle": false,
     "title": ""
    }
   },
   "source": [
    "##### Listing files"
   ]
  },
  {
   "cell_type": "code",
   "execution_count": null,
   "metadata": {
    "application/vnd.databricks.v1+cell": {
     "cellMetadata": {
      "byteLimit": 2048000,
      "rowLimit": 10000
     },
     "inputWidgets": {},
     "nuid": "290ca6b8-805d-472a-9084-d6ea3fd3af65",
     "showTitle": false,
     "title": ""
    }
   },
   "outputs": [
    {
     "data": {
      "text/html": [
       "<style scoped>\n",
       "  .table-result-container {\n",
       "    max-height: 300px;\n",
       "    overflow: auto;\n",
       "  }\n",
       "  table, th, td {\n",
       "    border: 1px solid black;\n",
       "    border-collapse: collapse;\n",
       "  }\n",
       "  th, td {\n",
       "    padding: 5px;\n",
       "  }\n",
       "  th {\n",
       "    text-align: left;\n",
       "  }\n",
       "</style><div class='table-result-container'><table class='table-result'><thead style='background-color: white'><tr><th>path</th><th>name</th><th>size</th><th>modificationTime</th></tr></thead><tbody><tr><td>dbfs:/FileStore/Linux_Projects.txt</td><td>Linux_Projects.txt</td><td>1311</td><td>1709237028000</td></tr><tr><td>dbfs:/FileStore/import-stage/</td><td>import-stage/</td><td>0</td><td>0</td></tr><tr><td>dbfs:/FileStore/penguin.csv</td><td>penguin.csv</td><td>9876</td><td>1709401238000</td></tr><tr><td>dbfs:/FileStore/plots/</td><td>plots/</td><td>0</td><td>0</td></tr><tr><td>dbfs:/FileStore/products.csv</td><td>products.csv</td><td>14667</td><td>1709407892000</td></tr><tr><td>dbfs:/FileStore/shared_uploads/</td><td>shared_uploads/</td><td>0</td><td>0</td></tr><tr><td>dbfs:/FileStore/tables/</td><td>tables/</td><td>0</td><td>0</td></tr></tbody></table></div>"
      ]
     },
     "metadata": {
      "application/vnd.databricks.v1+output": {
       "addedWidgets": {},
       "aggData": [],
       "aggError": "",
       "aggOverflow": false,
       "aggSchema": [],
       "aggSeriesLimitReached": false,
       "aggType": "",
       "arguments": {},
       "columnCustomDisplayInfos": {},
       "data": [
        [
         "dbfs:/FileStore/Linux_Projects.txt",
         "Linux_Projects.txt",
         1311,
         1709237028000
        ],
        [
         "dbfs:/FileStore/import-stage/",
         "import-stage/",
         0,
         0
        ],
        [
         "dbfs:/FileStore/penguin.csv",
         "penguin.csv",
         9876,
         1709401238000
        ],
        [
         "dbfs:/FileStore/plots/",
         "plots/",
         0,
         0
        ],
        [
         "dbfs:/FileStore/products.csv",
         "products.csv",
         14667,
         1709407892000
        ],
        [
         "dbfs:/FileStore/shared_uploads/",
         "shared_uploads/",
         0,
         0
        ],
        [
         "dbfs:/FileStore/tables/",
         "tables/",
         0,
         0
        ]
       ],
       "datasetInfos": [],
       "dbfsResultPath": null,
       "isJsonSchema": true,
       "metadata": {
        "isDbfsCommandResult": false
       },
       "overflow": false,
       "plotOptions": {
        "customPlotOptions": {},
        "displayType": "table",
        "pivotAggregation": null,
        "pivotColumns": null,
        "xColumns": null,
        "yColumns": null
       },
       "removedWidgets": [],
       "schema": [
        {
         "metadata": "{}",
         "name": "path",
         "type": "\"string\""
        },
        {
         "metadata": "{}",
         "name": "name",
         "type": "\"string\""
        },
        {
         "metadata": "{}",
         "name": "size",
         "type": "\"long\""
        },
        {
         "metadata": "{}",
         "name": "modificationTime",
         "type": "\"long\""
        }
       ],
       "type": "table"
      }
     },
     "output_type": "display_data"
    }
   ],
   "source": [
    "%fs ls dbfs:/FileStore/"
   ]
  },
  {
   "cell_type": "markdown",
   "metadata": {
    "application/vnd.databricks.v1+cell": {
     "cellMetadata": {
      "byteLimit": 2048000,
      "rowLimit": 10000
     },
     "inputWidgets": {},
     "nuid": "52c101e2-f279-4e75-a1bd-0df4126b7464",
     "showTitle": false,
     "title": ""
    }
   },
   "source": [
    "##### Copying files from FileStore to /mnt/test-0224"
   ]
  },
  {
   "cell_type": "code",
   "execution_count": null,
   "metadata": {
    "application/vnd.databricks.v1+cell": {
     "cellMetadata": {
      "byteLimit": 2048000,
      "rowLimit": 10000
     },
     "inputWidgets": {},
     "nuid": "f0a9da83-5036-4fca-9609-0bd019628cb1",
     "showTitle": false,
     "title": ""
    }
   },
   "outputs": [
    {
     "data": {
      "text/html": [
       "<style scoped>\n",
       "  .ansiout {\n",
       "    display: block;\n",
       "    unicode-bidi: embed;\n",
       "    white-space: pre-wrap;\n",
       "    word-wrap: break-word;\n",
       "    word-break: break-all;\n",
       "    font-family: \"Menlo\", \"Monaco\", \"Consolas\", \"Ubuntu Mono\", \"Source Code Pro\", monospace;\n",
       "    font-size: 13px;\n",
       "    color: #555;\n",
       "    margin-left: 4px;\n",
       "    line-height: 19px;\n",
       "  }\n",
       "</style>\n",
       "<div class=\"ansiout\">res1: Boolean = true\n",
       "</div>"
      ]
     },
     "metadata": {
      "application/vnd.databricks.v1+output": {
       "addedWidgets": {},
       "arguments": {},
       "data": "<div class=\"ansiout\">res1: Boolean = true\n</div>",
       "datasetInfos": [],
       "metadata": {
        "isDbfsCommandResult": false
       },
       "removedWidgets": [],
       "type": "html"
      }
     },
     "output_type": "display_data"
    }
   ],
   "source": [
    "%fs cp dbfs:/FileStore/products.csv  dbfs:/mnt/test-0224/"
   ]
  },
  {
   "cell_type": "code",
   "execution_count": null,
   "metadata": {
    "application/vnd.databricks.v1+cell": {
     "cellMetadata": {
      "byteLimit": 2048000,
      "rowLimit": 10000
     },
     "inputWidgets": {},
     "nuid": "178aaae7-0202-4709-b324-77d7ad7b41d6",
     "showTitle": false,
     "title": ""
    }
   },
   "outputs": [
    {
     "data": {
      "text/html": [
       "<style scoped>\n",
       "  .table-result-container {\n",
       "    max-height: 300px;\n",
       "    overflow: auto;\n",
       "  }\n",
       "  table, th, td {\n",
       "    border: 1px solid black;\n",
       "    border-collapse: collapse;\n",
       "  }\n",
       "  th, td {\n",
       "    padding: 5px;\n",
       "  }\n",
       "  th {\n",
       "    text-align: left;\n",
       "  }\n",
       "</style><div class='table-result-container'><table class='table-result'><thead style='background-color: white'><tr><th>path</th><th>name</th><th>size</th><th>modificationTime</th></tr></thead><tbody><tr><td>dbfs:/mnt/test-0224/penguin.csv</td><td>penguin.csv</td><td>9876</td><td>1709401877000</td></tr><tr><td>dbfs:/mnt/test-0224/products.csv</td><td>products.csv</td><td>14667</td><td>1709424324000</td></tr></tbody></table></div>"
      ]
     },
     "metadata": {
      "application/vnd.databricks.v1+output": {
       "addedWidgets": {},
       "aggData": [],
       "aggError": "",
       "aggOverflow": false,
       "aggSchema": [],
       "aggSeriesLimitReached": false,
       "aggType": "",
       "arguments": {},
       "columnCustomDisplayInfos": {},
       "data": [
        [
         "dbfs:/mnt/test-0224/penguin.csv",
         "penguin.csv",
         9876,
         1709401877000
        ],
        [
         "dbfs:/mnt/test-0224/products.csv",
         "products.csv",
         14667,
         1709424324000
        ]
       ],
       "datasetInfos": [],
       "dbfsResultPath": null,
       "isJsonSchema": true,
       "metadata": {
        "isDbfsCommandResult": false
       },
       "overflow": false,
       "plotOptions": {
        "customPlotOptions": {},
        "displayType": "table",
        "pivotAggregation": null,
        "pivotColumns": null,
        "xColumns": null,
        "yColumns": null
       },
       "removedWidgets": [],
       "schema": [
        {
         "metadata": "{}",
         "name": "path",
         "type": "\"string\""
        },
        {
         "metadata": "{}",
         "name": "name",
         "type": "\"string\""
        },
        {
         "metadata": "{}",
         "name": "size",
         "type": "\"long\""
        },
        {
         "metadata": "{}",
         "name": "modificationTime",
         "type": "\"long\""
        }
       ],
       "type": "table"
      }
     },
     "output_type": "display_data"
    }
   ],
   "source": [
    "%fs ls dbfs:/mnt/test-0224/"
   ]
  },
  {
   "cell_type": "code",
   "execution_count": null,
   "metadata": {
    "application/vnd.databricks.v1+cell": {
     "cellMetadata": {
      "byteLimit": 2048000,
      "rowLimit": 10000
     },
     "inputWidgets": {},
     "nuid": "d37723c8-369f-4f89-917b-3b00981d06eb",
     "showTitle": false,
     "title": ""
    }
   },
   "outputs": [],
   "source": [
    "datasets_dir = \"dbfs:/mnt/test-0224/\""
   ]
  },
  {
   "cell_type": "markdown",
   "metadata": {
    "application/vnd.databricks.v1+cell": {
     "cellMetadata": {
      "byteLimit": 2048000,
      "rowLimit": 10000
     },
     "inputWidgets": {},
     "nuid": "b1773d50-650b-4418-8090-90d47d62eb12",
     "showTitle": false,
     "title": ""
    }
   },
   "source": [
    "##### List the header"
   ]
  },
  {
   "cell_type": "code",
   "execution_count": null,
   "metadata": {
    "application/vnd.databricks.v1+cell": {
     "cellMetadata": {
      "byteLimit": 2048000,
      "rowLimit": 10000
     },
     "inputWidgets": {},
     "nuid": "281d05ac-6a52-49cc-97c2-cb8b0cdd4ee7",
     "showTitle": false,
     "title": ""
    }
   },
   "outputs": [
    {
     "name": "stdout",
     "output_type": "stream",
     "text": [
      "ProductID,ProductName,Category,ListPrice\r\n",
      "771,\"Mountain-100 Silver, 38\",Mountain Bikes,3399.9900\r\n",
      "772,\"Mountain-100 Silver, 42\",Mountain Bikes,3399.9900\r\n",
      "773,\"Mountain-100 Silver, 44\",Mountain Bikes,3399.9900\r\n",
      "774,\"Mountain-100 Silver, 48\",Mountain Bikes,3399.9900\r\n",
      "775,\"Mountain-100 Black, 38\",Mountain Bikes,3374.9900\r\n",
      "776,\"Mountain-100 Black, 42\",Mountain Bikes,3374.9900\r\n",
      "777,\"Mountain-100 Black, 44\",Mountain Bikes,3374.9900\r\n",
      "778,\"Mountain-100 Black, 48\",Mountain Bikes,3374.9900\r\n",
      "779,\"Mountain-200 Silver, 38\",Mountain Bikes,2319.9900\r\n",
      "780,\"Mountain-200 Silver, 42\",Mountain Bikes,2319.9900\r\n",
      "781,\"Mountain-200 Silver, 46\",Mountain Bikes,2319.9900\r\n",
      "782,\"Mountain-200 Black, 38\",Mountain Bikes,2294.9900\r\n",
      "783,\"Mountain-200 Black, 42\",Mountain Bikes,2294.9900\r\n",
      "784,\"Mountain-200 Black, 46\",Mountain Bikes,2294.9900\r\n",
      "785,\"Mountain-300 Black, 38\",Mountain Bikes,1079.9900\r\n",
      "786,\"Mountain-300 Black, 40\",Mountain Bikes,1079.9900\r\n",
      "787,\"Mountain-300 Black, 44\",Mountain Bikes,1079.9900\r\n",
      "788,\"Mountain-300 Black, 48\",Mountain Bikes,1079.9900\r\n",
      "980,\"Mountain-400-W Silver, 38\",Mountain Bikes,769.4900\r\n",
      "981,\"Mountain-400-W Silver, 40\",Mountain Bikes,769.4900\r\n",
      "982,\"Mountain-400-W Silver, 42\",Mountain Bikes,769.4900\r\n",
      "983,\"Mountain-400-W Silver, 46\",Mountain Bikes,769.4900\r\n",
      "984,\"Mountain-500 Silver, 40\",Mountain Bikes,564.9900\r\n",
      "985,\"Mountain-500 Silver, 42\",Mountain Bikes,564.9900\r\n",
      "986,\"Mountain-500 Silver, 44\",Mountain Bikes,564.9900\r\n",
      "987,\"Mountain-500 Silver, 48\",Mountain Bikes,564.9900\r\n",
      "988,\"Mountain-500 Silver, 52\",Mountain Bikes,564.9900\r\n",
      "989,\"Mountain-500 Black, 40\",Mountain Bikes,539.9900\r\n",
      "990,\"Mountain-500 Black, 42\",Mountain Bikes,539.9900\r\n",
      "991,\"Mountain-500 Black, 44\",Mountain Bikes,539.9900\r\n",
      "992,\"Mountain-500 Black, 48\",Mountain Bikes,539.9900\r\n",
      "993,\"Mountain-500 Black, 52\",Mountain Bikes,539.9900\r\n",
      "973,\"Road-350-W Yellow, 40\",Road Bikes,1700.9900\r\n",
      "974,\"Road-350-W Yellow, 42\",Road Bikes,1700.9900\r\n",
      "975,\"Road-350-W Yellow, 44\",Road Bikes,1700.9900\r\n",
      "976,\"Road-350-W Yellow, 48\",Road Bikes,1700.9900\r\n",
      "977,\"Road-750 Black, 58\",Road Bikes,539.9900\r\n",
      "997,\"Road-750 Black, 44\",Road Bikes,539.9900\r\n",
      "998,\"Road-750 Black, 48\",Road Bikes,539.9900\r\n",
      "999,\"Road-750 Black, 52\",Road Bikes,539.9900\r\n",
      "789,\"Road-250 Red, 44\",Road Bikes,2443.3500\r\n",
      "790,\"Road-250 Red, 48\",Road Bikes,2443.3500\r\n",
      "791,\"Road-250 Red, 52\",Road Bikes,2443.3500\r\n",
      "792,\"Road-250 Red, 58\",Road Bikes,2443.3500\r\n",
      "793,\"Road-250 Black, 44\",Road Bikes,2443.3500\r\n",
      "794,\"Road-250 Black, 48\",Road Bikes,2443.3500\r\n",
      "795,\"Road-250 Black, 52\",Road Bikes,2443.3500\r\n",
      "796,\"Road-250 Black, 58\",Road Bikes,2443.3500\r\n",
      "797,\"Road-550-W Yellow, 38\",Road Bikes,1120.4900\r\n",
      "798,\"Road-550-W Yellow, 40\",Road Bikes,1120.4900\r\n",
      "799,\"Road-550-W Yellow, 42\",Road Bikes,1120.4900\r\n",
      "800,\"Road-550-W Yellow, 44\",Road Bikes,1120.4900\r\n",
      "801,\"Road-550-W Yellow, 48\",Road Bikes,1120.4900\r\n",
      "749,\"Road-150 Red, 62\",Road Bikes,3578.2700\r\n",
      "750,\"Road-150 Red, 44\",Road Bikes,3578.2700\r\n",
      "751,\"Road-150 Red, 48\",Road Bikes,3578.2700\r\n",
      "752,\"Road-150 Red, 52\",Road Bikes,3578.2700\r\n",
      "753,\"Road-150 Red, 56\",Road Bikes,3578.2700\r\n",
      "754,\"Road-450 Red, 58\",Road Bikes,1457.9900\r\n",
      "755,\"Road-450 Red, 60\",Road Bikes,1457.9900\r\n",
      "756,\"Road-450 Red, 44\",Road Bikes,1457.9900\r\n",
      "757,\"Road-450 Red, 48\",Road Bikes,1457.9900\r\n",
      "758,\"Road-450 Red, 52\",Road Bikes,1457.9900\r\n",
      "759,\"Road-650 Red, 58\",Road Bikes,782.9900\r\n",
      "760,\"Road-650 Red, 60\",Road Bikes,782.9900\r\n",
      "761,\"Road-650 Red, 62\",Road Bikes,782.9900\r\n",
      "762,\"Road-650 Red, 44\",Road Bikes,782.9900\r\n",
      "763,\"Road-650 Red, 48\",Road Bikes,782.9900\r\n",
      "764,\"Road-650 Red, 52\",Road Bikes,782.9900\r\n",
      "765,\"Road-650 Black, 58\",Road Bikes,782.9900\r\n",
      "766,\"Road-650 Black, 60\",Road Bikes,782.9900\r\n",
      "767,\"Road-650 Black, 62\",Road Bikes,782.9900\r\n",
      "768,\"Road-650 Black, 44\",Road Bikes,782.9900\r\n",
      "769,\"Road-650 Black, 48\",Road Bikes,782.9900\r\n",
      "770,\"Road-650 Black, 52\",Road Bikes,782.9900\r\n",
      "978,\"Touring-3000 Blue, 44\",Touring Bikes,742.3500\r\n",
      "979,\"Touring-3000 Blue, 50\",Touring Bikes,742.3500\r\n",
      "953,\"Touring-2000 Blue, 60\",Touring Bikes,1214.8500\r\n",
      "954,\"Touring-1000 Yellow, 46\",Touring Bikes,2384.0700\r\n",
      "955,\"Touring-1000 Yellow, 50\",Touring Bikes,2384.0700\r\n",
      "956,\"Touring-1000 Yellow, 54\",Touring Bikes,2384.0700\r\n",
      "957,\"Touring-1000 Yellow, 60\",Touring Bikes,2384.0700\r\n",
      "958,\"Touring-3000 Blue, 54\",Touring Bikes,742.3500\r\n",
      "959,\"Touring-3000 Blue, 58\",Touring Bikes,742.3500\r\n",
      "960,\"Touring-3000 Blue, 62\",Touring Bikes,742.3500\r\n",
      "961,\"Touring-3000 Yellow, 44\",Touring Bikes,742.3500\r\n",
      "962,\"Touring-3000 Yellow, 50\",Touring Bikes,742.3500\r\n",
      "963,\"Touring-3000 Yellow, 54\",Touring Bikes,742.3500\r\n",
      "964,\"Touring-3000 Yellow, 58\",Touring Bikes,742.3500\r\n",
      "965,\"Touring-3000 Yellow, 62\",Touring Bikes,742.3500\r\n",
      "966,\"Touring-1000 Blue, 46\",Touring Bikes,2384.0700\r\n",
      "967,\"Touring-1000 Blue, 50\",Touring Bikes,2384.0700\r\n",
      "968,\"Touring-1000 Blue, 54\",Touring Bikes,2384.0700\r\n",
      "969,\"Touring-1000 Blue, 60\",Touring Bikes,2384.0700\r\n",
      "970,\"Touring-2000 Blue, 46\",Touring Bikes,1214.8500\r\n",
      "971,\"Touring-2000 Blue, 50\",Touring Bikes,1214.8500\r\n",
      "972,\"Touring-2000 Blue, 54\",Touring Bikes,1214.8500\r\n",
      "946,LL Touring Handlebars,Handlebars,46.0900\r\n",
      "947,HL Touring Handlebars,Handlebars,91.5700\r\n",
      "808,LL Mountain Handlebars,Handlebars,44.5400\r\n",
      "809,ML Mountain Handlebars,Handlebars,61.9200\r\n",
      "810,HL Mountain Handlebars,Handlebars,120.2700\r\n",
      "811,LL Road Handlebars,Handlebars,44.5400\r\n",
      "812,ML Road Handlebars,Handlebars,61.9200\r\n",
      "813,HL Road Handlebars,Handlebars,120.2700\r\n",
      "994,LL Bottom Bracket,Bottom Brackets,53.9900\r\n",
      "995,ML Bottom Bracket,Bottom Brackets,101.2400\r\n",
      "996,HL Bottom Bracket,Bottom Brackets,121.4900\r\n",
      "948,Front Brakes,Brakes,106.5000\r\n",
      "907,Rear Brakes,Brakes,106.5000\r\n",
      "952,Chain,Chains,20.2400\r\n",
      "949,LL Crankset,Cranksets,175.4900\r\n",
      "950,ML Crankset,Cranksets,256.4900\r\n",
      "951,HL Crankset,Cranksets,404.9900\r\n",
      "945,Front Derailleur,Derailleurs,91.4900\r\n",
      "894,Rear Derailleur,Derailleurs,121.4600\r\n",
      "802,LL Fork,Forks,148.2200\r\n",
      "803,ML Fork,Forks,175.4900\r\n",
      "804,HL Fork,Forks,229.4900\r\n",
      "805,LL Headset,Headsets,34.2000\r\n",
      "806,ML Headset,Headsets,102.2900\r\n",
      "807,HL Headset,Headsets,124.7300\r\n",
      "739,\"HL Mountain Frame - Silver, 42\",Mountain Frames,1364.5000\r\n",
      "740,\"HL Mountain Frame - Silver, 44\",Mountain Frames,1364.5000\r\n",
      "741,\"HL Mountain Frame - Silver, 48\",Mountain Frames,1364.5000\r\n",
      "742,\"HL Mountain Frame - Silver, 46\",Mountain Frames,1364.5000\r\n",
      "743,\"HL Mountain Frame - Black, 42\",Mountain Frames,1349.6000\r\n",
      "744,\"HL Mountain Frame - Black, 44\",Mountain Frames,1349.6000\r\n",
      "745,\"HL Mountain Frame - Black, 48\",Mountain Frames,1349.6000\r\n",
      "746,\"HL Mountain Frame - Black, 46\",Mountain Frames,1349.6000\r\n",
      "747,\"HL Mountain Frame - Black, 38\",Mountain Frames,1349.6000\r\n",
      "748,\"HL Mountain Frame - Silver, 38\",Mountain Frames,1364.5000\r\n",
      "814,\"ML Mountain Frame - Black, 38\",Mountain Frames,348.7600\r\n",
      "830,\"ML Mountain Frame - Black, 40\",Mountain Frames,348.7600\r\n",
      "831,\"ML Mountain Frame - Black, 44\",Mountain Frames,348.7600\r\n",
      "832,\"ML Mountain Frame - Black, 48\",Mountain Frames,348.7600\r\n",
      "924,\"LL Mountain Frame - Black, 42\",Mountain Frames,249.7900\r\n",
      "925,\"LL Mountain Frame - Black, 44\",Mountain Frames,249.7900\r\n",
      "926,\"LL Mountain Frame - Black, 48\",Mountain Frames,249.7900\r\n",
      "927,\"LL Mountain Frame - Black, 52\",Mountain Frames,249.7900\r\n",
      "917,\"LL Mountain Frame - Silver, 42\",Mountain Frames,264.0500\r\n",
      "918,\"LL Mountain Frame - Silver, 44\",Mountain Frames,264.0500\r\n",
      "919,\"LL Mountain Frame - Silver, 48\",Mountain Frames,264.0500\r\n",
      "920,\"LL Mountain Frame - Silver, 52\",Mountain Frames,264.0500\r\n",
      "904,\"ML Mountain Frame-W - Silver, 40\",Mountain Frames,364.0900\r\n",
      "905,\"ML Mountain Frame-W - Silver, 42\",Mountain Frames,364.0900\r\n",
      "906,\"ML Mountain Frame-W - Silver, 46\",Mountain Frames,364.0900\r\n",
      "942,\"ML Mountain Frame-W - Silver, 38\",Mountain Frames,364.0900\r\n",
      "943,\"LL Mountain Frame - Black, 40\",Mountain Frames,249.7900\r\n",
      "944,\"LL Mountain Frame - Silver, 40\",Mountain Frames,264.0500\r\n",
      "935,LL Mountain Pedal,Pedals,40.4900\r\n",
      "936,ML Mountain Pedal,Pedals,62.0900\r\n",
      "937,HL Mountain Pedal,Pedals,80.9900\r\n",
      "938,LL Road Pedal,Pedals,40.4900\r\n",
      "939,ML Road Pedal,Pedals,62.0900\r\n",
      "940,HL Road Pedal,Pedals,80.9900\r\n",
      "941,Touring Pedal,Pedals,80.9900\r\n",
      "833,\"ML Road Frame-W - Yellow, 40\",Road Frames,594.8300\r\n",
      "834,\"ML Road Frame-W - Yellow, 42\",Road Frames,594.8300\r\n",
      "835,\"ML Road Frame-W - Yellow, 44\",Road Frames,594.8300\r\n",
      "836,\"ML Road Frame-W - Yellow, 48\",Road Frames,594.8300\r\n",
      "837,\"HL Road Frame - Black, 62\",Road Frames,1431.5000\r\n",
      "838,\"HL Road Frame - Black, 44\",Road Frames,1431.5000\r\n",
      "839,\"HL Road Frame - Black, 48\",Road Frames,1431.5000\r\n",
      "840,\"HL Road Frame - Black, 52\",Road Frames,1431.5000\r\n",
      "822,\"ML Road Frame-W - Yellow, 38\",Road Frames,594.8300\r\n",
      "680,\"HL Road Frame - Black, 58\",Road Frames,1431.5000\r\n",
      "706,\"HL Road Frame - Red, 58\",Road Frames,1431.5000\r\n",
      "717,\"HL Road Frame - Red, 62\",Road Frames,1431.5000\r\n",
      "718,\"HL Road Frame - Red, 44\",Road Frames,1431.5000\r\n",
      "719,\"HL Road Frame - Red, 48\",Road Frames,1431.5000\r\n",
      "720,\"HL Road Frame - Red, 52\",Road Frames,1431.5000\r\n",
      "721,\"HL Road Frame - Red, 56\",Road Frames,1431.5000\r\n",
      "722,\"LL Road Frame - Black, 58\",Road Frames,337.2200\r\n",
      "723,\"LL Road Frame - Black, 60\",Road Frames,337.2200\r\n",
      "724,\"LL Road Frame - Black, 62\",Road Frames,337.2200\r\n",
      "725,\"LL Road Frame - Red, 44\",Road Frames,337.2200\r\n",
      "726,\"LL Road Frame - Red, 48\",Road Frames,337.2200\r\n",
      "727,\"LL Road Frame - Red, 52\",Road Frames,337.2200\r\n",
      "728,\"LL Road Frame - Red, 58\",Road Frames,337.2200\r\n",
      "729,\"LL Road Frame - Red, 60\",Road Frames,337.2200\r\n",
      "730,\"LL Road Frame - Red, 62\",Road Frames,337.2200\r\n",
      "731,\"ML Road Frame - Red, 44\",Road Frames,594.8300\r\n",
      "732,\"ML Road Frame - Red, 48\",Road Frames,594.8300\r\n",
      "733,\"ML Road Frame - Red, 52\",Road Frames,594.8300\r\n",
      "734,\"ML Road Frame - Red, 58\",Road Frames,594.8300\r\n",
      "735,\"ML Road Frame - Red, 60\",Road Frames,594.8300\r\n",
      "736,\"LL Road Frame - Black, 44\",Road Frames,337.2200\r\n",
      "737,\"LL Road Frame - Black, 48\",Road Frames,337.2200\r\n",
      "738,\"LL Road Frame - Black, 52\",Road Frames,337.2200\r\n",
      "908,LL Mountain Seat/Saddle,Saddles,27.1200\r\n",
      "909,ML Mountain Seat/Saddle,Saddles,39.1400\r\n",
      "910,HL Mountain Seat/Saddle,Saddles,52.6400\r\n",
      "911,LL Road Seat/Saddle,Saddles,27.1200\r\n",
      "912,ML Road Seat/Saddle,Saddles,39.1400\r\n",
      "913,HL Road Seat/Saddle,Saddles,52.6400\r\n",
      "914,LL Touring Seat/Saddle,Saddles,27.1200\r\n",
      "915,ML Touring Seat/Saddle,Saddles,39.1400\r\n",
      "916,HL Touring Seat/Saddle,Saddles,52.6400\r\n",
      "895,\"LL Touring Frame - Blue, 50\",Touring Frames,333.4200\r\n",
      "896,\"LL Touring Frame - Blue, 54\",Touring Frames,333.4200\r\n",
      "897,\"LL Touring Frame - Blue, 58\",Touring Frames,333.4200\r\n",
      "898,\"LL Touring Frame - Blue, 62\",Touring Frames,333.4200\r\n",
      "899,\"LL Touring Frame - Yellow, 44\",Touring Frames,333.4200\r\n",
      "900,\"LL Touring Frame - Yellow, 50\",Touring Frames,333.4200\r\n",
      "901,\"LL Touring Frame - Yellow, 54\",Touring Frames,333.4200\r\n",
      "902,\"LL Touring Frame - Yellow, 58\",Touring Frames,333.4200\r\n",
      "903,\"LL Touring Frame - Blue, 44\",Touring Frames,333.4200\r\n",
      "885,\"HL Touring Frame - Yellow, 60\",Touring Frames,1003.9100\r\n",
      "886,\"LL Touring Frame - Yellow, 62\",Touring Frames,333.4200\r\n",
      "887,\"HL Touring Frame - Yellow, 46\",Touring Frames,1003.9100\r\n",
      "888,\"HL Touring Frame - Yellow, 50\",Touring Frames,1003.9100\r\n",
      "889,\"HL Touring Frame - Yellow, 54\",Touring Frames,1003.9100\r\n",
      "890,\"HL Touring Frame - Blue, 46\",Touring Frames,1003.9100\r\n",
      "891,\"HL Touring Frame - Blue, 50\",Touring Frames,1003.9100\r\n",
      "892,\"HL Touring Frame - Blue, 54\",Touring Frames,1003.9100\r\n",
      "893,\"HL Touring Frame - Blue, 60\",Touring Frames,1003.9100\r\n",
      "823,LL Mountain Rear Wheel,Wheels,87.7450\r\n",
      "824,ML Mountain Rear Wheel,Wheels,236.0250\r\n",
      "825,HL Mountain Rear Wheel,Wheels,327.2150\r\n",
      "826,LL Road Rear Wheel,Wheels,112.5650\r\n",
      "827,ML Road Rear Wheel,Wheels,275.3850\r\n",
      "828,HL Road Rear Wheel,Wheels,357.0600\r\n",
      "829,Touring Rear Wheel,Wheels,245.0100\r\n",
      "815,LL Mountain Front Wheel,Wheels,60.7450\r\n",
      "816,ML Mountain Front Wheel,Wheels,209.0250\r\n",
      "817,HL Mountain Front Wheel,Wheels,300.2150\r\n",
      "818,LL Road Front Wheel,Wheels,85.5650\r\n",
      "819,ML Road Front Wheel,Wheels,248.3850\r\n",
      "820,HL Road Front Wheel,Wheels,330.0600\r\n",
      "821,Touring Front Wheel,Wheels,218.0100\r\n",
      "855,\"Men's Bib-Shorts, S\",Bib-Shorts,89.9900\r\n",
      "856,\"Men's Bib-Shorts, M\",Bib-Shorts,89.9900\r\n",
      "857,\"Men's Bib-Shorts, L\",Bib-Shorts,89.9900\r\n",
      "712,AWC Logo Cap,Caps,8.9900\r\n",
      "858,\"Half-Finger Gloves, S\",Gloves,24.4900\r\n",
      "859,\"Half-Finger Gloves, M\",Gloves,24.4900\r\n",
      "860,\"Half-Finger Gloves, L\",Gloves,24.4900\r\n",
      "861,\"Full-Finger Gloves, S\",Gloves,37.9900\r\n",
      "862,\"Full-Finger Gloves, M\",Gloves,37.9900\r\n",
      "863,\"Full-Finger Gloves, L\",Gloves,37.9900\r\n",
      "713,\"Long-Sleeve Logo Jersey, S\",Jerseys,49.9900\r\n",
      "714,\"Long-Sleeve Logo Jersey, M\",Jerseys,49.9900\r\n",
      "715,\"Long-Sleeve Logo Jersey, L\",Jerseys,49.9900\r\n",
      "716,\"Long-Sleeve Logo Jersey, XL\",Jerseys,49.9900\r\n",
      "881,\"Short-Sleeve Classic Jersey, S\",Jerseys,53.9900\r\n",
      "882,\"Short-Sleeve Classic Jersey, M\",Jerseys,53.9900\r\n",
      "883,\"Short-Sleeve Classic Jersey, L\",Jerseys,53.9900\r\n",
      "884,\"Short-Sleeve Classic Jersey, XL\",Jerseys,53.9900\r\n",
      "867,\"Women's Mountain Shorts, S\",Shorts,69.9900\r\n",
      "868,\"Women's Mountain Shorts, M\",Shorts,69.9900\r\n",
      "869,\"Women's Mountain Shorts, L\",Shorts,69.9900\r\n",
      "841,\"Men's Sports Shorts, S\",Shorts,59.9900\r\n",
      "849,\"Men's Sports Shorts, M\",Shorts,59.9900\r\n",
      "850,\"Men's Sports Shorts, L\",Shorts,59.9900\r\n",
      "851,\"Men's Sports Shorts, XL\",Shorts,59.9900\r\n",
      "709,\"Mountain Bike Socks, M\",Socks,9.5000\r\n",
      "710,\"Mountain Bike Socks, L\",Socks,9.5000\r\n",
      "874,\"Racing Socks, M\",Socks,8.9900\r\n",
      "875,\"Racing Socks, L\",Socks,8.9900\r\n",
      "852,\"Women's Tights, S\",Tights,74.9900\r\n",
      "853,\"Women's Tights, M\",Tights,74.9900\r\n",
      "854,\"Women's Tights, L\",Tights,74.9900\r\n",
      "864,\"Classic Vest, S\",Vests,63.5000\r\n",
      "865,\"Classic Vest, M\",Vests,63.5000\r\n",
      "866,\"Classic Vest, L\",Vests,63.5000\r\n",
      "876,Hitch Rack - 4-Bike,Bike Racks,120.0000\r\n",
      "879,All-Purpose Bike Stand,Bike Stands,159.0000\r\n",
      "870,Water Bottle - 30 oz.,Bottles and Cages,4.9900\r\n",
      "871,Mountain Bottle Cage,Bottles and Cages,9.9900\r\n",
      "872,Road Bottle Cage,Bottles and Cages,8.9900\r\n",
      "877,Bike Wash - Dissolver,Cleaners,7.9500\r\n",
      "878,Fender Set - Mountain,Fenders,21.9800\r\n",
      "711,\"Sport-100 Helmet, Blue\",Helmets,34.9900\r\n",
      "707,\"Sport-100 Helmet, Red\",Helmets,34.9900\r\n",
      "708,\"Sport-100 Helmet, Black\",Helmets,34.9900\r\n",
      "880,Hydration Pack - 70 oz.,Hydration Packs,54.9900\r\n",
      "846,Taillights - Battery-Powered,Lights,13.9900\r\n",
      "847,Headlights - Dual-Beam,Lights,34.9900\r\n",
      "848,Headlights - Weatherproof,Lights,44.9900\r\n",
      "843,Cable Lock,Locks,25.0000\r\n",
      "842,\"Touring-Panniers, Large\",Panniers,125.0000\r\n",
      "844,Minipump,Pumps,19.9900\r\n",
      "845,Mountain Pump,Pumps,24.9900\r\n",
      "873,Patch Kit/8 Patches,Tires and Tubes,2.2900\r\n",
      "921,Mountain Tire Tube,Tires and Tubes,4.9900\r\n",
      "922,Road Tire Tube,Tires and Tubes,3.9900\r\n",
      "923,Touring Tire Tube,Tires and Tubes,4.9900\r\n",
      "928,LL Mountain Tire,Tires and Tubes,24.9900\r\n",
      "929,ML Mountain Tire,Tires and Tubes,29.9900\r\n",
      "930,HL Mountain Tire,Tires and Tubes,35.0000\r\n",
      "931,LL Road Tire,Tires and Tubes,21.4900\r\n",
      "932,ML Road Tire,Tires and Tubes,24.9900\r\n",
      "933,HL Road Tire,Tires and Tubes,32.6000\r\n",
      "934,Touring Tire,Tires and Tubes,28.9900\n"
     ]
    }
   ],
   "source": [
    "products_csv_file_path = f\"{datasets_dir}/products.csv\"\n",
    "print(dbutils.fs.head(products_csv_file_path))"
   ]
  },
  {
   "cell_type": "markdown",
   "metadata": {
    "application/vnd.databricks.v1+cell": {
     "cellMetadata": {
      "byteLimit": 2048000,
      "rowLimit": 10000
     },
     "inputWidgets": {},
     "nuid": "fb273ad0-0c44-4cd3-8fb1-87219134cc61",
     "showTitle": false,
     "title": ""
    }
   },
   "source": [
    "##### Query data in files"
   ]
  },
  {
   "cell_type": "code",
   "execution_count": null,
   "metadata": {
    "application/vnd.databricks.v1+cell": {
     "cellMetadata": {
      "byteLimit": 2048000,
      "rowLimit": 10000
     },
     "inputWidgets": {},
     "nuid": "6426dc5a-d965-48bb-a456-a3fd8284811d",
     "showTitle": false,
     "title": ""
    }
   },
   "outputs": [],
   "source": [
    "products_csv_path = f\"{datasets_dir}/products.csv\"\n",
    "products_df = (spark\n",
    "               .read\n",
    "               .option(\"header\", True)\n",
    "               .option(\"inferSchema\", True)\n",
    "               .csv(products_csv_path)\n",
    "              )\n"
   ]
  },
  {
   "cell_type": "code",
   "execution_count": null,
   "metadata": {},
   "outputs": [],
   "source": [
    "##### Displaying the schema"
   ]
  },
  {
   "cell_type": "code",
   "execution_count": null,
   "metadata": {
    "application/vnd.databricks.v1+cell": {
     "cellMetadata": {
      "byteLimit": 2048000,
      "rowLimit": 10000
     },
     "inputWidgets": {},
     "nuid": "9930d9c7-76ed-4fdc-a8be-20064f814b23",
     "showTitle": false,
     "title": ""
    },
    "scrolled": true
   },
   "outputs": [
    {
     "name": "stdout",
     "output_type": "stream",
     "text": [
      "root\n",
      " |-- ProductID: integer (nullable = true)\n",
      " |-- ProductName: string (nullable = true)\n",
      " |-- Category: string (nullable = true)\n",
      " |-- ListPrice: double (nullable = true)\n",
      "\n"
     ]
    }
   ],
   "source": [
    "products_df.printSchema()"
   ]
  },
  {
   "cell_type": "code",
   "execution_count": null,
   "metadata": {
    "application/vnd.databricks.v1+cell": {
     "cellMetadata": {
      "byteLimit": 2048000,
      "rowLimit": 10000
     },
     "inputWidgets": {},
     "nuid": "89137ac0-b5f5-4507-ad90-d275fc80b872",
     "showTitle": false,
     "title": ""
    }
   },
   "outputs": [
    {
     "data": {
      "text/html": [
       "<style scoped>\n",
       "  .table-result-container {\n",
       "    max-height: 300px;\n",
       "    overflow: auto;\n",
       "  }\n",
       "  table, th, td {\n",
       "    border: 1px solid black;\n",
       "    border-collapse: collapse;\n",
       "  }\n",
       "  th, td {\n",
       "    padding: 5px;\n",
       "  }\n",
       "  th {\n",
       "    text-align: left;\n",
       "  }\n",
       "</style><div class='table-result-container'><table class='table-result'><thead style='background-color: white'><tr><th>ProductID</th><th>ProductName</th><th>Category</th><th>ListPrice</th></tr></thead><tbody><tr><td>771</td><td>Mountain-100 Silver, 38</td><td>Mountain Bikes</td><td>3399.99</td></tr><tr><td>772</td><td>Mountain-100 Silver, 42</td><td>Mountain Bikes</td><td>3399.99</td></tr><tr><td>773</td><td>Mountain-100 Silver, 44</td><td>Mountain Bikes</td><td>3399.99</td></tr><tr><td>774</td><td>Mountain-100 Silver, 48</td><td>Mountain Bikes</td><td>3399.99</td></tr><tr><td>775</td><td>Mountain-100 Black, 38</td><td>Mountain Bikes</td><td>3374.99</td></tr><tr><td>776</td><td>Mountain-100 Black, 42</td><td>Mountain Bikes</td><td>3374.99</td></tr><tr><td>777</td><td>Mountain-100 Black, 44</td><td>Mountain Bikes</td><td>3374.99</td></tr><tr><td>778</td><td>Mountain-100 Black, 48</td><td>Mountain Bikes</td><td>3374.99</td></tr><tr><td>779</td><td>Mountain-200 Silver, 38</td><td>Mountain Bikes</td><td>2319.99</td></tr><tr><td>780</td><td>Mountain-200 Silver, 42</td><td>Mountain Bikes</td><td>2319.99</td></tr><tr><td>781</td><td>Mountain-200 Silver, 46</td><td>Mountain Bikes</td><td>2319.99</td></tr><tr><td>782</td><td>Mountain-200 Black, 38</td><td>Mountain Bikes</td><td>2294.99</td></tr><tr><td>783</td><td>Mountain-200 Black, 42</td><td>Mountain Bikes</td><td>2294.99</td></tr><tr><td>784</td><td>Mountain-200 Black, 46</td><td>Mountain Bikes</td><td>2294.99</td></tr><tr><td>785</td><td>Mountain-300 Black, 38</td><td>Mountain Bikes</td><td>1079.99</td></tr><tr><td>786</td><td>Mountain-300 Black, 40</td><td>Mountain Bikes</td><td>1079.99</td></tr><tr><td>787</td><td>Mountain-300 Black, 44</td><td>Mountain Bikes</td><td>1079.99</td></tr><tr><td>788</td><td>Mountain-300 Black, 48</td><td>Mountain Bikes</td><td>1079.99</td></tr><tr><td>980</td><td>Mountain-400-W Silver, 38</td><td>Mountain Bikes</td><td>769.49</td></tr><tr><td>981</td><td>Mountain-400-W Silver, 40</td><td>Mountain Bikes</td><td>769.49</td></tr><tr><td>982</td><td>Mountain-400-W Silver, 42</td><td>Mountain Bikes</td><td>769.49</td></tr><tr><td>983</td><td>Mountain-400-W Silver, 46</td><td>Mountain Bikes</td><td>769.49</td></tr><tr><td>984</td><td>Mountain-500 Silver, 40</td><td>Mountain Bikes</td><td>564.99</td></tr><tr><td>985</td><td>Mountain-500 Silver, 42</td><td>Mountain Bikes</td><td>564.99</td></tr><tr><td>986</td><td>Mountain-500 Silver, 44</td><td>Mountain Bikes</td><td>564.99</td></tr><tr><td>987</td><td>Mountain-500 Silver, 48</td><td>Mountain Bikes</td><td>564.99</td></tr><tr><td>988</td><td>Mountain-500 Silver, 52</td><td>Mountain Bikes</td><td>564.99</td></tr><tr><td>989</td><td>Mountain-500 Black, 40</td><td>Mountain Bikes</td><td>539.99</td></tr><tr><td>990</td><td>Mountain-500 Black, 42</td><td>Mountain Bikes</td><td>539.99</td></tr><tr><td>991</td><td>Mountain-500 Black, 44</td><td>Mountain Bikes</td><td>539.99</td></tr><tr><td>992</td><td>Mountain-500 Black, 48</td><td>Mountain Bikes</td><td>539.99</td></tr><tr><td>993</td><td>Mountain-500 Black, 52</td><td>Mountain Bikes</td><td>539.99</td></tr><tr><td>973</td><td>Road-350-W Yellow, 40</td><td>Road Bikes</td><td>1700.99</td></tr><tr><td>974</td><td>Road-350-W Yellow, 42</td><td>Road Bikes</td><td>1700.99</td></tr><tr><td>975</td><td>Road-350-W Yellow, 44</td><td>Road Bikes</td><td>1700.99</td></tr><tr><td>976</td><td>Road-350-W Yellow, 48</td><td>Road Bikes</td><td>1700.99</td></tr><tr><td>977</td><td>Road-750 Black, 58</td><td>Road Bikes</td><td>539.99</td></tr><tr><td>997</td><td>Road-750 Black, 44</td><td>Road Bikes</td><td>539.99</td></tr><tr><td>998</td><td>Road-750 Black, 48</td><td>Road Bikes</td><td>539.99</td></tr><tr><td>999</td><td>Road-750 Black, 52</td><td>Road Bikes</td><td>539.99</td></tr><tr><td>789</td><td>Road-250 Red, 44</td><td>Road Bikes</td><td>2443.35</td></tr><tr><td>790</td><td>Road-250 Red, 48</td><td>Road Bikes</td><td>2443.35</td></tr><tr><td>791</td><td>Road-250 Red, 52</td><td>Road Bikes</td><td>2443.35</td></tr><tr><td>792</td><td>Road-250 Red, 58</td><td>Road Bikes</td><td>2443.35</td></tr><tr><td>793</td><td>Road-250 Black, 44</td><td>Road Bikes</td><td>2443.35</td></tr><tr><td>794</td><td>Road-250 Black, 48</td><td>Road Bikes</td><td>2443.35</td></tr><tr><td>795</td><td>Road-250 Black, 52</td><td>Road Bikes</td><td>2443.35</td></tr><tr><td>796</td><td>Road-250 Black, 58</td><td>Road Bikes</td><td>2443.35</td></tr><tr><td>797</td><td>Road-550-W Yellow, 38</td><td>Road Bikes</td><td>1120.49</td></tr><tr><td>798</td><td>Road-550-W Yellow, 40</td><td>Road Bikes</td><td>1120.49</td></tr><tr><td>799</td><td>Road-550-W Yellow, 42</td><td>Road Bikes</td><td>1120.49</td></tr><tr><td>800</td><td>Road-550-W Yellow, 44</td><td>Road Bikes</td><td>1120.49</td></tr><tr><td>801</td><td>Road-550-W Yellow, 48</td><td>Road Bikes</td><td>1120.49</td></tr><tr><td>749</td><td>Road-150 Red, 62</td><td>Road Bikes</td><td>3578.27</td></tr><tr><td>750</td><td>Road-150 Red, 44</td><td>Road Bikes</td><td>3578.27</td></tr><tr><td>751</td><td>Road-150 Red, 48</td><td>Road Bikes</td><td>3578.27</td></tr><tr><td>752</td><td>Road-150 Red, 52</td><td>Road Bikes</td><td>3578.27</td></tr><tr><td>753</td><td>Road-150 Red, 56</td><td>Road Bikes</td><td>3578.27</td></tr><tr><td>754</td><td>Road-450 Red, 58</td><td>Road Bikes</td><td>1457.99</td></tr><tr><td>755</td><td>Road-450 Red, 60</td><td>Road Bikes</td><td>1457.99</td></tr><tr><td>756</td><td>Road-450 Red, 44</td><td>Road Bikes</td><td>1457.99</td></tr><tr><td>757</td><td>Road-450 Red, 48</td><td>Road Bikes</td><td>1457.99</td></tr><tr><td>758</td><td>Road-450 Red, 52</td><td>Road Bikes</td><td>1457.99</td></tr><tr><td>759</td><td>Road-650 Red, 58</td><td>Road Bikes</td><td>782.99</td></tr><tr><td>760</td><td>Road-650 Red, 60</td><td>Road Bikes</td><td>782.99</td></tr><tr><td>761</td><td>Road-650 Red, 62</td><td>Road Bikes</td><td>782.99</td></tr><tr><td>762</td><td>Road-650 Red, 44</td><td>Road Bikes</td><td>782.99</td></tr><tr><td>763</td><td>Road-650 Red, 48</td><td>Road Bikes</td><td>782.99</td></tr><tr><td>764</td><td>Road-650 Red, 52</td><td>Road Bikes</td><td>782.99</td></tr><tr><td>765</td><td>Road-650 Black, 58</td><td>Road Bikes</td><td>782.99</td></tr><tr><td>766</td><td>Road-650 Black, 60</td><td>Road Bikes</td><td>782.99</td></tr><tr><td>767</td><td>Road-650 Black, 62</td><td>Road Bikes</td><td>782.99</td></tr><tr><td>768</td><td>Road-650 Black, 44</td><td>Road Bikes</td><td>782.99</td></tr><tr><td>769</td><td>Road-650 Black, 48</td><td>Road Bikes</td><td>782.99</td></tr><tr><td>770</td><td>Road-650 Black, 52</td><td>Road Bikes</td><td>782.99</td></tr><tr><td>978</td><td>Touring-3000 Blue, 44</td><td>Touring Bikes</td><td>742.35</td></tr><tr><td>979</td><td>Touring-3000 Blue, 50</td><td>Touring Bikes</td><td>742.35</td></tr><tr><td>953</td><td>Touring-2000 Blue, 60</td><td>Touring Bikes</td><td>1214.85</td></tr><tr><td>954</td><td>Touring-1000 Yellow, 46</td><td>Touring Bikes</td><td>2384.07</td></tr><tr><td>955</td><td>Touring-1000 Yellow, 50</td><td>Touring Bikes</td><td>2384.07</td></tr><tr><td>956</td><td>Touring-1000 Yellow, 54</td><td>Touring Bikes</td><td>2384.07</td></tr><tr><td>957</td><td>Touring-1000 Yellow, 60</td><td>Touring Bikes</td><td>2384.07</td></tr><tr><td>958</td><td>Touring-3000 Blue, 54</td><td>Touring Bikes</td><td>742.35</td></tr><tr><td>959</td><td>Touring-3000 Blue, 58</td><td>Touring Bikes</td><td>742.35</td></tr><tr><td>960</td><td>Touring-3000 Blue, 62</td><td>Touring Bikes</td><td>742.35</td></tr><tr><td>961</td><td>Touring-3000 Yellow, 44</td><td>Touring Bikes</td><td>742.35</td></tr><tr><td>962</td><td>Touring-3000 Yellow, 50</td><td>Touring Bikes</td><td>742.35</td></tr><tr><td>963</td><td>Touring-3000 Yellow, 54</td><td>Touring Bikes</td><td>742.35</td></tr><tr><td>964</td><td>Touring-3000 Yellow, 58</td><td>Touring Bikes</td><td>742.35</td></tr><tr><td>965</td><td>Touring-3000 Yellow, 62</td><td>Touring Bikes</td><td>742.35</td></tr><tr><td>966</td><td>Touring-1000 Blue, 46</td><td>Touring Bikes</td><td>2384.07</td></tr><tr><td>967</td><td>Touring-1000 Blue, 50</td><td>Touring Bikes</td><td>2384.07</td></tr><tr><td>968</td><td>Touring-1000 Blue, 54</td><td>Touring Bikes</td><td>2384.07</td></tr><tr><td>969</td><td>Touring-1000 Blue, 60</td><td>Touring Bikes</td><td>2384.07</td></tr><tr><td>970</td><td>Touring-2000 Blue, 46</td><td>Touring Bikes</td><td>1214.85</td></tr><tr><td>971</td><td>Touring-2000 Blue, 50</td><td>Touring Bikes</td><td>1214.85</td></tr><tr><td>972</td><td>Touring-2000 Blue, 54</td><td>Touring Bikes</td><td>1214.85</td></tr><tr><td>946</td><td>LL Touring Handlebars</td><td>Handlebars</td><td>46.09</td></tr><tr><td>947</td><td>HL Touring Handlebars</td><td>Handlebars</td><td>91.57</td></tr><tr><td>808</td><td>LL Mountain Handlebars</td><td>Handlebars</td><td>44.54</td></tr><tr><td>809</td><td>ML Mountain Handlebars</td><td>Handlebars</td><td>61.92</td></tr><tr><td>810</td><td>HL Mountain Handlebars</td><td>Handlebars</td><td>120.27</td></tr><tr><td>811</td><td>LL Road Handlebars</td><td>Handlebars</td><td>44.54</td></tr><tr><td>812</td><td>ML Road Handlebars</td><td>Handlebars</td><td>61.92</td></tr><tr><td>813</td><td>HL Road Handlebars</td><td>Handlebars</td><td>120.27</td></tr><tr><td>994</td><td>LL Bottom Bracket</td><td>Bottom Brackets</td><td>53.99</td></tr><tr><td>995</td><td>ML Bottom Bracket</td><td>Bottom Brackets</td><td>101.24</td></tr><tr><td>996</td><td>HL Bottom Bracket</td><td>Bottom Brackets</td><td>121.49</td></tr><tr><td>948</td><td>Front Brakes</td><td>Brakes</td><td>106.5</td></tr><tr><td>907</td><td>Rear Brakes</td><td>Brakes</td><td>106.5</td></tr><tr><td>952</td><td>Chain</td><td>Chains</td><td>20.24</td></tr><tr><td>949</td><td>LL Crankset</td><td>Cranksets</td><td>175.49</td></tr><tr><td>950</td><td>ML Crankset</td><td>Cranksets</td><td>256.49</td></tr><tr><td>951</td><td>HL Crankset</td><td>Cranksets</td><td>404.99</td></tr><tr><td>945</td><td>Front Derailleur</td><td>Derailleurs</td><td>91.49</td></tr><tr><td>894</td><td>Rear Derailleur</td><td>Derailleurs</td><td>121.46</td></tr><tr><td>802</td><td>LL Fork</td><td>Forks</td><td>148.22</td></tr><tr><td>803</td><td>ML Fork</td><td>Forks</td><td>175.49</td></tr><tr><td>804</td><td>HL Fork</td><td>Forks</td><td>229.49</td></tr><tr><td>805</td><td>LL Headset</td><td>Headsets</td><td>34.2</td></tr><tr><td>806</td><td>ML Headset</td><td>Headsets</td><td>102.29</td></tr><tr><td>807</td><td>HL Headset</td><td>Headsets</td><td>124.73</td></tr><tr><td>739</td><td>HL Mountain Frame - Silver, 42</td><td>Mountain Frames</td><td>1364.5</td></tr><tr><td>740</td><td>HL Mountain Frame - Silver, 44</td><td>Mountain Frames</td><td>1364.5</td></tr><tr><td>741</td><td>HL Mountain Frame - Silver, 48</td><td>Mountain Frames</td><td>1364.5</td></tr><tr><td>742</td><td>HL Mountain Frame - Silver, 46</td><td>Mountain Frames</td><td>1364.5</td></tr><tr><td>743</td><td>HL Mountain Frame - Black, 42</td><td>Mountain Frames</td><td>1349.6</td></tr><tr><td>744</td><td>HL Mountain Frame - Black, 44</td><td>Mountain Frames</td><td>1349.6</td></tr><tr><td>745</td><td>HL Mountain Frame - Black, 48</td><td>Mountain Frames</td><td>1349.6</td></tr><tr><td>746</td><td>HL Mountain Frame - Black, 46</td><td>Mountain Frames</td><td>1349.6</td></tr><tr><td>747</td><td>HL Mountain Frame - Black, 38</td><td>Mountain Frames</td><td>1349.6</td></tr><tr><td>748</td><td>HL Mountain Frame - Silver, 38</td><td>Mountain Frames</td><td>1364.5</td></tr><tr><td>814</td><td>ML Mountain Frame - Black, 38</td><td>Mountain Frames</td><td>348.76</td></tr><tr><td>830</td><td>ML Mountain Frame - Black, 40</td><td>Mountain Frames</td><td>348.76</td></tr><tr><td>831</td><td>ML Mountain Frame - Black, 44</td><td>Mountain Frames</td><td>348.76</td></tr><tr><td>832</td><td>ML Mountain Frame - Black, 48</td><td>Mountain Frames</td><td>348.76</td></tr><tr><td>924</td><td>LL Mountain Frame - Black, 42</td><td>Mountain Frames</td><td>249.79</td></tr><tr><td>925</td><td>LL Mountain Frame - Black, 44</td><td>Mountain Frames</td><td>249.79</td></tr><tr><td>926</td><td>LL Mountain Frame - Black, 48</td><td>Mountain Frames</td><td>249.79</td></tr><tr><td>927</td><td>LL Mountain Frame - Black, 52</td><td>Mountain Frames</td><td>249.79</td></tr><tr><td>917</td><td>LL Mountain Frame - Silver, 42</td><td>Mountain Frames</td><td>264.05</td></tr><tr><td>918</td><td>LL Mountain Frame - Silver, 44</td><td>Mountain Frames</td><td>264.05</td></tr><tr><td>919</td><td>LL Mountain Frame - Silver, 48</td><td>Mountain Frames</td><td>264.05</td></tr><tr><td>920</td><td>LL Mountain Frame - Silver, 52</td><td>Mountain Frames</td><td>264.05</td></tr><tr><td>904</td><td>ML Mountain Frame-W - Silver, 40</td><td>Mountain Frames</td><td>364.09</td></tr><tr><td>905</td><td>ML Mountain Frame-W - Silver, 42</td><td>Mountain Frames</td><td>364.09</td></tr><tr><td>906</td><td>ML Mountain Frame-W - Silver, 46</td><td>Mountain Frames</td><td>364.09</td></tr><tr><td>942</td><td>ML Mountain Frame-W - Silver, 38</td><td>Mountain Frames</td><td>364.09</td></tr><tr><td>943</td><td>LL Mountain Frame - Black, 40</td><td>Mountain Frames</td><td>249.79</td></tr><tr><td>944</td><td>LL Mountain Frame - Silver, 40</td><td>Mountain Frames</td><td>264.05</td></tr><tr><td>935</td><td>LL Mountain Pedal</td><td>Pedals</td><td>40.49</td></tr><tr><td>936</td><td>ML Mountain Pedal</td><td>Pedals</td><td>62.09</td></tr><tr><td>937</td><td>HL Mountain Pedal</td><td>Pedals</td><td>80.99</td></tr><tr><td>938</td><td>LL Road Pedal</td><td>Pedals</td><td>40.49</td></tr><tr><td>939</td><td>ML Road Pedal</td><td>Pedals</td><td>62.09</td></tr><tr><td>940</td><td>HL Road Pedal</td><td>Pedals</td><td>80.99</td></tr><tr><td>941</td><td>Touring Pedal</td><td>Pedals</td><td>80.99</td></tr><tr><td>833</td><td>ML Road Frame-W - Yellow, 40</td><td>Road Frames</td><td>594.83</td></tr><tr><td>834</td><td>ML Road Frame-W - Yellow, 42</td><td>Road Frames</td><td>594.83</td></tr><tr><td>835</td><td>ML Road Frame-W - Yellow, 44</td><td>Road Frames</td><td>594.83</td></tr><tr><td>836</td><td>ML Road Frame-W - Yellow, 48</td><td>Road Frames</td><td>594.83</td></tr><tr><td>837</td><td>HL Road Frame - Black, 62</td><td>Road Frames</td><td>1431.5</td></tr><tr><td>838</td><td>HL Road Frame - Black, 44</td><td>Road Frames</td><td>1431.5</td></tr><tr><td>839</td><td>HL Road Frame - Black, 48</td><td>Road Frames</td><td>1431.5</td></tr><tr><td>840</td><td>HL Road Frame - Black, 52</td><td>Road Frames</td><td>1431.5</td></tr><tr><td>822</td><td>ML Road Frame-W - Yellow, 38</td><td>Road Frames</td><td>594.83</td></tr><tr><td>680</td><td>HL Road Frame - Black, 58</td><td>Road Frames</td><td>1431.5</td></tr><tr><td>706</td><td>HL Road Frame - Red, 58</td><td>Road Frames</td><td>1431.5</td></tr><tr><td>717</td><td>HL Road Frame - Red, 62</td><td>Road Frames</td><td>1431.5</td></tr><tr><td>718</td><td>HL Road Frame - Red, 44</td><td>Road Frames</td><td>1431.5</td></tr><tr><td>719</td><td>HL Road Frame - Red, 48</td><td>Road Frames</td><td>1431.5</td></tr><tr><td>720</td><td>HL Road Frame - Red, 52</td><td>Road Frames</td><td>1431.5</td></tr><tr><td>721</td><td>HL Road Frame - Red, 56</td><td>Road Frames</td><td>1431.5</td></tr><tr><td>722</td><td>LL Road Frame - Black, 58</td><td>Road Frames</td><td>337.22</td></tr><tr><td>723</td><td>LL Road Frame - Black, 60</td><td>Road Frames</td><td>337.22</td></tr><tr><td>724</td><td>LL Road Frame - Black, 62</td><td>Road Frames</td><td>337.22</td></tr><tr><td>725</td><td>LL Road Frame - Red, 44</td><td>Road Frames</td><td>337.22</td></tr><tr><td>726</td><td>LL Road Frame - Red, 48</td><td>Road Frames</td><td>337.22</td></tr><tr><td>727</td><td>LL Road Frame - Red, 52</td><td>Road Frames</td><td>337.22</td></tr><tr><td>728</td><td>LL Road Frame - Red, 58</td><td>Road Frames</td><td>337.22</td></tr><tr><td>729</td><td>LL Road Frame - Red, 60</td><td>Road Frames</td><td>337.22</td></tr><tr><td>730</td><td>LL Road Frame - Red, 62</td><td>Road Frames</td><td>337.22</td></tr><tr><td>731</td><td>ML Road Frame - Red, 44</td><td>Road Frames</td><td>594.83</td></tr><tr><td>732</td><td>ML Road Frame - Red, 48</td><td>Road Frames</td><td>594.83</td></tr><tr><td>733</td><td>ML Road Frame - Red, 52</td><td>Road Frames</td><td>594.83</td></tr><tr><td>734</td><td>ML Road Frame - Red, 58</td><td>Road Frames</td><td>594.83</td></tr><tr><td>735</td><td>ML Road Frame - Red, 60</td><td>Road Frames</td><td>594.83</td></tr><tr><td>736</td><td>LL Road Frame - Black, 44</td><td>Road Frames</td><td>337.22</td></tr><tr><td>737</td><td>LL Road Frame - Black, 48</td><td>Road Frames</td><td>337.22</td></tr><tr><td>738</td><td>LL Road Frame - Black, 52</td><td>Road Frames</td><td>337.22</td></tr><tr><td>908</td><td>LL Mountain Seat/Saddle</td><td>Saddles</td><td>27.12</td></tr><tr><td>909</td><td>ML Mountain Seat/Saddle</td><td>Saddles</td><td>39.14</td></tr><tr><td>910</td><td>HL Mountain Seat/Saddle</td><td>Saddles</td><td>52.64</td></tr><tr><td>911</td><td>LL Road Seat/Saddle</td><td>Saddles</td><td>27.12</td></tr><tr><td>912</td><td>ML Road Seat/Saddle</td><td>Saddles</td><td>39.14</td></tr><tr><td>913</td><td>HL Road Seat/Saddle</td><td>Saddles</td><td>52.64</td></tr><tr><td>914</td><td>LL Touring Seat/Saddle</td><td>Saddles</td><td>27.12</td></tr><tr><td>915</td><td>ML Touring Seat/Saddle</td><td>Saddles</td><td>39.14</td></tr><tr><td>916</td><td>HL Touring Seat/Saddle</td><td>Saddles</td><td>52.64</td></tr><tr><td>895</td><td>LL Touring Frame - Blue, 50</td><td>Touring Frames</td><td>333.42</td></tr><tr><td>896</td><td>LL Touring Frame - Blue, 54</td><td>Touring Frames</td><td>333.42</td></tr><tr><td>897</td><td>LL Touring Frame - Blue, 58</td><td>Touring Frames</td><td>333.42</td></tr><tr><td>898</td><td>LL Touring Frame - Blue, 62</td><td>Touring Frames</td><td>333.42</td></tr><tr><td>899</td><td>LL Touring Frame - Yellow, 44</td><td>Touring Frames</td><td>333.42</td></tr><tr><td>900</td><td>LL Touring Frame - Yellow, 50</td><td>Touring Frames</td><td>333.42</td></tr><tr><td>901</td><td>LL Touring Frame - Yellow, 54</td><td>Touring Frames</td><td>333.42</td></tr><tr><td>902</td><td>LL Touring Frame - Yellow, 58</td><td>Touring Frames</td><td>333.42</td></tr><tr><td>903</td><td>LL Touring Frame - Blue, 44</td><td>Touring Frames</td><td>333.42</td></tr><tr><td>885</td><td>HL Touring Frame - Yellow, 60</td><td>Touring Frames</td><td>1003.91</td></tr><tr><td>886</td><td>LL Touring Frame - Yellow, 62</td><td>Touring Frames</td><td>333.42</td></tr><tr><td>887</td><td>HL Touring Frame - Yellow, 46</td><td>Touring Frames</td><td>1003.91</td></tr><tr><td>888</td><td>HL Touring Frame - Yellow, 50</td><td>Touring Frames</td><td>1003.91</td></tr><tr><td>889</td><td>HL Touring Frame - Yellow, 54</td><td>Touring Frames</td><td>1003.91</td></tr><tr><td>890</td><td>HL Touring Frame - Blue, 46</td><td>Touring Frames</td><td>1003.91</td></tr><tr><td>891</td><td>HL Touring Frame - Blue, 50</td><td>Touring Frames</td><td>1003.91</td></tr><tr><td>892</td><td>HL Touring Frame - Blue, 54</td><td>Touring Frames</td><td>1003.91</td></tr><tr><td>893</td><td>HL Touring Frame - Blue, 60</td><td>Touring Frames</td><td>1003.91</td></tr><tr><td>823</td><td>LL Mountain Rear Wheel</td><td>Wheels</td><td>87.745</td></tr><tr><td>824</td><td>ML Mountain Rear Wheel</td><td>Wheels</td><td>236.025</td></tr><tr><td>825</td><td>HL Mountain Rear Wheel</td><td>Wheels</td><td>327.215</td></tr><tr><td>826</td><td>LL Road Rear Wheel</td><td>Wheels</td><td>112.565</td></tr><tr><td>827</td><td>ML Road Rear Wheel</td><td>Wheels</td><td>275.385</td></tr><tr><td>828</td><td>HL Road Rear Wheel</td><td>Wheels</td><td>357.06</td></tr><tr><td>829</td><td>Touring Rear Wheel</td><td>Wheels</td><td>245.01</td></tr><tr><td>815</td><td>LL Mountain Front Wheel</td><td>Wheels</td><td>60.745</td></tr><tr><td>816</td><td>ML Mountain Front Wheel</td><td>Wheels</td><td>209.025</td></tr><tr><td>817</td><td>HL Mountain Front Wheel</td><td>Wheels</td><td>300.215</td></tr><tr><td>818</td><td>LL Road Front Wheel</td><td>Wheels</td><td>85.565</td></tr><tr><td>819</td><td>ML Road Front Wheel</td><td>Wheels</td><td>248.385</td></tr><tr><td>820</td><td>HL Road Front Wheel</td><td>Wheels</td><td>330.06</td></tr><tr><td>821</td><td>Touring Front Wheel</td><td>Wheels</td><td>218.01</td></tr><tr><td>855</td><td>Men's Bib-Shorts, S</td><td>Bib-Shorts</td><td>89.99</td></tr><tr><td>856</td><td>Men's Bib-Shorts, M</td><td>Bib-Shorts</td><td>89.99</td></tr><tr><td>857</td><td>Men's Bib-Shorts, L</td><td>Bib-Shorts</td><td>89.99</td></tr><tr><td>712</td><td>AWC Logo Cap</td><td>Caps</td><td>8.99</td></tr><tr><td>858</td><td>Half-Finger Gloves, S</td><td>Gloves</td><td>24.49</td></tr><tr><td>859</td><td>Half-Finger Gloves, M</td><td>Gloves</td><td>24.49</td></tr><tr><td>860</td><td>Half-Finger Gloves, L</td><td>Gloves</td><td>24.49</td></tr><tr><td>861</td><td>Full-Finger Gloves, S</td><td>Gloves</td><td>37.99</td></tr><tr><td>862</td><td>Full-Finger Gloves, M</td><td>Gloves</td><td>37.99</td></tr><tr><td>863</td><td>Full-Finger Gloves, L</td><td>Gloves</td><td>37.99</td></tr><tr><td>713</td><td>Long-Sleeve Logo Jersey, S</td><td>Jerseys</td><td>49.99</td></tr><tr><td>714</td><td>Long-Sleeve Logo Jersey, M</td><td>Jerseys</td><td>49.99</td></tr><tr><td>715</td><td>Long-Sleeve Logo Jersey, L</td><td>Jerseys</td><td>49.99</td></tr><tr><td>716</td><td>Long-Sleeve Logo Jersey, XL</td><td>Jerseys</td><td>49.99</td></tr><tr><td>881</td><td>Short-Sleeve Classic Jersey, S</td><td>Jerseys</td><td>53.99</td></tr><tr><td>882</td><td>Short-Sleeve Classic Jersey, M</td><td>Jerseys</td><td>53.99</td></tr><tr><td>883</td><td>Short-Sleeve Classic Jersey, L</td><td>Jerseys</td><td>53.99</td></tr><tr><td>884</td><td>Short-Sleeve Classic Jersey, XL</td><td>Jerseys</td><td>53.99</td></tr><tr><td>867</td><td>Women's Mountain Shorts, S</td><td>Shorts</td><td>69.99</td></tr><tr><td>868</td><td>Women's Mountain Shorts, M</td><td>Shorts</td><td>69.99</td></tr><tr><td>869</td><td>Women's Mountain Shorts, L</td><td>Shorts</td><td>69.99</td></tr><tr><td>841</td><td>Men's Sports Shorts, S</td><td>Shorts</td><td>59.99</td></tr><tr><td>849</td><td>Men's Sports Shorts, M</td><td>Shorts</td><td>59.99</td></tr><tr><td>850</td><td>Men's Sports Shorts, L</td><td>Shorts</td><td>59.99</td></tr><tr><td>851</td><td>Men's Sports Shorts, XL</td><td>Shorts</td><td>59.99</td></tr><tr><td>709</td><td>Mountain Bike Socks, M</td><td>Socks</td><td>9.5</td></tr><tr><td>710</td><td>Mountain Bike Socks, L</td><td>Socks</td><td>9.5</td></tr><tr><td>874</td><td>Racing Socks, M</td><td>Socks</td><td>8.99</td></tr><tr><td>875</td><td>Racing Socks, L</td><td>Socks</td><td>8.99</td></tr><tr><td>852</td><td>Women's Tights, S</td><td>Tights</td><td>74.99</td></tr><tr><td>853</td><td>Women's Tights, M</td><td>Tights</td><td>74.99</td></tr><tr><td>854</td><td>Women's Tights, L</td><td>Tights</td><td>74.99</td></tr><tr><td>864</td><td>Classic Vest, S</td><td>Vests</td><td>63.5</td></tr><tr><td>865</td><td>Classic Vest, M</td><td>Vests</td><td>63.5</td></tr><tr><td>866</td><td>Classic Vest, L</td><td>Vests</td><td>63.5</td></tr><tr><td>876</td><td>Hitch Rack - 4-Bike</td><td>Bike Racks</td><td>120.0</td></tr><tr><td>879</td><td>All-Purpose Bike Stand</td><td>Bike Stands</td><td>159.0</td></tr><tr><td>870</td><td>Water Bottle - 30 oz.</td><td>Bottles and Cages</td><td>4.99</td></tr><tr><td>871</td><td>Mountain Bottle Cage</td><td>Bottles and Cages</td><td>9.99</td></tr><tr><td>872</td><td>Road Bottle Cage</td><td>Bottles and Cages</td><td>8.99</td></tr><tr><td>877</td><td>Bike Wash - Dissolver</td><td>Cleaners</td><td>7.95</td></tr><tr><td>878</td><td>Fender Set - Mountain</td><td>Fenders</td><td>21.98</td></tr><tr><td>711</td><td>Sport-100 Helmet, Blue</td><td>Helmets</td><td>34.99</td></tr><tr><td>707</td><td>Sport-100 Helmet, Red</td><td>Helmets</td><td>34.99</td></tr><tr><td>708</td><td>Sport-100 Helmet, Black</td><td>Helmets</td><td>34.99</td></tr><tr><td>880</td><td>Hydration Pack - 70 oz.</td><td>Hydration Packs</td><td>54.99</td></tr><tr><td>846</td><td>Taillights - Battery-Powered</td><td>Lights</td><td>13.99</td></tr><tr><td>847</td><td>Headlights - Dual-Beam</td><td>Lights</td><td>34.99</td></tr><tr><td>848</td><td>Headlights - Weatherproof</td><td>Lights</td><td>44.99</td></tr><tr><td>843</td><td>Cable Lock</td><td>Locks</td><td>25.0</td></tr><tr><td>842</td><td>Touring-Panniers, Large</td><td>Panniers</td><td>125.0</td></tr><tr><td>844</td><td>Minipump</td><td>Pumps</td><td>19.99</td></tr><tr><td>845</td><td>Mountain Pump</td><td>Pumps</td><td>24.99</td></tr><tr><td>873</td><td>Patch Kit/8 Patches</td><td>Tires and Tubes</td><td>2.29</td></tr><tr><td>921</td><td>Mountain Tire Tube</td><td>Tires and Tubes</td><td>4.99</td></tr><tr><td>922</td><td>Road Tire Tube</td><td>Tires and Tubes</td><td>3.99</td></tr><tr><td>923</td><td>Touring Tire Tube</td><td>Tires and Tubes</td><td>4.99</td></tr><tr><td>928</td><td>LL Mountain Tire</td><td>Tires and Tubes</td><td>24.99</td></tr><tr><td>929</td><td>ML Mountain Tire</td><td>Tires and Tubes</td><td>29.99</td></tr><tr><td>930</td><td>HL Mountain Tire</td><td>Tires and Tubes</td><td>35.0</td></tr><tr><td>931</td><td>LL Road Tire</td><td>Tires and Tubes</td><td>21.49</td></tr><tr><td>932</td><td>ML Road Tire</td><td>Tires and Tubes</td><td>24.99</td></tr><tr><td>933</td><td>HL Road Tire</td><td>Tires and Tubes</td><td>32.6</td></tr><tr><td>934</td><td>Touring Tire</td><td>Tires and Tubes</td><td>28.99</td></tr></tbody></table></div>"
      ]
     },
     "metadata": {
      "application/vnd.databricks.v1+output": {
       "addedWidgets": {},
       "aggData": [],
       "aggError": "",
       "aggOverflow": false,
       "aggSchema": [],
       "aggSeriesLimitReached": false,
       "aggType": "",
       "arguments": {},
       "columnCustomDisplayInfos": {},
       "data": [
        [
         771,
         "Mountain-100 Silver, 38",
         "Mountain Bikes",
         3399.99
        ],
        [
         772,
         "Mountain-100 Silver, 42",
         "Mountain Bikes",
         3399.99
        ],
        [
         773,
         "Mountain-100 Silver, 44",
         "Mountain Bikes",
         3399.99
        ],
        [
         774,
         "Mountain-100 Silver, 48",
         "Mountain Bikes",
         3399.99
        ],
        [
         775,
         "Mountain-100 Black, 38",
         "Mountain Bikes",
         3374.99
        ],
        [
         776,
         "Mountain-100 Black, 42",
         "Mountain Bikes",
         3374.99
        ],
        [
         777,
         "Mountain-100 Black, 44",
         "Mountain Bikes",
         3374.99
        ],
        [
         778,
         "Mountain-100 Black, 48",
         "Mountain Bikes",
         3374.99
        ],
        [
         779,
         "Mountain-200 Silver, 38",
         "Mountain Bikes",
         2319.99
        ],
        [
         780,
         "Mountain-200 Silver, 42",
         "Mountain Bikes",
         2319.99
        ],
        [
         781,
         "Mountain-200 Silver, 46",
         "Mountain Bikes",
         2319.99
        ],
        [
         782,
         "Mountain-200 Black, 38",
         "Mountain Bikes",
         2294.99
        ],
        [
         783,
         "Mountain-200 Black, 42",
         "Mountain Bikes",
         2294.99
        ],
        [
         784,
         "Mountain-200 Black, 46",
         "Mountain Bikes",
         2294.99
        ],
        [
         785,
         "Mountain-300 Black, 38",
         "Mountain Bikes",
         1079.99
        ],
        [
         786,
         "Mountain-300 Black, 40",
         "Mountain Bikes",
         1079.99
        ],
        [
         787,
         "Mountain-300 Black, 44",
         "Mountain Bikes",
         1079.99
        ],
        [
         788,
         "Mountain-300 Black, 48",
         "Mountain Bikes",
         1079.99
        ],
        [
         980,
         "Mountain-400-W Silver, 38",
         "Mountain Bikes",
         769.49
        ],
        [
         981,
         "Mountain-400-W Silver, 40",
         "Mountain Bikes",
         769.49
        ],
        [
         982,
         "Mountain-400-W Silver, 42",
         "Mountain Bikes",
         769.49
        ],
        [
         983,
         "Mountain-400-W Silver, 46",
         "Mountain Bikes",
         769.49
        ],
        [
         984,
         "Mountain-500 Silver, 40",
         "Mountain Bikes",
         564.99
        ],
        [
         985,
         "Mountain-500 Silver, 42",
         "Mountain Bikes",
         564.99
        ],
        [
         986,
         "Mountain-500 Silver, 44",
         "Mountain Bikes",
         564.99
        ],
        [
         987,
         "Mountain-500 Silver, 48",
         "Mountain Bikes",
         564.99
        ],
        [
         988,
         "Mountain-500 Silver, 52",
         "Mountain Bikes",
         564.99
        ],
        [
         989,
         "Mountain-500 Black, 40",
         "Mountain Bikes",
         539.99
        ],
        [
         990,
         "Mountain-500 Black, 42",
         "Mountain Bikes",
         539.99
        ],
        [
         991,
         "Mountain-500 Black, 44",
         "Mountain Bikes",
         539.99
        ],
        [
         992,
         "Mountain-500 Black, 48",
         "Mountain Bikes",
         539.99
        ],
        [
         993,
         "Mountain-500 Black, 52",
         "Mountain Bikes",
         539.99
        ],
        [
         973,
         "Road-350-W Yellow, 40",
         "Road Bikes",
         1700.99
        ],
        [
         974,
         "Road-350-W Yellow, 42",
         "Road Bikes",
         1700.99
        ],
        [
         975,
         "Road-350-W Yellow, 44",
         "Road Bikes",
         1700.99
        ],
        [
         976,
         "Road-350-W Yellow, 48",
         "Road Bikes",
         1700.99
        ],
        [
         977,
         "Road-750 Black, 58",
         "Road Bikes",
         539.99
        ],
        [
         997,
         "Road-750 Black, 44",
         "Road Bikes",
         539.99
        ],
        [
         998,
         "Road-750 Black, 48",
         "Road Bikes",
         539.99
        ],
        [
         999,
         "Road-750 Black, 52",
         "Road Bikes",
         539.99
        ],
        [
         789,
         "Road-250 Red, 44",
         "Road Bikes",
         2443.35
        ],
        [
         790,
         "Road-250 Red, 48",
         "Road Bikes",
         2443.35
        ],
        [
         791,
         "Road-250 Red, 52",
         "Road Bikes",
         2443.35
        ],
        [
         792,
         "Road-250 Red, 58",
         "Road Bikes",
         2443.35
        ],
        [
         793,
         "Road-250 Black, 44",
         "Road Bikes",
         2443.35
        ],
        [
         794,
         "Road-250 Black, 48",
         "Road Bikes",
         2443.35
        ],
        [
         795,
         "Road-250 Black, 52",
         "Road Bikes",
         2443.35
        ],
        [
         796,
         "Road-250 Black, 58",
         "Road Bikes",
         2443.35
        ],
        [
         797,
         "Road-550-W Yellow, 38",
         "Road Bikes",
         1120.49
        ],
        [
         798,
         "Road-550-W Yellow, 40",
         "Road Bikes",
         1120.49
        ],
        [
         799,
         "Road-550-W Yellow, 42",
         "Road Bikes",
         1120.49
        ],
        [
         800,
         "Road-550-W Yellow, 44",
         "Road Bikes",
         1120.49
        ],
        [
         801,
         "Road-550-W Yellow, 48",
         "Road Bikes",
         1120.49
        ],
        [
         749,
         "Road-150 Red, 62",
         "Road Bikes",
         3578.27
        ],
        [
         750,
         "Road-150 Red, 44",
         "Road Bikes",
         3578.27
        ],
        [
         751,
         "Road-150 Red, 48",
         "Road Bikes",
         3578.27
        ],
        [
         752,
         "Road-150 Red, 52",
         "Road Bikes",
         3578.27
        ],
        [
         753,
         "Road-150 Red, 56",
         "Road Bikes",
         3578.27
        ],
        [
         754,
         "Road-450 Red, 58",
         "Road Bikes",
         1457.99
        ],
        [
         755,
         "Road-450 Red, 60",
         "Road Bikes",
         1457.99
        ],
        [
         756,
         "Road-450 Red, 44",
         "Road Bikes",
         1457.99
        ],
        [
         757,
         "Road-450 Red, 48",
         "Road Bikes",
         1457.99
        ],
        [
         758,
         "Road-450 Red, 52",
         "Road Bikes",
         1457.99
        ],
        [
         759,
         "Road-650 Red, 58",
         "Road Bikes",
         782.99
        ],
        [
         760,
         "Road-650 Red, 60",
         "Road Bikes",
         782.99
        ],
        [
         761,
         "Road-650 Red, 62",
         "Road Bikes",
         782.99
        ],
        [
         762,
         "Road-650 Red, 44",
         "Road Bikes",
         782.99
        ],
        [
         763,
         "Road-650 Red, 48",
         "Road Bikes",
         782.99
        ],
        [
         764,
         "Road-650 Red, 52",
         "Road Bikes",
         782.99
        ],
        [
         765,
         "Road-650 Black, 58",
         "Road Bikes",
         782.99
        ],
        [
         766,
         "Road-650 Black, 60",
         "Road Bikes",
         782.99
        ],
        [
         767,
         "Road-650 Black, 62",
         "Road Bikes",
         782.99
        ],
        [
         768,
         "Road-650 Black, 44",
         "Road Bikes",
         782.99
        ],
        [
         769,
         "Road-650 Black, 48",
         "Road Bikes",
         782.99
        ],
        [
         770,
         "Road-650 Black, 52",
         "Road Bikes",
         782.99
        ],
        [
         978,
         "Touring-3000 Blue, 44",
         "Touring Bikes",
         742.35
        ],
        [
         979,
         "Touring-3000 Blue, 50",
         "Touring Bikes",
         742.35
        ],
        [
         953,
         "Touring-2000 Blue, 60",
         "Touring Bikes",
         1214.85
        ],
        [
         954,
         "Touring-1000 Yellow, 46",
         "Touring Bikes",
         2384.07
        ],
        [
         955,
         "Touring-1000 Yellow, 50",
         "Touring Bikes",
         2384.07
        ],
        [
         956,
         "Touring-1000 Yellow, 54",
         "Touring Bikes",
         2384.07
        ],
        [
         957,
         "Touring-1000 Yellow, 60",
         "Touring Bikes",
         2384.07
        ],
        [
         958,
         "Touring-3000 Blue, 54",
         "Touring Bikes",
         742.35
        ],
        [
         959,
         "Touring-3000 Blue, 58",
         "Touring Bikes",
         742.35
        ],
        [
         960,
         "Touring-3000 Blue, 62",
         "Touring Bikes",
         742.35
        ],
        [
         961,
         "Touring-3000 Yellow, 44",
         "Touring Bikes",
         742.35
        ],
        [
         962,
         "Touring-3000 Yellow, 50",
         "Touring Bikes",
         742.35
        ],
        [
         963,
         "Touring-3000 Yellow, 54",
         "Touring Bikes",
         742.35
        ],
        [
         964,
         "Touring-3000 Yellow, 58",
         "Touring Bikes",
         742.35
        ],
        [
         965,
         "Touring-3000 Yellow, 62",
         "Touring Bikes",
         742.35
        ],
        [
         966,
         "Touring-1000 Blue, 46",
         "Touring Bikes",
         2384.07
        ],
        [
         967,
         "Touring-1000 Blue, 50",
         "Touring Bikes",
         2384.07
        ],
        [
         968,
         "Touring-1000 Blue, 54",
         "Touring Bikes",
         2384.07
        ],
        [
         969,
         "Touring-1000 Blue, 60",
         "Touring Bikes",
         2384.07
        ],
        [
         970,
         "Touring-2000 Blue, 46",
         "Touring Bikes",
         1214.85
        ],
        [
         971,
         "Touring-2000 Blue, 50",
         "Touring Bikes",
         1214.85
        ],
        [
         972,
         "Touring-2000 Blue, 54",
         "Touring Bikes",
         1214.85
        ],
        [
         946,
         "LL Touring Handlebars",
         "Handlebars",
         46.09
        ],
        [
         947,
         "HL Touring Handlebars",
         "Handlebars",
         91.57
        ],
        [
         808,
         "LL Mountain Handlebars",
         "Handlebars",
         44.54
        ],
        [
         809,
         "ML Mountain Handlebars",
         "Handlebars",
         61.92
        ],
        [
         810,
         "HL Mountain Handlebars",
         "Handlebars",
         120.27
        ],
        [
         811,
         "LL Road Handlebars",
         "Handlebars",
         44.54
        ],
        [
         812,
         "ML Road Handlebars",
         "Handlebars",
         61.92
        ],
        [
         813,
         "HL Road Handlebars",
         "Handlebars",
         120.27
        ],
        [
         994,
         "LL Bottom Bracket",
         "Bottom Brackets",
         53.99
        ],
        [
         995,
         "ML Bottom Bracket",
         "Bottom Brackets",
         101.24
        ],
        [
         996,
         "HL Bottom Bracket",
         "Bottom Brackets",
         121.49
        ],
        [
         948,
         "Front Brakes",
         "Brakes",
         106.5
        ],
        [
         907,
         "Rear Brakes",
         "Brakes",
         106.5
        ],
        [
         952,
         "Chain",
         "Chains",
         20.24
        ],
        [
         949,
         "LL Crankset",
         "Cranksets",
         175.49
        ],
        [
         950,
         "ML Crankset",
         "Cranksets",
         256.49
        ],
        [
         951,
         "HL Crankset",
         "Cranksets",
         404.99
        ],
        [
         945,
         "Front Derailleur",
         "Derailleurs",
         91.49
        ],
        [
         894,
         "Rear Derailleur",
         "Derailleurs",
         121.46
        ],
        [
         802,
         "LL Fork",
         "Forks",
         148.22
        ],
        [
         803,
         "ML Fork",
         "Forks",
         175.49
        ],
        [
         804,
         "HL Fork",
         "Forks",
         229.49
        ],
        [
         805,
         "LL Headset",
         "Headsets",
         34.2
        ],
        [
         806,
         "ML Headset",
         "Headsets",
         102.29
        ],
        [
         807,
         "HL Headset",
         "Headsets",
         124.73
        ],
        [
         739,
         "HL Mountain Frame - Silver, 42",
         "Mountain Frames",
         1364.5
        ],
        [
         740,
         "HL Mountain Frame - Silver, 44",
         "Mountain Frames",
         1364.5
        ],
        [
         741,
         "HL Mountain Frame - Silver, 48",
         "Mountain Frames",
         1364.5
        ],
        [
         742,
         "HL Mountain Frame - Silver, 46",
         "Mountain Frames",
         1364.5
        ],
        [
         743,
         "HL Mountain Frame - Black, 42",
         "Mountain Frames",
         1349.6
        ],
        [
         744,
         "HL Mountain Frame - Black, 44",
         "Mountain Frames",
         1349.6
        ],
        [
         745,
         "HL Mountain Frame - Black, 48",
         "Mountain Frames",
         1349.6
        ],
        [
         746,
         "HL Mountain Frame - Black, 46",
         "Mountain Frames",
         1349.6
        ],
        [
         747,
         "HL Mountain Frame - Black, 38",
         "Mountain Frames",
         1349.6
        ],
        [
         748,
         "HL Mountain Frame - Silver, 38",
         "Mountain Frames",
         1364.5
        ],
        [
         814,
         "ML Mountain Frame - Black, 38",
         "Mountain Frames",
         348.76
        ],
        [
         830,
         "ML Mountain Frame - Black, 40",
         "Mountain Frames",
         348.76
        ],
        [
         831,
         "ML Mountain Frame - Black, 44",
         "Mountain Frames",
         348.76
        ],
        [
         832,
         "ML Mountain Frame - Black, 48",
         "Mountain Frames",
         348.76
        ],
        [
         924,
         "LL Mountain Frame - Black, 42",
         "Mountain Frames",
         249.79
        ],
        [
         925,
         "LL Mountain Frame - Black, 44",
         "Mountain Frames",
         249.79
        ],
        [
         926,
         "LL Mountain Frame - Black, 48",
         "Mountain Frames",
         249.79
        ],
        [
         927,
         "LL Mountain Frame - Black, 52",
         "Mountain Frames",
         249.79
        ],
        [
         917,
         "LL Mountain Frame - Silver, 42",
         "Mountain Frames",
         264.05
        ],
        [
         918,
         "LL Mountain Frame - Silver, 44",
         "Mountain Frames",
         264.05
        ],
        [
         919,
         "LL Mountain Frame - Silver, 48",
         "Mountain Frames",
         264.05
        ],
        [
         920,
         "LL Mountain Frame - Silver, 52",
         "Mountain Frames",
         264.05
        ],
        [
         904,
         "ML Mountain Frame-W - Silver, 40",
         "Mountain Frames",
         364.09
        ],
        [
         905,
         "ML Mountain Frame-W - Silver, 42",
         "Mountain Frames",
         364.09
        ],
        [
         906,
         "ML Mountain Frame-W - Silver, 46",
         "Mountain Frames",
         364.09
        ],
        [
         942,
         "ML Mountain Frame-W - Silver, 38",
         "Mountain Frames",
         364.09
        ],
        [
         943,
         "LL Mountain Frame - Black, 40",
         "Mountain Frames",
         249.79
        ],
        [
         944,
         "LL Mountain Frame - Silver, 40",
         "Mountain Frames",
         264.05
        ],
        [
         935,
         "LL Mountain Pedal",
         "Pedals",
         40.49
        ],
        [
         936,
         "ML Mountain Pedal",
         "Pedals",
         62.09
        ],
        [
         937,
         "HL Mountain Pedal",
         "Pedals",
         80.99
        ],
        [
         938,
         "LL Road Pedal",
         "Pedals",
         40.49
        ],
        [
         939,
         "ML Road Pedal",
         "Pedals",
         62.09
        ],
        [
         940,
         "HL Road Pedal",
         "Pedals",
         80.99
        ],
        [
         941,
         "Touring Pedal",
         "Pedals",
         80.99
        ],
        [
         833,
         "ML Road Frame-W - Yellow, 40",
         "Road Frames",
         594.83
        ],
        [
         834,
         "ML Road Frame-W - Yellow, 42",
         "Road Frames",
         594.83
        ],
        [
         835,
         "ML Road Frame-W - Yellow, 44",
         "Road Frames",
         594.83
        ],
        [
         836,
         "ML Road Frame-W - Yellow, 48",
         "Road Frames",
         594.83
        ],
        [
         837,
         "HL Road Frame - Black, 62",
         "Road Frames",
         1431.5
        ],
        [
         838,
         "HL Road Frame - Black, 44",
         "Road Frames",
         1431.5
        ],
        [
         839,
         "HL Road Frame - Black, 48",
         "Road Frames",
         1431.5
        ],
        [
         840,
         "HL Road Frame - Black, 52",
         "Road Frames",
         1431.5
        ],
        [
         822,
         "ML Road Frame-W - Yellow, 38",
         "Road Frames",
         594.83
        ],
        [
         680,
         "HL Road Frame - Black, 58",
         "Road Frames",
         1431.5
        ],
        [
         706,
         "HL Road Frame - Red, 58",
         "Road Frames",
         1431.5
        ],
        [
         717,
         "HL Road Frame - Red, 62",
         "Road Frames",
         1431.5
        ],
        [
         718,
         "HL Road Frame - Red, 44",
         "Road Frames",
         1431.5
        ],
        [
         719,
         "HL Road Frame - Red, 48",
         "Road Frames",
         1431.5
        ],
        [
         720,
         "HL Road Frame - Red, 52",
         "Road Frames",
         1431.5
        ],
        [
         721,
         "HL Road Frame - Red, 56",
         "Road Frames",
         1431.5
        ],
        [
         722,
         "LL Road Frame - Black, 58",
         "Road Frames",
         337.22
        ],
        [
         723,
         "LL Road Frame - Black, 60",
         "Road Frames",
         337.22
        ],
        [
         724,
         "LL Road Frame - Black, 62",
         "Road Frames",
         337.22
        ],
        [
         725,
         "LL Road Frame - Red, 44",
         "Road Frames",
         337.22
        ],
        [
         726,
         "LL Road Frame - Red, 48",
         "Road Frames",
         337.22
        ],
        [
         727,
         "LL Road Frame - Red, 52",
         "Road Frames",
         337.22
        ],
        [
         728,
         "LL Road Frame - Red, 58",
         "Road Frames",
         337.22
        ],
        [
         729,
         "LL Road Frame - Red, 60",
         "Road Frames",
         337.22
        ],
        [
         730,
         "LL Road Frame - Red, 62",
         "Road Frames",
         337.22
        ],
        [
         731,
         "ML Road Frame - Red, 44",
         "Road Frames",
         594.83
        ],
        [
         732,
         "ML Road Frame - Red, 48",
         "Road Frames",
         594.83
        ],
        [
         733,
         "ML Road Frame - Red, 52",
         "Road Frames",
         594.83
        ],
        [
         734,
         "ML Road Frame - Red, 58",
         "Road Frames",
         594.83
        ],
        [
         735,
         "ML Road Frame - Red, 60",
         "Road Frames",
         594.83
        ],
        [
         736,
         "LL Road Frame - Black, 44",
         "Road Frames",
         337.22
        ],
        [
         737,
         "LL Road Frame - Black, 48",
         "Road Frames",
         337.22
        ],
        [
         738,
         "LL Road Frame - Black, 52",
         "Road Frames",
         337.22
        ],
        [
         908,
         "LL Mountain Seat/Saddle",
         "Saddles",
         27.12
        ],
        [
         909,
         "ML Mountain Seat/Saddle",
         "Saddles",
         39.14
        ],
        [
         910,
         "HL Mountain Seat/Saddle",
         "Saddles",
         52.64
        ],
        [
         911,
         "LL Road Seat/Saddle",
         "Saddles",
         27.12
        ],
        [
         912,
         "ML Road Seat/Saddle",
         "Saddles",
         39.14
        ],
        [
         913,
         "HL Road Seat/Saddle",
         "Saddles",
         52.64
        ],
        [
         914,
         "LL Touring Seat/Saddle",
         "Saddles",
         27.12
        ],
        [
         915,
         "ML Touring Seat/Saddle",
         "Saddles",
         39.14
        ],
        [
         916,
         "HL Touring Seat/Saddle",
         "Saddles",
         52.64
        ],
        [
         895,
         "LL Touring Frame - Blue, 50",
         "Touring Frames",
         333.42
        ],
        [
         896,
         "LL Touring Frame - Blue, 54",
         "Touring Frames",
         333.42
        ],
        [
         897,
         "LL Touring Frame - Blue, 58",
         "Touring Frames",
         333.42
        ],
        [
         898,
         "LL Touring Frame - Blue, 62",
         "Touring Frames",
         333.42
        ],
        [
         899,
         "LL Touring Frame - Yellow, 44",
         "Touring Frames",
         333.42
        ],
        [
         900,
         "LL Touring Frame - Yellow, 50",
         "Touring Frames",
         333.42
        ],
        [
         901,
         "LL Touring Frame - Yellow, 54",
         "Touring Frames",
         333.42
        ],
        [
         902,
         "LL Touring Frame - Yellow, 58",
         "Touring Frames",
         333.42
        ],
        [
         903,
         "LL Touring Frame - Blue, 44",
         "Touring Frames",
         333.42
        ],
        [
         885,
         "HL Touring Frame - Yellow, 60",
         "Touring Frames",
         1003.91
        ],
        [
         886,
         "LL Touring Frame - Yellow, 62",
         "Touring Frames",
         333.42
        ],
        [
         887,
         "HL Touring Frame - Yellow, 46",
         "Touring Frames",
         1003.91
        ],
        [
         888,
         "HL Touring Frame - Yellow, 50",
         "Touring Frames",
         1003.91
        ],
        [
         889,
         "HL Touring Frame - Yellow, 54",
         "Touring Frames",
         1003.91
        ],
        [
         890,
         "HL Touring Frame - Blue, 46",
         "Touring Frames",
         1003.91
        ],
        [
         891,
         "HL Touring Frame - Blue, 50",
         "Touring Frames",
         1003.91
        ],
        [
         892,
         "HL Touring Frame - Blue, 54",
         "Touring Frames",
         1003.91
        ],
        [
         893,
         "HL Touring Frame - Blue, 60",
         "Touring Frames",
         1003.91
        ],
        [
         823,
         "LL Mountain Rear Wheel",
         "Wheels",
         87.745
        ],
        [
         824,
         "ML Mountain Rear Wheel",
         "Wheels",
         236.025
        ],
        [
         825,
         "HL Mountain Rear Wheel",
         "Wheels",
         327.215
        ],
        [
         826,
         "LL Road Rear Wheel",
         "Wheels",
         112.565
        ],
        [
         827,
         "ML Road Rear Wheel",
         "Wheels",
         275.385
        ],
        [
         828,
         "HL Road Rear Wheel",
         "Wheels",
         357.06
        ],
        [
         829,
         "Touring Rear Wheel",
         "Wheels",
         245.01
        ],
        [
         815,
         "LL Mountain Front Wheel",
         "Wheels",
         60.745
        ],
        [
         816,
         "ML Mountain Front Wheel",
         "Wheels",
         209.025
        ],
        [
         817,
         "HL Mountain Front Wheel",
         "Wheels",
         300.215
        ],
        [
         818,
         "LL Road Front Wheel",
         "Wheels",
         85.565
        ],
        [
         819,
         "ML Road Front Wheel",
         "Wheels",
         248.385
        ],
        [
         820,
         "HL Road Front Wheel",
         "Wheels",
         330.06
        ],
        [
         821,
         "Touring Front Wheel",
         "Wheels",
         218.01
        ],
        [
         855,
         "Men's Bib-Shorts, S",
         "Bib-Shorts",
         89.99
        ],
        [
         856,
         "Men's Bib-Shorts, M",
         "Bib-Shorts",
         89.99
        ],
        [
         857,
         "Men's Bib-Shorts, L",
         "Bib-Shorts",
         89.99
        ],
        [
         712,
         "AWC Logo Cap",
         "Caps",
         8.99
        ],
        [
         858,
         "Half-Finger Gloves, S",
         "Gloves",
         24.49
        ],
        [
         859,
         "Half-Finger Gloves, M",
         "Gloves",
         24.49
        ],
        [
         860,
         "Half-Finger Gloves, L",
         "Gloves",
         24.49
        ],
        [
         861,
         "Full-Finger Gloves, S",
         "Gloves",
         37.99
        ],
        [
         862,
         "Full-Finger Gloves, M",
         "Gloves",
         37.99
        ],
        [
         863,
         "Full-Finger Gloves, L",
         "Gloves",
         37.99
        ],
        [
         713,
         "Long-Sleeve Logo Jersey, S",
         "Jerseys",
         49.99
        ],
        [
         714,
         "Long-Sleeve Logo Jersey, M",
         "Jerseys",
         49.99
        ],
        [
         715,
         "Long-Sleeve Logo Jersey, L",
         "Jerseys",
         49.99
        ],
        [
         716,
         "Long-Sleeve Logo Jersey, XL",
         "Jerseys",
         49.99
        ],
        [
         881,
         "Short-Sleeve Classic Jersey, S",
         "Jerseys",
         53.99
        ],
        [
         882,
         "Short-Sleeve Classic Jersey, M",
         "Jerseys",
         53.99
        ],
        [
         883,
         "Short-Sleeve Classic Jersey, L",
         "Jerseys",
         53.99
        ],
        [
         884,
         "Short-Sleeve Classic Jersey, XL",
         "Jerseys",
         53.99
        ],
        [
         867,
         "Women's Mountain Shorts, S",
         "Shorts",
         69.99
        ],
        [
         868,
         "Women's Mountain Shorts, M",
         "Shorts",
         69.99
        ],
        [
         869,
         "Women's Mountain Shorts, L",
         "Shorts",
         69.99
        ],
        [
         841,
         "Men's Sports Shorts, S",
         "Shorts",
         59.99
        ],
        [
         849,
         "Men's Sports Shorts, M",
         "Shorts",
         59.99
        ],
        [
         850,
         "Men's Sports Shorts, L",
         "Shorts",
         59.99
        ],
        [
         851,
         "Men's Sports Shorts, XL",
         "Shorts",
         59.99
        ],
        [
         709,
         "Mountain Bike Socks, M",
         "Socks",
         9.5
        ],
        [
         710,
         "Mountain Bike Socks, L",
         "Socks",
         9.5
        ],
        [
         874,
         "Racing Socks, M",
         "Socks",
         8.99
        ],
        [
         875,
         "Racing Socks, L",
         "Socks",
         8.99
        ],
        [
         852,
         "Women's Tights, S",
         "Tights",
         74.99
        ],
        [
         853,
         "Women's Tights, M",
         "Tights",
         74.99
        ],
        [
         854,
         "Women's Tights, L",
         "Tights",
         74.99
        ],
        [
         864,
         "Classic Vest, S",
         "Vests",
         63.5
        ],
        [
         865,
         "Classic Vest, M",
         "Vests",
         63.5
        ],
        [
         866,
         "Classic Vest, L",
         "Vests",
         63.5
        ],
        [
         876,
         "Hitch Rack - 4-Bike",
         "Bike Racks",
         120
        ],
        [
         879,
         "All-Purpose Bike Stand",
         "Bike Stands",
         159
        ],
        [
         870,
         "Water Bottle - 30 oz.",
         "Bottles and Cages",
         4.99
        ],
        [
         871,
         "Mountain Bottle Cage",
         "Bottles and Cages",
         9.99
        ],
        [
         872,
         "Road Bottle Cage",
         "Bottles and Cages",
         8.99
        ],
        [
         877,
         "Bike Wash - Dissolver",
         "Cleaners",
         7.95
        ],
        [
         878,
         "Fender Set - Mountain",
         "Fenders",
         21.98
        ],
        [
         711,
         "Sport-100 Helmet, Blue",
         "Helmets",
         34.99
        ],
        [
         707,
         "Sport-100 Helmet, Red",
         "Helmets",
         34.99
        ],
        [
         708,
         "Sport-100 Helmet, Black",
         "Helmets",
         34.99
        ],
        [
         880,
         "Hydration Pack - 70 oz.",
         "Hydration Packs",
         54.99
        ],
        [
         846,
         "Taillights - Battery-Powered",
         "Lights",
         13.99
        ],
        [
         847,
         "Headlights - Dual-Beam",
         "Lights",
         34.99
        ],
        [
         848,
         "Headlights - Weatherproof",
         "Lights",
         44.99
        ],
        [
         843,
         "Cable Lock",
         "Locks",
         25
        ],
        [
         842,
         "Touring-Panniers, Large",
         "Panniers",
         125
        ],
        [
         844,
         "Minipump",
         "Pumps",
         19.99
        ],
        [
         845,
         "Mountain Pump",
         "Pumps",
         24.99
        ],
        [
         873,
         "Patch Kit/8 Patches",
         "Tires and Tubes",
         2.29
        ],
        [
         921,
         "Mountain Tire Tube",
         "Tires and Tubes",
         4.99
        ],
        [
         922,
         "Road Tire Tube",
         "Tires and Tubes",
         3.99
        ],
        [
         923,
         "Touring Tire Tube",
         "Tires and Tubes",
         4.99
        ],
        [
         928,
         "LL Mountain Tire",
         "Tires and Tubes",
         24.99
        ],
        [
         929,
         "ML Mountain Tire",
         "Tires and Tubes",
         29.99
        ],
        [
         930,
         "HL Mountain Tire",
         "Tires and Tubes",
         35
        ],
        [
         931,
         "LL Road Tire",
         "Tires and Tubes",
         21.49
        ],
        [
         932,
         "ML Road Tire",
         "Tires and Tubes",
         24.99
        ],
        [
         933,
         "HL Road Tire",
         "Tires and Tubes",
         32.6
        ],
        [
         934,
         "Touring Tire",
         "Tires and Tubes",
         28.99
        ]
       ],
       "datasetInfos": [],
       "dbfsResultPath": null,
       "isJsonSchema": true,
       "metadata": {},
       "overflow": false,
       "plotOptions": {
        "customPlotOptions": {},
        "displayType": "table",
        "pivotAggregation": null,
        "pivotColumns": null,
        "xColumns": null,
        "yColumns": null
       },
       "removedWidgets": [],
       "schema": [
        {
         "metadata": "{}",
         "name": "ProductID",
         "type": "\"integer\""
        },
        {
         "metadata": "{}",
         "name": "ProductName",
         "type": "\"string\""
        },
        {
         "metadata": "{}",
         "name": "Category",
         "type": "\"string\""
        },
        {
         "metadata": "{}",
         "name": "ListPrice",
         "type": "\"double\""
        }
       ],
       "type": "table"
      }
     },
     "output_type": "display_data"
    }
   ],
   "source": [
    "display(products_df)"
   ]
  },
  {
   "cell_type": "markdown",
   "metadata": {
    "application/vnd.databricks.v1+cell": {
     "cellMetadata": {
      "byteLimit": 2048000,
      "rowLimit": 10000
     },
     "inputWidgets": {},
     "nuid": "926a4eaf-7936-41d7-a9c6-96bef5108278",
     "showTitle": false,
     "title": ""
    }
   },
   "source": [
    "##### Filter a DataFrame"
   ]
  },
  {
   "cell_type": "code",
   "execution_count": null,
   "metadata": {
    "application/vnd.databricks.v1+cell": {
     "cellMetadata": {
      "byteLimit": 2048000,
      "rowLimit": 10000
     },
     "inputWidgets": {},
     "nuid": "dd08769f-ead3-4e63-b4b5-5d86e6c667ac",
     "showTitle": false,
     "title": ""
    }
   },
   "outputs": [
    {
     "name": "stdout",
     "output_type": "stream",
     "text": [
      "295\n",
      "295\n"
     ]
    },
    {
     "data": {
      "text/html": [
       "<style scoped>\n",
       "  .table-result-container {\n",
       "    max-height: 300px;\n",
       "    overflow: auto;\n",
       "  }\n",
       "  table, th, td {\n",
       "    border: 1px solid black;\n",
       "    border-collapse: collapse;\n",
       "  }\n",
       "  th, td {\n",
       "    padding: 5px;\n",
       "  }\n",
       "  th {\n",
       "    text-align: left;\n",
       "  }\n",
       "</style><div class='table-result-container'><table class='table-result'><thead style='background-color: white'><tr><th>ProductID</th><th>ProductName</th><th>Category</th></tr></thead><tbody><tr><td>959</td><td>Touring-3000 Blue, 58</td><td>Touring Bikes</td></tr><tr><td>781</td><td>Mountain-200 Silver, 46</td><td>Mountain Bikes</td></tr><tr><td>870</td><td>Water Bottle - 30 oz.</td><td>Bottles and Cages</td></tr><tr><td>899</td><td>LL Touring Frame - Yellow, 44</td><td>Touring Frames</td></tr><tr><td>869</td><td>Women's Mountain Shorts, L</td><td>Shorts</td></tr><tr><td>752</td><td>Road-150 Red, 52</td><td>Road Bikes</td></tr><tr><td>723</td><td>LL Road Frame - Black, 60</td><td>Road Frames</td></tr><tr><td>895</td><td>LL Touring Frame - Blue, 50</td><td>Touring Frames</td></tr><tr><td>901</td><td>LL Touring Frame - Yellow, 54</td><td>Touring Frames</td></tr><tr><td>868</td><td>Women's Mountain Shorts, M</td><td>Shorts</td></tr><tr><td>933</td><td>HL Road Tire</td><td>Tires and Tubes</td></tr><tr><td>771</td><td>Mountain-100 Silver, 38</td><td>Mountain Bikes</td></tr><tr><td>999</td><td>Road-750 Black, 52</td><td>Road Bikes</td></tr><tr><td>767</td><td>Road-650 Black, 62</td><td>Road Bikes</td></tr><tr><td>727</td><td>LL Road Frame - Red, 52</td><td>Road Frames</td></tr><tr><td>710</td><td>Mountain Bike Socks, L</td><td>Socks</td></tr><tr><td>759</td><td>Road-650 Red, 58</td><td>Road Bikes</td></tr><tr><td>852</td><td>Women's Tights, S</td><td>Tights</td></tr><tr><td>796</td><td>Road-250 Black, 58</td><td>Road Bikes</td></tr><tr><td>807</td><td>HL Headset</td><td>Headsets</td></tr><tr><td>928</td><td>LL Mountain Tire</td><td>Tires and Tubes</td></tr><tr><td>797</td><td>Road-550-W Yellow, 38</td><td>Road Bikes</td></tr><tr><td>929</td><td>ML Mountain Tire</td><td>Tires and Tubes</td></tr><tr><td>826</td><td>LL Road Rear Wheel</td><td>Wheels</td></tr><tr><td>779</td><td>Mountain-200 Silver, 38</td><td>Mountain Bikes</td></tr><tr><td>894</td><td>Rear Derailleur</td><td>Derailleurs</td></tr><tr><td>974</td><td>Road-350-W Yellow, 42</td><td>Road Bikes</td></tr><tr><td>971</td><td>Touring-2000 Blue, 50</td><td>Touring Bikes</td></tr><tr><td>902</td><td>LL Touring Frame - Yellow, 58</td><td>Touring Frames</td></tr><tr><td>989</td><td>Mountain-500 Black, 40</td><td>Mountain Bikes</td></tr><tr><td>754</td><td>Road-450 Red, 58</td><td>Road Bikes</td></tr><tr><td>962</td><td>Touring-3000 Yellow, 50</td><td>Touring Bikes</td></tr><tr><td>785</td><td>Mountain-300 Black, 38</td><td>Mountain Bikes</td></tr><tr><td>737</td><td>LL Road Frame - Black, 48</td><td>Road Frames</td></tr><tr><td>938</td><td>LL Road Pedal</td><td>Pedals</td></tr><tr><td>920</td><td>LL Mountain Frame - Silver, 52</td><td>Mountain Frames</td></tr><tr><td>815</td><td>LL Mountain Front Wheel</td><td>Wheels</td></tr><tr><td>816</td><td>ML Mountain Front Wheel</td><td>Wheels</td></tr><tr><td>845</td><td>Mountain Pump</td><td>Pumps</td></tr><tr><td>778</td><td>Mountain-100 Black, 48</td><td>Mountain Bikes</td></tr><tr><td>756</td><td>Road-450 Red, 44</td><td>Road Bikes</td></tr><tr><td>821</td><td>Touring Front Wheel</td><td>Wheels</td></tr><tr><td>731</td><td>ML Road Frame - Red, 44</td><td>Road Frames</td></tr><tr><td>734</td><td>ML Road Frame - Red, 58</td><td>Road Frames</td></tr><tr><td>991</td><td>Mountain-500 Black, 44</td><td>Mountain Bikes</td></tr><tr><td>770</td><td>Road-650 Black, 52</td><td>Road Bikes</td></tr><tr><td>960</td><td>Touring-3000 Blue, 62</td><td>Touring Bikes</td></tr><tr><td>914</td><td>LL Touring Seat/Saddle</td><td>Saddles</td></tr><tr><td>880</td><td>Hydration Pack - 70 oz.</td><td>Hydration Packs</td></tr><tr><td>801</td><td>Road-550-W Yellow, 48</td><td>Road Bikes</td></tr><tr><td>890</td><td>HL Touring Frame - Blue, 46</td><td>Touring Frames</td></tr><tr><td>761</td><td>Road-650 Red, 62</td><td>Road Bikes</td></tr><tr><td>819</td><td>ML Road Front Wheel</td><td>Wheels</td></tr><tr><td>993</td><td>Mountain-500 Black, 52</td><td>Mountain Bikes</td></tr><tr><td>730</td><td>LL Road Frame - Red, 62</td><td>Road Frames</td></tr><tr><td>983</td><td>Mountain-400-W Silver, 46</td><td>Mountain Bikes</td></tr><tr><td>763</td><td>Road-650 Red, 48</td><td>Road Bikes</td></tr><tr><td>859</td><td>Half-Finger Gloves, M</td><td>Gloves</td></tr><tr><td>862</td><td>Full-Finger Gloves, M</td><td>Gloves</td></tr><tr><td>988</td><td>Mountain-500 Silver, 52</td><td>Mountain Bikes</td></tr><tr><td>922</td><td>Road Tire Tube</td><td>Tires and Tubes</td></tr><tr><td>769</td><td>Road-650 Black, 48</td><td>Road Bikes</td></tr><tr><td>955</td><td>Touring-1000 Yellow, 50</td><td>Touring Bikes</td></tr><tr><td>970</td><td>Touring-2000 Blue, 46</td><td>Touring Bikes</td></tr><tr><td>887</td><td>HL Touring Frame - Yellow, 46</td><td>Touring Frames</td></tr><tr><td>876</td><td>Hitch Rack - 4-Bike</td><td>Bike Racks</td></tr><tr><td>949</td><td>LL Crankset</td><td>Cranksets</td></tr><tr><td>743</td><td>HL Mountain Frame - Black, 42</td><td>Mountain Frames</td></tr><tr><td>915</td><td>ML Touring Seat/Saddle</td><td>Saddles</td></tr><tr><td>854</td><td>Women's Tights, L</td><td>Tights</td></tr><tr><td>889</td><td>HL Touring Frame - Yellow, 54</td><td>Touring Frames</td></tr><tr><td>829</td><td>Touring Rear Wheel</td><td>Wheels</td></tr><tr><td>872</td><td>Road Bottle Cage</td><td>Bottles and Cages</td></tr><tr><td>791</td><td>Road-250 Red, 52</td><td>Road Bikes</td></tr><tr><td>707</td><td>Sport-100 Helmet, Red</td><td>Helmets</td></tr><tr><td>923</td><td>Touring Tire Tube</td><td>Tires and Tubes</td></tr><tr><td>957</td><td>Touring-1000 Yellow, 60</td><td>Touring Bikes</td></tr><tr><td>842</td><td>Touring-Panniers, Large</td><td>Panniers</td></tr><tr><td>717</td><td>HL Road Frame - Red, 62</td><td>Road Frames</td></tr><tr><td>978</td><td>Touring-3000 Blue, 44</td><td>Touring Bikes</td></tr><tr><td>831</td><td>ML Mountain Frame - Black, 44</td><td>Mountain Frames</td></tr><tr><td>919</td><td>LL Mountain Frame - Silver, 48</td><td>Mountain Frames</td></tr><tr><td>940</td><td>HL Road Pedal</td><td>Pedals</td></tr><tr><td>941</td><td>Touring Pedal</td><td>Pedals</td></tr><tr><td>738</td><td>LL Road Frame - Black, 52</td><td>Road Frames</td></tr><tr><td>909</td><td>ML Mountain Seat/Saddle</td><td>Saddles</td></tr><tr><td>888</td><td>HL Touring Frame - Yellow, 50</td><td>Touring Frames</td></tr><tr><td>824</td><td>ML Mountain Rear Wheel</td><td>Wheels</td></tr><tr><td>788</td><td>Mountain-300 Black, 48</td><td>Mountain Bikes</td></tr><tr><td>992</td><td>Mountain-500 Black, 48</td><td>Mountain Bikes</td></tr><tr><td>997</td><td>Road-750 Black, 44</td><td>Road Bikes</td></tr><tr><td>925</td><td>LL Mountain Frame - Black, 44</td><td>Mountain Frames</td></tr><tr><td>755</td><td>Road-450 Red, 60</td><td>Road Bikes</td></tr><tr><td>713</td><td>Long-Sleeve Logo Jersey, S</td><td>Jerseys</td></tr><tr><td>874</td><td>Racing Socks, M</td><td>Socks</td></tr><tr><td>861</td><td>Full-Finger Gloves, S</td><td>Gloves</td></tr><tr><td>833</td><td>ML Road Frame-W - Yellow, 40</td><td>Road Frames</td></tr><tr><td>865</td><td>Classic Vest, M</td><td>Vests</td></tr><tr><td>810</td><td>HL Mountain Handlebars</td><td>Handlebars</td></tr><tr><td>897</td><td>LL Touring Frame - Blue, 58</td><td>Touring Frames</td></tr><tr><td>866</td><td>Classic Vest, L</td><td>Vests</td></tr><tr><td>981</td><td>Mountain-400-W Silver, 40</td><td>Mountain Bikes</td></tr><tr><td>809</td><td>ML Mountain Handlebars</td><td>Handlebars</td></tr><tr><td>772</td><td>Mountain-100 Silver, 42</td><td>Mountain Bikes</td></tr><tr><td>799</td><td>Road-550-W Yellow, 42</td><td>Road Bikes</td></tr><tr><td>906</td><td>ML Mountain Frame-W - Silver, 46</td><td>Mountain Frames</td></tr><tr><td>798</td><td>Road-550-W Yellow, 40</td><td>Road Bikes</td></tr><tr><td>898</td><td>LL Touring Frame - Blue, 62</td><td>Touring Frames</td></tr><tr><td>766</td><td>Road-650 Black, 60</td><td>Road Bikes</td></tr><tr><td>768</td><td>Road-650 Black, 44</td><td>Road Bikes</td></tr><tr><td>747</td><td>HL Mountain Frame - Black, 38</td><td>Mountain Frames</td></tr><tr><td>950</td><td>ML Crankset</td><td>Cranksets</td></tr><tr><td>896</td><td>LL Touring Frame - Blue, 54</td><td>Touring Frames</td></tr><tr><td>708</td><td>Sport-100 Helmet, Black</td><td>Helmets</td></tr><tr><td>706</td><td>HL Road Frame - Red, 58</td><td>Road Frames</td></tr><tr><td>871</td><td>Mountain Bottle Cage</td><td>Bottles and Cages</td></tr><tr><td>725</td><td>LL Road Frame - Red, 44</td><td>Road Frames</td></tr><tr><td>873</td><td>Patch Kit/8 Patches</td><td>Tires and Tubes</td></tr><tr><td>904</td><td>ML Mountain Frame-W - Silver, 40</td><td>Mountain Frames</td></tr><tr><td>736</td><td>LL Road Frame - Black, 44</td><td>Road Frames</td></tr><tr><td>720</td><td>HL Road Frame - Red, 52</td><td>Road Frames</td></tr><tr><td>749</td><td>Road-150 Red, 62</td><td>Road Bikes</td></tr><tr><td>760</td><td>Road-650 Red, 60</td><td>Road Bikes</td></tr><tr><td>911</td><td>LL Road Seat/Saddle</td><td>Saddles</td></tr><tr><td>709</td><td>Mountain Bike Socks, M</td><td>Socks</td></tr><tr><td>851</td><td>Men's Sports Shorts, XL</td><td>Shorts</td></tr><tr><td>790</td><td>Road-250 Red, 48</td><td>Road Bikes</td></tr><tr><td>917</td><td>LL Mountain Frame - Silver, 42</td><td>Mountain Frames</td></tr><tr><td>878</td><td>Fender Set - Mountain</td><td>Fenders</td></tr><tr><td>748</td><td>HL Mountain Frame - Silver, 38</td><td>Mountain Frames</td></tr><tr><td>802</td><td>LL Fork</td><td>Forks</td></tr><tr><td>812</td><td>ML Road Handlebars</td><td>Handlebars</td></tr><tr><td>806</td><td>ML Headset</td><td>Headsets</td></tr><tr><td>980</td><td>Mountain-400-W Silver, 38</td><td>Mountain Bikes</td></tr><tr><td>793</td><td>Road-250 Black, 44</td><td>Road Bikes</td></tr><tr><td>972</td><td>Touring-2000 Blue, 54</td><td>Touring Bikes</td></tr><tr><td>739</td><td>HL Mountain Frame - Silver, 42</td><td>Mountain Frames</td></tr><tr><td>775</td><td>Mountain-100 Black, 38</td><td>Mountain Bikes</td></tr><tr><td>961</td><td>Touring-3000 Yellow, 44</td><td>Touring Bikes</td></tr><tr><td>813</td><td>HL Road Handlebars</td><td>Handlebars</td></tr><tr><td>930</td><td>HL Mountain Tire</td><td>Tires and Tubes</td></tr><tr><td>724</td><td>LL Road Frame - Black, 62</td><td>Road Frames</td></tr><tr><td>945</td><td>Front Derailleur</td><td>Derailleurs</td></tr><tr><td>952</td><td>Chain</td><td>Chains</td></tr><tr><td>726</td><td>LL Road Frame - Red, 48</td><td>Road Frames</td></tr><tr><td>979</td><td>Touring-3000 Blue, 50</td><td>Touring Bikes</td></tr><tr><td>985</td><td>Mountain-500 Silver, 42</td><td>Mountain Bikes</td></tr><tr><td>916</td><td>HL Touring Seat/Saddle</td><td>Saddles</td></tr><tr><td>844</td><td>Minipump</td><td>Pumps</td></tr><tr><td>780</td><td>Mountain-200 Silver, 42</td><td>Mountain Bikes</td></tr><tr><td>735</td><td>ML Road Frame - Red, 60</td><td>Road Frames</td></tr><tr><td>918</td><td>LL Mountain Frame - Silver, 44</td><td>Mountain Frames</td></tr><tr><td>817</td><td>HL Mountain Front Wheel</td><td>Wheels</td></tr><tr><td>958</td><td>Touring-3000 Blue, 54</td><td>Touring Bikes</td></tr><tr><td>751</td><td>Road-150 Red, 48</td><td>Road Bikes</td></tr><tr><td>956</td><td>Touring-1000 Yellow, 54</td><td>Touring Bikes</td></tr><tr><td>968</td><td>Touring-1000 Blue, 54</td><td>Touring Bikes</td></tr><tr><td>921</td><td>Mountain Tire Tube</td><td>Tires and Tubes</td></tr><tr><td>795</td><td>Road-250 Black, 52</td><td>Road Bikes</td></tr><tr><td>912</td><td>ML Road Seat/Saddle</td><td>Saddles</td></tr><tr><td>714</td><td>Long-Sleeve Logo Jersey, M</td><td>Jerseys</td></tr><tr><td>832</td><td>ML Mountain Frame - Black, 48</td><td>Mountain Frames</td></tr><tr><td>733</td><td>ML Road Frame - Red, 52</td><td>Road Frames</td></tr><tr><td>964</td><td>Touring-3000 Yellow, 58</td><td>Touring Bikes</td></tr><tr><td>836</td><td>ML Road Frame-W - Yellow, 48</td><td>Road Frames</td></tr><tr><td>828</td><td>HL Road Rear Wheel</td><td>Wheels</td></tr><tr><td>789</td><td>Road-250 Red, 44</td><td>Road Bikes</td></tr><tr><td>712</td><td>AWC Logo Cap</td><td>Caps</td></tr><tr><td>762</td><td>Road-650 Red, 44</td><td>Road Bikes</td></tr><tr><td>860</td><td>Half-Finger Gloves, L</td><td>Gloves</td></tr><tr><td>900</td><td>LL Touring Frame - Yellow, 50</td><td>Touring Frames</td></tr><tr><td>740</td><td>HL Mountain Frame - Silver, 44</td><td>Mountain Frames</td></tr><tr><td>732</td><td>ML Road Frame - Red, 48</td><td>Road Frames</td></tr><tr><td>867</td><td>Women's Mountain Shorts, S</td><td>Shorts</td></tr><tr><td>783</td><td>Mountain-200 Black, 42</td><td>Mountain Bikes</td></tr><tr><td>805</td><td>LL Headset</td><td>Headsets</td></tr><tr><td>841</td><td>Men's Sports Shorts, S</td><td>Shorts</td></tr><tr><td>935</td><td>LL Mountain Pedal</td><td>Pedals</td></tr><tr><td>847</td><td>Headlights - Dual-Beam</td><td>Lights</td></tr><tr><td>758</td><td>Road-450 Red, 52</td><td>Road Bikes</td></tr><tr><td>951</td><td>HL Crankset</td><td>Cranksets</td></tr><tr><td>773</td><td>Mountain-100 Silver, 44</td><td>Mountain Bikes</td></tr><tr><td>965</td><td>Touring-3000 Yellow, 62</td><td>Touring Bikes</td></tr><tr><td>746</td><td>HL Mountain Frame - Black, 46</td><td>Mountain Frames</td></tr><tr><td>804</td><td>HL Fork</td><td>Forks</td></tr><tr><td>927</td><td>LL Mountain Frame - Black, 52</td><td>Mountain Frames</td></tr><tr><td>742</td><td>HL Mountain Frame - Silver, 46</td><td>Mountain Frames</td></tr><tr><td>715</td><td>Long-Sleeve Logo Jersey, L</td><td>Jerseys</td></tr><tr><td>908</td><td>LL Mountain Seat/Saddle</td><td>Saddles</td></tr><tr><td>856</td><td>Men's Bib-Shorts, M</td><td>Bib-Shorts</td></tr><tr><td>881</td><td>Short-Sleeve Classic Jersey, S</td><td>Jerseys</td></tr><tr><td>744</td><td>HL Mountain Frame - Black, 44</td><td>Mountain Frames</td></tr><tr><td>987</td><td>Mountain-500 Silver, 48</td><td>Mountain Bikes</td></tr><tr><td>823</td><td>LL Mountain Rear Wheel</td><td>Wheels</td></tr><tr><td>811</td><td>LL Road Handlebars</td><td>Handlebars</td></tr><tr><td>877</td><td>Bike Wash - Dissolver</td><td>Cleaners</td></tr><tr><td>776</td><td>Mountain-100 Black, 42</td><td>Mountain Bikes</td></tr><tr><td>827</td><td>ML Road Rear Wheel</td><td>Wheels</td></tr><tr><td>820</td><td>HL Road Front Wheel</td><td>Wheels</td></tr><tr><td>954</td><td>Touring-1000 Yellow, 46</td><td>Touring Bikes</td></tr><tr><td>774</td><td>Mountain-100 Silver, 48</td><td>Mountain Bikes</td></tr><tr><td>990</td><td>Mountain-500 Black, 42</td><td>Mountain Bikes</td></tr><tr><td>996</td><td>HL Bottom Bracket</td><td>Bottom Brackets</td></tr><tr><td>753</td><td>Road-150 Red, 56</td><td>Road Bikes</td></tr><tr><td>944</td><td>LL Mountain Frame - Silver, 40</td><td>Mountain Frames</td></tr><tr><td>937</td><td>HL Mountain Pedal</td><td>Pedals</td></tr><tr><td>931</td><td>LL Road Tire</td><td>Tires and Tubes</td></tr><tr><td>924</td><td>LL Mountain Frame - Black, 42</td><td>Mountain Frames</td></tr><tr><td>984</td><td>Mountain-500 Silver, 40</td><td>Mountain Bikes</td></tr><tr><td>741</td><td>HL Mountain Frame - Silver, 48</td><td>Mountain Frames</td></tr><tr><td>745</td><td>HL Mountain Frame - Black, 48</td><td>Mountain Frames</td></tr><tr><td>884</td><td>Short-Sleeve Classic Jersey, XL</td><td>Jerseys</td></tr><tr><td>784</td><td>Mountain-200 Black, 46</td><td>Mountain Bikes</td></tr><tr><td>765</td><td>Road-650 Black, 58</td><td>Road Bikes</td></tr><tr><td>926</td><td>LL Mountain Frame - Black, 48</td><td>Mountain Frames</td></tr><tr><td>719</td><td>HL Road Frame - Red, 48</td><td>Road Frames</td></tr><tr><td>787</td><td>Mountain-300 Black, 44</td><td>Mountain Bikes</td></tr><tr><td>803</td><td>ML Fork</td><td>Forks</td></tr><tr><td>757</td><td>Road-450 Red, 48</td><td>Road Bikes</td></tr><tr><td>837</td><td>HL Road Frame - Black, 62</td><td>Road Frames</td></tr><tr><td>729</td><td>LL Road Frame - Red, 60</td><td>Road Frames</td></tr><tr><td>848</td><td>Headlights - Weatherproof</td><td>Lights</td></tr><tr><td>750</td><td>Road-150 Red, 44</td><td>Road Bikes</td></tr><tr><td>835</td><td>ML Road Frame-W - Yellow, 44</td><td>Road Frames</td></tr><tr><td>885</td><td>HL Touring Frame - Yellow, 60</td><td>Touring Frames</td></tr><tr><td>998</td><td>Road-750 Black, 48</td><td>Road Bikes</td></tr><tr><td>875</td><td>Racing Socks, L</td><td>Socks</td></tr><tr><td>764</td><td>Road-650 Red, 52</td><td>Road Bikes</td></tr><tr><td>792</td><td>Road-250 Red, 58</td><td>Road Bikes</td></tr><tr><td>936</td><td>ML Mountain Pedal</td><td>Pedals</td></tr><tr><td>864</td><td>Classic Vest, S</td><td>Vests</td></tr><tr><td>973</td><td>Road-350-W Yellow, 40</td><td>Road Bikes</td></tr><tr><td>893</td><td>HL Touring Frame - Blue, 60</td><td>Touring Frames</td></tr><tr><td>849</td><td>Men's Sports Shorts, M</td><td>Shorts</td></tr><tr><td>800</td><td>Road-550-W Yellow, 44</td><td>Road Bikes</td></tr><tr><td>680</td><td>HL Road Frame - Black, 58</td><td>Road Frames</td></tr><tr><td>728</td><td>LL Road Frame - Red, 58</td><td>Road Frames</td></tr><tr><td>892</td><td>HL Touring Frame - Blue, 54</td><td>Touring Frames</td></tr><tr><td>711</td><td>Sport-100 Helmet, Blue</td><td>Helmets</td></tr><tr><td>986</td><td>Mountain-500 Silver, 44</td><td>Mountain Bikes</td></tr><tr><td>976</td><td>Road-350-W Yellow, 48</td><td>Road Bikes</td></tr><tr><td>830</td><td>ML Mountain Frame - Black, 40</td><td>Mountain Frames</td></tr><tr><td>910</td><td>HL Mountain Seat/Saddle</td><td>Saddles</td></tr><tr><td>977</td><td>Road-750 Black, 58</td><td>Road Bikes</td></tr><tr><td>903</td><td>LL Touring Frame - Blue, 44</td><td>Touring Frames</td></tr><tr><td>886</td><td>LL Touring Frame - Yellow, 62</td><td>Touring Frames</td></tr><tr><td>850</td><td>Men's Sports Shorts, L</td><td>Shorts</td></tr><tr><td>822</td><td>ML Road Frame-W - Yellow, 38</td><td>Road Frames</td></tr><tr><td>818</td><td>LL Road Front Wheel</td><td>Wheels</td></tr><tr><td>913</td><td>HL Road Seat/Saddle</td><td>Saddles</td></tr><tr><td>907</td><td>Rear Brakes</td><td>Brakes</td></tr><tr><td>939</td><td>ML Road Pedal</td><td>Pedals</td></tr><tr><td>846</td><td>Taillights - Battery-Powered</td><td>Lights</td></tr><tr><td>942</td><td>ML Mountain Frame-W - Silver, 38</td><td>Mountain Frames</td></tr><tr><td>882</td><td>Short-Sleeve Classic Jersey, M</td><td>Jerseys</td></tr><tr><td>883</td><td>Short-Sleeve Classic Jersey, L</td><td>Jerseys</td></tr><tr><td>932</td><td>ML Road Tire</td><td>Tires and Tubes</td></tr><tr><td>995</td><td>ML Bottom Bracket</td><td>Bottom Brackets</td></tr><tr><td>718</td><td>HL Road Frame - Red, 44</td><td>Road Frames</td></tr><tr><td>969</td><td>Touring-1000 Blue, 60</td><td>Touring Bikes</td></tr><tr><td>853</td><td>Women's Tights, M</td><td>Tights</td></tr><tr><td>946</td><td>LL Touring Handlebars</td><td>Handlebars</td></tr><tr><td>994</td><td>LL Bottom Bracket</td><td>Bottom Brackets</td></tr><tr><td>808</td><td>LL Mountain Handlebars</td><td>Handlebars</td></tr><tr><td>834</td><td>ML Road Frame-W - Yellow, 42</td><td>Road Frames</td></tr><tr><td>943</td><td>LL Mountain Frame - Black, 40</td><td>Mountain Frames</td></tr><tr><td>814</td><td>ML Mountain Frame - Black, 38</td><td>Mountain Frames</td></tr><tr><td>721</td><td>HL Road Frame - Red, 56</td><td>Road Frames</td></tr><tr><td>967</td><td>Touring-1000 Blue, 50</td><td>Touring Bikes</td></tr><tr><td>722</td><td>LL Road Frame - Black, 58</td><td>Road Frames</td></tr><tr><td>963</td><td>Touring-3000 Yellow, 54</td><td>Touring Bikes</td></tr><tr><td>786</td><td>Mountain-300 Black, 40</td><td>Mountain Bikes</td></tr><tr><td>863</td><td>Full-Finger Gloves, L</td><td>Gloves</td></tr><tr><td>843</td><td>Cable Lock</td><td>Locks</td></tr><tr><td>840</td><td>HL Road Frame - Black, 52</td><td>Road Frames</td></tr><tr><td>716</td><td>Long-Sleeve Logo Jersey, XL</td><td>Jerseys</td></tr><tr><td>975</td><td>Road-350-W Yellow, 44</td><td>Road Bikes</td></tr><tr><td>905</td><td>ML Mountain Frame-W - Silver, 42</td><td>Mountain Frames</td></tr><tr><td>838</td><td>HL Road Frame - Black, 44</td><td>Road Frames</td></tr><tr><td>782</td><td>Mountain-200 Black, 38</td><td>Mountain Bikes</td></tr><tr><td>855</td><td>Men's Bib-Shorts, S</td><td>Bib-Shorts</td></tr><tr><td>777</td><td>Mountain-100 Black, 44</td><td>Mountain Bikes</td></tr><tr><td>953</td><td>Touring-2000 Blue, 60</td><td>Touring Bikes</td></tr><tr><td>839</td><td>HL Road Frame - Black, 48</td><td>Road Frames</td></tr><tr><td>857</td><td>Men's Bib-Shorts, L</td><td>Bib-Shorts</td></tr><tr><td>947</td><td>HL Touring Handlebars</td><td>Handlebars</td></tr><tr><td>966</td><td>Touring-1000 Blue, 46</td><td>Touring Bikes</td></tr><tr><td>948</td><td>Front Brakes</td><td>Brakes</td></tr><tr><td>825</td><td>HL Mountain Rear Wheel</td><td>Wheels</td></tr><tr><td>879</td><td>All-Purpose Bike Stand</td><td>Bike Stands</td></tr><tr><td>891</td><td>HL Touring Frame - Blue, 50</td><td>Touring Frames</td></tr><tr><td>858</td><td>Half-Finger Gloves, S</td><td>Gloves</td></tr><tr><td>982</td><td>Mountain-400-W Silver, 42</td><td>Mountain Bikes</td></tr><tr><td>794</td><td>Road-250 Black, 48</td><td>Road Bikes</td></tr><tr><td>934</td><td>Touring Tire</td><td>Tires and Tubes</td></tr></tbody></table></div>"
      ]
     },
     "metadata": {
      "application/vnd.databricks.v1+output": {
       "addedWidgets": {},
       "aggData": [],
       "aggError": "",
       "aggOverflow": false,
       "aggSchema": [],
       "aggSeriesLimitReached": false,
       "aggType": "",
       "arguments": {},
       "columnCustomDisplayInfos": {},
       "data": [
        [
         959,
         "Touring-3000 Blue, 58",
         "Touring Bikes"
        ],
        [
         781,
         "Mountain-200 Silver, 46",
         "Mountain Bikes"
        ],
        [
         870,
         "Water Bottle - 30 oz.",
         "Bottles and Cages"
        ],
        [
         899,
         "LL Touring Frame - Yellow, 44",
         "Touring Frames"
        ],
        [
         869,
         "Women's Mountain Shorts, L",
         "Shorts"
        ],
        [
         752,
         "Road-150 Red, 52",
         "Road Bikes"
        ],
        [
         723,
         "LL Road Frame - Black, 60",
         "Road Frames"
        ],
        [
         895,
         "LL Touring Frame - Blue, 50",
         "Touring Frames"
        ],
        [
         901,
         "LL Touring Frame - Yellow, 54",
         "Touring Frames"
        ],
        [
         868,
         "Women's Mountain Shorts, M",
         "Shorts"
        ],
        [
         933,
         "HL Road Tire",
         "Tires and Tubes"
        ],
        [
         771,
         "Mountain-100 Silver, 38",
         "Mountain Bikes"
        ],
        [
         999,
         "Road-750 Black, 52",
         "Road Bikes"
        ],
        [
         767,
         "Road-650 Black, 62",
         "Road Bikes"
        ],
        [
         727,
         "LL Road Frame - Red, 52",
         "Road Frames"
        ],
        [
         710,
         "Mountain Bike Socks, L",
         "Socks"
        ],
        [
         759,
         "Road-650 Red, 58",
         "Road Bikes"
        ],
        [
         852,
         "Women's Tights, S",
         "Tights"
        ],
        [
         796,
         "Road-250 Black, 58",
         "Road Bikes"
        ],
        [
         807,
         "HL Headset",
         "Headsets"
        ],
        [
         928,
         "LL Mountain Tire",
         "Tires and Tubes"
        ],
        [
         797,
         "Road-550-W Yellow, 38",
         "Road Bikes"
        ],
        [
         929,
         "ML Mountain Tire",
         "Tires and Tubes"
        ],
        [
         826,
         "LL Road Rear Wheel",
         "Wheels"
        ],
        [
         779,
         "Mountain-200 Silver, 38",
         "Mountain Bikes"
        ],
        [
         894,
         "Rear Derailleur",
         "Derailleurs"
        ],
        [
         974,
         "Road-350-W Yellow, 42",
         "Road Bikes"
        ],
        [
         971,
         "Touring-2000 Blue, 50",
         "Touring Bikes"
        ],
        [
         902,
         "LL Touring Frame - Yellow, 58",
         "Touring Frames"
        ],
        [
         989,
         "Mountain-500 Black, 40",
         "Mountain Bikes"
        ],
        [
         754,
         "Road-450 Red, 58",
         "Road Bikes"
        ],
        [
         962,
         "Touring-3000 Yellow, 50",
         "Touring Bikes"
        ],
        [
         785,
         "Mountain-300 Black, 38",
         "Mountain Bikes"
        ],
        [
         737,
         "LL Road Frame - Black, 48",
         "Road Frames"
        ],
        [
         938,
         "LL Road Pedal",
         "Pedals"
        ],
        [
         920,
         "LL Mountain Frame - Silver, 52",
         "Mountain Frames"
        ],
        [
         815,
         "LL Mountain Front Wheel",
         "Wheels"
        ],
        [
         816,
         "ML Mountain Front Wheel",
         "Wheels"
        ],
        [
         845,
         "Mountain Pump",
         "Pumps"
        ],
        [
         778,
         "Mountain-100 Black, 48",
         "Mountain Bikes"
        ],
        [
         756,
         "Road-450 Red, 44",
         "Road Bikes"
        ],
        [
         821,
         "Touring Front Wheel",
         "Wheels"
        ],
        [
         731,
         "ML Road Frame - Red, 44",
         "Road Frames"
        ],
        [
         734,
         "ML Road Frame - Red, 58",
         "Road Frames"
        ],
        [
         991,
         "Mountain-500 Black, 44",
         "Mountain Bikes"
        ],
        [
         770,
         "Road-650 Black, 52",
         "Road Bikes"
        ],
        [
         960,
         "Touring-3000 Blue, 62",
         "Touring Bikes"
        ],
        [
         914,
         "LL Touring Seat/Saddle",
         "Saddles"
        ],
        [
         880,
         "Hydration Pack - 70 oz.",
         "Hydration Packs"
        ],
        [
         801,
         "Road-550-W Yellow, 48",
         "Road Bikes"
        ],
        [
         890,
         "HL Touring Frame - Blue, 46",
         "Touring Frames"
        ],
        [
         761,
         "Road-650 Red, 62",
         "Road Bikes"
        ],
        [
         819,
         "ML Road Front Wheel",
         "Wheels"
        ],
        [
         993,
         "Mountain-500 Black, 52",
         "Mountain Bikes"
        ],
        [
         730,
         "LL Road Frame - Red, 62",
         "Road Frames"
        ],
        [
         983,
         "Mountain-400-W Silver, 46",
         "Mountain Bikes"
        ],
        [
         763,
         "Road-650 Red, 48",
         "Road Bikes"
        ],
        [
         859,
         "Half-Finger Gloves, M",
         "Gloves"
        ],
        [
         862,
         "Full-Finger Gloves, M",
         "Gloves"
        ],
        [
         988,
         "Mountain-500 Silver, 52",
         "Mountain Bikes"
        ],
        [
         922,
         "Road Tire Tube",
         "Tires and Tubes"
        ],
        [
         769,
         "Road-650 Black, 48",
         "Road Bikes"
        ],
        [
         955,
         "Touring-1000 Yellow, 50",
         "Touring Bikes"
        ],
        [
         970,
         "Touring-2000 Blue, 46",
         "Touring Bikes"
        ],
        [
         887,
         "HL Touring Frame - Yellow, 46",
         "Touring Frames"
        ],
        [
         876,
         "Hitch Rack - 4-Bike",
         "Bike Racks"
        ],
        [
         949,
         "LL Crankset",
         "Cranksets"
        ],
        [
         743,
         "HL Mountain Frame - Black, 42",
         "Mountain Frames"
        ],
        [
         915,
         "ML Touring Seat/Saddle",
         "Saddles"
        ],
        [
         854,
         "Women's Tights, L",
         "Tights"
        ],
        [
         889,
         "HL Touring Frame - Yellow, 54",
         "Touring Frames"
        ],
        [
         829,
         "Touring Rear Wheel",
         "Wheels"
        ],
        [
         872,
         "Road Bottle Cage",
         "Bottles and Cages"
        ],
        [
         791,
         "Road-250 Red, 52",
         "Road Bikes"
        ],
        [
         707,
         "Sport-100 Helmet, Red",
         "Helmets"
        ],
        [
         923,
         "Touring Tire Tube",
         "Tires and Tubes"
        ],
        [
         957,
         "Touring-1000 Yellow, 60",
         "Touring Bikes"
        ],
        [
         842,
         "Touring-Panniers, Large",
         "Panniers"
        ],
        [
         717,
         "HL Road Frame - Red, 62",
         "Road Frames"
        ],
        [
         978,
         "Touring-3000 Blue, 44",
         "Touring Bikes"
        ],
        [
         831,
         "ML Mountain Frame - Black, 44",
         "Mountain Frames"
        ],
        [
         919,
         "LL Mountain Frame - Silver, 48",
         "Mountain Frames"
        ],
        [
         940,
         "HL Road Pedal",
         "Pedals"
        ],
        [
         941,
         "Touring Pedal",
         "Pedals"
        ],
        [
         738,
         "LL Road Frame - Black, 52",
         "Road Frames"
        ],
        [
         909,
         "ML Mountain Seat/Saddle",
         "Saddles"
        ],
        [
         888,
         "HL Touring Frame - Yellow, 50",
         "Touring Frames"
        ],
        [
         824,
         "ML Mountain Rear Wheel",
         "Wheels"
        ],
        [
         788,
         "Mountain-300 Black, 48",
         "Mountain Bikes"
        ],
        [
         992,
         "Mountain-500 Black, 48",
         "Mountain Bikes"
        ],
        [
         997,
         "Road-750 Black, 44",
         "Road Bikes"
        ],
        [
         925,
         "LL Mountain Frame - Black, 44",
         "Mountain Frames"
        ],
        [
         755,
         "Road-450 Red, 60",
         "Road Bikes"
        ],
        [
         713,
         "Long-Sleeve Logo Jersey, S",
         "Jerseys"
        ],
        [
         874,
         "Racing Socks, M",
         "Socks"
        ],
        [
         861,
         "Full-Finger Gloves, S",
         "Gloves"
        ],
        [
         833,
         "ML Road Frame-W - Yellow, 40",
         "Road Frames"
        ],
        [
         865,
         "Classic Vest, M",
         "Vests"
        ],
        [
         810,
         "HL Mountain Handlebars",
         "Handlebars"
        ],
        [
         897,
         "LL Touring Frame - Blue, 58",
         "Touring Frames"
        ],
        [
         866,
         "Classic Vest, L",
         "Vests"
        ],
        [
         981,
         "Mountain-400-W Silver, 40",
         "Mountain Bikes"
        ],
        [
         809,
         "ML Mountain Handlebars",
         "Handlebars"
        ],
        [
         772,
         "Mountain-100 Silver, 42",
         "Mountain Bikes"
        ],
        [
         799,
         "Road-550-W Yellow, 42",
         "Road Bikes"
        ],
        [
         906,
         "ML Mountain Frame-W - Silver, 46",
         "Mountain Frames"
        ],
        [
         798,
         "Road-550-W Yellow, 40",
         "Road Bikes"
        ],
        [
         898,
         "LL Touring Frame - Blue, 62",
         "Touring Frames"
        ],
        [
         766,
         "Road-650 Black, 60",
         "Road Bikes"
        ],
        [
         768,
         "Road-650 Black, 44",
         "Road Bikes"
        ],
        [
         747,
         "HL Mountain Frame - Black, 38",
         "Mountain Frames"
        ],
        [
         950,
         "ML Crankset",
         "Cranksets"
        ],
        [
         896,
         "LL Touring Frame - Blue, 54",
         "Touring Frames"
        ],
        [
         708,
         "Sport-100 Helmet, Black",
         "Helmets"
        ],
        [
         706,
         "HL Road Frame - Red, 58",
         "Road Frames"
        ],
        [
         871,
         "Mountain Bottle Cage",
         "Bottles and Cages"
        ],
        [
         725,
         "LL Road Frame - Red, 44",
         "Road Frames"
        ],
        [
         873,
         "Patch Kit/8 Patches",
         "Tires and Tubes"
        ],
        [
         904,
         "ML Mountain Frame-W - Silver, 40",
         "Mountain Frames"
        ],
        [
         736,
         "LL Road Frame - Black, 44",
         "Road Frames"
        ],
        [
         720,
         "HL Road Frame - Red, 52",
         "Road Frames"
        ],
        [
         749,
         "Road-150 Red, 62",
         "Road Bikes"
        ],
        [
         760,
         "Road-650 Red, 60",
         "Road Bikes"
        ],
        [
         911,
         "LL Road Seat/Saddle",
         "Saddles"
        ],
        [
         709,
         "Mountain Bike Socks, M",
         "Socks"
        ],
        [
         851,
         "Men's Sports Shorts, XL",
         "Shorts"
        ],
        [
         790,
         "Road-250 Red, 48",
         "Road Bikes"
        ],
        [
         917,
         "LL Mountain Frame - Silver, 42",
         "Mountain Frames"
        ],
        [
         878,
         "Fender Set - Mountain",
         "Fenders"
        ],
        [
         748,
         "HL Mountain Frame - Silver, 38",
         "Mountain Frames"
        ],
        [
         802,
         "LL Fork",
         "Forks"
        ],
        [
         812,
         "ML Road Handlebars",
         "Handlebars"
        ],
        [
         806,
         "ML Headset",
         "Headsets"
        ],
        [
         980,
         "Mountain-400-W Silver, 38",
         "Mountain Bikes"
        ],
        [
         793,
         "Road-250 Black, 44",
         "Road Bikes"
        ],
        [
         972,
         "Touring-2000 Blue, 54",
         "Touring Bikes"
        ],
        [
         739,
         "HL Mountain Frame - Silver, 42",
         "Mountain Frames"
        ],
        [
         775,
         "Mountain-100 Black, 38",
         "Mountain Bikes"
        ],
        [
         961,
         "Touring-3000 Yellow, 44",
         "Touring Bikes"
        ],
        [
         813,
         "HL Road Handlebars",
         "Handlebars"
        ],
        [
         930,
         "HL Mountain Tire",
         "Tires and Tubes"
        ],
        [
         724,
         "LL Road Frame - Black, 62",
         "Road Frames"
        ],
        [
         945,
         "Front Derailleur",
         "Derailleurs"
        ],
        [
         952,
         "Chain",
         "Chains"
        ],
        [
         726,
         "LL Road Frame - Red, 48",
         "Road Frames"
        ],
        [
         979,
         "Touring-3000 Blue, 50",
         "Touring Bikes"
        ],
        [
         985,
         "Mountain-500 Silver, 42",
         "Mountain Bikes"
        ],
        [
         916,
         "HL Touring Seat/Saddle",
         "Saddles"
        ],
        [
         844,
         "Minipump",
         "Pumps"
        ],
        [
         780,
         "Mountain-200 Silver, 42",
         "Mountain Bikes"
        ],
        [
         735,
         "ML Road Frame - Red, 60",
         "Road Frames"
        ],
        [
         918,
         "LL Mountain Frame - Silver, 44",
         "Mountain Frames"
        ],
        [
         817,
         "HL Mountain Front Wheel",
         "Wheels"
        ],
        [
         958,
         "Touring-3000 Blue, 54",
         "Touring Bikes"
        ],
        [
         751,
         "Road-150 Red, 48",
         "Road Bikes"
        ],
        [
         956,
         "Touring-1000 Yellow, 54",
         "Touring Bikes"
        ],
        [
         968,
         "Touring-1000 Blue, 54",
         "Touring Bikes"
        ],
        [
         921,
         "Mountain Tire Tube",
         "Tires and Tubes"
        ],
        [
         795,
         "Road-250 Black, 52",
         "Road Bikes"
        ],
        [
         912,
         "ML Road Seat/Saddle",
         "Saddles"
        ],
        [
         714,
         "Long-Sleeve Logo Jersey, M",
         "Jerseys"
        ],
        [
         832,
         "ML Mountain Frame - Black, 48",
         "Mountain Frames"
        ],
        [
         733,
         "ML Road Frame - Red, 52",
         "Road Frames"
        ],
        [
         964,
         "Touring-3000 Yellow, 58",
         "Touring Bikes"
        ],
        [
         836,
         "ML Road Frame-W - Yellow, 48",
         "Road Frames"
        ],
        [
         828,
         "HL Road Rear Wheel",
         "Wheels"
        ],
        [
         789,
         "Road-250 Red, 44",
         "Road Bikes"
        ],
        [
         712,
         "AWC Logo Cap",
         "Caps"
        ],
        [
         762,
         "Road-650 Red, 44",
         "Road Bikes"
        ],
        [
         860,
         "Half-Finger Gloves, L",
         "Gloves"
        ],
        [
         900,
         "LL Touring Frame - Yellow, 50",
         "Touring Frames"
        ],
        [
         740,
         "HL Mountain Frame - Silver, 44",
         "Mountain Frames"
        ],
        [
         732,
         "ML Road Frame - Red, 48",
         "Road Frames"
        ],
        [
         867,
         "Women's Mountain Shorts, S",
         "Shorts"
        ],
        [
         783,
         "Mountain-200 Black, 42",
         "Mountain Bikes"
        ],
        [
         805,
         "LL Headset",
         "Headsets"
        ],
        [
         841,
         "Men's Sports Shorts, S",
         "Shorts"
        ],
        [
         935,
         "LL Mountain Pedal",
         "Pedals"
        ],
        [
         847,
         "Headlights - Dual-Beam",
         "Lights"
        ],
        [
         758,
         "Road-450 Red, 52",
         "Road Bikes"
        ],
        [
         951,
         "HL Crankset",
         "Cranksets"
        ],
        [
         773,
         "Mountain-100 Silver, 44",
         "Mountain Bikes"
        ],
        [
         965,
         "Touring-3000 Yellow, 62",
         "Touring Bikes"
        ],
        [
         746,
         "HL Mountain Frame - Black, 46",
         "Mountain Frames"
        ],
        [
         804,
         "HL Fork",
         "Forks"
        ],
        [
         927,
         "LL Mountain Frame - Black, 52",
         "Mountain Frames"
        ],
        [
         742,
         "HL Mountain Frame - Silver, 46",
         "Mountain Frames"
        ],
        [
         715,
         "Long-Sleeve Logo Jersey, L",
         "Jerseys"
        ],
        [
         908,
         "LL Mountain Seat/Saddle",
         "Saddles"
        ],
        [
         856,
         "Men's Bib-Shorts, M",
         "Bib-Shorts"
        ],
        [
         881,
         "Short-Sleeve Classic Jersey, S",
         "Jerseys"
        ],
        [
         744,
         "HL Mountain Frame - Black, 44",
         "Mountain Frames"
        ],
        [
         987,
         "Mountain-500 Silver, 48",
         "Mountain Bikes"
        ],
        [
         823,
         "LL Mountain Rear Wheel",
         "Wheels"
        ],
        [
         811,
         "LL Road Handlebars",
         "Handlebars"
        ],
        [
         877,
         "Bike Wash - Dissolver",
         "Cleaners"
        ],
        [
         776,
         "Mountain-100 Black, 42",
         "Mountain Bikes"
        ],
        [
         827,
         "ML Road Rear Wheel",
         "Wheels"
        ],
        [
         820,
         "HL Road Front Wheel",
         "Wheels"
        ],
        [
         954,
         "Touring-1000 Yellow, 46",
         "Touring Bikes"
        ],
        [
         774,
         "Mountain-100 Silver, 48",
         "Mountain Bikes"
        ],
        [
         990,
         "Mountain-500 Black, 42",
         "Mountain Bikes"
        ],
        [
         996,
         "HL Bottom Bracket",
         "Bottom Brackets"
        ],
        [
         753,
         "Road-150 Red, 56",
         "Road Bikes"
        ],
        [
         944,
         "LL Mountain Frame - Silver, 40",
         "Mountain Frames"
        ],
        [
         937,
         "HL Mountain Pedal",
         "Pedals"
        ],
        [
         931,
         "LL Road Tire",
         "Tires and Tubes"
        ],
        [
         924,
         "LL Mountain Frame - Black, 42",
         "Mountain Frames"
        ],
        [
         984,
         "Mountain-500 Silver, 40",
         "Mountain Bikes"
        ],
        [
         741,
         "HL Mountain Frame - Silver, 48",
         "Mountain Frames"
        ],
        [
         745,
         "HL Mountain Frame - Black, 48",
         "Mountain Frames"
        ],
        [
         884,
         "Short-Sleeve Classic Jersey, XL",
         "Jerseys"
        ],
        [
         784,
         "Mountain-200 Black, 46",
         "Mountain Bikes"
        ],
        [
         765,
         "Road-650 Black, 58",
         "Road Bikes"
        ],
        [
         926,
         "LL Mountain Frame - Black, 48",
         "Mountain Frames"
        ],
        [
         719,
         "HL Road Frame - Red, 48",
         "Road Frames"
        ],
        [
         787,
         "Mountain-300 Black, 44",
         "Mountain Bikes"
        ],
        [
         803,
         "ML Fork",
         "Forks"
        ],
        [
         757,
         "Road-450 Red, 48",
         "Road Bikes"
        ],
        [
         837,
         "HL Road Frame - Black, 62",
         "Road Frames"
        ],
        [
         729,
         "LL Road Frame - Red, 60",
         "Road Frames"
        ],
        [
         848,
         "Headlights - Weatherproof",
         "Lights"
        ],
        [
         750,
         "Road-150 Red, 44",
         "Road Bikes"
        ],
        [
         835,
         "ML Road Frame-W - Yellow, 44",
         "Road Frames"
        ],
        [
         885,
         "HL Touring Frame - Yellow, 60",
         "Touring Frames"
        ],
        [
         998,
         "Road-750 Black, 48",
         "Road Bikes"
        ],
        [
         875,
         "Racing Socks, L",
         "Socks"
        ],
        [
         764,
         "Road-650 Red, 52",
         "Road Bikes"
        ],
        [
         792,
         "Road-250 Red, 58",
         "Road Bikes"
        ],
        [
         936,
         "ML Mountain Pedal",
         "Pedals"
        ],
        [
         864,
         "Classic Vest, S",
         "Vests"
        ],
        [
         973,
         "Road-350-W Yellow, 40",
         "Road Bikes"
        ],
        [
         893,
         "HL Touring Frame - Blue, 60",
         "Touring Frames"
        ],
        [
         849,
         "Men's Sports Shorts, M",
         "Shorts"
        ],
        [
         800,
         "Road-550-W Yellow, 44",
         "Road Bikes"
        ],
        [
         680,
         "HL Road Frame - Black, 58",
         "Road Frames"
        ],
        [
         728,
         "LL Road Frame - Red, 58",
         "Road Frames"
        ],
        [
         892,
         "HL Touring Frame - Blue, 54",
         "Touring Frames"
        ],
        [
         711,
         "Sport-100 Helmet, Blue",
         "Helmets"
        ],
        [
         986,
         "Mountain-500 Silver, 44",
         "Mountain Bikes"
        ],
        [
         976,
         "Road-350-W Yellow, 48",
         "Road Bikes"
        ],
        [
         830,
         "ML Mountain Frame - Black, 40",
         "Mountain Frames"
        ],
        [
         910,
         "HL Mountain Seat/Saddle",
         "Saddles"
        ],
        [
         977,
         "Road-750 Black, 58",
         "Road Bikes"
        ],
        [
         903,
         "LL Touring Frame - Blue, 44",
         "Touring Frames"
        ],
        [
         886,
         "LL Touring Frame - Yellow, 62",
         "Touring Frames"
        ],
        [
         850,
         "Men's Sports Shorts, L",
         "Shorts"
        ],
        [
         822,
         "ML Road Frame-W - Yellow, 38",
         "Road Frames"
        ],
        [
         818,
         "LL Road Front Wheel",
         "Wheels"
        ],
        [
         913,
         "HL Road Seat/Saddle",
         "Saddles"
        ],
        [
         907,
         "Rear Brakes",
         "Brakes"
        ],
        [
         939,
         "ML Road Pedal",
         "Pedals"
        ],
        [
         846,
         "Taillights - Battery-Powered",
         "Lights"
        ],
        [
         942,
         "ML Mountain Frame-W - Silver, 38",
         "Mountain Frames"
        ],
        [
         882,
         "Short-Sleeve Classic Jersey, M",
         "Jerseys"
        ],
        [
         883,
         "Short-Sleeve Classic Jersey, L",
         "Jerseys"
        ],
        [
         932,
         "ML Road Tire",
         "Tires and Tubes"
        ],
        [
         995,
         "ML Bottom Bracket",
         "Bottom Brackets"
        ],
        [
         718,
         "HL Road Frame - Red, 44",
         "Road Frames"
        ],
        [
         969,
         "Touring-1000 Blue, 60",
         "Touring Bikes"
        ],
        [
         853,
         "Women's Tights, M",
         "Tights"
        ],
        [
         946,
         "LL Touring Handlebars",
         "Handlebars"
        ],
        [
         994,
         "LL Bottom Bracket",
         "Bottom Brackets"
        ],
        [
         808,
         "LL Mountain Handlebars",
         "Handlebars"
        ],
        [
         834,
         "ML Road Frame-W - Yellow, 42",
         "Road Frames"
        ],
        [
         943,
         "LL Mountain Frame - Black, 40",
         "Mountain Frames"
        ],
        [
         814,
         "ML Mountain Frame - Black, 38",
         "Mountain Frames"
        ],
        [
         721,
         "HL Road Frame - Red, 56",
         "Road Frames"
        ],
        [
         967,
         "Touring-1000 Blue, 50",
         "Touring Bikes"
        ],
        [
         722,
         "LL Road Frame - Black, 58",
         "Road Frames"
        ],
        [
         963,
         "Touring-3000 Yellow, 54",
         "Touring Bikes"
        ],
        [
         786,
         "Mountain-300 Black, 40",
         "Mountain Bikes"
        ],
        [
         863,
         "Full-Finger Gloves, L",
         "Gloves"
        ],
        [
         843,
         "Cable Lock",
         "Locks"
        ],
        [
         840,
         "HL Road Frame - Black, 52",
         "Road Frames"
        ],
        [
         716,
         "Long-Sleeve Logo Jersey, XL",
         "Jerseys"
        ],
        [
         975,
         "Road-350-W Yellow, 44",
         "Road Bikes"
        ],
        [
         905,
         "ML Mountain Frame-W - Silver, 42",
         "Mountain Frames"
        ],
        [
         838,
         "HL Road Frame - Black, 44",
         "Road Frames"
        ],
        [
         782,
         "Mountain-200 Black, 38",
         "Mountain Bikes"
        ],
        [
         855,
         "Men's Bib-Shorts, S",
         "Bib-Shorts"
        ],
        [
         777,
         "Mountain-100 Black, 44",
         "Mountain Bikes"
        ],
        [
         953,
         "Touring-2000 Blue, 60",
         "Touring Bikes"
        ],
        [
         839,
         "HL Road Frame - Black, 48",
         "Road Frames"
        ],
        [
         857,
         "Men's Bib-Shorts, L",
         "Bib-Shorts"
        ],
        [
         947,
         "HL Touring Handlebars",
         "Handlebars"
        ],
        [
         966,
         "Touring-1000 Blue, 46",
         "Touring Bikes"
        ],
        [
         948,
         "Front Brakes",
         "Brakes"
        ],
        [
         825,
         "HL Mountain Rear Wheel",
         "Wheels"
        ],
        [
         879,
         "All-Purpose Bike Stand",
         "Bike Stands"
        ],
        [
         891,
         "HL Touring Frame - Blue, 50",
         "Touring Frames"
        ],
        [
         858,
         "Half-Finger Gloves, S",
         "Gloves"
        ],
        [
         982,
         "Mountain-400-W Silver, 42",
         "Mountain Bikes"
        ],
        [
         794,
         "Road-250 Black, 48",
         "Road Bikes"
        ],
        [
         934,
         "Touring Tire",
         "Tires and Tubes"
        ]
       ],
       "datasetInfos": [],
       "dbfsResultPath": null,
       "isJsonSchema": true,
       "metadata": {},
       "overflow": false,
       "plotOptions": {
        "customPlotOptions": {},
        "displayType": "table",
        "pivotAggregation": null,
        "pivotColumns": null,
        "xColumns": null,
        "yColumns": null
       },
       "removedWidgets": [],
       "schema": [
        {
         "metadata": "{}",
         "name": "ProductID",
         "type": "\"integer\""
        },
        {
         "metadata": "{}",
         "name": "ProductName",
         "type": "\"string\""
        },
        {
         "metadata": "{}",
         "name": "Category",
         "type": "\"string\""
        }
       ],
       "type": "table"
      }
     },
     "output_type": "display_data"
    }
   ],
   "source": [
    "products = products_df['ProductID', 'ProductName', 'Category']\n",
    "print(products.count())\n",
    "print(products.distinct().count())\n",
    "display(products.distinct())"
   ]
  },
  {
   "cell_type": "code",
   "execution_count": null,
   "metadata": {
    "application/vnd.databricks.v1+cell": {
     "cellMetadata": {
      "byteLimit": 2048000,
      "rowLimit": 10000
     },
     "inputWidgets": {},
     "nuid": "fbe8f04f-a8ab-40dd-89ec-5d0b2b92c1cf",
     "showTitle": false,
     "title": ""
    }
   },
   "outputs": [
    {
     "data": {
      "text/html": [
       "<style scoped>\n",
       "  .table-result-container {\n",
       "    max-height: 300px;\n",
       "    overflow: auto;\n",
       "  }\n",
       "  table, th, td {\n",
       "    border: 1px solid black;\n",
       "    border-collapse: collapse;\n",
       "  }\n",
       "  th, td {\n",
       "    padding: 5px;\n",
       "  }\n",
       "  th {\n",
       "    text-align: left;\n",
       "  }\n",
       "</style><div class='table-result-container'><table class='table-result'><thead style='background-color: white'><tr><th>ProductID</th><th>ProductName</th><th>Category</th></tr></thead><tbody><tr><td>857</td><td>Men's Bib-Shorts, L</td><td>Bib-Shorts</td></tr></tbody></table></div>"
      ]
     },
     "metadata": {
      "application/vnd.databricks.v1+output": {
       "addedWidgets": {},
       "aggData": [],
       "aggError": "",
       "aggOverflow": false,
       "aggSchema": [],
       "aggSeriesLimitReached": false,
       "aggType": "",
       "arguments": {},
       "columnCustomDisplayInfos": {},
       "data": [
        [
         857,
         "Men's Bib-Shorts, L",
         "Bib-Shorts"
        ]
       ],
       "datasetInfos": [],
       "dbfsResultPath": null,
       "isJsonSchema": true,
       "metadata": {},
       "overflow": false,
       "plotOptions": {
        "customPlotOptions": {},
        "displayType": "table",
        "pivotAggregation": null,
        "pivotColumns": null,
        "xColumns": null,
        "yColumns": null
       },
       "removedWidgets": [],
       "schema": [
        {
         "metadata": "{}",
         "name": "ProductID",
         "type": "\"integer\""
        },
        {
         "metadata": "{}",
         "name": "ProductName",
         "type": "\"string\""
        },
        {
         "metadata": "{}",
         "name": "Category",
         "type": "\"string\""
        }
       ],
       "type": "table"
      }
     },
     "output_type": "display_data"
    }
   ],
   "source": [
    "products_df1 = products_df.select(\"ProductID\", \"ProductName\", \"Category\").where(products_df[\"ProductName\"]==\"Men's Bib-Shorts, L\")\n",
    "display(products_df1)"
   ]
  },
  {
   "cell_type": "code",
   "execution_count": null,
   "metadata": {
    "application/vnd.databricks.v1+cell": {
     "cellMetadata": {
      "byteLimit": 2048000,
      "rowLimit": 10000
     },
     "inputWidgets": {},
     "nuid": "348167aa-9f04-4aae-b1d2-832ab371b1fe",
     "showTitle": false,
     "title": ""
    }
   },
   "outputs": [
    {
     "name": "stdout",
     "output_type": "stream",
     "text": [
      "14"
     ]
    }
   ],
   "source": [
    "products_df1 = products_df.select(\"ProductID\", \"ProductName\", \"Category\").where(products_df[\"Category\"] == \"Wheels\")\n",
    "display(products_df1.count())"
   ]
  },
  {
   "cell_type": "code",
   "execution_count": null,
   "metadata": {
    "application/vnd.databricks.v1+cell": {
     "cellMetadata": {
      "byteLimit": 2048000,
      "rowLimit": 10000
     },
     "inputWidgets": {},
     "nuid": "4cbc7a84-cfbe-4acd-adef-c336ed1618dc",
     "showTitle": false,
     "title": ""
    }
   },
   "outputs": [
    {
     "name": "stdout",
     "output_type": "stream",
     "text": [
      "295"
     ]
    }
   ],
   "source": [
    "products_df1 = products_df.select(\"ProductID\", \"ProductName\", \"Category\").where(products_df[\"Category\"] == \"Wheels\")\n",
    "display(products_df.distinct().count())"
   ]
  },
  {
   "cell_type": "code",
   "execution_count": null,
   "metadata": {
    "application/vnd.databricks.v1+cell": {
     "cellMetadata": {
      "byteLimit": 2048000,
      "rowLimit": 10000
     },
     "inputWidgets": {},
     "nuid": "a4dd02f1-f919-43ba-9940-d39f897c59e1",
     "showTitle": false,
     "title": ""
    }
   },
   "outputs": [
    {
     "data": {
      "text/html": [
       "<style scoped>\n",
       "  .table-result-container {\n",
       "    max-height: 300px;\n",
       "    overflow: auto;\n",
       "  }\n",
       "  table, th, td {\n",
       "    border: 1px solid black;\n",
       "    border-collapse: collapse;\n",
       "  }\n",
       "  th, td {\n",
       "    padding: 5px;\n",
       "  }\n",
       "  th {\n",
       "    text-align: left;\n",
       "  }\n",
       "</style><div class='table-result-container'><table class='table-result'><thead style='background-color: white'><tr><th>ProductID</th><th>ProductName</th><th>Category</th><th>ListPrice</th></tr></thead><tbody><tr><td>883</td><td>Short-Sleeve Classic Jersey, L</td><td>Jerseys</td><td>53.99</td></tr><tr><td>944</td><td>LL Mountain Frame - Silver, 40</td><td>Mountain Frames</td><td>264.05</td></tr><tr><td>721</td><td>HL Road Frame - Red, 56</td><td>Road Frames</td><td>1431.5</td></tr><tr><td>746</td><td>HL Mountain Frame - Black, 46</td><td>Mountain Frames</td><td>1349.6</td></tr><tr><td>886</td><td>LL Touring Frame - Yellow, 62</td><td>Touring Frames</td><td>333.42</td></tr><tr><td>972</td><td>Touring-2000 Blue, 54</td><td>Touring Bikes</td><td>1214.85</td></tr><tr><td>811</td><td>LL Road Handlebars</td><td>Handlebars</td><td>44.54</td></tr><tr><td>994</td><td>LL Bottom Bracket</td><td>Bottom Brackets</td><td>53.99</td></tr><tr><td>729</td><td>LL Road Frame - Red, 60</td><td>Road Frames</td><td>337.22</td></tr><tr><td>710</td><td>Mountain Bike Socks, L</td><td>Socks</td><td>9.5</td></tr><tr><td>945</td><td>Front Derailleur</td><td>Derailleurs</td><td>91.49</td></tr><tr><td>776</td><td>Mountain-100 Black, 42</td><td>Mountain Bikes</td><td>3374.99</td></tr><tr><td>757</td><td>Road-450 Red, 48</td><td>Road Bikes</td><td>1457.99</td></tr><tr><td>908</td><td>LL Mountain Seat/Saddle</td><td>Saddles</td><td>27.12</td></tr><tr><td>997</td><td>Road-750 Black, 44</td><td>Road Bikes</td><td>539.99</td></tr><tr><td>872</td><td>Road Bottle Cage</td><td>Bottles and Cages</td><td>8.99</td></tr><tr><td>869</td><td>Women's Mountain Shorts, L</td><td>Shorts</td><td>69.99</td></tr><tr><td>988</td><td>Mountain-500 Silver, 52</td><td>Mountain Bikes</td><td>564.99</td></tr><tr><td>992</td><td>Mountain-500 Black, 48</td><td>Mountain Bikes</td><td>539.99</td></tr><tr><td>769</td><td>Road-650 Black, 48</td><td>Road Bikes</td><td>782.99</td></tr><tr><td>962</td><td>Touring-3000 Yellow, 50</td><td>Touring Bikes</td><td>742.35</td></tr><tr><td>838</td><td>HL Road Frame - Black, 44</td><td>Road Frames</td><td>1431.5</td></tr><tr><td>861</td><td>Full-Finger Gloves, S</td><td>Gloves</td><td>37.99</td></tr><tr><td>781</td><td>Mountain-200 Silver, 46</td><td>Mountain Bikes</td><td>2319.99</td></tr><tr><td>825</td><td>HL Mountain Rear Wheel</td><td>Wheels</td><td>327.215</td></tr><tr><td>745</td><td>HL Mountain Frame - Black, 48</td><td>Mountain Frames</td><td>1349.6</td></tr><tr><td>832</td><td>ML Mountain Frame - Black, 48</td><td>Mountain Frames</td><td>348.76</td></tr><tr><td>863</td><td>Full-Finger Gloves, L</td><td>Gloves</td><td>37.99</td></tr><tr><td>850</td><td>Men's Sports Shorts, L</td><td>Shorts</td><td>59.99</td></tr><tr><td>993</td><td>Mountain-500 Black, 52</td><td>Mountain Bikes</td><td>539.99</td></tr><tr><td>866</td><td>Classic Vest, L</td><td>Vests</td><td>63.5</td></tr><tr><td>937</td><td>HL Mountain Pedal</td><td>Pedals</td><td>80.99</td></tr><tr><td>865</td><td>Classic Vest, M</td><td>Vests</td><td>63.5</td></tr><tr><td>730</td><td>LL Road Frame - Red, 62</td><td>Road Frames</td><td>337.22</td></tr><tr><td>968</td><td>Touring-1000 Blue, 54</td><td>Touring Bikes</td><td>2384.07</td></tr><tr><td>813</td><td>HL Road Handlebars</td><td>Handlebars</td><td>120.27</td></tr><tr><td>892</td><td>HL Touring Frame - Blue, 54</td><td>Touring Frames</td><td>1003.91</td></tr><tr><td>926</td><td>LL Mountain Frame - Black, 48</td><td>Mountain Frames</td><td>249.79</td></tr><tr><td>987</td><td>Mountain-500 Silver, 48</td><td>Mountain Bikes</td><td>564.99</td></tr><tr><td>979</td><td>Touring-3000 Blue, 50</td><td>Touring Bikes</td><td>742.35</td></tr><tr><td>910</td><td>HL Mountain Seat/Saddle</td><td>Saddles</td><td>52.64</td></tr><tr><td>901</td><td>LL Touring Frame - Yellow, 54</td><td>Touring Frames</td><td>333.42</td></tr><tr><td>860</td><td>Half-Finger Gloves, L</td><td>Gloves</td><td>24.49</td></tr><tr><td>770</td><td>Road-650 Black, 52</td><td>Road Bikes</td><td>782.99</td></tr><tr><td>772</td><td>Mountain-100 Silver, 42</td><td>Mountain Bikes</td><td>3399.99</td></tr><tr><td>780</td><td>Mountain-200 Silver, 42</td><td>Mountain Bikes</td><td>2319.99</td></tr><tr><td>955</td><td>Touring-1000 Yellow, 50</td><td>Touring Bikes</td><td>2384.07</td></tr><tr><td>831</td><td>ML Mountain Frame - Black, 44</td><td>Mountain Frames</td><td>348.76</td></tr><tr><td>773</td><td>Mountain-100 Silver, 44</td><td>Mountain Bikes</td><td>3399.99</td></tr><tr><td>939</td><td>ML Road Pedal</td><td>Pedals</td><td>62.09</td></tr><tr><td>680</td><td>HL Road Frame - Black, 58</td><td>Road Frames</td><td>1431.5</td></tr><tr><td>802</td><td>LL Fork</td><td>Forks</td><td>148.22</td></tr><tr><td>714</td><td>Long-Sleeve Logo Jersey, M</td><td>Jerseys</td><td>49.99</td></tr><tr><td>766</td><td>Road-650 Black, 60</td><td>Road Bikes</td><td>782.99</td></tr><tr><td>946</td><td>LL Touring Handlebars</td><td>Handlebars</td><td>46.09</td></tr><tr><td>877</td><td>Bike Wash - Dissolver</td><td>Cleaners</td><td>7.95</td></tr><tr><td>782</td><td>Mountain-200 Black, 38</td><td>Mountain Bikes</td><td>2294.99</td></tr><tr><td>918</td><td>LL Mountain Frame - Silver, 44</td><td>Mountain Frames</td><td>264.05</td></tr><tr><td>911</td><td>LL Road Seat/Saddle</td><td>Saddles</td><td>27.12</td></tr><tr><td>810</td><td>HL Mountain Handlebars</td><td>Handlebars</td><td>120.27</td></tr><tr><td>836</td><td>ML Road Frame-W - Yellow, 48</td><td>Road Frames</td><td>594.83</td></tr><tr><td>788</td><td>Mountain-300 Black, 48</td><td>Mountain Bikes</td><td>1079.99</td></tr><tr><td>967</td><td>Touring-1000 Blue, 50</td><td>Touring Bikes</td><td>2384.07</td></tr><tr><td>942</td><td>ML Mountain Frame-W - Silver, 38</td><td>Mountain Frames</td><td>364.09</td></tr><tr><td>753</td><td>Road-150 Red, 56</td><td>Road Bikes</td><td>3578.27</td></tr><tr><td>738</td><td>LL Road Frame - Black, 52</td><td>Road Frames</td><td>337.22</td></tr><tr><td>847</td><td>Headlights - Dual-Beam</td><td>Lights</td><td>34.99</td></tr><tr><td>856</td><td>Men's Bib-Shorts, M</td><td>Bib-Shorts</td><td>89.99</td></tr><tr><td>970</td><td>Touring-2000 Blue, 46</td><td>Touring Bikes</td><td>1214.85</td></tr><tr><td>803</td><td>ML Fork</td><td>Forks</td><td>175.49</td></tr><tr><td>719</td><td>HL Road Frame - Red, 48</td><td>Road Frames</td><td>1431.5</td></tr><tr><td>737</td><td>LL Road Frame - Black, 48</td><td>Road Frames</td><td>337.22</td></tr><tr><td>846</td><td>Taillights - Battery-Powered</td><td>Lights</td><td>13.99</td></tr><tr><td>934</td><td>Touring Tire</td><td>Tires and Tubes</td><td>28.99</td></tr><tr><td>893</td><td>HL Touring Frame - Blue, 60</td><td>Touring Frames</td><td>1003.91</td></tr><tr><td>711</td><td>Sport-100 Helmet, Blue</td><td>Helmets</td><td>34.99</td></tr><tr><td>783</td><td>Mountain-200 Black, 42</td><td>Mountain Bikes</td><td>2294.99</td></tr><tr><td>974</td><td>Road-350-W Yellow, 42</td><td>Road Bikes</td><td>1700.99</td></tr><tr><td>887</td><td>HL Touring Frame - Yellow, 46</td><td>Touring Frames</td><td>1003.91</td></tr><tr><td>989</td><td>Mountain-500 Black, 40</td><td>Mountain Bikes</td><td>539.99</td></tr><tr><td>849</td><td>Men's Sports Shorts, M</td><td>Shorts</td><td>59.99</td></tr><tr><td>859</td><td>Half-Finger Gloves, M</td><td>Gloves</td><td>24.49</td></tr><tr><td>845</td><td>Mountain Pump</td><td>Pumps</td><td>24.99</td></tr><tr><td>931</td><td>LL Road Tire</td><td>Tires and Tubes</td><td>21.49</td></tr><tr><td>890</td><td>HL Touring Frame - Blue, 46</td><td>Touring Frames</td><td>1003.91</td></tr><tr><td>754</td><td>Road-450 Red, 58</td><td>Road Bikes</td><td>1457.99</td></tr><tr><td>864</td><td>Classic Vest, S</td><td>Vests</td><td>63.5</td></tr><tr><td>761</td><td>Road-650 Red, 62</td><td>Road Bikes</td><td>782.99</td></tr><tr><td>903</td><td>LL Touring Frame - Blue, 44</td><td>Touring Frames</td><td>333.42</td></tr><tr><td>907</td><td>Rear Brakes</td><td>Brakes</td><td>106.5</td></tr><tr><td>748</td><td>HL Mountain Frame - Silver, 38</td><td>Mountain Frames</td><td>1364.5</td></tr><tr><td>830</td><td>ML Mountain Frame - Black, 40</td><td>Mountain Frames</td><td>348.76</td></tr><tr><td>938</td><td>LL Road Pedal</td><td>Pedals</td><td>40.49</td></tr><tr><td>817</td><td>HL Mountain Front Wheel</td><td>Wheels</td><td>300.215</td></tr><tr><td>905</td><td>ML Mountain Frame-W - Silver, 42</td><td>Mountain Frames</td><td>364.09</td></tr><tr><td>725</td><td>LL Road Frame - Red, 44</td><td>Road Frames</td><td>337.22</td></tr><tr><td>999</td><td>Road-750 Black, 52</td><td>Road Bikes</td><td>539.99</td></tr><tr><td>839</td><td>HL Road Frame - Black, 48</td><td>Road Frames</td><td>1431.5</td></tr><tr><td>708</td><td>Sport-100 Helmet, Black</td><td>Helmets</td><td>34.99</td></tr><tr><td>755</td><td>Road-450 Red, 60</td><td>Road Bikes</td><td>1457.99</td></tr><tr><td>741</td><td>HL Mountain Frame - Silver, 48</td><td>Mountain Frames</td><td>1364.5</td></tr><tr><td>894</td><td>Rear Derailleur</td><td>Derailleurs</td><td>121.46</td></tr><tr><td>920</td><td>LL Mountain Frame - Silver, 52</td><td>Mountain Frames</td><td>264.05</td></tr><tr><td>912</td><td>ML Road Seat/Saddle</td><td>Saddles</td><td>39.14</td></tr><tr><td>716</td><td>Long-Sleeve Logo Jersey, XL</td><td>Jerseys</td><td>49.99</td></tr><tr><td>752</td><td>Road-150 Red, 52</td><td>Road Bikes</td><td>3578.27</td></tr><tr><td>971</td><td>Touring-2000 Blue, 50</td><td>Touring Bikes</td><td>1214.85</td></tr><tr><td>806</td><td>ML Headset</td><td>Headsets</td><td>102.29</td></tr><tr><td>760</td><td>Road-650 Red, 60</td><td>Road Bikes</td><td>782.99</td></tr><tr><td>739</td><td>HL Mountain Frame - Silver, 42</td><td>Mountain Frames</td><td>1364.5</td></tr><tr><td>889</td><td>HL Touring Frame - Yellow, 54</td><td>Touring Frames</td><td>1003.91</td></tr><tr><td>952</td><td>Chain</td><td>Chains</td><td>20.24</td></tr><tr><td>943</td><td>LL Mountain Frame - Black, 40</td><td>Mountain Frames</td><td>249.79</td></tr><tr><td>935</td><td>LL Mountain Pedal</td><td>Pedals</td><td>40.49</td></tr><tr><td>951</td><td>HL Crankset</td><td>Cranksets</td><td>404.99</td></tr><tr><td>733</td><td>ML Road Frame - Red, 52</td><td>Road Frames</td><td>594.83</td></tr><tr><td>915</td><td>ML Touring Seat/Saddle</td><td>Saddles</td><td>39.14</td></tr><tr><td>930</td><td>HL Mountain Tire</td><td>Tires and Tubes</td><td>35.0</td></tr><tr><td>789</td><td>Road-250 Red, 44</td><td>Road Bikes</td><td>2443.35</td></tr><tr><td>916</td><td>HL Touring Seat/Saddle</td><td>Saddles</td><td>52.64</td></tr><tr><td>960</td><td>Touring-3000 Blue, 62</td><td>Touring Bikes</td><td>742.35</td></tr><tr><td>940</td><td>HL Road Pedal</td><td>Pedals</td><td>80.99</td></tr><tr><td>816</td><td>ML Mountain Front Wheel</td><td>Wheels</td><td>209.025</td></tr><tr><td>796</td><td>Road-250 Black, 58</td><td>Road Bikes</td><td>2443.35</td></tr><tr><td>996</td><td>HL Bottom Bracket</td><td>Bottom Brackets</td><td>121.49</td></tr><tr><td>728</td><td>LL Road Frame - Red, 58</td><td>Road Frames</td><td>337.22</td></tr><tr><td>927</td><td>LL Mountain Frame - Black, 52</td><td>Mountain Frames</td><td>249.79</td></tr><tr><td>888</td><td>HL Touring Frame - Yellow, 50</td><td>Touring Frames</td><td>1003.91</td></tr><tr><td>712</td><td>AWC Logo Cap</td><td>Caps</td><td>8.99</td></tr><tr><td>982</td><td>Mountain-400-W Silver, 42</td><td>Mountain Bikes</td><td>769.49</td></tr><tr><td>837</td><td>HL Road Frame - Black, 62</td><td>Road Frames</td><td>1431.5</td></tr><tr><td>976</td><td>Road-350-W Yellow, 48</td><td>Road Bikes</td><td>1700.99</td></tr><tr><td>958</td><td>Touring-3000 Blue, 54</td><td>Touring Bikes</td><td>742.35</td></tr><tr><td>965</td><td>Touring-3000 Yellow, 62</td><td>Touring Bikes</td><td>742.35</td></tr><tr><td>812</td><td>ML Road Handlebars</td><td>Handlebars</td><td>61.92</td></tr><tr><td>756</td><td>Road-450 Red, 44</td><td>Road Bikes</td><td>1457.99</td></tr><tr><td>720</td><td>HL Road Frame - Red, 52</td><td>Road Frames</td><td>1431.5</td></tr><tr><td>819</td><td>ML Road Front Wheel</td><td>Wheels</td><td>248.385</td></tr><tr><td>855</td><td>Men's Bib-Shorts, S</td><td>Bib-Shorts</td><td>89.99</td></tr><tr><td>880</td><td>Hydration Pack - 70 oz.</td><td>Hydration Packs</td><td>54.99</td></tr><tr><td>805</td><td>LL Headset</td><td>Headsets</td><td>34.2</td></tr><tr><td>744</td><td>HL Mountain Frame - Black, 44</td><td>Mountain Frames</td><td>1349.6</td></tr><tr><td>814</td><td>ML Mountain Frame - Black, 38</td><td>Mountain Frames</td><td>348.76</td></tr><tr><td>842</td><td>Touring-Panniers, Large</td><td>Panniers</td><td>125.0</td></tr><tr><td>784</td><td>Mountain-200 Black, 46</td><td>Mountain Bikes</td><td>2294.99</td></tr><tr><td>713</td><td>Long-Sleeve Logo Jersey, S</td><td>Jerseys</td><td>49.99</td></tr><tr><td>985</td><td>Mountain-500 Silver, 42</td><td>Mountain Bikes</td><td>564.99</td></tr><tr><td>824</td><td>ML Mountain Rear Wheel</td><td>Wheels</td><td>236.025</td></tr><tr><td>964</td><td>Touring-3000 Yellow, 58</td><td>Touring Bikes</td><td>742.35</td></tr><tr><td>734</td><td>ML Road Frame - Red, 58</td><td>Road Frames</td><td>594.83</td></tr><tr><td>868</td><td>Women's Mountain Shorts, M</td><td>Shorts</td><td>69.99</td></tr><tr><td>827</td><td>ML Road Rear Wheel</td><td>Wheels</td><td>275.385</td></tr><tr><td>764</td><td>Road-650 Red, 52</td><td>Road Bikes</td><td>782.99</td></tr><tr><td>787</td><td>Mountain-300 Black, 44</td><td>Mountain Bikes</td><td>1079.99</td></tr><tr><td>873</td><td>Patch Kit/8 Patches</td><td>Tires and Tubes</td><td>2.29</td></tr><tr><td>795</td><td>Road-250 Black, 52</td><td>Road Bikes</td><td>2443.35</td></tr><tr><td>924</td><td>LL Mountain Frame - Black, 42</td><td>Mountain Frames</td><td>249.79</td></tr><tr><td>724</td><td>LL Road Frame - Black, 62</td><td>Road Frames</td><td>337.22</td></tr><tr><td>826</td><td>LL Road Rear Wheel</td><td>Wheels</td><td>112.565</td></tr><tr><td>969</td><td>Touring-1000 Blue, 60</td><td>Touring Bikes</td><td>2384.07</td></tr><tr><td>732</td><td>ML Road Frame - Red, 48</td><td>Road Frames</td><td>594.83</td></tr><tr><td>885</td><td>HL Touring Frame - Yellow, 60</td><td>Touring Frames</td><td>1003.91</td></tr><tr><td>852</td><td>Women's Tights, S</td><td>Tights</td><td>74.99</td></tr><tr><td>949</td><td>LL Crankset</td><td>Cranksets</td><td>175.49</td></tr><tr><td>995</td><td>ML Bottom Bracket</td><td>Bottom Brackets</td><td>101.24</td></tr><tr><td>941</td><td>Touring Pedal</td><td>Pedals</td><td>80.99</td></tr><tr><td>736</td><td>LL Road Frame - Black, 44</td><td>Road Frames</td><td>337.22</td></tr><tr><td>913</td><td>HL Road Seat/Saddle</td><td>Saddles</td><td>52.64</td></tr><tr><td>833</td><td>ML Road Frame-W - Yellow, 40</td><td>Road Frames</td><td>594.83</td></tr><tr><td>902</td><td>LL Touring Frame - Yellow, 58</td><td>Touring Frames</td><td>333.42</td></tr><tr><td>808</td><td>LL Mountain Handlebars</td><td>Handlebars</td><td>44.54</td></tr><tr><td>895</td><td>LL Touring Frame - Blue, 50</td><td>Touring Frames</td><td>333.42</td></tr><tr><td>914</td><td>LL Touring Seat/Saddle</td><td>Saddles</td><td>27.12</td></tr><tr><td>777</td><td>Mountain-100 Black, 44</td><td>Mountain Bikes</td><td>3374.99</td></tr><tr><td>928</td><td>LL Mountain Tire</td><td>Tires and Tubes</td><td>24.99</td></tr><tr><td>778</td><td>Mountain-100 Black, 48</td><td>Mountain Bikes</td><td>3374.99</td></tr><tr><td>759</td><td>Road-650 Red, 58</td><td>Road Bikes</td><td>782.99</td></tr><tr><td>896</td><td>LL Touring Frame - Blue, 54</td><td>Touring Frames</td><td>333.42</td></tr><tr><td>785</td><td>Mountain-300 Black, 38</td><td>Mountain Bikes</td><td>1079.99</td></tr><tr><td>980</td><td>Mountain-400-W Silver, 38</td><td>Mountain Bikes</td><td>769.49</td></tr><tr><td>876</td><td>Hitch Rack - 4-Bike</td><td>Bike Racks</td><td>120.0</td></tr><tr><td>707</td><td>Sport-100 Helmet, Red</td><td>Helmets</td><td>34.99</td></tr><tr><td>743</td><td>HL Mountain Frame - Black, 42</td><td>Mountain Frames</td><td>1349.6</td></tr><tr><td>961</td><td>Touring-3000 Yellow, 44</td><td>Touring Bikes</td><td>742.35</td></tr><tr><td>975</td><td>Road-350-W Yellow, 44</td><td>Road Bikes</td><td>1700.99</td></tr><tr><td>882</td><td>Short-Sleeve Classic Jersey, M</td><td>Jerseys</td><td>53.99</td></tr><tr><td>794</td><td>Road-250 Black, 48</td><td>Road Bikes</td><td>2443.35</td></tr><tr><td>726</td><td>LL Road Frame - Red, 48</td><td>Road Frames</td><td>337.22</td></tr><tr><td>854</td><td>Women's Tights, L</td><td>Tights</td><td>74.99</td></tr><tr><td>977</td><td>Road-750 Black, 58</td><td>Road Bikes</td><td>539.99</td></tr><tr><td>763</td><td>Road-650 Red, 48</td><td>Road Bikes</td><td>782.99</td></tr><tr><td>807</td><td>HL Headset</td><td>Headsets</td><td>124.73</td></tr><tr><td>966</td><td>Touring-1000 Blue, 46</td><td>Touring Bikes</td><td>2384.07</td></tr><tr><td>723</td><td>LL Road Frame - Black, 60</td><td>Road Frames</td><td>337.22</td></tr><tr><td>990</td><td>Mountain-500 Black, 42</td><td>Mountain Bikes</td><td>539.99</td></tr><tr><td>749</td><td>Road-150 Red, 62</td><td>Road Bikes</td><td>3578.27</td></tr><tr><td>973</td><td>Road-350-W Yellow, 40</td><td>Road Bikes</td><td>1700.99</td></tr><tr><td>793</td><td>Road-250 Black, 44</td><td>Road Bikes</td><td>2443.35</td></tr><tr><td>959</td><td>Touring-3000 Blue, 58</td><td>Touring Bikes</td><td>742.35</td></tr><tr><td>790</td><td>Road-250 Red, 48</td><td>Road Bikes</td><td>2443.35</td></tr><tr><td>731</td><td>ML Road Frame - Red, 44</td><td>Road Frames</td><td>594.83</td></tr><tr><td>862</td><td>Full-Finger Gloves, M</td><td>Gloves</td><td>37.99</td></tr><tr><td>828</td><td>HL Road Rear Wheel</td><td>Wheels</td><td>357.06</td></tr><tr><td>878</td><td>Fender Set - Mountain</td><td>Fenders</td><td>21.98</td></tr><tr><td>922</td><td>Road Tire Tube</td><td>Tires and Tubes</td><td>3.99</td></tr><tr><td>923</td><td>Touring Tire Tube</td><td>Tires and Tubes</td><td>4.99</td></tr><tr><td>950</td><td>ML Crankset</td><td>Cranksets</td><td>256.49</td></tr><tr><td>925</td><td>LL Mountain Frame - Black, 44</td><td>Mountain Frames</td><td>249.79</td></tr><tr><td>715</td><td>Long-Sleeve Logo Jersey, L</td><td>Jerseys</td><td>49.99</td></tr><tr><td>899</td><td>LL Touring Frame - Yellow, 44</td><td>Touring Frames</td><td>333.42</td></tr><tr><td>948</td><td>Front Brakes</td><td>Brakes</td><td>106.5</td></tr><tr><td>844</td><td>Minipump</td><td>Pumps</td><td>19.99</td></tr><tr><td>986</td><td>Mountain-500 Silver, 44</td><td>Mountain Bikes</td><td>564.99</td></tr><tr><td>800</td><td>Road-550-W Yellow, 44</td><td>Road Bikes</td><td>1120.49</td></tr><tr><td>829</td><td>Touring Rear Wheel</td><td>Wheels</td><td>245.01</td></tr><tr><td>919</td><td>LL Mountain Frame - Silver, 48</td><td>Mountain Frames</td><td>264.05</td></tr><tr><td>822</td><td>ML Road Frame-W - Yellow, 38</td><td>Road Frames</td><td>594.83</td></tr><tr><td>835</td><td>ML Road Frame-W - Yellow, 44</td><td>Road Frames</td><td>594.83</td></tr><tr><td>851</td><td>Men's Sports Shorts, XL</td><td>Shorts</td><td>59.99</td></tr><tr><td>871</td><td>Mountain Bottle Cage</td><td>Bottles and Cages</td><td>9.99</td></tr><tr><td>747</td><td>HL Mountain Frame - Black, 38</td><td>Mountain Frames</td><td>1349.6</td></tr><tr><td>870</td><td>Water Bottle - 30 oz.</td><td>Bottles and Cages</td><td>4.99</td></tr><tr><td>891</td><td>HL Touring Frame - Blue, 50</td><td>Touring Frames</td><td>1003.91</td></tr><tr><td>947</td><td>HL Touring Handlebars</td><td>Handlebars</td><td>91.57</td></tr><tr><td>722</td><td>LL Road Frame - Black, 58</td><td>Road Frames</td><td>337.22</td></tr><tr><td>848</td><td>Headlights - Weatherproof</td><td>Lights</td><td>44.99</td></tr><tr><td>792</td><td>Road-250 Red, 58</td><td>Road Bikes</td><td>2443.35</td></tr><tr><td>917</td><td>LL Mountain Frame - Silver, 42</td><td>Mountain Frames</td><td>264.05</td></tr><tr><td>936</td><td>ML Mountain Pedal</td><td>Pedals</td><td>62.09</td></tr><tr><td>879</td><td>All-Purpose Bike Stand</td><td>Bike Stands</td><td>159.0</td></tr><tr><td>954</td><td>Touring-1000 Yellow, 46</td><td>Touring Bikes</td><td>2384.07</td></tr><tr><td>867</td><td>Women's Mountain Shorts, S</td><td>Shorts</td><td>69.99</td></tr><tr><td>981</td><td>Mountain-400-W Silver, 40</td><td>Mountain Bikes</td><td>769.49</td></tr><tr><td>801</td><td>Road-550-W Yellow, 48</td><td>Road Bikes</td><td>1120.49</td></tr><tr><td>709</td><td>Mountain Bike Socks, M</td><td>Socks</td><td>9.5</td></tr><tr><td>841</td><td>Men's Sports Shorts, S</td><td>Shorts</td><td>59.99</td></tr><tr><td>804</td><td>HL Fork</td><td>Forks</td><td>229.49</td></tr><tr><td>881</td><td>Short-Sleeve Classic Jersey, S</td><td>Jerseys</td><td>53.99</td></tr><tr><td>774</td><td>Mountain-100 Silver, 48</td><td>Mountain Bikes</td><td>3399.99</td></tr><tr><td>897</td><td>LL Touring Frame - Blue, 58</td><td>Touring Frames</td><td>333.42</td></tr><tr><td>823</td><td>LL Mountain Rear Wheel</td><td>Wheels</td><td>87.745</td></tr><tr><td>751</td><td>Road-150 Red, 48</td><td>Road Bikes</td><td>3578.27</td></tr><tr><td>815</td><td>LL Mountain Front Wheel</td><td>Wheels</td><td>60.745</td></tr><tr><td>898</td><td>LL Touring Frame - Blue, 62</td><td>Touring Frames</td><td>333.42</td></tr><tr><td>932</td><td>ML Road Tire</td><td>Tires and Tubes</td><td>24.99</td></tr><tr><td>750</td><td>Road-150 Red, 44</td><td>Road Bikes</td><td>3578.27</td></tr><tr><td>765</td><td>Road-650 Black, 58</td><td>Road Bikes</td><td>782.99</td></tr><tr><td>909</td><td>ML Mountain Seat/Saddle</td><td>Saddles</td><td>39.14</td></tr><tr><td>767</td><td>Road-650 Black, 62</td><td>Road Bikes</td><td>782.99</td></tr><tr><td>834</td><td>ML Road Frame-W - Yellow, 42</td><td>Road Frames</td><td>594.83</td></tr><tr><td>853</td><td>Women's Tights, M</td><td>Tights</td><td>74.99</td></tr><tr><td>768</td><td>Road-650 Black, 44</td><td>Road Bikes</td><td>782.99</td></tr><tr><td>809</td><td>ML Mountain Handlebars</td><td>Handlebars</td><td>61.92</td></tr><tr><td>906</td><td>ML Mountain Frame-W - Silver, 46</td><td>Mountain Frames</td><td>364.09</td></tr><tr><td>843</td><td>Cable Lock</td><td>Locks</td><td>25.0</td></tr><tr><td>984</td><td>Mountain-500 Silver, 40</td><td>Mountain Bikes</td><td>564.99</td></tr><tr><td>921</td><td>Mountain Tire Tube</td><td>Tires and Tubes</td><td>4.99</td></tr><tr><td>771</td><td>Mountain-100 Silver, 38</td><td>Mountain Bikes</td><td>3399.99</td></tr><tr><td>821</td><td>Touring Front Wheel</td><td>Wheels</td><td>218.01</td></tr><tr><td>779</td><td>Mountain-200 Silver, 38</td><td>Mountain Bikes</td><td>2319.99</td></tr><tr><td>798</td><td>Road-550-W Yellow, 40</td><td>Road Bikes</td><td>1120.49</td></tr><tr><td>799</td><td>Road-550-W Yellow, 42</td><td>Road Bikes</td><td>1120.49</td></tr><tr><td>818</td><td>LL Road Front Wheel</td><td>Wheels</td><td>85.565</td></tr><tr><td>875</td><td>Racing Socks, L</td><td>Socks</td><td>8.99</td></tr><tr><td>727</td><td>LL Road Frame - Red, 52</td><td>Road Frames</td><td>337.22</td></tr><tr><td>820</td><td>HL Road Front Wheel</td><td>Wheels</td><td>330.06</td></tr><tr><td>775</td><td>Mountain-100 Black, 38</td><td>Mountain Bikes</td><td>3374.99</td></tr><tr><td>797</td><td>Road-550-W Yellow, 38</td><td>Road Bikes</td><td>1120.49</td></tr><tr><td>900</td><td>LL Touring Frame - Yellow, 50</td><td>Touring Frames</td><td>333.42</td></tr><tr><td>758</td><td>Road-450 Red, 52</td><td>Road Bikes</td><td>1457.99</td></tr><tr><td>874</td><td>Racing Socks, M</td><td>Socks</td><td>8.99</td></tr><tr><td>929</td><td>ML Mountain Tire</td><td>Tires and Tubes</td><td>29.99</td></tr><tr><td>998</td><td>Road-750 Black, 48</td><td>Road Bikes</td><td>539.99</td></tr><tr><td>791</td><td>Road-250 Red, 52</td><td>Road Bikes</td><td>2443.35</td></tr><tr><td>953</td><td>Touring-2000 Blue, 60</td><td>Touring Bikes</td><td>1214.85</td></tr><tr><td>857</td><td>Men's Bib-Shorts, L</td><td>Bib-Shorts</td><td>89.99</td></tr><tr><td>957</td><td>Touring-1000 Yellow, 60</td><td>Touring Bikes</td><td>2384.07</td></tr><tr><td>858</td><td>Half-Finger Gloves, S</td><td>Gloves</td><td>24.49</td></tr><tr><td>706</td><td>HL Road Frame - Red, 58</td><td>Road Frames</td><td>1431.5</td></tr><tr><td>884</td><td>Short-Sleeve Classic Jersey, XL</td><td>Jerseys</td><td>53.99</td></tr><tr><td>956</td><td>Touring-1000 Yellow, 54</td><td>Touring Bikes</td><td>2384.07</td></tr><tr><td>762</td><td>Road-650 Red, 44</td><td>Road Bikes</td><td>782.99</td></tr><tr><td>840</td><td>HL Road Frame - Black, 52</td><td>Road Frames</td><td>1431.5</td></tr><tr><td>717</td><td>HL Road Frame - Red, 62</td><td>Road Frames</td><td>1431.5</td></tr><tr><td>718</td><td>HL Road Frame - Red, 44</td><td>Road Frames</td><td>1431.5</td></tr><tr><td>933</td><td>HL Road Tire</td><td>Tires and Tubes</td><td>32.6</td></tr><tr><td>963</td><td>Touring-3000 Yellow, 54</td><td>Touring Bikes</td><td>742.35</td></tr><tr><td>742</td><td>HL Mountain Frame - Silver, 46</td><td>Mountain Frames</td><td>1364.5</td></tr><tr><td>735</td><td>ML Road Frame - Red, 60</td><td>Road Frames</td><td>594.83</td></tr><tr><td>786</td><td>Mountain-300 Black, 40</td><td>Mountain Bikes</td><td>1079.99</td></tr><tr><td>991</td><td>Mountain-500 Black, 44</td><td>Mountain Bikes</td><td>539.99</td></tr><tr><td>740</td><td>HL Mountain Frame - Silver, 44</td><td>Mountain Frames</td><td>1364.5</td></tr><tr><td>983</td><td>Mountain-400-W Silver, 46</td><td>Mountain Bikes</td><td>769.49</td></tr><tr><td>978</td><td>Touring-3000 Blue, 44</td><td>Touring Bikes</td><td>742.35</td></tr><tr><td>904</td><td>ML Mountain Frame-W - Silver, 40</td><td>Mountain Frames</td><td>364.09</td></tr></tbody></table></div>"
      ]
     },
     "metadata": {
      "application/vnd.databricks.v1+output": {
       "addedWidgets": {},
       "aggData": [],
       "aggError": "",
       "aggOverflow": false,
       "aggSchema": [],
       "aggSeriesLimitReached": false,
       "aggType": "",
       "arguments": {},
       "columnCustomDisplayInfos": {},
       "data": [
        [
         883,
         "Short-Sleeve Classic Jersey, L",
         "Jerseys",
         53.99
        ],
        [
         944,
         "LL Mountain Frame - Silver, 40",
         "Mountain Frames",
         264.05
        ],
        [
         721,
         "HL Road Frame - Red, 56",
         "Road Frames",
         1431.5
        ],
        [
         746,
         "HL Mountain Frame - Black, 46",
         "Mountain Frames",
         1349.6
        ],
        [
         886,
         "LL Touring Frame - Yellow, 62",
         "Touring Frames",
         333.42
        ],
        [
         972,
         "Touring-2000 Blue, 54",
         "Touring Bikes",
         1214.85
        ],
        [
         811,
         "LL Road Handlebars",
         "Handlebars",
         44.54
        ],
        [
         994,
         "LL Bottom Bracket",
         "Bottom Brackets",
         53.99
        ],
        [
         729,
         "LL Road Frame - Red, 60",
         "Road Frames",
         337.22
        ],
        [
         710,
         "Mountain Bike Socks, L",
         "Socks",
         9.5
        ],
        [
         945,
         "Front Derailleur",
         "Derailleurs",
         91.49
        ],
        [
         776,
         "Mountain-100 Black, 42",
         "Mountain Bikes",
         3374.99
        ],
        [
         757,
         "Road-450 Red, 48",
         "Road Bikes",
         1457.99
        ],
        [
         908,
         "LL Mountain Seat/Saddle",
         "Saddles",
         27.12
        ],
        [
         997,
         "Road-750 Black, 44",
         "Road Bikes",
         539.99
        ],
        [
         872,
         "Road Bottle Cage",
         "Bottles and Cages",
         8.99
        ],
        [
         869,
         "Women's Mountain Shorts, L",
         "Shorts",
         69.99
        ],
        [
         988,
         "Mountain-500 Silver, 52",
         "Mountain Bikes",
         564.99
        ],
        [
         992,
         "Mountain-500 Black, 48",
         "Mountain Bikes",
         539.99
        ],
        [
         769,
         "Road-650 Black, 48",
         "Road Bikes",
         782.99
        ],
        [
         962,
         "Touring-3000 Yellow, 50",
         "Touring Bikes",
         742.35
        ],
        [
         838,
         "HL Road Frame - Black, 44",
         "Road Frames",
         1431.5
        ],
        [
         861,
         "Full-Finger Gloves, S",
         "Gloves",
         37.99
        ],
        [
         781,
         "Mountain-200 Silver, 46",
         "Mountain Bikes",
         2319.99
        ],
        [
         825,
         "HL Mountain Rear Wheel",
         "Wheels",
         327.215
        ],
        [
         745,
         "HL Mountain Frame - Black, 48",
         "Mountain Frames",
         1349.6
        ],
        [
         832,
         "ML Mountain Frame - Black, 48",
         "Mountain Frames",
         348.76
        ],
        [
         863,
         "Full-Finger Gloves, L",
         "Gloves",
         37.99
        ],
        [
         850,
         "Men's Sports Shorts, L",
         "Shorts",
         59.99
        ],
        [
         993,
         "Mountain-500 Black, 52",
         "Mountain Bikes",
         539.99
        ],
        [
         866,
         "Classic Vest, L",
         "Vests",
         63.5
        ],
        [
         937,
         "HL Mountain Pedal",
         "Pedals",
         80.99
        ],
        [
         865,
         "Classic Vest, M",
         "Vests",
         63.5
        ],
        [
         730,
         "LL Road Frame - Red, 62",
         "Road Frames",
         337.22
        ],
        [
         968,
         "Touring-1000 Blue, 54",
         "Touring Bikes",
         2384.07
        ],
        [
         813,
         "HL Road Handlebars",
         "Handlebars",
         120.27
        ],
        [
         892,
         "HL Touring Frame - Blue, 54",
         "Touring Frames",
         1003.91
        ],
        [
         926,
         "LL Mountain Frame - Black, 48",
         "Mountain Frames",
         249.79
        ],
        [
         987,
         "Mountain-500 Silver, 48",
         "Mountain Bikes",
         564.99
        ],
        [
         979,
         "Touring-3000 Blue, 50",
         "Touring Bikes",
         742.35
        ],
        [
         910,
         "HL Mountain Seat/Saddle",
         "Saddles",
         52.64
        ],
        [
         901,
         "LL Touring Frame - Yellow, 54",
         "Touring Frames",
         333.42
        ],
        [
         860,
         "Half-Finger Gloves, L",
         "Gloves",
         24.49
        ],
        [
         770,
         "Road-650 Black, 52",
         "Road Bikes",
         782.99
        ],
        [
         772,
         "Mountain-100 Silver, 42",
         "Mountain Bikes",
         3399.99
        ],
        [
         780,
         "Mountain-200 Silver, 42",
         "Mountain Bikes",
         2319.99
        ],
        [
         955,
         "Touring-1000 Yellow, 50",
         "Touring Bikes",
         2384.07
        ],
        [
         831,
         "ML Mountain Frame - Black, 44",
         "Mountain Frames",
         348.76
        ],
        [
         773,
         "Mountain-100 Silver, 44",
         "Mountain Bikes",
         3399.99
        ],
        [
         939,
         "ML Road Pedal",
         "Pedals",
         62.09
        ],
        [
         680,
         "HL Road Frame - Black, 58",
         "Road Frames",
         1431.5
        ],
        [
         802,
         "LL Fork",
         "Forks",
         148.22
        ],
        [
         714,
         "Long-Sleeve Logo Jersey, M",
         "Jerseys",
         49.99
        ],
        [
         766,
         "Road-650 Black, 60",
         "Road Bikes",
         782.99
        ],
        [
         946,
         "LL Touring Handlebars",
         "Handlebars",
         46.09
        ],
        [
         877,
         "Bike Wash - Dissolver",
         "Cleaners",
         7.95
        ],
        [
         782,
         "Mountain-200 Black, 38",
         "Mountain Bikes",
         2294.99
        ],
        [
         918,
         "LL Mountain Frame - Silver, 44",
         "Mountain Frames",
         264.05
        ],
        [
         911,
         "LL Road Seat/Saddle",
         "Saddles",
         27.12
        ],
        [
         810,
         "HL Mountain Handlebars",
         "Handlebars",
         120.27
        ],
        [
         836,
         "ML Road Frame-W - Yellow, 48",
         "Road Frames",
         594.83
        ],
        [
         788,
         "Mountain-300 Black, 48",
         "Mountain Bikes",
         1079.99
        ],
        [
         967,
         "Touring-1000 Blue, 50",
         "Touring Bikes",
         2384.07
        ],
        [
         942,
         "ML Mountain Frame-W - Silver, 38",
         "Mountain Frames",
         364.09
        ],
        [
         753,
         "Road-150 Red, 56",
         "Road Bikes",
         3578.27
        ],
        [
         738,
         "LL Road Frame - Black, 52",
         "Road Frames",
         337.22
        ],
        [
         847,
         "Headlights - Dual-Beam",
         "Lights",
         34.99
        ],
        [
         856,
         "Men's Bib-Shorts, M",
         "Bib-Shorts",
         89.99
        ],
        [
         970,
         "Touring-2000 Blue, 46",
         "Touring Bikes",
         1214.85
        ],
        [
         803,
         "ML Fork",
         "Forks",
         175.49
        ],
        [
         719,
         "HL Road Frame - Red, 48",
         "Road Frames",
         1431.5
        ],
        [
         737,
         "LL Road Frame - Black, 48",
         "Road Frames",
         337.22
        ],
        [
         846,
         "Taillights - Battery-Powered",
         "Lights",
         13.99
        ],
        [
         934,
         "Touring Tire",
         "Tires and Tubes",
         28.99
        ],
        [
         893,
         "HL Touring Frame - Blue, 60",
         "Touring Frames",
         1003.91
        ],
        [
         711,
         "Sport-100 Helmet, Blue",
         "Helmets",
         34.99
        ],
        [
         783,
         "Mountain-200 Black, 42",
         "Mountain Bikes",
         2294.99
        ],
        [
         974,
         "Road-350-W Yellow, 42",
         "Road Bikes",
         1700.99
        ],
        [
         887,
         "HL Touring Frame - Yellow, 46",
         "Touring Frames",
         1003.91
        ],
        [
         989,
         "Mountain-500 Black, 40",
         "Mountain Bikes",
         539.99
        ],
        [
         849,
         "Men's Sports Shorts, M",
         "Shorts",
         59.99
        ],
        [
         859,
         "Half-Finger Gloves, M",
         "Gloves",
         24.49
        ],
        [
         845,
         "Mountain Pump",
         "Pumps",
         24.99
        ],
        [
         931,
         "LL Road Tire",
         "Tires and Tubes",
         21.49
        ],
        [
         890,
         "HL Touring Frame - Blue, 46",
         "Touring Frames",
         1003.91
        ],
        [
         754,
         "Road-450 Red, 58",
         "Road Bikes",
         1457.99
        ],
        [
         864,
         "Classic Vest, S",
         "Vests",
         63.5
        ],
        [
         761,
         "Road-650 Red, 62",
         "Road Bikes",
         782.99
        ],
        [
         903,
         "LL Touring Frame - Blue, 44",
         "Touring Frames",
         333.42
        ],
        [
         907,
         "Rear Brakes",
         "Brakes",
         106.5
        ],
        [
         748,
         "HL Mountain Frame - Silver, 38",
         "Mountain Frames",
         1364.5
        ],
        [
         830,
         "ML Mountain Frame - Black, 40",
         "Mountain Frames",
         348.76
        ],
        [
         938,
         "LL Road Pedal",
         "Pedals",
         40.49
        ],
        [
         817,
         "HL Mountain Front Wheel",
         "Wheels",
         300.215
        ],
        [
         905,
         "ML Mountain Frame-W - Silver, 42",
         "Mountain Frames",
         364.09
        ],
        [
         725,
         "LL Road Frame - Red, 44",
         "Road Frames",
         337.22
        ],
        [
         999,
         "Road-750 Black, 52",
         "Road Bikes",
         539.99
        ],
        [
         839,
         "HL Road Frame - Black, 48",
         "Road Frames",
         1431.5
        ],
        [
         708,
         "Sport-100 Helmet, Black",
         "Helmets",
         34.99
        ],
        [
         755,
         "Road-450 Red, 60",
         "Road Bikes",
         1457.99
        ],
        [
         741,
         "HL Mountain Frame - Silver, 48",
         "Mountain Frames",
         1364.5
        ],
        [
         894,
         "Rear Derailleur",
         "Derailleurs",
         121.46
        ],
        [
         920,
         "LL Mountain Frame - Silver, 52",
         "Mountain Frames",
         264.05
        ],
        [
         912,
         "ML Road Seat/Saddle",
         "Saddles",
         39.14
        ],
        [
         716,
         "Long-Sleeve Logo Jersey, XL",
         "Jerseys",
         49.99
        ],
        [
         752,
         "Road-150 Red, 52",
         "Road Bikes",
         3578.27
        ],
        [
         971,
         "Touring-2000 Blue, 50",
         "Touring Bikes",
         1214.85
        ],
        [
         806,
         "ML Headset",
         "Headsets",
         102.29
        ],
        [
         760,
         "Road-650 Red, 60",
         "Road Bikes",
         782.99
        ],
        [
         739,
         "HL Mountain Frame - Silver, 42",
         "Mountain Frames",
         1364.5
        ],
        [
         889,
         "HL Touring Frame - Yellow, 54",
         "Touring Frames",
         1003.91
        ],
        [
         952,
         "Chain",
         "Chains",
         20.24
        ],
        [
         943,
         "LL Mountain Frame - Black, 40",
         "Mountain Frames",
         249.79
        ],
        [
         935,
         "LL Mountain Pedal",
         "Pedals",
         40.49
        ],
        [
         951,
         "HL Crankset",
         "Cranksets",
         404.99
        ],
        [
         733,
         "ML Road Frame - Red, 52",
         "Road Frames",
         594.83
        ],
        [
         915,
         "ML Touring Seat/Saddle",
         "Saddles",
         39.14
        ],
        [
         930,
         "HL Mountain Tire",
         "Tires and Tubes",
         35
        ],
        [
         789,
         "Road-250 Red, 44",
         "Road Bikes",
         2443.35
        ],
        [
         916,
         "HL Touring Seat/Saddle",
         "Saddles",
         52.64
        ],
        [
         960,
         "Touring-3000 Blue, 62",
         "Touring Bikes",
         742.35
        ],
        [
         940,
         "HL Road Pedal",
         "Pedals",
         80.99
        ],
        [
         816,
         "ML Mountain Front Wheel",
         "Wheels",
         209.025
        ],
        [
         796,
         "Road-250 Black, 58",
         "Road Bikes",
         2443.35
        ],
        [
         996,
         "HL Bottom Bracket",
         "Bottom Brackets",
         121.49
        ],
        [
         728,
         "LL Road Frame - Red, 58",
         "Road Frames",
         337.22
        ],
        [
         927,
         "LL Mountain Frame - Black, 52",
         "Mountain Frames",
         249.79
        ],
        [
         888,
         "HL Touring Frame - Yellow, 50",
         "Touring Frames",
         1003.91
        ],
        [
         712,
         "AWC Logo Cap",
         "Caps",
         8.99
        ],
        [
         982,
         "Mountain-400-W Silver, 42",
         "Mountain Bikes",
         769.49
        ],
        [
         837,
         "HL Road Frame - Black, 62",
         "Road Frames",
         1431.5
        ],
        [
         976,
         "Road-350-W Yellow, 48",
         "Road Bikes",
         1700.99
        ],
        [
         958,
         "Touring-3000 Blue, 54",
         "Touring Bikes",
         742.35
        ],
        [
         965,
         "Touring-3000 Yellow, 62",
         "Touring Bikes",
         742.35
        ],
        [
         812,
         "ML Road Handlebars",
         "Handlebars",
         61.92
        ],
        [
         756,
         "Road-450 Red, 44",
         "Road Bikes",
         1457.99
        ],
        [
         720,
         "HL Road Frame - Red, 52",
         "Road Frames",
         1431.5
        ],
        [
         819,
         "ML Road Front Wheel",
         "Wheels",
         248.385
        ],
        [
         855,
         "Men's Bib-Shorts, S",
         "Bib-Shorts",
         89.99
        ],
        [
         880,
         "Hydration Pack - 70 oz.",
         "Hydration Packs",
         54.99
        ],
        [
         805,
         "LL Headset",
         "Headsets",
         34.2
        ],
        [
         744,
         "HL Mountain Frame - Black, 44",
         "Mountain Frames",
         1349.6
        ],
        [
         814,
         "ML Mountain Frame - Black, 38",
         "Mountain Frames",
         348.76
        ],
        [
         842,
         "Touring-Panniers, Large",
         "Panniers",
         125
        ],
        [
         784,
         "Mountain-200 Black, 46",
         "Mountain Bikes",
         2294.99
        ],
        [
         713,
         "Long-Sleeve Logo Jersey, S",
         "Jerseys",
         49.99
        ],
        [
         985,
         "Mountain-500 Silver, 42",
         "Mountain Bikes",
         564.99
        ],
        [
         824,
         "ML Mountain Rear Wheel",
         "Wheels",
         236.025
        ],
        [
         964,
         "Touring-3000 Yellow, 58",
         "Touring Bikes",
         742.35
        ],
        [
         734,
         "ML Road Frame - Red, 58",
         "Road Frames",
         594.83
        ],
        [
         868,
         "Women's Mountain Shorts, M",
         "Shorts",
         69.99
        ],
        [
         827,
         "ML Road Rear Wheel",
         "Wheels",
         275.385
        ],
        [
         764,
         "Road-650 Red, 52",
         "Road Bikes",
         782.99
        ],
        [
         787,
         "Mountain-300 Black, 44",
         "Mountain Bikes",
         1079.99
        ],
        [
         873,
         "Patch Kit/8 Patches",
         "Tires and Tubes",
         2.29
        ],
        [
         795,
         "Road-250 Black, 52",
         "Road Bikes",
         2443.35
        ],
        [
         924,
         "LL Mountain Frame - Black, 42",
         "Mountain Frames",
         249.79
        ],
        [
         724,
         "LL Road Frame - Black, 62",
         "Road Frames",
         337.22
        ],
        [
         826,
         "LL Road Rear Wheel",
         "Wheels",
         112.565
        ],
        [
         969,
         "Touring-1000 Blue, 60",
         "Touring Bikes",
         2384.07
        ],
        [
         732,
         "ML Road Frame - Red, 48",
         "Road Frames",
         594.83
        ],
        [
         885,
         "HL Touring Frame - Yellow, 60",
         "Touring Frames",
         1003.91
        ],
        [
         852,
         "Women's Tights, S",
         "Tights",
         74.99
        ],
        [
         949,
         "LL Crankset",
         "Cranksets",
         175.49
        ],
        [
         995,
         "ML Bottom Bracket",
         "Bottom Brackets",
         101.24
        ],
        [
         941,
         "Touring Pedal",
         "Pedals",
         80.99
        ],
        [
         736,
         "LL Road Frame - Black, 44",
         "Road Frames",
         337.22
        ],
        [
         913,
         "HL Road Seat/Saddle",
         "Saddles",
         52.64
        ],
        [
         833,
         "ML Road Frame-W - Yellow, 40",
         "Road Frames",
         594.83
        ],
        [
         902,
         "LL Touring Frame - Yellow, 58",
         "Touring Frames",
         333.42
        ],
        [
         808,
         "LL Mountain Handlebars",
         "Handlebars",
         44.54
        ],
        [
         895,
         "LL Touring Frame - Blue, 50",
         "Touring Frames",
         333.42
        ],
        [
         914,
         "LL Touring Seat/Saddle",
         "Saddles",
         27.12
        ],
        [
         777,
         "Mountain-100 Black, 44",
         "Mountain Bikes",
         3374.99
        ],
        [
         928,
         "LL Mountain Tire",
         "Tires and Tubes",
         24.99
        ],
        [
         778,
         "Mountain-100 Black, 48",
         "Mountain Bikes",
         3374.99
        ],
        [
         759,
         "Road-650 Red, 58",
         "Road Bikes",
         782.99
        ],
        [
         896,
         "LL Touring Frame - Blue, 54",
         "Touring Frames",
         333.42
        ],
        [
         785,
         "Mountain-300 Black, 38",
         "Mountain Bikes",
         1079.99
        ],
        [
         980,
         "Mountain-400-W Silver, 38",
         "Mountain Bikes",
         769.49
        ],
        [
         876,
         "Hitch Rack - 4-Bike",
         "Bike Racks",
         120
        ],
        [
         707,
         "Sport-100 Helmet, Red",
         "Helmets",
         34.99
        ],
        [
         743,
         "HL Mountain Frame - Black, 42",
         "Mountain Frames",
         1349.6
        ],
        [
         961,
         "Touring-3000 Yellow, 44",
         "Touring Bikes",
         742.35
        ],
        [
         975,
         "Road-350-W Yellow, 44",
         "Road Bikes",
         1700.99
        ],
        [
         882,
         "Short-Sleeve Classic Jersey, M",
         "Jerseys",
         53.99
        ],
        [
         794,
         "Road-250 Black, 48",
         "Road Bikes",
         2443.35
        ],
        [
         726,
         "LL Road Frame - Red, 48",
         "Road Frames",
         337.22
        ],
        [
         854,
         "Women's Tights, L",
         "Tights",
         74.99
        ],
        [
         977,
         "Road-750 Black, 58",
         "Road Bikes",
         539.99
        ],
        [
         763,
         "Road-650 Red, 48",
         "Road Bikes",
         782.99
        ],
        [
         807,
         "HL Headset",
         "Headsets",
         124.73
        ],
        [
         966,
         "Touring-1000 Blue, 46",
         "Touring Bikes",
         2384.07
        ],
        [
         723,
         "LL Road Frame - Black, 60",
         "Road Frames",
         337.22
        ],
        [
         990,
         "Mountain-500 Black, 42",
         "Mountain Bikes",
         539.99
        ],
        [
         749,
         "Road-150 Red, 62",
         "Road Bikes",
         3578.27
        ],
        [
         973,
         "Road-350-W Yellow, 40",
         "Road Bikes",
         1700.99
        ],
        [
         793,
         "Road-250 Black, 44",
         "Road Bikes",
         2443.35
        ],
        [
         959,
         "Touring-3000 Blue, 58",
         "Touring Bikes",
         742.35
        ],
        [
         790,
         "Road-250 Red, 48",
         "Road Bikes",
         2443.35
        ],
        [
         731,
         "ML Road Frame - Red, 44",
         "Road Frames",
         594.83
        ],
        [
         862,
         "Full-Finger Gloves, M",
         "Gloves",
         37.99
        ],
        [
         828,
         "HL Road Rear Wheel",
         "Wheels",
         357.06
        ],
        [
         878,
         "Fender Set - Mountain",
         "Fenders",
         21.98
        ],
        [
         922,
         "Road Tire Tube",
         "Tires and Tubes",
         3.99
        ],
        [
         923,
         "Touring Tire Tube",
         "Tires and Tubes",
         4.99
        ],
        [
         950,
         "ML Crankset",
         "Cranksets",
         256.49
        ],
        [
         925,
         "LL Mountain Frame - Black, 44",
         "Mountain Frames",
         249.79
        ],
        [
         715,
         "Long-Sleeve Logo Jersey, L",
         "Jerseys",
         49.99
        ],
        [
         899,
         "LL Touring Frame - Yellow, 44",
         "Touring Frames",
         333.42
        ],
        [
         948,
         "Front Brakes",
         "Brakes",
         106.5
        ],
        [
         844,
         "Minipump",
         "Pumps",
         19.99
        ],
        [
         986,
         "Mountain-500 Silver, 44",
         "Mountain Bikes",
         564.99
        ],
        [
         800,
         "Road-550-W Yellow, 44",
         "Road Bikes",
         1120.49
        ],
        [
         829,
         "Touring Rear Wheel",
         "Wheels",
         245.01
        ],
        [
         919,
         "LL Mountain Frame - Silver, 48",
         "Mountain Frames",
         264.05
        ],
        [
         822,
         "ML Road Frame-W - Yellow, 38",
         "Road Frames",
         594.83
        ],
        [
         835,
         "ML Road Frame-W - Yellow, 44",
         "Road Frames",
         594.83
        ],
        [
         851,
         "Men's Sports Shorts, XL",
         "Shorts",
         59.99
        ],
        [
         871,
         "Mountain Bottle Cage",
         "Bottles and Cages",
         9.99
        ],
        [
         747,
         "HL Mountain Frame - Black, 38",
         "Mountain Frames",
         1349.6
        ],
        [
         870,
         "Water Bottle - 30 oz.",
         "Bottles and Cages",
         4.99
        ],
        [
         891,
         "HL Touring Frame - Blue, 50",
         "Touring Frames",
         1003.91
        ],
        [
         947,
         "HL Touring Handlebars",
         "Handlebars",
         91.57
        ],
        [
         722,
         "LL Road Frame - Black, 58",
         "Road Frames",
         337.22
        ],
        [
         848,
         "Headlights - Weatherproof",
         "Lights",
         44.99
        ],
        [
         792,
         "Road-250 Red, 58",
         "Road Bikes",
         2443.35
        ],
        [
         917,
         "LL Mountain Frame - Silver, 42",
         "Mountain Frames",
         264.05
        ],
        [
         936,
         "ML Mountain Pedal",
         "Pedals",
         62.09
        ],
        [
         879,
         "All-Purpose Bike Stand",
         "Bike Stands",
         159
        ],
        [
         954,
         "Touring-1000 Yellow, 46",
         "Touring Bikes",
         2384.07
        ],
        [
         867,
         "Women's Mountain Shorts, S",
         "Shorts",
         69.99
        ],
        [
         981,
         "Mountain-400-W Silver, 40",
         "Mountain Bikes",
         769.49
        ],
        [
         801,
         "Road-550-W Yellow, 48",
         "Road Bikes",
         1120.49
        ],
        [
         709,
         "Mountain Bike Socks, M",
         "Socks",
         9.5
        ],
        [
         841,
         "Men's Sports Shorts, S",
         "Shorts",
         59.99
        ],
        [
         804,
         "HL Fork",
         "Forks",
         229.49
        ],
        [
         881,
         "Short-Sleeve Classic Jersey, S",
         "Jerseys",
         53.99
        ],
        [
         774,
         "Mountain-100 Silver, 48",
         "Mountain Bikes",
         3399.99
        ],
        [
         897,
         "LL Touring Frame - Blue, 58",
         "Touring Frames",
         333.42
        ],
        [
         823,
         "LL Mountain Rear Wheel",
         "Wheels",
         87.745
        ],
        [
         751,
         "Road-150 Red, 48",
         "Road Bikes",
         3578.27
        ],
        [
         815,
         "LL Mountain Front Wheel",
         "Wheels",
         60.745
        ],
        [
         898,
         "LL Touring Frame - Blue, 62",
         "Touring Frames",
         333.42
        ],
        [
         932,
         "ML Road Tire",
         "Tires and Tubes",
         24.99
        ],
        [
         750,
         "Road-150 Red, 44",
         "Road Bikes",
         3578.27
        ],
        [
         765,
         "Road-650 Black, 58",
         "Road Bikes",
         782.99
        ],
        [
         909,
         "ML Mountain Seat/Saddle",
         "Saddles",
         39.14
        ],
        [
         767,
         "Road-650 Black, 62",
         "Road Bikes",
         782.99
        ],
        [
         834,
         "ML Road Frame-W - Yellow, 42",
         "Road Frames",
         594.83
        ],
        [
         853,
         "Women's Tights, M",
         "Tights",
         74.99
        ],
        [
         768,
         "Road-650 Black, 44",
         "Road Bikes",
         782.99
        ],
        [
         809,
         "ML Mountain Handlebars",
         "Handlebars",
         61.92
        ],
        [
         906,
         "ML Mountain Frame-W - Silver, 46",
         "Mountain Frames",
         364.09
        ],
        [
         843,
         "Cable Lock",
         "Locks",
         25
        ],
        [
         984,
         "Mountain-500 Silver, 40",
         "Mountain Bikes",
         564.99
        ],
        [
         921,
         "Mountain Tire Tube",
         "Tires and Tubes",
         4.99
        ],
        [
         771,
         "Mountain-100 Silver, 38",
         "Mountain Bikes",
         3399.99
        ],
        [
         821,
         "Touring Front Wheel",
         "Wheels",
         218.01
        ],
        [
         779,
         "Mountain-200 Silver, 38",
         "Mountain Bikes",
         2319.99
        ],
        [
         798,
         "Road-550-W Yellow, 40",
         "Road Bikes",
         1120.49
        ],
        [
         799,
         "Road-550-W Yellow, 42",
         "Road Bikes",
         1120.49
        ],
        [
         818,
         "LL Road Front Wheel",
         "Wheels",
         85.565
        ],
        [
         875,
         "Racing Socks, L",
         "Socks",
         8.99
        ],
        [
         727,
         "LL Road Frame - Red, 52",
         "Road Frames",
         337.22
        ],
        [
         820,
         "HL Road Front Wheel",
         "Wheels",
         330.06
        ],
        [
         775,
         "Mountain-100 Black, 38",
         "Mountain Bikes",
         3374.99
        ],
        [
         797,
         "Road-550-W Yellow, 38",
         "Road Bikes",
         1120.49
        ],
        [
         900,
         "LL Touring Frame - Yellow, 50",
         "Touring Frames",
         333.42
        ],
        [
         758,
         "Road-450 Red, 52",
         "Road Bikes",
         1457.99
        ],
        [
         874,
         "Racing Socks, M",
         "Socks",
         8.99
        ],
        [
         929,
         "ML Mountain Tire",
         "Tires and Tubes",
         29.99
        ],
        [
         998,
         "Road-750 Black, 48",
         "Road Bikes",
         539.99
        ],
        [
         791,
         "Road-250 Red, 52",
         "Road Bikes",
         2443.35
        ],
        [
         953,
         "Touring-2000 Blue, 60",
         "Touring Bikes",
         1214.85
        ],
        [
         857,
         "Men's Bib-Shorts, L",
         "Bib-Shorts",
         89.99
        ],
        [
         957,
         "Touring-1000 Yellow, 60",
         "Touring Bikes",
         2384.07
        ],
        [
         858,
         "Half-Finger Gloves, S",
         "Gloves",
         24.49
        ],
        [
         706,
         "HL Road Frame - Red, 58",
         "Road Frames",
         1431.5
        ],
        [
         884,
         "Short-Sleeve Classic Jersey, XL",
         "Jerseys",
         53.99
        ],
        [
         956,
         "Touring-1000 Yellow, 54",
         "Touring Bikes",
         2384.07
        ],
        [
         762,
         "Road-650 Red, 44",
         "Road Bikes",
         782.99
        ],
        [
         840,
         "HL Road Frame - Black, 52",
         "Road Frames",
         1431.5
        ],
        [
         717,
         "HL Road Frame - Red, 62",
         "Road Frames",
         1431.5
        ],
        [
         718,
         "HL Road Frame - Red, 44",
         "Road Frames",
         1431.5
        ],
        [
         933,
         "HL Road Tire",
         "Tires and Tubes",
         32.6
        ],
        [
         963,
         "Touring-3000 Yellow, 54",
         "Touring Bikes",
         742.35
        ],
        [
         742,
         "HL Mountain Frame - Silver, 46",
         "Mountain Frames",
         1364.5
        ],
        [
         735,
         "ML Road Frame - Red, 60",
         "Road Frames",
         594.83
        ],
        [
         786,
         "Mountain-300 Black, 40",
         "Mountain Bikes",
         1079.99
        ],
        [
         991,
         "Mountain-500 Black, 44",
         "Mountain Bikes",
         539.99
        ],
        [
         740,
         "HL Mountain Frame - Silver, 44",
         "Mountain Frames",
         1364.5
        ],
        [
         983,
         "Mountain-400-W Silver, 46",
         "Mountain Bikes",
         769.49
        ],
        [
         978,
         "Touring-3000 Blue, 44",
         "Touring Bikes",
         742.35
        ],
        [
         904,
         "ML Mountain Frame-W - Silver, 40",
         "Mountain Frames",
         364.09
        ]
       ],
       "datasetInfos": [],
       "dbfsResultPath": null,
       "isJsonSchema": true,
       "metadata": {},
       "overflow": false,
       "plotOptions": {
        "customPlotOptions": {},
        "displayType": "table",
        "pivotAggregation": null,
        "pivotColumns": null,
        "xColumns": null,
        "yColumns": null
       },
       "removedWidgets": [],
       "schema": [
        {
         "metadata": "{}",
         "name": "ProductID",
         "type": "\"integer\""
        },
        {
         "metadata": "{}",
         "name": "ProductName",
         "type": "\"string\""
        },
        {
         "metadata": "{}",
         "name": "Category",
         "type": "\"string\""
        },
        {
         "metadata": "{}",
         "name": "ListPrice",
         "type": "\"double\""
        }
       ],
       "type": "table"
      }
     },
     "output_type": "display_data"
    }
   ],
   "source": [
    "products_df1 = products_df.select(\"ProductID\", \"ProductName\", \"Category\").where(products_df[\"Category\"] == \"Wheels\")\n",
    "display(products_df.distinct())"
   ]
  },
  {
   "cell_type": "code",
   "execution_count": null,
   "metadata": {
    "application/vnd.databricks.v1+cell": {
     "cellMetadata": {
      "byteLimit": 2048000,
      "rowLimit": 10000
     },
     "inputWidgets": {},
     "nuid": "156ed0ab-a46b-4464-935f-1ec7f8a321eb",
     "showTitle": false,
     "title": ""
    }
   },
   "outputs": [
    {
     "data": {
      "image/png": "[encoded data removed]"
     },
     "metadata": {
      "application/vnd.databricks.v1+output": {
       "addedWidgets": {},
       "arguments": {},
       "data": "data:image/png;base64,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\n",
       "datasetInfos": [],
       "metadata": {},
       "removedWidgets": [],
       "type": "image"
      }
     },
     "output_type": "display_data"
    }
   ],
   "source": [
    "from matplotlib import pyplot as plt\n",
    "    \n",
    "# matplotlib requires a Pandas DataFrame\n",
    "df_category = products_df.toPandas()\n",
    "# Create a bar plot of Category by List price\n",
    "plt.bar(x=df_category[\"Category\"], height=df_category[\"ListPrice\"])\n",
    "# Display the plot\n",
    "plt.show()"
   ]
  }
 ],
 "metadata": {
  "application/vnd.databricks.v1+notebook": {
   "dashboards": [],
   "language": "python",
   "notebookMetadata": {
    "mostRecentlyExecutedCommandWithImplicitDF": {
     "commandId": 2975819452645184,
     "dataframes": [
      "_sqldf"
     ]
    },
    "pythonIndentUnit": 2
   },
   "notebookName": "products2024-03-02",
   "widgets": {}
  },
  "kernelspec": {
   "display_name": "Python 3.10.11 64-bit",
   "language": "python",
   "name": "python3"
  },
  "language_info": {
   "codemirror_mode": {
    "name": "ipython",
    "version": 3
   },
   "file_extension": ".py",
   "mimetype": "text/x-python",
   "name": "python",
   "nbconvert_exporter": "python",
   "pygments_lexer": "ipython3",
   "version": "3.10.11"
  },
  "vscode": {
   "interpreter": {
    "hash": "e7370f93d1d0cde622a1f8e1c04877d8463912d04d973331ad4851f04de6915a"
   }
  }
 },
 "nbformat": 4,
 "nbformat_minor": 4
}
