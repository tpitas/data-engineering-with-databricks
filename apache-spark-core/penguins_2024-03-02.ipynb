{
 "cells": [
  {
   "cell_type": "markdown",
   "metadata": {
    "application/vnd.databricks.v1+cell": {
     "cellMetadata": {},
     "inputWidgets": {},
     "nuid": "0a69487c-86a2-4bcd-9548-cdcd51764f39",
     "showTitle": false,
     "title": ""
    }
   },
   "source": [
    "#### Databricks Notebook source"
   ]
  },
  {
   "cell_type": "markdown",
   "metadata": {
    "application/vnd.databricks.v1+cell": {
     "cellMetadata": {},
     "inputWidgets": {},
     "nuid": "fed0fa05-dd49-4e43-914f-d5725f3669cb",
     "showTitle": false,
     "title": ""
    }
   },
   "source": [
    "##### Configure options to use first line as header and inferSchema"
   ]
  },
  {
   "cell_type": "code",
   "execution_count": 0,
   "metadata": {
    "application/vnd.databricks.v1+cell": {
     "cellMetadata": {
      "byteLimit": 2048000,
      "rowLimit": 10000
     },
     "inputWidgets": {},
     "nuid": "05adb291-2c86-435c-b4c9-e705301baf29",
     "showTitle": false,
     "title": ""
    }
   },
   "outputs": [
    {
     "output_type": "display_data",
     "data": {
      "text/html": [
       "<style scoped>\n",
       "  .table-result-container {\n",
       "    max-height: 300px;\n",
       "    overflow: auto;\n",
       "  }\n",
       "  table, th, td {\n",
       "    border: 1px solid black;\n",
       "    border-collapse: collapse;\n",
       "  }\n",
       "  th, td {\n",
       "    padding: 5px;\n",
       "  }\n",
       "  th {\n",
       "    text-align: left;\n",
       "  }\n",
       "</style><div class='table-result-container'><table class='table-result'><thead style='background-color: white'><tr><th>path</th><th>name</th><th>size</th><th>modificationTime</th></tr></thead><tbody><tr><td>dbfs:/mnt/test-0224/penguin.csv</td><td>penguin.csv</td><td>9876</td><td>1709401877000</td></tr></tbody></table></div>"
      ]
     },
     "metadata": {
      "application/vnd.databricks.v1+output": {
       "addedWidgets": {},
       "aggData": [],
       "aggError": "",
       "aggOverflow": false,
       "aggSchema": [],
       "aggSeriesLimitReached": false,
       "aggType": "",
       "arguments": {},
       "columnCustomDisplayInfos": {},
       "data": [
        [
         "dbfs:/mnt/test-0224/penguin.csv",
         "penguin.csv",
         9876,
         1709401877000
        ]
       ],
       "datasetInfos": [],
       "dbfsResultPath": null,
       "isJsonSchema": true,
       "metadata": {
        "isDbfsCommandResult": false
       },
       "overflow": false,
       "plotOptions": {
        "customPlotOptions": {},
        "displayType": "table",
        "pivotAggregation": null,
        "pivotColumns": null,
        "xColumns": null,
        "yColumns": null
       },
       "removedWidgets": [],
       "schema": [
        {
         "metadata": "{}",
         "name": "path",
         "type": "\"string\""
        },
        {
         "metadata": "{}",
         "name": "name",
         "type": "\"string\""
        },
        {
         "metadata": "{}",
         "name": "size",
         "type": "\"long\""
        },
        {
         "metadata": "{}",
         "name": "modificationTime",
         "type": "\"long\""
        }
       ],
       "type": "table"
      }
     },
     "output_type": "display_data"
    }
   ],
   "source": [
    "%fs ls dbfs:/mnt/test-0224/"
   ]
  },
  {
   "cell_type": "code",
   "execution_count": 0,
   "metadata": {
    "application/vnd.databricks.v1+cell": {
     "cellMetadata": {
      "byteLimit": 2048000,
      "rowLimit": 10000
     },
     "inputWidgets": {},
     "nuid": "d249a90e-501e-4e94-bc7c-50474b4df089",
     "showTitle": false,
     "title": ""
    }
   },
   "outputs": [
    {
     "output_type": "display_data",
     "data": {
      "text/html": [
       "<style scoped>\n",
       "  .table-result-container {\n",
       "    max-height: 300px;\n",
       "    overflow: auto;\n",
       "  }\n",
       "  table, th, td {\n",
       "    border: 1px solid black;\n",
       "    border-collapse: collapse;\n",
       "  }\n",
       "  th, td {\n",
       "    padding: 5px;\n",
       "  }\n",
       "  th {\n",
       "    text-align: left;\n",
       "  }\n",
       "</style><div class='table-result-container'><table class='table-result'><thead style='background-color: white'><tr><th>path</th><th>name</th><th>size</th><th>modificationTime</th></tr></thead><tbody><tr><td>dbfs:/FileStore/Linux_Projects.txt</td><td>Linux_Projects.txt</td><td>1311</td><td>1709237028000</td></tr><tr><td>dbfs:/FileStore/import-stage/</td><td>import-stage/</td><td>0</td><td>0</td></tr><tr><td>dbfs:/FileStore/penguin.csv</td><td>penguin.csv</td><td>9876</td><td>1709401238000</td></tr><tr><td>dbfs:/FileStore/plots/</td><td>plots/</td><td>0</td><td>0</td></tr><tr><td>dbfs:/FileStore/shared_uploads/</td><td>shared_uploads/</td><td>0</td><td>0</td></tr><tr><td>dbfs:/FileStore/tables/</td><td>tables/</td><td>0</td><td>0</td></tr></tbody></table></div>"
      ]
     },
     "metadata": {
      "application/vnd.databricks.v1+output": {
       "addedWidgets": {},
       "aggData": [],
       "aggError": "",
       "aggOverflow": false,
       "aggSchema": [],
       "aggSeriesLimitReached": false,
       "aggType": "",
       "arguments": {},
       "columnCustomDisplayInfos": {},
       "data": [
        [
         "dbfs:/FileStore/Linux_Projects.txt",
         "Linux_Projects.txt",
         1311,
         1709237028000
        ],
        [
         "dbfs:/FileStore/import-stage/",
         "import-stage/",
         0,
         0
        ],
        [
         "dbfs:/FileStore/penguin.csv",
         "penguin.csv",
         9876,
         1709401238000
        ],
        [
         "dbfs:/FileStore/plots/",
         "plots/",
         0,
         0
        ],
        [
         "dbfs:/FileStore/shared_uploads/",
         "shared_uploads/",
         0,
         0
        ],
        [
         "dbfs:/FileStore/tables/",
         "tables/",
         0,
         0
        ]
       ],
       "datasetInfos": [],
       "dbfsResultPath": null,
       "isJsonSchema": true,
       "metadata": {
        "isDbfsCommandResult": false
       },
       "overflow": false,
       "plotOptions": {
        "customPlotOptions": {},
        "displayType": "table",
        "pivotAggregation": null,
        "pivotColumns": null,
        "xColumns": null,
        "yColumns": null
       },
       "removedWidgets": [],
       "schema": [
        {
         "metadata": "{}",
         "name": "path",
         "type": "\"string\""
        },
        {
         "metadata": "{}",
         "name": "name",
         "type": "\"string\""
        },
        {
         "metadata": "{}",
         "name": "size",
         "type": "\"long\""
        },
        {
         "metadata": "{}",
         "name": "modificationTime",
         "type": "\"long\""
        }
       ],
       "type": "table"
      }
     },
     "output_type": "display_data"
    }
   ],
   "source": [
    "%fs ls dbfs:/FileStore/"
   ]
  },
  {
   "cell_type": "code",
   "execution_count": 0,
   "metadata": {
    "application/vnd.databricks.v1+cell": {
     "cellMetadata": {
      "byteLimit": 2048000,
      "rowLimit": 10000
     },
     "inputWidgets": {},
     "nuid": "e8692a79-c0c0-4b0b-bad4-fc158ea4b7ea",
     "showTitle": false,
     "title": ""
    }
   },
   "outputs": [
    {
     "output_type": "display_data",
     "data": {
      "text/html": [
       "<style scoped>\n",
       "  .ansiout {\n",
       "    display: block;\n",
       "    unicode-bidi: embed;\n",
       "    white-space: pre-wrap;\n",
       "    word-wrap: break-word;\n",
       "    word-break: break-all;\n",
       "    font-family: \"Menlo\", \"Monaco\", \"Consolas\", \"Ubuntu Mono\", \"Source Code Pro\", monospace;\n",
       "    font-size: 13px;\n",
       "    color: #555;\n",
       "    margin-left: 4px;\n",
       "    line-height: 19px;\n",
       "  }\n",
       "</style>\n",
       "<div class=\"ansiout\">res15: Boolean = true\n",
       "</div>"
      ]
     },
     "metadata": {
      "application/vnd.databricks.v1+output": {
       "addedWidgets": {},
       "arguments": {},
       "data": "<div class=\"ansiout\">res15: Boolean = true\n</div>",
       "datasetInfos": [],
       "metadata": {
        "isDbfsCommandResult": false
       },
       "removedWidgets": [],
       "type": "html"
      }
     },
     "output_type": "display_data"
    }
   ],
   "source": [
    "%fs cp dbfs:/FileStore/penguin.csv  dbfs:/mnt/test-0224/"
   ]
  },
  {
   "cell_type": "code",
   "execution_count": 0,
   "metadata": {
    "application/vnd.databricks.v1+cell": {
     "cellMetadata": {
      "byteLimit": 2048000,
      "rowLimit": 10000
     },
     "inputWidgets": {},
     "nuid": "03068a47-27d9-4c8a-a6d1-f5201af0cda8",
     "showTitle": false,
     "title": ""
    }
   },
   "outputs": [],
   "source": [
    "datasets_dir = \"dbfs:/mnt/test-0224/\""
   ]
  },
  {
   "cell_type": "code",
   "execution_count": 0,
   "metadata": {
    "application/vnd.databricks.v1+cell": {
     "cellMetadata": {
      "byteLimit": 2048000,
      "rowLimit": 10000
     },
     "inputWidgets": {},
     "nuid": "4790d8a0-d752-489c-adc9-848cd8f767f4",
     "showTitle": false,
     "title": ""
    }
   },
   "outputs": [
    {
     "output_type": "stream",
     "name": "stdout",
     "output_type": "stream",
     "text": [
      "Island,CulmenLength,CulmenDepth,FlipperLength,BodyMass,Species\r\nTorgersen,39.1,18.7,181,3750,0\r\nTorgersen,39.5,17.4,186,3800,0\r\nTorgersen,40.3,18,195,3250,0\r\nTorgersen,,,,,0\r\nTorgersen,36.7,19.3,193,3450,0\r\nTorgersen,39.3,20.6,190,3650,0\r\nTorgersen,38.9,17.8,181,3625,0\r\nTorgersen,39.2,19.6,195,4675,0\r\nTorgersen,34.1,18.1,193,3475,0\r\nTorgersen,42,20.2,190,4250,0\r\nTorgersen,37.8,17.1,186,3300,0\r\nTorgersen,37.8,17.3,180,3700,0\r\nTorgersen,41.1,17.6,182,3200,0\r\nTorgersen,38.6,21.2,191,3800,0\r\nTorgersen,34.6,21.1,198,4400,0\r\nTorgersen,36.6,17.8,185,3700,0\r\nTorgersen,38.7,19,195,3450,0\r\nTorgersen,42.5,20.7,197,4500,0\r\nTorgersen,34.4,18.4,184,3325,0\r\nTorgersen,46,21.5,194,4200,0\r\nBiscoe,37.8,18.3,174,3400,0\r\nBiscoe,37.7,18.7,180,3600,0\r\nBiscoe,35.9,19.2,189,3800,0\r\nBiscoe,38.2,18.1,185,3950,0\r\nBiscoe,38.8,17.2,180,3800,0\r\nBiscoe,35.3,18.9,187,3800,0\r\nBiscoe,40.6,18.6,183,3550,0\r\nBiscoe,40.5,17.9,187,3200,0\r\nBiscoe,37.9,18.6,172,3150,0\r\nBiscoe,40.5,18.9,180,3950,0\r\nDream,39.5,16.7,178,3250,0\r\nDream,37.2,18.1,178,3900,0\r\nDream,39.5,17.8,188,3300,0\r\nDream,40.9,18.9,184,3900,0\r\nDream,36.4,17,195,3325,0\r\nDream,39.2,21.1,196,4150,0\r\nDream,38.8,20,190,3950,0\r\nDream,42.2,18.5,180,3550,0\r\nDream,37.6,19.3,181,3300,0\r\nDream,39.8,19.1,184,4650,0\r\nDream,36.5,18,182,3150,0\r\nDream,40.8,18.4,195,3900,0\r\nDream,36,18.5,186,3100,0\r\nDream,44.1,19.7,196,4400,0\r\nDream,37,16.9,185,3000,0\r\nDream,39.6,18.8,190,4600,0\r\nDream,41.1,19,182,3425,0\r\nDream,37.5,18.9,179,2975,0\r\nDream,36,17.9,190,3450,0\r\nDream,42.3,21.2,191,4150,0\r\nBiscoe,39.6,17.7,186,3500,0\r\nBiscoe,40.1,18.9,188,4300,0\r\nBiscoe,35,17.9,190,3450,0\r\nBiscoe,42,19.5,200,4050,0\r\nBiscoe,34.5,18.1,187,2900,0\r\nBiscoe,41.4,18.6,191,3700,0\r\nBiscoe,39,17.5,186,3550,0\r\nBiscoe,40.6,18.8,193,3800,0\r\nBiscoe,36.5,16.6,181,2850,0\r\nBiscoe,37.6,19.1,194,3750,0\r\nBiscoe,35.7,16.9,185,3150,0\r\nBiscoe,41.3,21.1,195,4400,0\r\nBiscoe,37.6,17,185,3600,0\r\nBiscoe,41.1,18.2,192,4050,0\r\nBiscoe,36.4,17.1,184,2850,0\r\nBiscoe,41.6,18,192,3950,0\r\nBiscoe,35.5,16.2,195,3350,0\r\nBiscoe,41.1,19.1,188,4100,0\r\nTorgersen,35.9,16.6,190,3050,0\r\nTorgersen,41.8,19.4,198,4450,0\r\nTorgersen,33.5,19,190,3600,0\r\nTorgersen,39.7,18.4,190,3900,0\r\nTorgersen,39.6,17.2,196,3550,0\r\nTorgersen,45.8,18.9,197,4150,0\r\nTorgersen,35.5,17.5,190,3700,0\r\nTorgersen,42.8,18.5,195,4250,0\r\nTorgersen,40.9,16.8,191,3700,0\r\nTorgersen,37.2,19.4,184,3900,0\r\nTorgersen,36.2,16.1,187,3550,0\r\nTorgersen,42.1,19.1,195,4000,0\r\nTorgersen,34.6,17.2,189,3200,0\r\nTorgersen,42.9,17.6,196,4700,0\r\nTorgersen,36.7,18.8,187,3800,0\r\nTorgersen,35.1,19.4,193,4200,0\r\nDream,37.3,17.8,191,3350,0\r\nDream,41.3,20.3,194,3550,0\r\nDream,36.3,19.5,190,3800,0\r\nDream,36.9,18.6,189,3500,0\r\nDream,38.3,19.2,189,3950,0\r\nDream,38.9,18.8,190,3600,0\r\nDream,35.7,18,202,3550,0\r\nDream,41.1,18.1,205,4300,0\r\nDream,34,17.1,185,3400,0\r\nDream,39.6,18.1,186,4450,0\r\nDream,36.2,17.3,187,3300,0\r\nDream,40.8,18.9,208,4300,0\r\nDream,38.1,18.6,190,3700,0\r\nDream,40.3,18.5,196,4350,0\r\nDream,33.1,16.1,178,2900,0\r\nDream,43.2,18.5,192,4100,0\r\nBiscoe,35,17.9,192,3725,0\r\nBiscoe,41,20,203,4725,0\r\nBiscoe,37.7,16,183,3075,0\r\nBiscoe,37.8,20,190,4250,0\r\nBiscoe,37.9,18.6,193,2925,0\r\nBiscoe,39.7,18.9,184,3550,0\r\nBiscoe,38.6,17.2,199,3750,0\r\nBiscoe,38.2,20,190,3900,0\r\nBiscoe,38.1,17,181,3175,0\r\nBiscoe,43.2,19,197,4775,0\r\nBiscoe,38.1,16.5,198,3825,0\r\nBiscoe,45.6,20.3,191,4600,0\r\nBiscoe,39.7,17.7,193,3200,0\r\nBiscoe,42.2,19.5,197,4275,0\r\nBiscoe,39.6,20.7,191,3900,0\r\nBiscoe,42.7,18.3,196,4075,0\r\nTorgersen,38.6,17,188,2900,0\r\nTorgersen,37.3,20.5,199,3775,0\r\nTorgersen,35.7,17,189,3350,0\r\nTorgersen,41.1,18.6,189,3325,0\r\nTorgersen,36.2,17.2,187,3150,0\r\nTorgersen,37.7,19.8,198,3500,0\r\nTorgersen,40.2,17,176,3450,0\r\nTorgersen,41.4,18.5,202,3875,0\r\nTorgersen,35.2,15.9,186,3050,0\r\nTorgersen,40.6,19,199,4000,0\r\nTorgersen,38.8,17.6,191,3275,0\r\nTorgersen,41.5,18.3,195,4300,0\r\nTorgersen,39,17.1,191,3050,0\r\nTorgersen,44.1,18,210,4000,0\r\nTorgersen,38.5,17.9,190,3325,0\r\nTorgersen,43.1,19.2,197,3500,0\r\nDream,36.8,18.5,193,3500,0\r\nDream,37.5,18.5,199,4475,0\r\nDream,38.1,17.6,187,3425,0\r\nDream,41.1,17.5,190,3900,0\r\nDream,35.6,17.5,191,3175,0\r\nDream,40.2,20.1,200,3975,0\r\nDream,37,16.5,185,3400,0\r\nDream,39.7,17.9,193,4250,0\r\nDream,40.2,17.1,193,3400,0\r\nDream,40.6,17.2,187,3475,0\r\nDream,32.1,15.5,188,3050,0\r\nDream,40.7,17,190,3725,0\r\nDream,37.3,16.8,192,3000,0\r\nDream,39,18.7,185,3650,0\r\nDream,39.2,18.6,190,4250,0\r\nDream,36.6,18.4,184,3475,0\r\nDream,36,17.8,195,3450,0\r\nDream,37.8,18.1,193,3750,0\r\nDream,36,17.1,187,3700,0\r\nDream,41.5,18.5,201,4000,0\r\nBiscoe,46.1,13.2,211,4500,1\r\nBiscoe,50,16.3,230,5700,1\r\nBiscoe,48.7,14.1,210,4450,1\r\nBiscoe,50,15.2,218,5700,1\r\nBiscoe,47.6,14.5,215,5400,1\r\nBiscoe,46.5,13.5,210,4550,1\r\nBiscoe,45.4,14.6,211,4800,1\r\nBiscoe,46.7,15.3,219,5200,1\r\nBiscoe,43.3,13.4,209,4400,1\r\nBiscoe,46.8,15.4,215,5150,1\r\nBiscoe,40.9,13.7,214,4650,1\r\nBiscoe,49,16.1,216,5550,1\r\nBiscoe,45.5,13.7,214,4650,1\r\nBiscoe,48.4,14.6,213,5850,1\r\nBiscoe,45.8,14.6,210,4200,1\r\nBiscoe,49.3,15.7,217,5850,1\r\nBiscoe,42,13.5,210,4150,1\r\nBiscoe,49.2,15.2,221,6300,1\r\nBiscoe,46.2,14.5,209,4800,1\r\nBiscoe,48.7,15.1,222,5350,1\r\nBiscoe,50.2,14.3,218,5700,1\r\nBiscoe,45.1,14.5,215,5000,1\r\nBiscoe,46.5,14.5,213,4400,1\r\nBiscoe,46.3,15.8,215,5050,1\r\nBiscoe,42.9,13.1,215,5000,1\r\nBiscoe,46.1,15.1,215,5100,1\r\nBiscoe,44.5,14.3,216,4100,1\r\nBiscoe,47.8,15,215,5650,1\r\nBiscoe,48.2,14.3,210,4600,1\r\nBiscoe,50,15.3,220,5550,1\r\nBiscoe,47.3,15.3,222,5250,1\r\nBiscoe,42.8,14.2,209,4700,1\r\nBiscoe,45.1,14.5,207,5050,1\r\nBiscoe,59.6,17,230,6050,1\r\nBiscoe,49.1,14.8,220,5150,1\r\nBiscoe,48.4,16.3,220,5400,1\r\nBiscoe,42.6,13.7,213,4950,1\r\nBiscoe,44.4,17.3,219,5250,1\r\nBiscoe,44,13.6,208,4350,1\r\nBiscoe,48.7,15.7,208,5350,1\r\nBiscoe,42.7,13.7,208,3950,1\r\nBiscoe,49.6,16,225,5700,1\r\nBiscoe,45.3,13.7,210,4300,1\r\nBiscoe,49.6,15,216,4750,1\r\nBiscoe,50.5,15.9,222,5550,1\r\nBiscoe,43.6,13.9,217,4900,1\r\nBiscoe,45.5,13.9,210,4200,1\r\nBiscoe,50.5,15.9,225,5400,1\r\nBiscoe,44.9,13.3,213,5100,1\r\nBiscoe,45.2,15.8,215,5300,1\r\nBiscoe,46.6,14.2,210,4850,1\r\nBiscoe,48.5,14.1,220,5300,1\r\nBiscoe,45.1,14.4,210,4400,1\r\nBiscoe,50.1,15,225,5000,1\r\nBiscoe,46.5,14.4,217,4900,1\r\nBiscoe,45,15.4,220,5050,1\r\nBiscoe,43.8,13.9,208,4300,1\r\nBiscoe,45.5,15,220,5000,1\r\nBiscoe,43.2,14.5,208,4450,1\r\nBiscoe,50.4,15.3,224,5550,1\r\nBiscoe,45.3,13.8,208,4200,1\r\nBiscoe,46.2,14.9,221,5300,1\r\nBiscoe,45.7,13.9,214,4400,1\r\nBiscoe,54.3,15.7,231,5650,1\r\nBiscoe,45.8,14.2,219,4700,1\r\nBiscoe,49.8,16.8,230,5700,1\r\nBiscoe,46.2,14.4,214,4650,1\r\nBiscoe,49.5,16.2,229,5800,1\r\nBiscoe,43.5,14.2,220,4700,1\r\nBiscoe,50.7,15,223,5550,1\r\nBiscoe,47.7,15,216,4750,1\r\nBiscoe,46.4,15.6,221,5000,1\r\nBiscoe,48.2,15.6,221,5100,1\r\nBiscoe,46.5,14.8,217,5200,1\r\nBiscoe,46.4,15,216,4700,1\r\nBiscoe,48.6,16,230,5800,1\r\nBiscoe,47.5,14.2,209,4600,1\r\nBiscoe,51.1,16.3,220,6000,1\r\nBiscoe,45.2,13.8,215,4750,1\r\nBiscoe,45.2,16.4,223,5950,1\r\nBiscoe,49.1,14.5,212,4625,1\r\nBiscoe,52.5,15.6,221,5450,1\r\nBiscoe,47.4,14.6,212,4725,1\r\nBiscoe,50,15.9,224,5350,1\r\nBiscoe,44.9,13.8,212,4750,1\r\nBiscoe,50.8,17.3,228,5600,1\r\nBiscoe,43.4,14.4,218,4600,1\r\nBiscoe,51.3,14.2,218,5300,1\r\nBiscoe,47.5,14,212,4875,1\r\nBiscoe,52.1,17,230,5550,1\r\nBiscoe,47.5,15,218,4950,1\r\nBiscoe,52.2,17.1,228,5400,1\r\nBiscoe,45.5,14.5,212,4750,1\r\nBiscoe,49.5,16.1,224,5650,1\r\nBiscoe,44.5,14.7,214,4850,1\r\nBiscoe,50.8,15.7,226,5200,1\r\nBiscoe,49.4,15.8,216,4925,1\r\nBiscoe,46.9,14.6,222,4875,1\r\nBiscoe,48.4,14.4,203,4625,1\r\nBiscoe,51.1,16.5,225,5250,1\r\nBiscoe,48.5,15,219,4850,1\r\nBiscoe,55.9,17,228,5600,1\r\nBiscoe,47.2,15.5,215,4975,1\r\nBiscoe,49.1,15,228,5500,1\r\nBiscoe,47.3,13.8,216,4725,1\r\nBiscoe,46.8,16.1,215,5500,1\r\nBiscoe,41.7,14.7,210,4700,1\r\nBiscoe,53.4,15.8,219,5500,1\r\nBiscoe,43.3,14,208,4575,1\r\nBiscoe,48.1,15.1,209,5500,1\r\nBiscoe,50.5,15.2,216,5000,1\r\nBiscoe,49.8,15.9,229,5950,1\r\nBiscoe,43.5,15.2,213,4650,1\r\nBiscoe,51.5,16.3,230,5500,1\r\nBiscoe,46.2,14.1,217,4375,1\r\nBiscoe,55.1,16,230,5850,1\r\nBiscoe,44.5,15.7,217,4875,1\r\nBiscoe,48.8,16.2,222,6000,1\r\nBiscoe,47.2,13.7,214,4925,1\r\nBiscoe,,,,,1\r\nBiscoe,46.8,14.3,215,4850,1\r\nBiscoe,50.4,15.7,222,5750,1\r\nBiscoe,45.2,14.8,212,5200,1\r\nBiscoe,49.9,16.1,213,5400,1\r\nDream,46.5,17.9,192,3500,2\r\nDream,50,19.5,196,3900,2\r\nDream,51.3,19.2,193,3650,2\r\nDream,45.4,18.7,188,3525,2\r\nDream,52.7,19.8,197,3725,2\r\nDream,45.2,17.8,198,3950,2\r\nDream,46.1,18.2,178,3250,2\r\nDream,51.3,18.2,197,3750,2\r\nDream,46,18.9,195,4150,2\r\nDream,51.3,19.9,198,3700,2\r\nDream,46.6,17.8,193,3800,2\r\nDream,51.7,20.3,194,3775,2\r\nDream,47,17.3,185,3700,2\r\nDream,52,18.1,201,4050,2\r\nDream,45.9,17.1,190,3575,2\r\nDream,50.5,19.6,201,4050,2\r\nDream,50.3,20,197,3300,2\r\nDream,58,17.8,181,3700,2\r\nDream,46.4,18.6,190,3450,2\r\nDream,49.2,18.2,195,4400,2\r\nDream,42.4,17.3,181,3600,2\r\nDream,48.5,17.5,191,3400,2\r\nDream,43.2,16.6,187,2900,2\r\nDream,50.6,19.4,193,3800,2\r\nDream,46.7,17.9,195,3300,2\r\nDream,52,19,197,4150,2\r\nDream,50.5,18.4,200,3400,2\r\nDream,49.5,19,200,3800,2\r\nDream,46.4,17.8,191,3700,2\r\nDream,52.8,20,205,4550,2\r\nDream,40.9,16.6,187,3200,2\r\nDream,54.2,20.8,201,4300,2\r\nDream,42.5,16.7,187,3350,2\r\nDream,51,18.8,203,4100,2\r\nDream,49.7,18.6,195,3600,2\r\nDream,47.5,16.8,199,3900,2\r\nDream,47.6,18.3,195,3850,2\r\nDream,52,20.7,210,4800,2\r\nDream,46.9,16.6,192,2700,2\r\nDream,53.5,19.9,205,4500,2\r\nDream,49,19.5,210,3950,2\r\nDream,46.2,17.5,187,3650,2\r\nDream,50.9,19.1,196,3550,2\r\nDream,45.5,17,196,3500,2\r\nDream,50.9,17.9,196,3675,2\r\nDream,50.8,18.5,201,4450,2\r\nDream,50.1,17.9,190,3400,2\r\nDream,49,19.6,212,4300,2\r\nDream,51.5,18.7,187,3250,2\r\nDream,49.8,17.3,198,3675,2\r\nDream,48.1,16.4,199,3325,2\r\nDream,51.4,19,201,3950,2\r\nDream,45.7,17.3,193,3600,2\r\nDream,50.7,19.7,203,4050,2\r\nDream,42.5,17.3,187,3350,2\r\nDream,52.2,18.8,197,3450,2\r\nDream,45.2,16.6,191,3250,2\r\nDream,49.3,19.9,203,4050,2\r\nDream,50.2,18.8,202,3800,2\r\nDream,45.6,19.4,194,3525,2\r\nDream,51.9,19.5,206,3950,2\r\nDream,46.8,16.5,189,3650,2\r\nDream,45.7,17,195,3650,2\r\nDream,55.8,19.8,207,4000,2\r\nDream,43.5,18.1,202,3400,2\r\nDream,49.6,18.2,193,3775,2\r\nDream,50.8,19,210,4100,2\r\nDream,50.2,18.7,198,3775,2\nroot\n |-- Island: string (nullable = true)\n |-- CulmenLength: double (nullable = true)\n |-- CulmenDepth: double (nullable = true)\n |-- FlipperLength: integer (nullable = true)\n |-- BodyMass: integer (nullable = true)\n |-- Species: integer (nullable = true)\n\n"
     ]
    }
   ],
   "source": [
    "penguin_csv_file_path = f\"{datasets_dir}/penguin.csv\"\n",
    "print(dbutils.fs.head(penguin_csv_file_path))\n",
    "\n",
    "products_csv_path = f\"{datasets_dir}/penguin.csv\"\n",
    "products_df = (spark\n",
    "               .read\n",
    "               .option(\"header\", True)\n",
    "               .option(\"inferSchema\", True)\n",
    "               .csv(products_csv_path)\n",
    "              )\n",
    "\n",
    "products_df.printSchema()"
   ]
  },
  {
   "cell_type": "code",
   "execution_count": 0,
   "metadata": {
    "application/vnd.databricks.v1+cell": {
     "cellMetadata": {
      "byteLimit": 2048000,
      "rowLimit": 10000
     },
     "inputWidgets": {},
     "nuid": "44f0aa78-bc34-4ede-ab7f-545a7cfa4002",
     "showTitle": false,
     "title": ""
    }
   },
   "outputs": [
    {
     "output_type": "display_data",
     "data": {
      "text/html": [
       "<style scoped>\n",
       "  .table-result-container {\n",
       "    max-height: 300px;\n",
       "    overflow: auto;\n",
       "  }\n",
       "  table, th, td {\n",
       "    border: 1px solid black;\n",
       "    border-collapse: collapse;\n",
       "  }\n",
       "  th, td {\n",
       "    padding: 5px;\n",
       "  }\n",
       "  th {\n",
       "    text-align: left;\n",
       "  }\n",
       "</style><div class='table-result-container'><table class='table-result'><thead style='background-color: white'><tr><th>Island</th><th>CulmenLength</th><th>CulmenDepth</th><th>FlipperLength</th><th>BodyMass</th><th>Species</th></tr></thead><tbody><tr><td>Torgersen</td><td>39.1</td><td>18.7</td><td>181</td><td>3750</td><td>0</td></tr><tr><td>Torgersen</td><td>39.5</td><td>17.4</td><td>186</td><td>3800</td><td>0</td></tr><tr><td>Torgersen</td><td>40.3</td><td>18.0</td><td>195</td><td>3250</td><td>0</td></tr><tr><td>Torgersen</td><td>null</td><td>null</td><td>null</td><td>null</td><td>0</td></tr><tr><td>Torgersen</td><td>36.7</td><td>19.3</td><td>193</td><td>3450</td><td>0</td></tr><tr><td>Torgersen</td><td>39.3</td><td>20.6</td><td>190</td><td>3650</td><td>0</td></tr><tr><td>Torgersen</td><td>38.9</td><td>17.8</td><td>181</td><td>3625</td><td>0</td></tr><tr><td>Torgersen</td><td>39.2</td><td>19.6</td><td>195</td><td>4675</td><td>0</td></tr><tr><td>Torgersen</td><td>34.1</td><td>18.1</td><td>193</td><td>3475</td><td>0</td></tr><tr><td>Torgersen</td><td>42.0</td><td>20.2</td><td>190</td><td>4250</td><td>0</td></tr><tr><td>Torgersen</td><td>37.8</td><td>17.1</td><td>186</td><td>3300</td><td>0</td></tr><tr><td>Torgersen</td><td>37.8</td><td>17.3</td><td>180</td><td>3700</td><td>0</td></tr><tr><td>Torgersen</td><td>41.1</td><td>17.6</td><td>182</td><td>3200</td><td>0</td></tr><tr><td>Torgersen</td><td>38.6</td><td>21.2</td><td>191</td><td>3800</td><td>0</td></tr><tr><td>Torgersen</td><td>34.6</td><td>21.1</td><td>198</td><td>4400</td><td>0</td></tr><tr><td>Torgersen</td><td>36.6</td><td>17.8</td><td>185</td><td>3700</td><td>0</td></tr><tr><td>Torgersen</td><td>38.7</td><td>19.0</td><td>195</td><td>3450</td><td>0</td></tr><tr><td>Torgersen</td><td>42.5</td><td>20.7</td><td>197</td><td>4500</td><td>0</td></tr><tr><td>Torgersen</td><td>34.4</td><td>18.4</td><td>184</td><td>3325</td><td>0</td></tr><tr><td>Torgersen</td><td>46.0</td><td>21.5</td><td>194</td><td>4200</td><td>0</td></tr><tr><td>Biscoe</td><td>37.8</td><td>18.3</td><td>174</td><td>3400</td><td>0</td></tr><tr><td>Biscoe</td><td>37.7</td><td>18.7</td><td>180</td><td>3600</td><td>0</td></tr><tr><td>Biscoe</td><td>35.9</td><td>19.2</td><td>189</td><td>3800</td><td>0</td></tr><tr><td>Biscoe</td><td>38.2</td><td>18.1</td><td>185</td><td>3950</td><td>0</td></tr><tr><td>Biscoe</td><td>38.8</td><td>17.2</td><td>180</td><td>3800</td><td>0</td></tr><tr><td>Biscoe</td><td>35.3</td><td>18.9</td><td>187</td><td>3800</td><td>0</td></tr><tr><td>Biscoe</td><td>40.6</td><td>18.6</td><td>183</td><td>3550</td><td>0</td></tr><tr><td>Biscoe</td><td>40.5</td><td>17.9</td><td>187</td><td>3200</td><td>0</td></tr><tr><td>Biscoe</td><td>37.9</td><td>18.6</td><td>172</td><td>3150</td><td>0</td></tr><tr><td>Biscoe</td><td>40.5</td><td>18.9</td><td>180</td><td>3950</td><td>0</td></tr><tr><td>Dream</td><td>39.5</td><td>16.7</td><td>178</td><td>3250</td><td>0</td></tr><tr><td>Dream</td><td>37.2</td><td>18.1</td><td>178</td><td>3900</td><td>0</td></tr><tr><td>Dream</td><td>39.5</td><td>17.8</td><td>188</td><td>3300</td><td>0</td></tr><tr><td>Dream</td><td>40.9</td><td>18.9</td><td>184</td><td>3900</td><td>0</td></tr><tr><td>Dream</td><td>36.4</td><td>17.0</td><td>195</td><td>3325</td><td>0</td></tr><tr><td>Dream</td><td>39.2</td><td>21.1</td><td>196</td><td>4150</td><td>0</td></tr><tr><td>Dream</td><td>38.8</td><td>20.0</td><td>190</td><td>3950</td><td>0</td></tr><tr><td>Dream</td><td>42.2</td><td>18.5</td><td>180</td><td>3550</td><td>0</td></tr><tr><td>Dream</td><td>37.6</td><td>19.3</td><td>181</td><td>3300</td><td>0</td></tr><tr><td>Dream</td><td>39.8</td><td>19.1</td><td>184</td><td>4650</td><td>0</td></tr><tr><td>Dream</td><td>36.5</td><td>18.0</td><td>182</td><td>3150</td><td>0</td></tr><tr><td>Dream</td><td>40.8</td><td>18.4</td><td>195</td><td>3900</td><td>0</td></tr><tr><td>Dream</td><td>36.0</td><td>18.5</td><td>186</td><td>3100</td><td>0</td></tr><tr><td>Dream</td><td>44.1</td><td>19.7</td><td>196</td><td>4400</td><td>0</td></tr><tr><td>Dream</td><td>37.0</td><td>16.9</td><td>185</td><td>3000</td><td>0</td></tr><tr><td>Dream</td><td>39.6</td><td>18.8</td><td>190</td><td>4600</td><td>0</td></tr><tr><td>Dream</td><td>41.1</td><td>19.0</td><td>182</td><td>3425</td><td>0</td></tr><tr><td>Dream</td><td>37.5</td><td>18.9</td><td>179</td><td>2975</td><td>0</td></tr><tr><td>Dream</td><td>36.0</td><td>17.9</td><td>190</td><td>3450</td><td>0</td></tr><tr><td>Dream</td><td>42.3</td><td>21.2</td><td>191</td><td>4150</td><td>0</td></tr><tr><td>Biscoe</td><td>39.6</td><td>17.7</td><td>186</td><td>3500</td><td>0</td></tr><tr><td>Biscoe</td><td>40.1</td><td>18.9</td><td>188</td><td>4300</td><td>0</td></tr><tr><td>Biscoe</td><td>35.0</td><td>17.9</td><td>190</td><td>3450</td><td>0</td></tr><tr><td>Biscoe</td><td>42.0</td><td>19.5</td><td>200</td><td>4050</td><td>0</td></tr><tr><td>Biscoe</td><td>34.5</td><td>18.1</td><td>187</td><td>2900</td><td>0</td></tr><tr><td>Biscoe</td><td>41.4</td><td>18.6</td><td>191</td><td>3700</td><td>0</td></tr><tr><td>Biscoe</td><td>39.0</td><td>17.5</td><td>186</td><td>3550</td><td>0</td></tr><tr><td>Biscoe</td><td>40.6</td><td>18.8</td><td>193</td><td>3800</td><td>0</td></tr><tr><td>Biscoe</td><td>36.5</td><td>16.6</td><td>181</td><td>2850</td><td>0</td></tr><tr><td>Biscoe</td><td>37.6</td><td>19.1</td><td>194</td><td>3750</td><td>0</td></tr><tr><td>Biscoe</td><td>35.7</td><td>16.9</td><td>185</td><td>3150</td><td>0</td></tr><tr><td>Biscoe</td><td>41.3</td><td>21.1</td><td>195</td><td>4400</td><td>0</td></tr><tr><td>Biscoe</td><td>37.6</td><td>17.0</td><td>185</td><td>3600</td><td>0</td></tr><tr><td>Biscoe</td><td>41.1</td><td>18.2</td><td>192</td><td>4050</td><td>0</td></tr><tr><td>Biscoe</td><td>36.4</td><td>17.1</td><td>184</td><td>2850</td><td>0</td></tr><tr><td>Biscoe</td><td>41.6</td><td>18.0</td><td>192</td><td>3950</td><td>0</td></tr><tr><td>Biscoe</td><td>35.5</td><td>16.2</td><td>195</td><td>3350</td><td>0</td></tr><tr><td>Biscoe</td><td>41.1</td><td>19.1</td><td>188</td><td>4100</td><td>0</td></tr><tr><td>Torgersen</td><td>35.9</td><td>16.6</td><td>190</td><td>3050</td><td>0</td></tr><tr><td>Torgersen</td><td>41.8</td><td>19.4</td><td>198</td><td>4450</td><td>0</td></tr><tr><td>Torgersen</td><td>33.5</td><td>19.0</td><td>190</td><td>3600</td><td>0</td></tr><tr><td>Torgersen</td><td>39.7</td><td>18.4</td><td>190</td><td>3900</td><td>0</td></tr><tr><td>Torgersen</td><td>39.6</td><td>17.2</td><td>196</td><td>3550</td><td>0</td></tr><tr><td>Torgersen</td><td>45.8</td><td>18.9</td><td>197</td><td>4150</td><td>0</td></tr><tr><td>Torgersen</td><td>35.5</td><td>17.5</td><td>190</td><td>3700</td><td>0</td></tr><tr><td>Torgersen</td><td>42.8</td><td>18.5</td><td>195</td><td>4250</td><td>0</td></tr><tr><td>Torgersen</td><td>40.9</td><td>16.8</td><td>191</td><td>3700</td><td>0</td></tr><tr><td>Torgersen</td><td>37.2</td><td>19.4</td><td>184</td><td>3900</td><td>0</td></tr><tr><td>Torgersen</td><td>36.2</td><td>16.1</td><td>187</td><td>3550</td><td>0</td></tr><tr><td>Torgersen</td><td>42.1</td><td>19.1</td><td>195</td><td>4000</td><td>0</td></tr><tr><td>Torgersen</td><td>34.6</td><td>17.2</td><td>189</td><td>3200</td><td>0</td></tr><tr><td>Torgersen</td><td>42.9</td><td>17.6</td><td>196</td><td>4700</td><td>0</td></tr><tr><td>Torgersen</td><td>36.7</td><td>18.8</td><td>187</td><td>3800</td><td>0</td></tr><tr><td>Torgersen</td><td>35.1</td><td>19.4</td><td>193</td><td>4200</td><td>0</td></tr><tr><td>Dream</td><td>37.3</td><td>17.8</td><td>191</td><td>3350</td><td>0</td></tr><tr><td>Dream</td><td>41.3</td><td>20.3</td><td>194</td><td>3550</td><td>0</td></tr><tr><td>Dream</td><td>36.3</td><td>19.5</td><td>190</td><td>3800</td><td>0</td></tr><tr><td>Dream</td><td>36.9</td><td>18.6</td><td>189</td><td>3500</td><td>0</td></tr><tr><td>Dream</td><td>38.3</td><td>19.2</td><td>189</td><td>3950</td><td>0</td></tr><tr><td>Dream</td><td>38.9</td><td>18.8</td><td>190</td><td>3600</td><td>0</td></tr><tr><td>Dream</td><td>35.7</td><td>18.0</td><td>202</td><td>3550</td><td>0</td></tr><tr><td>Dream</td><td>41.1</td><td>18.1</td><td>205</td><td>4300</td><td>0</td></tr><tr><td>Dream</td><td>34.0</td><td>17.1</td><td>185</td><td>3400</td><td>0</td></tr><tr><td>Dream</td><td>39.6</td><td>18.1</td><td>186</td><td>4450</td><td>0</td></tr><tr><td>Dream</td><td>36.2</td><td>17.3</td><td>187</td><td>3300</td><td>0</td></tr><tr><td>Dream</td><td>40.8</td><td>18.9</td><td>208</td><td>4300</td><td>0</td></tr><tr><td>Dream</td><td>38.1</td><td>18.6</td><td>190</td><td>3700</td><td>0</td></tr><tr><td>Dream</td><td>40.3</td><td>18.5</td><td>196</td><td>4350</td><td>0</td></tr><tr><td>Dream</td><td>33.1</td><td>16.1</td><td>178</td><td>2900</td><td>0</td></tr><tr><td>Dream</td><td>43.2</td><td>18.5</td><td>192</td><td>4100</td><td>0</td></tr><tr><td>Biscoe</td><td>35.0</td><td>17.9</td><td>192</td><td>3725</td><td>0</td></tr><tr><td>Biscoe</td><td>41.0</td><td>20.0</td><td>203</td><td>4725</td><td>0</td></tr><tr><td>Biscoe</td><td>37.7</td><td>16.0</td><td>183</td><td>3075</td><td>0</td></tr><tr><td>Biscoe</td><td>37.8</td><td>20.0</td><td>190</td><td>4250</td><td>0</td></tr><tr><td>Biscoe</td><td>37.9</td><td>18.6</td><td>193</td><td>2925</td><td>0</td></tr><tr><td>Biscoe</td><td>39.7</td><td>18.9</td><td>184</td><td>3550</td><td>0</td></tr><tr><td>Biscoe</td><td>38.6</td><td>17.2</td><td>199</td><td>3750</td><td>0</td></tr><tr><td>Biscoe</td><td>38.2</td><td>20.0</td><td>190</td><td>3900</td><td>0</td></tr><tr><td>Biscoe</td><td>38.1</td><td>17.0</td><td>181</td><td>3175</td><td>0</td></tr><tr><td>Biscoe</td><td>43.2</td><td>19.0</td><td>197</td><td>4775</td><td>0</td></tr><tr><td>Biscoe</td><td>38.1</td><td>16.5</td><td>198</td><td>3825</td><td>0</td></tr><tr><td>Biscoe</td><td>45.6</td><td>20.3</td><td>191</td><td>4600</td><td>0</td></tr><tr><td>Biscoe</td><td>39.7</td><td>17.7</td><td>193</td><td>3200</td><td>0</td></tr><tr><td>Biscoe</td><td>42.2</td><td>19.5</td><td>197</td><td>4275</td><td>0</td></tr><tr><td>Biscoe</td><td>39.6</td><td>20.7</td><td>191</td><td>3900</td><td>0</td></tr><tr><td>Biscoe</td><td>42.7</td><td>18.3</td><td>196</td><td>4075</td><td>0</td></tr><tr><td>Torgersen</td><td>38.6</td><td>17.0</td><td>188</td><td>2900</td><td>0</td></tr><tr><td>Torgersen</td><td>37.3</td><td>20.5</td><td>199</td><td>3775</td><td>0</td></tr><tr><td>Torgersen</td><td>35.7</td><td>17.0</td><td>189</td><td>3350</td><td>0</td></tr><tr><td>Torgersen</td><td>41.1</td><td>18.6</td><td>189</td><td>3325</td><td>0</td></tr><tr><td>Torgersen</td><td>36.2</td><td>17.2</td><td>187</td><td>3150</td><td>0</td></tr><tr><td>Torgersen</td><td>37.7</td><td>19.8</td><td>198</td><td>3500</td><td>0</td></tr><tr><td>Torgersen</td><td>40.2</td><td>17.0</td><td>176</td><td>3450</td><td>0</td></tr><tr><td>Torgersen</td><td>41.4</td><td>18.5</td><td>202</td><td>3875</td><td>0</td></tr><tr><td>Torgersen</td><td>35.2</td><td>15.9</td><td>186</td><td>3050</td><td>0</td></tr><tr><td>Torgersen</td><td>40.6</td><td>19.0</td><td>199</td><td>4000</td><td>0</td></tr><tr><td>Torgersen</td><td>38.8</td><td>17.6</td><td>191</td><td>3275</td><td>0</td></tr><tr><td>Torgersen</td><td>41.5</td><td>18.3</td><td>195</td><td>4300</td><td>0</td></tr><tr><td>Torgersen</td><td>39.0</td><td>17.1</td><td>191</td><td>3050</td><td>0</td></tr><tr><td>Torgersen</td><td>44.1</td><td>18.0</td><td>210</td><td>4000</td><td>0</td></tr><tr><td>Torgersen</td><td>38.5</td><td>17.9</td><td>190</td><td>3325</td><td>0</td></tr><tr><td>Torgersen</td><td>43.1</td><td>19.2</td><td>197</td><td>3500</td><td>0</td></tr><tr><td>Dream</td><td>36.8</td><td>18.5</td><td>193</td><td>3500</td><td>0</td></tr><tr><td>Dream</td><td>37.5</td><td>18.5</td><td>199</td><td>4475</td><td>0</td></tr><tr><td>Dream</td><td>38.1</td><td>17.6</td><td>187</td><td>3425</td><td>0</td></tr><tr><td>Dream</td><td>41.1</td><td>17.5</td><td>190</td><td>3900</td><td>0</td></tr><tr><td>Dream</td><td>35.6</td><td>17.5</td><td>191</td><td>3175</td><td>0</td></tr><tr><td>Dream</td><td>40.2</td><td>20.1</td><td>200</td><td>3975</td><td>0</td></tr><tr><td>Dream</td><td>37.0</td><td>16.5</td><td>185</td><td>3400</td><td>0</td></tr><tr><td>Dream</td><td>39.7</td><td>17.9</td><td>193</td><td>4250</td><td>0</td></tr><tr><td>Dream</td><td>40.2</td><td>17.1</td><td>193</td><td>3400</td><td>0</td></tr><tr><td>Dream</td><td>40.6</td><td>17.2</td><td>187</td><td>3475</td><td>0</td></tr><tr><td>Dream</td><td>32.1</td><td>15.5</td><td>188</td><td>3050</td><td>0</td></tr><tr><td>Dream</td><td>40.7</td><td>17.0</td><td>190</td><td>3725</td><td>0</td></tr><tr><td>Dream</td><td>37.3</td><td>16.8</td><td>192</td><td>3000</td><td>0</td></tr><tr><td>Dream</td><td>39.0</td><td>18.7</td><td>185</td><td>3650</td><td>0</td></tr><tr><td>Dream</td><td>39.2</td><td>18.6</td><td>190</td><td>4250</td><td>0</td></tr><tr><td>Dream</td><td>36.6</td><td>18.4</td><td>184</td><td>3475</td><td>0</td></tr><tr><td>Dream</td><td>36.0</td><td>17.8</td><td>195</td><td>3450</td><td>0</td></tr><tr><td>Dream</td><td>37.8</td><td>18.1</td><td>193</td><td>3750</td><td>0</td></tr><tr><td>Dream</td><td>36.0</td><td>17.1</td><td>187</td><td>3700</td><td>0</td></tr><tr><td>Dream</td><td>41.5</td><td>18.5</td><td>201</td><td>4000</td><td>0</td></tr><tr><td>Biscoe</td><td>46.1</td><td>13.2</td><td>211</td><td>4500</td><td>1</td></tr><tr><td>Biscoe</td><td>50.0</td><td>16.3</td><td>230</td><td>5700</td><td>1</td></tr><tr><td>Biscoe</td><td>48.7</td><td>14.1</td><td>210</td><td>4450</td><td>1</td></tr><tr><td>Biscoe</td><td>50.0</td><td>15.2</td><td>218</td><td>5700</td><td>1</td></tr><tr><td>Biscoe</td><td>47.6</td><td>14.5</td><td>215</td><td>5400</td><td>1</td></tr><tr><td>Biscoe</td><td>46.5</td><td>13.5</td><td>210</td><td>4550</td><td>1</td></tr><tr><td>Biscoe</td><td>45.4</td><td>14.6</td><td>211</td><td>4800</td><td>1</td></tr><tr><td>Biscoe</td><td>46.7</td><td>15.3</td><td>219</td><td>5200</td><td>1</td></tr><tr><td>Biscoe</td><td>43.3</td><td>13.4</td><td>209</td><td>4400</td><td>1</td></tr><tr><td>Biscoe</td><td>46.8</td><td>15.4</td><td>215</td><td>5150</td><td>1</td></tr><tr><td>Biscoe</td><td>40.9</td><td>13.7</td><td>214</td><td>4650</td><td>1</td></tr><tr><td>Biscoe</td><td>49.0</td><td>16.1</td><td>216</td><td>5550</td><td>1</td></tr><tr><td>Biscoe</td><td>45.5</td><td>13.7</td><td>214</td><td>4650</td><td>1</td></tr><tr><td>Biscoe</td><td>48.4</td><td>14.6</td><td>213</td><td>5850</td><td>1</td></tr><tr><td>Biscoe</td><td>45.8</td><td>14.6</td><td>210</td><td>4200</td><td>1</td></tr><tr><td>Biscoe</td><td>49.3</td><td>15.7</td><td>217</td><td>5850</td><td>1</td></tr><tr><td>Biscoe</td><td>42.0</td><td>13.5</td><td>210</td><td>4150</td><td>1</td></tr><tr><td>Biscoe</td><td>49.2</td><td>15.2</td><td>221</td><td>6300</td><td>1</td></tr><tr><td>Biscoe</td><td>46.2</td><td>14.5</td><td>209</td><td>4800</td><td>1</td></tr><tr><td>Biscoe</td><td>48.7</td><td>15.1</td><td>222</td><td>5350</td><td>1</td></tr><tr><td>Biscoe</td><td>50.2</td><td>14.3</td><td>218</td><td>5700</td><td>1</td></tr><tr><td>Biscoe</td><td>45.1</td><td>14.5</td><td>215</td><td>5000</td><td>1</td></tr><tr><td>Biscoe</td><td>46.5</td><td>14.5</td><td>213</td><td>4400</td><td>1</td></tr><tr><td>Biscoe</td><td>46.3</td><td>15.8</td><td>215</td><td>5050</td><td>1</td></tr><tr><td>Biscoe</td><td>42.9</td><td>13.1</td><td>215</td><td>5000</td><td>1</td></tr><tr><td>Biscoe</td><td>46.1</td><td>15.1</td><td>215</td><td>5100</td><td>1</td></tr><tr><td>Biscoe</td><td>44.5</td><td>14.3</td><td>216</td><td>4100</td><td>1</td></tr><tr><td>Biscoe</td><td>47.8</td><td>15.0</td><td>215</td><td>5650</td><td>1</td></tr><tr><td>Biscoe</td><td>48.2</td><td>14.3</td><td>210</td><td>4600</td><td>1</td></tr><tr><td>Biscoe</td><td>50.0</td><td>15.3</td><td>220</td><td>5550</td><td>1</td></tr><tr><td>Biscoe</td><td>47.3</td><td>15.3</td><td>222</td><td>5250</td><td>1</td></tr><tr><td>Biscoe</td><td>42.8</td><td>14.2</td><td>209</td><td>4700</td><td>1</td></tr><tr><td>Biscoe</td><td>45.1</td><td>14.5</td><td>207</td><td>5050</td><td>1</td></tr><tr><td>Biscoe</td><td>59.6</td><td>17.0</td><td>230</td><td>6050</td><td>1</td></tr><tr><td>Biscoe</td><td>49.1</td><td>14.8</td><td>220</td><td>5150</td><td>1</td></tr><tr><td>Biscoe</td><td>48.4</td><td>16.3</td><td>220</td><td>5400</td><td>1</td></tr><tr><td>Biscoe</td><td>42.6</td><td>13.7</td><td>213</td><td>4950</td><td>1</td></tr><tr><td>Biscoe</td><td>44.4</td><td>17.3</td><td>219</td><td>5250</td><td>1</td></tr><tr><td>Biscoe</td><td>44.0</td><td>13.6</td><td>208</td><td>4350</td><td>1</td></tr><tr><td>Biscoe</td><td>48.7</td><td>15.7</td><td>208</td><td>5350</td><td>1</td></tr><tr><td>Biscoe</td><td>42.7</td><td>13.7</td><td>208</td><td>3950</td><td>1</td></tr><tr><td>Biscoe</td><td>49.6</td><td>16.0</td><td>225</td><td>5700</td><td>1</td></tr><tr><td>Biscoe</td><td>45.3</td><td>13.7</td><td>210</td><td>4300</td><td>1</td></tr><tr><td>Biscoe</td><td>49.6</td><td>15.0</td><td>216</td><td>4750</td><td>1</td></tr><tr><td>Biscoe</td><td>50.5</td><td>15.9</td><td>222</td><td>5550</td><td>1</td></tr><tr><td>Biscoe</td><td>43.6</td><td>13.9</td><td>217</td><td>4900</td><td>1</td></tr><tr><td>Biscoe</td><td>45.5</td><td>13.9</td><td>210</td><td>4200</td><td>1</td></tr><tr><td>Biscoe</td><td>50.5</td><td>15.9</td><td>225</td><td>5400</td><td>1</td></tr><tr><td>Biscoe</td><td>44.9</td><td>13.3</td><td>213</td><td>5100</td><td>1</td></tr><tr><td>Biscoe</td><td>45.2</td><td>15.8</td><td>215</td><td>5300</td><td>1</td></tr><tr><td>Biscoe</td><td>46.6</td><td>14.2</td><td>210</td><td>4850</td><td>1</td></tr><tr><td>Biscoe</td><td>48.5</td><td>14.1</td><td>220</td><td>5300</td><td>1</td></tr><tr><td>Biscoe</td><td>45.1</td><td>14.4</td><td>210</td><td>4400</td><td>1</td></tr><tr><td>Biscoe</td><td>50.1</td><td>15.0</td><td>225</td><td>5000</td><td>1</td></tr><tr><td>Biscoe</td><td>46.5</td><td>14.4</td><td>217</td><td>4900</td><td>1</td></tr><tr><td>Biscoe</td><td>45.0</td><td>15.4</td><td>220</td><td>5050</td><td>1</td></tr><tr><td>Biscoe</td><td>43.8</td><td>13.9</td><td>208</td><td>4300</td><td>1</td></tr><tr><td>Biscoe</td><td>45.5</td><td>15.0</td><td>220</td><td>5000</td><td>1</td></tr><tr><td>Biscoe</td><td>43.2</td><td>14.5</td><td>208</td><td>4450</td><td>1</td></tr><tr><td>Biscoe</td><td>50.4</td><td>15.3</td><td>224</td><td>5550</td><td>1</td></tr><tr><td>Biscoe</td><td>45.3</td><td>13.8</td><td>208</td><td>4200</td><td>1</td></tr><tr><td>Biscoe</td><td>46.2</td><td>14.9</td><td>221</td><td>5300</td><td>1</td></tr><tr><td>Biscoe</td><td>45.7</td><td>13.9</td><td>214</td><td>4400</td><td>1</td></tr><tr><td>Biscoe</td><td>54.3</td><td>15.7</td><td>231</td><td>5650</td><td>1</td></tr><tr><td>Biscoe</td><td>45.8</td><td>14.2</td><td>219</td><td>4700</td><td>1</td></tr><tr><td>Biscoe</td><td>49.8</td><td>16.8</td><td>230</td><td>5700</td><td>1</td></tr><tr><td>Biscoe</td><td>46.2</td><td>14.4</td><td>214</td><td>4650</td><td>1</td></tr><tr><td>Biscoe</td><td>49.5</td><td>16.2</td><td>229</td><td>5800</td><td>1</td></tr><tr><td>Biscoe</td><td>43.5</td><td>14.2</td><td>220</td><td>4700</td><td>1</td></tr><tr><td>Biscoe</td><td>50.7</td><td>15.0</td><td>223</td><td>5550</td><td>1</td></tr><tr><td>Biscoe</td><td>47.7</td><td>15.0</td><td>216</td><td>4750</td><td>1</td></tr><tr><td>Biscoe</td><td>46.4</td><td>15.6</td><td>221</td><td>5000</td><td>1</td></tr><tr><td>Biscoe</td><td>48.2</td><td>15.6</td><td>221</td><td>5100</td><td>1</td></tr><tr><td>Biscoe</td><td>46.5</td><td>14.8</td><td>217</td><td>5200</td><td>1</td></tr><tr><td>Biscoe</td><td>46.4</td><td>15.0</td><td>216</td><td>4700</td><td>1</td></tr><tr><td>Biscoe</td><td>48.6</td><td>16.0</td><td>230</td><td>5800</td><td>1</td></tr><tr><td>Biscoe</td><td>47.5</td><td>14.2</td><td>209</td><td>4600</td><td>1</td></tr><tr><td>Biscoe</td><td>51.1</td><td>16.3</td><td>220</td><td>6000</td><td>1</td></tr><tr><td>Biscoe</td><td>45.2</td><td>13.8</td><td>215</td><td>4750</td><td>1</td></tr><tr><td>Biscoe</td><td>45.2</td><td>16.4</td><td>223</td><td>5950</td><td>1</td></tr><tr><td>Biscoe</td><td>49.1</td><td>14.5</td><td>212</td><td>4625</td><td>1</td></tr><tr><td>Biscoe</td><td>52.5</td><td>15.6</td><td>221</td><td>5450</td><td>1</td></tr><tr><td>Biscoe</td><td>47.4</td><td>14.6</td><td>212</td><td>4725</td><td>1</td></tr><tr><td>Biscoe</td><td>50.0</td><td>15.9</td><td>224</td><td>5350</td><td>1</td></tr><tr><td>Biscoe</td><td>44.9</td><td>13.8</td><td>212</td><td>4750</td><td>1</td></tr><tr><td>Biscoe</td><td>50.8</td><td>17.3</td><td>228</td><td>5600</td><td>1</td></tr><tr><td>Biscoe</td><td>43.4</td><td>14.4</td><td>218</td><td>4600</td><td>1</td></tr><tr><td>Biscoe</td><td>51.3</td><td>14.2</td><td>218</td><td>5300</td><td>1</td></tr><tr><td>Biscoe</td><td>47.5</td><td>14.0</td><td>212</td><td>4875</td><td>1</td></tr><tr><td>Biscoe</td><td>52.1</td><td>17.0</td><td>230</td><td>5550</td><td>1</td></tr><tr><td>Biscoe</td><td>47.5</td><td>15.0</td><td>218</td><td>4950</td><td>1</td></tr><tr><td>Biscoe</td><td>52.2</td><td>17.1</td><td>228</td><td>5400</td><td>1</td></tr><tr><td>Biscoe</td><td>45.5</td><td>14.5</td><td>212</td><td>4750</td><td>1</td></tr><tr><td>Biscoe</td><td>49.5</td><td>16.1</td><td>224</td><td>5650</td><td>1</td></tr><tr><td>Biscoe</td><td>44.5</td><td>14.7</td><td>214</td><td>4850</td><td>1</td></tr><tr><td>Biscoe</td><td>50.8</td><td>15.7</td><td>226</td><td>5200</td><td>1</td></tr><tr><td>Biscoe</td><td>49.4</td><td>15.8</td><td>216</td><td>4925</td><td>1</td></tr><tr><td>Biscoe</td><td>46.9</td><td>14.6</td><td>222</td><td>4875</td><td>1</td></tr><tr><td>Biscoe</td><td>48.4</td><td>14.4</td><td>203</td><td>4625</td><td>1</td></tr><tr><td>Biscoe</td><td>51.1</td><td>16.5</td><td>225</td><td>5250</td><td>1</td></tr><tr><td>Biscoe</td><td>48.5</td><td>15.0</td><td>219</td><td>4850</td><td>1</td></tr><tr><td>Biscoe</td><td>55.9</td><td>17.0</td><td>228</td><td>5600</td><td>1</td></tr><tr><td>Biscoe</td><td>47.2</td><td>15.5</td><td>215</td><td>4975</td><td>1</td></tr><tr><td>Biscoe</td><td>49.1</td><td>15.0</td><td>228</td><td>5500</td><td>1</td></tr><tr><td>Biscoe</td><td>47.3</td><td>13.8</td><td>216</td><td>4725</td><td>1</td></tr><tr><td>Biscoe</td><td>46.8</td><td>16.1</td><td>215</td><td>5500</td><td>1</td></tr><tr><td>Biscoe</td><td>41.7</td><td>14.7</td><td>210</td><td>4700</td><td>1</td></tr><tr><td>Biscoe</td><td>53.4</td><td>15.8</td><td>219</td><td>5500</td><td>1</td></tr><tr><td>Biscoe</td><td>43.3</td><td>14.0</td><td>208</td><td>4575</td><td>1</td></tr><tr><td>Biscoe</td><td>48.1</td><td>15.1</td><td>209</td><td>5500</td><td>1</td></tr><tr><td>Biscoe</td><td>50.5</td><td>15.2</td><td>216</td><td>5000</td><td>1</td></tr><tr><td>Biscoe</td><td>49.8</td><td>15.9</td><td>229</td><td>5950</td><td>1</td></tr><tr><td>Biscoe</td><td>43.5</td><td>15.2</td><td>213</td><td>4650</td><td>1</td></tr><tr><td>Biscoe</td><td>51.5</td><td>16.3</td><td>230</td><td>5500</td><td>1</td></tr><tr><td>Biscoe</td><td>46.2</td><td>14.1</td><td>217</td><td>4375</td><td>1</td></tr><tr><td>Biscoe</td><td>55.1</td><td>16.0</td><td>230</td><td>5850</td><td>1</td></tr><tr><td>Biscoe</td><td>44.5</td><td>15.7</td><td>217</td><td>4875</td><td>1</td></tr><tr><td>Biscoe</td><td>48.8</td><td>16.2</td><td>222</td><td>6000</td><td>1</td></tr><tr><td>Biscoe</td><td>47.2</td><td>13.7</td><td>214</td><td>4925</td><td>1</td></tr><tr><td>Biscoe</td><td>null</td><td>null</td><td>null</td><td>null</td><td>1</td></tr><tr><td>Biscoe</td><td>46.8</td><td>14.3</td><td>215</td><td>4850</td><td>1</td></tr><tr><td>Biscoe</td><td>50.4</td><td>15.7</td><td>222</td><td>5750</td><td>1</td></tr><tr><td>Biscoe</td><td>45.2</td><td>14.8</td><td>212</td><td>5200</td><td>1</td></tr><tr><td>Biscoe</td><td>49.9</td><td>16.1</td><td>213</td><td>5400</td><td>1</td></tr><tr><td>Dream</td><td>46.5</td><td>17.9</td><td>192</td><td>3500</td><td>2</td></tr><tr><td>Dream</td><td>50.0</td><td>19.5</td><td>196</td><td>3900</td><td>2</td></tr><tr><td>Dream</td><td>51.3</td><td>19.2</td><td>193</td><td>3650</td><td>2</td></tr><tr><td>Dream</td><td>45.4</td><td>18.7</td><td>188</td><td>3525</td><td>2</td></tr><tr><td>Dream</td><td>52.7</td><td>19.8</td><td>197</td><td>3725</td><td>2</td></tr><tr><td>Dream</td><td>45.2</td><td>17.8</td><td>198</td><td>3950</td><td>2</td></tr><tr><td>Dream</td><td>46.1</td><td>18.2</td><td>178</td><td>3250</td><td>2</td></tr><tr><td>Dream</td><td>51.3</td><td>18.2</td><td>197</td><td>3750</td><td>2</td></tr><tr><td>Dream</td><td>46.0</td><td>18.9</td><td>195</td><td>4150</td><td>2</td></tr><tr><td>Dream</td><td>51.3</td><td>19.9</td><td>198</td><td>3700</td><td>2</td></tr><tr><td>Dream</td><td>46.6</td><td>17.8</td><td>193</td><td>3800</td><td>2</td></tr><tr><td>Dream</td><td>51.7</td><td>20.3</td><td>194</td><td>3775</td><td>2</td></tr><tr><td>Dream</td><td>47.0</td><td>17.3</td><td>185</td><td>3700</td><td>2</td></tr><tr><td>Dream</td><td>52.0</td><td>18.1</td><td>201</td><td>4050</td><td>2</td></tr><tr><td>Dream</td><td>45.9</td><td>17.1</td><td>190</td><td>3575</td><td>2</td></tr><tr><td>Dream</td><td>50.5</td><td>19.6</td><td>201</td><td>4050</td><td>2</td></tr><tr><td>Dream</td><td>50.3</td><td>20.0</td><td>197</td><td>3300</td><td>2</td></tr><tr><td>Dream</td><td>58.0</td><td>17.8</td><td>181</td><td>3700</td><td>2</td></tr><tr><td>Dream</td><td>46.4</td><td>18.6</td><td>190</td><td>3450</td><td>2</td></tr><tr><td>Dream</td><td>49.2</td><td>18.2</td><td>195</td><td>4400</td><td>2</td></tr><tr><td>Dream</td><td>42.4</td><td>17.3</td><td>181</td><td>3600</td><td>2</td></tr><tr><td>Dream</td><td>48.5</td><td>17.5</td><td>191</td><td>3400</td><td>2</td></tr><tr><td>Dream</td><td>43.2</td><td>16.6</td><td>187</td><td>2900</td><td>2</td></tr><tr><td>Dream</td><td>50.6</td><td>19.4</td><td>193</td><td>3800</td><td>2</td></tr><tr><td>Dream</td><td>46.7</td><td>17.9</td><td>195</td><td>3300</td><td>2</td></tr><tr><td>Dream</td><td>52.0</td><td>19.0</td><td>197</td><td>4150</td><td>2</td></tr><tr><td>Dream</td><td>50.5</td><td>18.4</td><td>200</td><td>3400</td><td>2</td></tr><tr><td>Dream</td><td>49.5</td><td>19.0</td><td>200</td><td>3800</td><td>2</td></tr><tr><td>Dream</td><td>46.4</td><td>17.8</td><td>191</td><td>3700</td><td>2</td></tr><tr><td>Dream</td><td>52.8</td><td>20.0</td><td>205</td><td>4550</td><td>2</td></tr><tr><td>Dream</td><td>40.9</td><td>16.6</td><td>187</td><td>3200</td><td>2</td></tr><tr><td>Dream</td><td>54.2</td><td>20.8</td><td>201</td><td>4300</td><td>2</td></tr><tr><td>Dream</td><td>42.5</td><td>16.7</td><td>187</td><td>3350</td><td>2</td></tr><tr><td>Dream</td><td>51.0</td><td>18.8</td><td>203</td><td>4100</td><td>2</td></tr><tr><td>Dream</td><td>49.7</td><td>18.6</td><td>195</td><td>3600</td><td>2</td></tr><tr><td>Dream</td><td>47.5</td><td>16.8</td><td>199</td><td>3900</td><td>2</td></tr><tr><td>Dream</td><td>47.6</td><td>18.3</td><td>195</td><td>3850</td><td>2</td></tr><tr><td>Dream</td><td>52.0</td><td>20.7</td><td>210</td><td>4800</td><td>2</td></tr><tr><td>Dream</td><td>46.9</td><td>16.6</td><td>192</td><td>2700</td><td>2</td></tr><tr><td>Dream</td><td>53.5</td><td>19.9</td><td>205</td><td>4500</td><td>2</td></tr><tr><td>Dream</td><td>49.0</td><td>19.5</td><td>210</td><td>3950</td><td>2</td></tr><tr><td>Dream</td><td>46.2</td><td>17.5</td><td>187</td><td>3650</td><td>2</td></tr><tr><td>Dream</td><td>50.9</td><td>19.1</td><td>196</td><td>3550</td><td>2</td></tr><tr><td>Dream</td><td>45.5</td><td>17.0</td><td>196</td><td>3500</td><td>2</td></tr><tr><td>Dream</td><td>50.9</td><td>17.9</td><td>196</td><td>3675</td><td>2</td></tr><tr><td>Dream</td><td>50.8</td><td>18.5</td><td>201</td><td>4450</td><td>2</td></tr><tr><td>Dream</td><td>50.1</td><td>17.9</td><td>190</td><td>3400</td><td>2</td></tr><tr><td>Dream</td><td>49.0</td><td>19.6</td><td>212</td><td>4300</td><td>2</td></tr><tr><td>Dream</td><td>51.5</td><td>18.7</td><td>187</td><td>3250</td><td>2</td></tr><tr><td>Dream</td><td>49.8</td><td>17.3</td><td>198</td><td>3675</td><td>2</td></tr><tr><td>Dream</td><td>48.1</td><td>16.4</td><td>199</td><td>3325</td><td>2</td></tr><tr><td>Dream</td><td>51.4</td><td>19.0</td><td>201</td><td>3950</td><td>2</td></tr><tr><td>Dream</td><td>45.7</td><td>17.3</td><td>193</td><td>3600</td><td>2</td></tr><tr><td>Dream</td><td>50.7</td><td>19.7</td><td>203</td><td>4050</td><td>2</td></tr><tr><td>Dream</td><td>42.5</td><td>17.3</td><td>187</td><td>3350</td><td>2</td></tr><tr><td>Dream</td><td>52.2</td><td>18.8</td><td>197</td><td>3450</td><td>2</td></tr><tr><td>Dream</td><td>45.2</td><td>16.6</td><td>191</td><td>3250</td><td>2</td></tr><tr><td>Dream</td><td>49.3</td><td>19.9</td><td>203</td><td>4050</td><td>2</td></tr><tr><td>Dream</td><td>50.2</td><td>18.8</td><td>202</td><td>3800</td><td>2</td></tr><tr><td>Dream</td><td>45.6</td><td>19.4</td><td>194</td><td>3525</td><td>2</td></tr><tr><td>Dream</td><td>51.9</td><td>19.5</td><td>206</td><td>3950</td><td>2</td></tr><tr><td>Dream</td><td>46.8</td><td>16.5</td><td>189</td><td>3650</td><td>2</td></tr><tr><td>Dream</td><td>45.7</td><td>17.0</td><td>195</td><td>3650</td><td>2</td></tr><tr><td>Dream</td><td>55.8</td><td>19.8</td><td>207</td><td>4000</td><td>2</td></tr><tr><td>Dream</td><td>43.5</td><td>18.1</td><td>202</td><td>3400</td><td>2</td></tr><tr><td>Dream</td><td>49.6</td><td>18.2</td><td>193</td><td>3775</td><td>2</td></tr><tr><td>Dream</td><td>50.8</td><td>19.0</td><td>210</td><td>4100</td><td>2</td></tr><tr><td>Dream</td><td>50.2</td><td>18.7</td><td>198</td><td>3775</td><td>2</td></tr></tbody></table></div>"
      ]
     },
     "metadata": {
      "application/vnd.databricks.v1+output": {
       "addedWidgets": {},
       "aggData": [],
       "aggError": "",
       "aggOverflow": false,
       "aggSchema": [],
       "aggSeriesLimitReached": false,
       "aggType": "",
       "arguments": {},
       "columnCustomDisplayInfos": {},
       "data": [
        [
         "Torgersen",
         39.1,
         18.7,
         181,
         3750,
         0
        ],
        [
         "Torgersen",
         39.5,
         17.4,
         186,
         3800,
         0
        ],
        [
         "Torgersen",
         40.3,
         18.0,
         195,
         3250,
         0
        ],
        [
         "Torgersen",
         null,
         null,
         null,
         null,
         0
        ],
        [
         "Torgersen",
         36.7,
         19.3,
         193,
         3450,
         0
        ],
        [
         "Torgersen",
         39.3,
         20.6,
         190,
         3650,
         0
        ],
        [
         "Torgersen",
         38.9,
         17.8,
         181,
         3625,
         0
        ],
        [
         "Torgersen",
         39.2,
         19.6,
         195,
         4675,
         0
        ],
        [
         "Torgersen",
         34.1,
         18.1,
         193,
         3475,
         0
        ],
        [
         "Torgersen",
         42.0,
         20.2,
         190,
         4250,
         0
        ],
        [
         "Torgersen",
         37.8,
         17.1,
         186,
         3300,
         0
        ],
        [
         "Torgersen",
         37.8,
         17.3,
         180,
         3700,
         0
        ],
        [
         "Torgersen",
         41.1,
         17.6,
         182,
         3200,
         0
        ],
        [
         "Torgersen",
         38.6,
         21.2,
         191,
         3800,
         0
        ],
        [
         "Torgersen",
         34.6,
         21.1,
         198,
         4400,
         0
        ],
        [
         "Torgersen",
         36.6,
         17.8,
         185,
         3700,
         0
        ],
        [
         "Torgersen",
         38.7,
         19.0,
         195,
         3450,
         0
        ],
        [
         "Torgersen",
         42.5,
         20.7,
         197,
         4500,
         0
        ],
        [
         "Torgersen",
         34.4,
         18.4,
         184,
         3325,
         0
        ],
        [
         "Torgersen",
         46.0,
         21.5,
         194,
         4200,
         0
        ],
        [
         "Biscoe",
         37.8,
         18.3,
         174,
         3400,
         0
        ],
        [
         "Biscoe",
         37.7,
         18.7,
         180,
         3600,
         0
        ],
        [
         "Biscoe",
         35.9,
         19.2,
         189,
         3800,
         0
        ],
        [
         "Biscoe",
         38.2,
         18.1,
         185,
         3950,
         0
        ],
        [
         "Biscoe",
         38.8,
         17.2,
         180,
         3800,
         0
        ],
        [
         "Biscoe",
         35.3,
         18.9,
         187,
         3800,
         0
        ],
        [
         "Biscoe",
         40.6,
         18.6,
         183,
         3550,
         0
        ],
        [
         "Biscoe",
         40.5,
         17.9,
         187,
         3200,
         0
        ],
        [
         "Biscoe",
         37.9,
         18.6,
         172,
         3150,
         0
        ],
        [
         "Biscoe",
         40.5,
         18.9,
         180,
         3950,
         0
        ],
        [
         "Dream",
         39.5,
         16.7,
         178,
         3250,
         0
        ],
        [
         "Dream",
         37.2,
         18.1,
         178,
         3900,
         0
        ],
        [
         "Dream",
         39.5,
         17.8,
         188,
         3300,
         0
        ],
        [
         "Dream",
         40.9,
         18.9,
         184,
         3900,
         0
        ],
        [
         "Dream",
         36.4,
         17.0,
         195,
         3325,
         0
        ],
        [
         "Dream",
         39.2,
         21.1,
         196,
         4150,
         0
        ],
        [
         "Dream",
         38.8,
         20.0,
         190,
         3950,
         0
        ],
        [
         "Dream",
         42.2,
         18.5,
         180,
         3550,
         0
        ],
        [
         "Dream",
         37.6,
         19.3,
         181,
         3300,
         0
        ],
        [
         "Dream",
         39.8,
         19.1,
         184,
         4650,
         0
        ],
        [
         "Dream",
         36.5,
         18.0,
         182,
         3150,
         0
        ],
        [
         "Dream",
         40.8,
         18.4,
         195,
         3900,
         0
        ],
        [
         "Dream",
         36.0,
         18.5,
         186,
         3100,
         0
        ],
        [
         "Dream",
         44.1,
         19.7,
         196,
         4400,
         0
        ],
        [
         "Dream",
         37.0,
         16.9,
         185,
         3000,
         0
        ],
        [
         "Dream",
         39.6,
         18.8,
         190,
         4600,
         0
        ],
        [
         "Dream",
         41.1,
         19.0,
         182,
         3425,
         0
        ],
        [
         "Dream",
         37.5,
         18.9,
         179,
         2975,
         0
        ],
        [
         "Dream",
         36.0,
         17.9,
         190,
         3450,
         0
        ],
        [
         "Dream",
         42.3,
         21.2,
         191,
         4150,
         0
        ],
        [
         "Biscoe",
         39.6,
         17.7,
         186,
         3500,
         0
        ],
        [
         "Biscoe",
         40.1,
         18.9,
         188,
         4300,
         0
        ],
        [
         "Biscoe",
         35.0,
         17.9,
         190,
         3450,
         0
        ],
        [
         "Biscoe",
         42.0,
         19.5,
         200,
         4050,
         0
        ],
        [
         "Biscoe",
         34.5,
         18.1,
         187,
         2900,
         0
        ],
        [
         "Biscoe",
         41.4,
         18.6,
         191,
         3700,
         0
        ],
        [
         "Biscoe",
         39.0,
         17.5,
         186,
         3550,
         0
        ],
        [
         "Biscoe",
         40.6,
         18.8,
         193,
         3800,
         0
        ],
        [
         "Biscoe",
         36.5,
         16.6,
         181,
         2850,
         0
        ],
        [
         "Biscoe",
         37.6,
         19.1,
         194,
         3750,
         0
        ],
        [
         "Biscoe",
         35.7,
         16.9,
         185,
         3150,
         0
        ],
        [
         "Biscoe",
         41.3,
         21.1,
         195,
         4400,
         0
        ],
        [
         "Biscoe",
         37.6,
         17.0,
         185,
         3600,
         0
        ],
        [
         "Biscoe",
         41.1,
         18.2,
         192,
         4050,
         0
        ],
        [
         "Biscoe",
         36.4,
         17.1,
         184,
         2850,
         0
        ],
        [
         "Biscoe",
         41.6,
         18.0,
         192,
         3950,
         0
        ],
        [
         "Biscoe",
         35.5,
         16.2,
         195,
         3350,
         0
        ],
        [
         "Biscoe",
         41.1,
         19.1,
         188,
         4100,
         0
        ],
        [
         "Torgersen",
         35.9,
         16.6,
         190,
         3050,
         0
        ],
        [
         "Torgersen",
         41.8,
         19.4,
         198,
         4450,
         0
        ],
        [
         "Torgersen",
         33.5,
         19.0,
         190,
         3600,
         0
        ],
        [
         "Torgersen",
         39.7,
         18.4,
         190,
         3900,
         0
        ],
        [
         "Torgersen",
         39.6,
         17.2,
         196,
         3550,
         0
        ],
        [
         "Torgersen",
         45.8,
         18.9,
         197,
         4150,
         0
        ],
        [
         "Torgersen",
         35.5,
         17.5,
         190,
         3700,
         0
        ],
        [
         "Torgersen",
         42.8,
         18.5,
         195,
         4250,
         0
        ],
        [
         "Torgersen",
         40.9,
         16.8,
         191,
         3700,
         0
        ],
        [
         "Torgersen",
         37.2,
         19.4,
         184,
         3900,
         0
        ],
        [
         "Torgersen",
         36.2,
         16.1,
         187,
         3550,
         0
        ],
        [
         "Torgersen",
         42.1,
         19.1,
         195,
         4000,
         0
        ],
        [
         "Torgersen",
         34.6,
         17.2,
         189,
         3200,
         0
        ],
        [
         "Torgersen",
         42.9,
         17.6,
         196,
         4700,
         0
        ],
        [
         "Torgersen",
         36.7,
         18.8,
         187,
         3800,
         0
        ],
        [
         "Torgersen",
         35.1,
         19.4,
         193,
         4200,
         0
        ],
        [
         "Dream",
         37.3,
         17.8,
         191,
         3350,
         0
        ],
        [
         "Dream",
         41.3,
         20.3,
         194,
         3550,
         0
        ],
        [
         "Dream",
         36.3,
         19.5,
         190,
         3800,
         0
        ],
        [
         "Dream",
         36.9,
         18.6,
         189,
         3500,
         0
        ],
        [
         "Dream",
         38.3,
         19.2,
         189,
         3950,
         0
        ],
        [
         "Dream",
         38.9,
         18.8,
         190,
         3600,
         0
        ],
        [
         "Dream",
         35.7,
         18.0,
         202,
         3550,
         0
        ],
        [
         "Dream",
         41.1,
         18.1,
         205,
         4300,
         0
        ],
        [
         "Dream",
         34.0,
         17.1,
         185,
         3400,
         0
        ],
        [
         "Dream",
         39.6,
         18.1,
         186,
         4450,
         0
        ],
        [
         "Dream",
         36.2,
         17.3,
         187,
         3300,
         0
        ],
        [
         "Dream",
         40.8,
         18.9,
         208,
         4300,
         0
        ],
        [
         "Dream",
         38.1,
         18.6,
         190,
         3700,
         0
        ],
        [
         "Dream",
         40.3,
         18.5,
         196,
         4350,
         0
        ],
        [
         "Dream",
         33.1,
         16.1,
         178,
         2900,
         0
        ],
        [
         "Dream",
         43.2,
         18.5,
         192,
         4100,
         0
        ],
        [
         "Biscoe",
         35.0,
         17.9,
         192,
         3725,
         0
        ],
        [
         "Biscoe",
         41.0,
         20.0,
         203,
         4725,
         0
        ],
        [
         "Biscoe",
         37.7,
         16.0,
         183,
         3075,
         0
        ],
        [
         "Biscoe",
         37.8,
         20.0,
         190,
         4250,
         0
        ],
        [
         "Biscoe",
         37.9,
         18.6,
         193,
         2925,
         0
        ],
        [
         "Biscoe",
         39.7,
         18.9,
         184,
         3550,
         0
        ],
        [
         "Biscoe",
         38.6,
         17.2,
         199,
         3750,
         0
        ],
        [
         "Biscoe",
         38.2,
         20.0,
         190,
         3900,
         0
        ],
        [
         "Biscoe",
         38.1,
         17.0,
         181,
         3175,
         0
        ],
        [
         "Biscoe",
         43.2,
         19.0,
         197,
         4775,
         0
        ],
        [
         "Biscoe",
         38.1,
         16.5,
         198,
         3825,
         0
        ],
        [
         "Biscoe",
         45.6,
         20.3,
         191,
         4600,
         0
        ],
        [
         "Biscoe",
         39.7,
         17.7,
         193,
         3200,
         0
        ],
        [
         "Biscoe",
         42.2,
         19.5,
         197,
         4275,
         0
        ],
        [
         "Biscoe",
         39.6,
         20.7,
         191,
         3900,
         0
        ],
        [
         "Biscoe",
         42.7,
         18.3,
         196,
         4075,
         0
        ],
        [
         "Torgersen",
         38.6,
         17.0,
         188,
         2900,
         0
        ],
        [
         "Torgersen",
         37.3,
         20.5,
         199,
         3775,
         0
        ],
        [
         "Torgersen",
         35.7,
         17.0,
         189,
         3350,
         0
        ],
        [
         "Torgersen",
         41.1,
         18.6,
         189,
         3325,
         0
        ],
        [
         "Torgersen",
         36.2,
         17.2,
         187,
         3150,
         0
        ],
        [
         "Torgersen",
         37.7,
         19.8,
         198,
         3500,
         0
        ],
        [
         "Torgersen",
         40.2,
         17.0,
         176,
         3450,
         0
        ],
        [
         "Torgersen",
         41.4,
         18.5,
         202,
         3875,
         0
        ],
        [
         "Torgersen",
         35.2,
         15.9,
         186,
         3050,
         0
        ],
        [
         "Torgersen",
         40.6,
         19.0,
         199,
         4000,
         0
        ],
        [
         "Torgersen",
         38.8,
         17.6,
         191,
         3275,
         0
        ],
        [
         "Torgersen",
         41.5,
         18.3,
         195,
         4300,
         0
        ],
        [
         "Torgersen",
         39.0,
         17.1,
         191,
         3050,
         0
        ],
        [
         "Torgersen",
         44.1,
         18.0,
         210,
         4000,
         0
        ],
        [
         "Torgersen",
         38.5,
         17.9,
         190,
         3325,
         0
        ],
        [
         "Torgersen",
         43.1,
         19.2,
         197,
         3500,
         0
        ],
        [
         "Dream",
         36.8,
         18.5,
         193,
         3500,
         0
        ],
        [
         "Dream",
         37.5,
         18.5,
         199,
         4475,
         0
        ],
        [
         "Dream",
         38.1,
         17.6,
         187,
         3425,
         0
        ],
        [
         "Dream",
         41.1,
         17.5,
         190,
         3900,
         0
        ],
        [
         "Dream",
         35.6,
         17.5,
         191,
         3175,
         0
        ],
        [
         "Dream",
         40.2,
         20.1,
         200,
         3975,
         0
        ],
        [
         "Dream",
         37.0,
         16.5,
         185,
         3400,
         0
        ],
        [
         "Dream",
         39.7,
         17.9,
         193,
         4250,
         0
        ],
        [
         "Dream",
         40.2,
         17.1,
         193,
         3400,
         0
        ],
        [
         "Dream",
         40.6,
         17.2,
         187,
         3475,
         0
        ],
        [
         "Dream",
         32.1,
         15.5,
         188,
         3050,
         0
        ],
        [
         "Dream",
         40.7,
         17.0,
         190,
         3725,
         0
        ],
        [
         "Dream",
         37.3,
         16.8,
         192,
         3000,
         0
        ],
        [
         "Dream",
         39.0,
         18.7,
         185,
         3650,
         0
        ],
        [
         "Dream",
         39.2,
         18.6,
         190,
         4250,
         0
        ],
        [
         "Dream",
         36.6,
         18.4,
         184,
         3475,
         0
        ],
        [
         "Dream",
         36.0,
         17.8,
         195,
         3450,
         0
        ],
        [
         "Dream",
         37.8,
         18.1,
         193,
         3750,
         0
        ],
        [
         "Dream",
         36.0,
         17.1,
         187,
         3700,
         0
        ],
        [
         "Dream",
         41.5,
         18.5,
         201,
         4000,
         0
        ],
        [
         "Biscoe",
         46.1,
         13.2,
         211,
         4500,
         1
        ],
        [
         "Biscoe",
         50.0,
         16.3,
         230,
         5700,
         1
        ],
        [
         "Biscoe",
         48.7,
         14.1,
         210,
         4450,
         1
        ],
        [
         "Biscoe",
         50.0,
         15.2,
         218,
         5700,
         1
        ],
        [
         "Biscoe",
         47.6,
         14.5,
         215,
         5400,
         1
        ],
        [
         "Biscoe",
         46.5,
         13.5,
         210,
         4550,
         1
        ],
        [
         "Biscoe",
         45.4,
         14.6,
         211,
         4800,
         1
        ],
        [
         "Biscoe",
         46.7,
         15.3,
         219,
         5200,
         1
        ],
        [
         "Biscoe",
         43.3,
         13.4,
         209,
         4400,
         1
        ],
        [
         "Biscoe",
         46.8,
         15.4,
         215,
         5150,
         1
        ],
        [
         "Biscoe",
         40.9,
         13.7,
         214,
         4650,
         1
        ],
        [
         "Biscoe",
         49.0,
         16.1,
         216,
         5550,
         1
        ],
        [
         "Biscoe",
         45.5,
         13.7,
         214,
         4650,
         1
        ],
        [
         "Biscoe",
         48.4,
         14.6,
         213,
         5850,
         1
        ],
        [
         "Biscoe",
         45.8,
         14.6,
         210,
         4200,
         1
        ],
        [
         "Biscoe",
         49.3,
         15.7,
         217,
         5850,
         1
        ],
        [
         "Biscoe",
         42.0,
         13.5,
         210,
         4150,
         1
        ],
        [
         "Biscoe",
         49.2,
         15.2,
         221,
         6300,
         1
        ],
        [
         "Biscoe",
         46.2,
         14.5,
         209,
         4800,
         1
        ],
        [
         "Biscoe",
         48.7,
         15.1,
         222,
         5350,
         1
        ],
        [
         "Biscoe",
         50.2,
         14.3,
         218,
         5700,
         1
        ],
        [
         "Biscoe",
         45.1,
         14.5,
         215,
         5000,
         1
        ],
        [
         "Biscoe",
         46.5,
         14.5,
         213,
         4400,
         1
        ],
        [
         "Biscoe",
         46.3,
         15.8,
         215,
         5050,
         1
        ],
        [
         "Biscoe",
         42.9,
         13.1,
         215,
         5000,
         1
        ],
        [
         "Biscoe",
         46.1,
         15.1,
         215,
         5100,
         1
        ],
        [
         "Biscoe",
         44.5,
         14.3,
         216,
         4100,
         1
        ],
        [
         "Biscoe",
         47.8,
         15.0,
         215,
         5650,
         1
        ],
        [
         "Biscoe",
         48.2,
         14.3,
         210,
         4600,
         1
        ],
        [
         "Biscoe",
         50.0,
         15.3,
         220,
         5550,
         1
        ],
        [
         "Biscoe",
         47.3,
         15.3,
         222,
         5250,
         1
        ],
        [
         "Biscoe",
         42.8,
         14.2,
         209,
         4700,
         1
        ],
        [
         "Biscoe",
         45.1,
         14.5,
         207,
         5050,
         1
        ],
        [
         "Biscoe",
         59.6,
         17.0,
         230,
         6050,
         1
        ],
        [
         "Biscoe",
         49.1,
         14.8,
         220,
         5150,
         1
        ],
        [
         "Biscoe",
         48.4,
         16.3,
         220,
         5400,
         1
        ],
        [
         "Biscoe",
         42.6,
         13.7,
         213,
         4950,
         1
        ],
        [
         "Biscoe",
         44.4,
         17.3,
         219,
         5250,
         1
        ],
        [
         "Biscoe",
         44.0,
         13.6,
         208,
         4350,
         1
        ],
        [
         "Biscoe",
         48.7,
         15.7,
         208,
         5350,
         1
        ],
        [
         "Biscoe",
         42.7,
         13.7,
         208,
         3950,
         1
        ],
        [
         "Biscoe",
         49.6,
         16.0,
         225,
         5700,
         1
        ],
        [
         "Biscoe",
         45.3,
         13.7,
         210,
         4300,
         1
        ],
        [
         "Biscoe",
         49.6,
         15.0,
         216,
         4750,
         1
        ],
        [
         "Biscoe",
         50.5,
         15.9,
         222,
         5550,
         1
        ],
        [
         "Biscoe",
         43.6,
         13.9,
         217,
         4900,
         1
        ],
        [
         "Biscoe",
         45.5,
         13.9,
         210,
         4200,
         1
        ],
        [
         "Biscoe",
         50.5,
         15.9,
         225,
         5400,
         1
        ],
        [
         "Biscoe",
         44.9,
         13.3,
         213,
         5100,
         1
        ],
        [
         "Biscoe",
         45.2,
         15.8,
         215,
         5300,
         1
        ],
        [
         "Biscoe",
         46.6,
         14.2,
         210,
         4850,
         1
        ],
        [
         "Biscoe",
         48.5,
         14.1,
         220,
         5300,
         1
        ],
        [
         "Biscoe",
         45.1,
         14.4,
         210,
         4400,
         1
        ],
        [
         "Biscoe",
         50.1,
         15.0,
         225,
         5000,
         1
        ],
        [
         "Biscoe",
         46.5,
         14.4,
         217,
         4900,
         1
        ],
        [
         "Biscoe",
         45.0,
         15.4,
         220,
         5050,
         1
        ],
        [
         "Biscoe",
         43.8,
         13.9,
         208,
         4300,
         1
        ],
        [
         "Biscoe",
         45.5,
         15.0,
         220,
         5000,
         1
        ],
        [
         "Biscoe",
         43.2,
         14.5,
         208,
         4450,
         1
        ],
        [
         "Biscoe",
         50.4,
         15.3,
         224,
         5550,
         1
        ],
        [
         "Biscoe",
         45.3,
         13.8,
         208,
         4200,
         1
        ],
        [
         "Biscoe",
         46.2,
         14.9,
         221,
         5300,
         1
        ],
        [
         "Biscoe",
         45.7,
         13.9,
         214,
         4400,
         1
        ],
        [
         "Biscoe",
         54.3,
         15.7,
         231,
         5650,
         1
        ],
        [
         "Biscoe",
         45.8,
         14.2,
         219,
         4700,
         1
        ],
        [
         "Biscoe",
         49.8,
         16.8,
         230,
         5700,
         1
        ],
        [
         "Biscoe",
         46.2,
         14.4,
         214,
         4650,
         1
        ],
        [
         "Biscoe",
         49.5,
         16.2,
         229,
         5800,
         1
        ],
        [
         "Biscoe",
         43.5,
         14.2,
         220,
         4700,
         1
        ],
        [
         "Biscoe",
         50.7,
         15.0,
         223,
         5550,
         1
        ],
        [
         "Biscoe",
         47.7,
         15.0,
         216,
         4750,
         1
        ],
        [
         "Biscoe",
         46.4,
         15.6,
         221,
         5000,
         1
        ],
        [
         "Biscoe",
         48.2,
         15.6,
         221,
         5100,
         1
        ],
        [
         "Biscoe",
         46.5,
         14.8,
         217,
         5200,
         1
        ],
        [
         "Biscoe",
         46.4,
         15.0,
         216,
         4700,
         1
        ],
        [
         "Biscoe",
         48.6,
         16.0,
         230,
         5800,
         1
        ],
        [
         "Biscoe",
         47.5,
         14.2,
         209,
         4600,
         1
        ],
        [
         "Biscoe",
         51.1,
         16.3,
         220,
         6000,
         1
        ],
        [
         "Biscoe",
         45.2,
         13.8,
         215,
         4750,
         1
        ],
        [
         "Biscoe",
         45.2,
         16.4,
         223,
         5950,
         1
        ],
        [
         "Biscoe",
         49.1,
         14.5,
         212,
         4625,
         1
        ],
        [
         "Biscoe",
         52.5,
         15.6,
         221,
         5450,
         1
        ],
        [
         "Biscoe",
         47.4,
         14.6,
         212,
         4725,
         1
        ],
        [
         "Biscoe",
         50.0,
         15.9,
         224,
         5350,
         1
        ],
        [
         "Biscoe",
         44.9,
         13.8,
         212,
         4750,
         1
        ],
        [
         "Biscoe",
         50.8,
         17.3,
         228,
         5600,
         1
        ],
        [
         "Biscoe",
         43.4,
         14.4,
         218,
         4600,
         1
        ],
        [
         "Biscoe",
         51.3,
         14.2,
         218,
         5300,
         1
        ],
        [
         "Biscoe",
         47.5,
         14.0,
         212,
         4875,
         1
        ],
        [
         "Biscoe",
         52.1,
         17.0,
         230,
         5550,
         1
        ],
        [
         "Biscoe",
         47.5,
         15.0,
         218,
         4950,
         1
        ],
        [
         "Biscoe",
         52.2,
         17.1,
         228,
         5400,
         1
        ],
        [
         "Biscoe",
         45.5,
         14.5,
         212,
         4750,
         1
        ],
        [
         "Biscoe",
         49.5,
         16.1,
         224,
         5650,
         1
        ],
        [
         "Biscoe",
         44.5,
         14.7,
         214,
         4850,
         1
        ],
        [
         "Biscoe",
         50.8,
         15.7,
         226,
         5200,
         1
        ],
        [
         "Biscoe",
         49.4,
         15.8,
         216,
         4925,
         1
        ],
        [
         "Biscoe",
         46.9,
         14.6,
         222,
         4875,
         1
        ],
        [
         "Biscoe",
         48.4,
         14.4,
         203,
         4625,
         1
        ],
        [
         "Biscoe",
         51.1,
         16.5,
         225,
         5250,
         1
        ],
        [
         "Biscoe",
         48.5,
         15.0,
         219,
         4850,
         1
        ],
        [
         "Biscoe",
         55.9,
         17.0,
         228,
         5600,
         1
        ],
        [
         "Biscoe",
         47.2,
         15.5,
         215,
         4975,
         1
        ],
        [
         "Biscoe",
         49.1,
         15.0,
         228,
         5500,
         1
        ],
        [
         "Biscoe",
         47.3,
         13.8,
         216,
         4725,
         1
        ],
        [
         "Biscoe",
         46.8,
         16.1,
         215,
         5500,
         1
        ],
        [
         "Biscoe",
         41.7,
         14.7,
         210,
         4700,
         1
        ],
        [
         "Biscoe",
         53.4,
         15.8,
         219,
         5500,
         1
        ],
        [
         "Biscoe",
         43.3,
         14.0,
         208,
         4575,
         1
        ],
        [
         "Biscoe",
         48.1,
         15.1,
         209,
         5500,
         1
        ],
        [
         "Biscoe",
         50.5,
         15.2,
         216,
         5000,
         1
        ],
        [
         "Biscoe",
         49.8,
         15.9,
         229,
         5950,
         1
        ],
        [
         "Biscoe",
         43.5,
         15.2,
         213,
         4650,
         1
        ],
        [
         "Biscoe",
         51.5,
         16.3,
         230,
         5500,
         1
        ],
        [
         "Biscoe",
         46.2,
         14.1,
         217,
         4375,
         1
        ],
        [
         "Biscoe",
         55.1,
         16.0,
         230,
         5850,
         1
        ],
        [
         "Biscoe",
         44.5,
         15.7,
         217,
         4875,
         1
        ],
        [
         "Biscoe",
         48.8,
         16.2,
         222,
         6000,
         1
        ],
        [
         "Biscoe",
         47.2,
         13.7,
         214,
         4925,
         1
        ],
        [
         "Biscoe",
         null,
         null,
         null,
         null,
         1
        ],
        [
         "Biscoe",
         46.8,
         14.3,
         215,
         4850,
         1
        ],
        [
         "Biscoe",
         50.4,
         15.7,
         222,
         5750,
         1
        ],
        [
         "Biscoe",
         45.2,
         14.8,
         212,
         5200,
         1
        ],
        [
         "Biscoe",
         49.9,
         16.1,
         213,
         5400,
         1
        ],
        [
         "Dream",
         46.5,
         17.9,
         192,
         3500,
         2
        ],
        [
         "Dream",
         50.0,
         19.5,
         196,
         3900,
         2
        ],
        [
         "Dream",
         51.3,
         19.2,
         193,
         3650,
         2
        ],
        [
         "Dream",
         45.4,
         18.7,
         188,
         3525,
         2
        ],
        [
         "Dream",
         52.7,
         19.8,
         197,
         3725,
         2
        ],
        [
         "Dream",
         45.2,
         17.8,
         198,
         3950,
         2
        ],
        [
         "Dream",
         46.1,
         18.2,
         178,
         3250,
         2
        ],
        [
         "Dream",
         51.3,
         18.2,
         197,
         3750,
         2
        ],
        [
         "Dream",
         46.0,
         18.9,
         195,
         4150,
         2
        ],
        [
         "Dream",
         51.3,
         19.9,
         198,
         3700,
         2
        ],
        [
         "Dream",
         46.6,
         17.8,
         193,
         3800,
         2
        ],
        [
         "Dream",
         51.7,
         20.3,
         194,
         3775,
         2
        ],
        [
         "Dream",
         47.0,
         17.3,
         185,
         3700,
         2
        ],
        [
         "Dream",
         52.0,
         18.1,
         201,
         4050,
         2
        ],
        [
         "Dream",
         45.9,
         17.1,
         190,
         3575,
         2
        ],
        [
         "Dream",
         50.5,
         19.6,
         201,
         4050,
         2
        ],
        [
         "Dream",
         50.3,
         20.0,
         197,
         3300,
         2
        ],
        [
         "Dream",
         58.0,
         17.8,
         181,
         3700,
         2
        ],
        [
         "Dream",
         46.4,
         18.6,
         190,
         3450,
         2
        ],
        [
         "Dream",
         49.2,
         18.2,
         195,
         4400,
         2
        ],
        [
         "Dream",
         42.4,
         17.3,
         181,
         3600,
         2
        ],
        [
         "Dream",
         48.5,
         17.5,
         191,
         3400,
         2
        ],
        [
         "Dream",
         43.2,
         16.6,
         187,
         2900,
         2
        ],
        [
         "Dream",
         50.6,
         19.4,
         193,
         3800,
         2
        ],
        [
         "Dream",
         46.7,
         17.9,
         195,
         3300,
         2
        ],
        [
         "Dream",
         52.0,
         19.0,
         197,
         4150,
         2
        ],
        [
         "Dream",
         50.5,
         18.4,
         200,
         3400,
         2
        ],
        [
         "Dream",
         49.5,
         19.0,
         200,
         3800,
         2
        ],
        [
         "Dream",
         46.4,
         17.8,
         191,
         3700,
         2
        ],
        [
         "Dream",
         52.8,
         20.0,
         205,
         4550,
         2
        ],
        [
         "Dream",
         40.9,
         16.6,
         187,
         3200,
         2
        ],
        [
         "Dream",
         54.2,
         20.8,
         201,
         4300,
         2
        ],
        [
         "Dream",
         42.5,
         16.7,
         187,
         3350,
         2
        ],
        [
         "Dream",
         51.0,
         18.8,
         203,
         4100,
         2
        ],
        [
         "Dream",
         49.7,
         18.6,
         195,
         3600,
         2
        ],
        [
         "Dream",
         47.5,
         16.8,
         199,
         3900,
         2
        ],
        [
         "Dream",
         47.6,
         18.3,
         195,
         3850,
         2
        ],
        [
         "Dream",
         52.0,
         20.7,
         210,
         4800,
         2
        ],
        [
         "Dream",
         46.9,
         16.6,
         192,
         2700,
         2
        ],
        [
         "Dream",
         53.5,
         19.9,
         205,
         4500,
         2
        ],
        [
         "Dream",
         49.0,
         19.5,
         210,
         3950,
         2
        ],
        [
         "Dream",
         46.2,
         17.5,
         187,
         3650,
         2
        ],
        [
         "Dream",
         50.9,
         19.1,
         196,
         3550,
         2
        ],
        [
         "Dream",
         45.5,
         17.0,
         196,
         3500,
         2
        ],
        [
         "Dream",
         50.9,
         17.9,
         196,
         3675,
         2
        ],
        [
         "Dream",
         50.8,
         18.5,
         201,
         4450,
         2
        ],
        [
         "Dream",
         50.1,
         17.9,
         190,
         3400,
         2
        ],
        [
         "Dream",
         49.0,
         19.6,
         212,
         4300,
         2
        ],
        [
         "Dream",
         51.5,
         18.7,
         187,
         3250,
         2
        ],
        [
         "Dream",
         49.8,
         17.3,
         198,
         3675,
         2
        ],
        [
         "Dream",
         48.1,
         16.4,
         199,
         3325,
         2
        ],
        [
         "Dream",
         51.4,
         19.0,
         201,
         3950,
         2
        ],
        [
         "Dream",
         45.7,
         17.3,
         193,
         3600,
         2
        ],
        [
         "Dream",
         50.7,
         19.7,
         203,
         4050,
         2
        ],
        [
         "Dream",
         42.5,
         17.3,
         187,
         3350,
         2
        ],
        [
         "Dream",
         52.2,
         18.8,
         197,
         3450,
         2
        ],
        [
         "Dream",
         45.2,
         16.6,
         191,
         3250,
         2
        ],
        [
         "Dream",
         49.3,
         19.9,
         203,
         4050,
         2
        ],
        [
         "Dream",
         50.2,
         18.8,
         202,
         3800,
         2
        ],
        [
         "Dream",
         45.6,
         19.4,
         194,
         3525,
         2
        ],
        [
         "Dream",
         51.9,
         19.5,
         206,
         3950,
         2
        ],
        [
         "Dream",
         46.8,
         16.5,
         189,
         3650,
         2
        ],
        [
         "Dream",
         45.7,
         17.0,
         195,
         3650,
         2
        ],
        [
         "Dream",
         55.8,
         19.8,
         207,
         4000,
         2
        ],
        [
         "Dream",
         43.5,
         18.1,
         202,
         3400,
         2
        ],
        [
         "Dream",
         49.6,
         18.2,
         193,
         3775,
         2
        ],
        [
         "Dream",
         50.8,
         19.0,
         210,
         4100,
         2
        ],
        [
         "Dream",
         50.2,
         18.7,
         198,
         3775,
         2
        ]
       ],
       "datasetInfos": [],
       "dbfsResultPath": null,
       "isJsonSchema": true,
       "metadata": {},
       "overflow": false,
       "plotOptions": {
        "customPlotOptions": {},
        "displayType": "table",
        "pivotAggregation": null,
        "pivotColumns": null,
        "xColumns": null,
        "yColumns": null
       },
       "removedWidgets": [],
       "schema": [
        {
         "metadata": "{}",
         "name": "Island",
         "type": "\"string\""
        },
        {
         "metadata": "{}",
         "name": "CulmenLength",
         "type": "\"double\""
        },
        {
         "metadata": "{}",
         "name": "CulmenDepth",
         "type": "\"double\""
        },
        {
         "metadata": "{}",
         "name": "FlipperLength",
         "type": "\"integer\""
        },
        {
         "metadata": "{}",
         "name": "BodyMass",
         "type": "\"integer\""
        },
        {
         "metadata": "{}",
         "name": "Species",
         "type": "\"integer\""
        }
       ],
       "type": "table"
      }
     },
     "output_type": "display_data"
    }
   ],
   "source": [
    "display(products_df)"
   ]
  },
  {
   "cell_type": "markdown",
   "metadata": {
    "application/vnd.databricks.v1+cell": {
     "cellMetadata": {},
     "inputWidgets": {},
     "nuid": "bc095196-549c-44f3-ba94-ed20668556d7",
     "showTitle": false,
     "title": ""
    }
   },
   "source": [
    "##### Aggregate and group data in a dataframe"
   ]
  },
  {
   "cell_type": "code",
   "execution_count": 0,
   "metadata": {
    "application/vnd.databricks.v1+cell": {
     "cellMetadata": {
      "byteLimit": 2048000,
      "rowLimit": 10000
     },
     "inputWidgets": {},
     "nuid": "3d6ad0b3-abd3-4504-b6f9-af27c0ed14b1",
     "showTitle": false,
     "title": ""
    }
   },
   "outputs": [
    {
     "output_type": "display_data",
     "data": {
      "text/html": [
       "<style scoped>\n",
       "  .table-result-container {\n",
       "    max-height: 300px;\n",
       "    overflow: auto;\n",
       "  }\n",
       "  table, th, td {\n",
       "    border: 1px solid black;\n",
       "    border-collapse: collapse;\n",
       "  }\n",
       "  th, td {\n",
       "    padding: 5px;\n",
       "  }\n",
       "  th {\n",
       "    text-align: left;\n",
       "  }\n",
       "</style><div class='table-result-container'><table class='table-result'><thead style='background-color: white'><tr><th>Island</th><th>total</th></tr></thead><tbody><tr><td>Dream</td><td>2274.7</td></tr><tr><td>Torgersen</td><td>939.9</td></tr><tr><td>Biscoe</td><td>2651.0999999999995</td></tr></tbody></table></div>"
      ]
     },
     "metadata": {
      "application/vnd.databricks.v1+output": {
       "addedWidgets": {},
       "aggData": [],
       "aggError": "",
       "aggOverflow": false,
       "aggSchema": [],
       "aggSeriesLimitReached": false,
       "aggType": "",
       "arguments": {},
       "columnCustomDisplayInfos": {},
       "data": [
        [
         "Dream",
         2274.7
        ],
        [
         "Torgersen",
         939.9
        ],
        [
         "Biscoe",
         2651.0999999999995
        ]
       ],
       "datasetInfos": [],
       "dbfsResultPath": null,
       "isJsonSchema": true,
       "metadata": {},
       "overflow": false,
       "plotOptions": {
        "customPlotOptions": {},
        "displayType": "table",
        "pivotAggregation": null,
        "pivotColumns": null,
        "xColumns": null,
        "yColumns": null
       },
       "removedWidgets": [],
       "schema": [
        {
         "metadata": "{}",
         "name": "Island",
         "type": "\"string\""
        },
        {
         "metadata": "{}",
         "name": "total",
         "type": "\"double\""
        }
       ],
       "type": "table"
      }
     },
     "output_type": "display_data"
    }
   ],
   "source": [
    "from pyspark.sql.functions import sum\n",
    "\n",
    "options_df = products_df.groupBy(\"Island\").agg(sum(\"CulmenDepth\").alias(\"total\"))\n",
    "display(options_df)"
   ]
  },
  {
   "cell_type": "code",
   "execution_count": 0,
   "metadata": {
    "application/vnd.databricks.v1+cell": {
     "cellMetadata": {
      "byteLimit": 2048000,
      "rowLimit": 10000
     },
     "inputWidgets": {},
     "nuid": "333abd46-5456-43fb-ac3c-8d588103946a",
     "showTitle": false,
     "title": ""
    }
   },
   "outputs": [
    {
     "output_type": "display_data",
     "data": {
      "text/html": [
       "<style scoped>\n",
       "  .table-result-container {\n",
       "    max-height: 300px;\n",
       "    overflow: auto;\n",
       "  }\n",
       "  table, th, td {\n",
       "    border: 1px solid black;\n",
       "    border-collapse: collapse;\n",
       "  }\n",
       "  th, td {\n",
       "    padding: 5px;\n",
       "  }\n",
       "  th {\n",
       "    text-align: left;\n",
       "  }\n",
       "</style><div class='table-result-container'><table class='table-result'><thead style='background-color: white'><tr><th>Island</th><th>sum(CulmenLength)</th></tr></thead><tbody><tr><td>Dream</td><td>5476.799999999998</td></tr><tr><td>Torgersen</td><td>1986.5</td></tr><tr><td>Biscoe</td><td>7557.999999999998</td></tr></tbody></table></div>"
      ]
     },
     "metadata": {
      "application/vnd.databricks.v1+output": {
       "addedWidgets": {},
       "aggData": [],
       "aggError": "",
       "aggOverflow": false,
       "aggSchema": [],
       "aggSeriesLimitReached": false,
       "aggType": "",
       "arguments": {},
       "columnCustomDisplayInfos": {},
       "data": [
        [
         "Dream",
         5476.799999999998
        ],
        [
         "Torgersen",
         1986.5
        ],
        [
         "Biscoe",
         7557.999999999998
        ]
       ],
       "datasetInfos": [],
       "dbfsResultPath": null,
       "isJsonSchema": true,
       "metadata": {},
       "overflow": false,
       "plotOptions": {
        "customPlotOptions": {},
        "displayType": "table",
        "pivotAggregation": null,
        "pivotColumns": null,
        "xColumns": null,
        "yColumns": null
       },
       "removedWidgets": [],
       "schema": [
        {
         "metadata": "{}",
         "name": "Island",
         "type": "\"string\""
        },
        {
         "metadata": "{}",
         "name": "sum(CulmenLength)",
         "type": "\"double\""
        }
       ],
       "type": "table"
      }
     },
     "output_type": "display_data"
    }
   ],
   "source": [
    "pproducts_df = products_df.select(\"Island\", \"CulmenLength\").groupBy(\"Island\").sum()\n",
    "display(pproducts_df)"
   ]
  }
 ],
 "metadata": {
  "application/vnd.databricks.v1+notebook": {
   "dashboards": [],
   "language": "python",
   "notebookMetadata": {
    "mostRecentlyExecutedCommandWithImplicitDF": {
     "commandId": 943229832202848,
     "dataframes": [
      "_sqldf"
     ]
    },
    "pythonIndentUnit": 2
   },
   "notebookName": "Penguins_2024-03-02",
   "widgets": {}
  }
 },
 "nbformat": 4,
 "nbformat_minor": 0
}
